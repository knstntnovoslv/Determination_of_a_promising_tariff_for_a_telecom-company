{
 "cells": [
  {
   "cell_type": "markdown",
   "metadata": {},
   "source": [
    "Определение перспективного тарифа для телеком-компании\n",
    "Описание тарифов\n",
    "\n",
    "Тариф «Смарт»\n",
    "Ежемесячная плата: 550 рублей\n",
    "Включено 500 минут разговора, 50 сообщений и 15 Гб интернет-трафика\n",
    "Стоимость услуг сверх тарифного пакета: 1. минута разговора: 3 рубля («Мегалайн» всегда округляет вверх значения минут и мегабайтов. Если пользователь проговорил всего 1 секунду, в тарифе засчитывается целая минута); 2. сообщение: 3 рубля; 3. 1 Гб интернет-трафика: 200 рублей.\n",
    "\n",
    "Тариф «Ультра»\n",
    "Ежемесячная плата: 1950 рублей\n",
    "Включено 3000 минут разговора, 1000 сообщений и 30 Гб интернет-трафика\n",
    "Стоимость услуг сверх тарифного пакета: 1. минута разговора: 1 рубль; 2. сообщение: 1 рубль; 3. 1 Гб интернет-трафика: 150 рублей."
   ]
  },
  {
   "cell_type": "markdown",
   "metadata": {},
   "source": [
    "Описание файлов"
   ]
  },
  {
   "cell_type": "markdown",
   "metadata": {},
   "source": [
    "users\n",
    "\n",
    "Таблица users (информация о пользователях):\n",
    "user_id — уникальный идентификатор пользователя\n",
    "first_name — имя пользователя\n",
    "last_name — фамилия пользователя\n",
    "age — возраст пользователя (годы)\n",
    "reg_date — дата подключения тарифа (день, месяц, год)\n",
    "churn_date — дата прекращения пользования тарифом (если значение пропущено, то тариф ещё действовал на момент выгрузки данных)\n",
    "city — город проживания пользователя\n",
    "tarif — название тарифного плана"
   ]
  },
  {
   "cell_type": "markdown",
   "metadata": {},
   "source": [
    "calls\n",
    "\n",
    "Таблица calls (информация о звонках):\n",
    "id — уникальный номер звонка\n",
    "call_date — дата звонка\n",
    "duration — длительность звонка в минутах\n",
    "user_id — идентификатор пользователя, сделавшего звонок"
   ]
  },
  {
   "cell_type": "markdown",
   "metadata": {},
   "source": [
    "messages\n",
    "\n",
    "Таблица messages (информация о сообщениях):\n",
    "id — уникальный номер сообщения\n",
    "message_date — дата сообщения\n",
    "user_id — идентификатор пользователя, отправившего сообщение"
   ]
  },
  {
   "cell_type": "markdown",
   "metadata": {},
   "source": [
    "Internet\n",
    "\n",
    "Таблица internet (информация об интернет-сессиях):\n",
    "id — уникальный номер сессии\n",
    "mb_used — объём потраченного за сессию интернет-трафика (в мегабайтах)\n",
    "session_date — дата интернет-сессии\n",
    "user_id — идентификатор пользователя"
   ]
  },
  {
   "cell_type": "markdown",
   "metadata": {},
   "source": [
    "tariffs\n",
    "\n",
    "Таблица tariffs (информация о тарифах):\n",
    "tariff_name — название тарифа\n",
    "rub_monthly_fee — ежемесячная абонентская плата в рублях\n",
    "minutes_included — количество минут разговора в месяц, включённых в абонентскую плату\n",
    "messages_included — количество сообщений в месяц, включённых в абонентскую плату\n",
    "mb_per_month_included — объём интернет-трафика, включённого в абонентскую плату (в мегабайтах)\n",
    "rub_per_minute — стоимость минуты разговора сверх тарифного пакета (например, если в тарифе 100 минут разговора в месяц, то со 101 минуты будет взиматься плата)\n",
    "rub_per_message — стоимость отправки сообщения сверх тарифного пакета\n",
    "rub_per_gb — стоимость дополнительного гигабайта интернет-трафика сверх тарифного пакета (1 гигабайт = 1024 мегабайта)"
   ]
  },
  {
   "cell_type": "markdown",
   "metadata": {},
   "source": [
    "Открытие данных"
   ]
  },
  {
   "cell_type": "code",
   "execution_count": 1,
   "metadata": {},
   "outputs": [],
   "source": [
    "import pandas as pd\n",
    "import math\n",
    "import numpy as np\n",
    "from scipy import stats as st\n",
    "import matplotlib.pyplot as plt"
   ]
  },
  {
   "cell_type": "code",
   "execution_count": 2,
   "metadata": {},
   "outputs": [],
   "source": [
    "calls = pd.read_csv('/datasets/calls.csv')\n",
    "internet = pd.read_csv('/datasets/internet.csv')\n",
    "messages = pd.read_csv('/datasets/messages.csv')\n",
    "tariffs = pd.read_csv('/datasets/tariffs.csv')\n",
    "users = pd.read_csv('/datasets/users.csv')"
   ]
  },
  {
   "cell_type": "markdown",
   "metadata": {},
   "source": [
    "Анализ таблицы users(информация о пользователях)"
   ]
  },
  {
   "cell_type": "code",
   "execution_count": 3,
   "metadata": {},
   "outputs": [
    {
     "data": {
      "text/html": [
       "<div>\n",
       "<style scoped>\n",
       "    .dataframe tbody tr th:only-of-type {\n",
       "        vertical-align: middle;\n",
       "    }\n",
       "\n",
       "    .dataframe tbody tr th {\n",
       "        vertical-align: top;\n",
       "    }\n",
       "\n",
       "    .dataframe thead th {\n",
       "        text-align: right;\n",
       "    }\n",
       "</style>\n",
       "<table border=\"1\" class=\"dataframe\">\n",
       "  <thead>\n",
       "    <tr style=\"text-align: right;\">\n",
       "      <th></th>\n",
       "      <th>user_id</th>\n",
       "      <th>age</th>\n",
       "      <th>churn_date</th>\n",
       "      <th>city</th>\n",
       "      <th>first_name</th>\n",
       "      <th>last_name</th>\n",
       "      <th>reg_date</th>\n",
       "      <th>tariff</th>\n",
       "    </tr>\n",
       "  </thead>\n",
       "  <tbody>\n",
       "    <tr>\n",
       "      <td>0</td>\n",
       "      <td>1000</td>\n",
       "      <td>52</td>\n",
       "      <td>NaN</td>\n",
       "      <td>Краснодар</td>\n",
       "      <td>Рафаил</td>\n",
       "      <td>Верещагин</td>\n",
       "      <td>2018-05-25</td>\n",
       "      <td>ultra</td>\n",
       "    </tr>\n",
       "    <tr>\n",
       "      <td>1</td>\n",
       "      <td>1001</td>\n",
       "      <td>41</td>\n",
       "      <td>NaN</td>\n",
       "      <td>Москва</td>\n",
       "      <td>Иван</td>\n",
       "      <td>Ежов</td>\n",
       "      <td>2018-11-01</td>\n",
       "      <td>smart</td>\n",
       "    </tr>\n",
       "    <tr>\n",
       "      <td>2</td>\n",
       "      <td>1002</td>\n",
       "      <td>59</td>\n",
       "      <td>NaN</td>\n",
       "      <td>Стерлитамак</td>\n",
       "      <td>Евгений</td>\n",
       "      <td>Абрамович</td>\n",
       "      <td>2018-06-17</td>\n",
       "      <td>smart</td>\n",
       "    </tr>\n",
       "    <tr>\n",
       "      <td>3</td>\n",
       "      <td>1003</td>\n",
       "      <td>23</td>\n",
       "      <td>NaN</td>\n",
       "      <td>Москва</td>\n",
       "      <td>Белла</td>\n",
       "      <td>Белякова</td>\n",
       "      <td>2018-08-17</td>\n",
       "      <td>ultra</td>\n",
       "    </tr>\n",
       "    <tr>\n",
       "      <td>4</td>\n",
       "      <td>1004</td>\n",
       "      <td>68</td>\n",
       "      <td>NaN</td>\n",
       "      <td>Новокузнецк</td>\n",
       "      <td>Татьяна</td>\n",
       "      <td>Авдеенко</td>\n",
       "      <td>2018-05-14</td>\n",
       "      <td>ultra</td>\n",
       "    </tr>\n",
       "    <tr>\n",
       "      <td>...</td>\n",
       "      <td>...</td>\n",
       "      <td>...</td>\n",
       "      <td>...</td>\n",
       "      <td>...</td>\n",
       "      <td>...</td>\n",
       "      <td>...</td>\n",
       "      <td>...</td>\n",
       "      <td>...</td>\n",
       "    </tr>\n",
       "    <tr>\n",
       "      <td>495</td>\n",
       "      <td>1495</td>\n",
       "      <td>65</td>\n",
       "      <td>NaN</td>\n",
       "      <td>Иркутск</td>\n",
       "      <td>Авксентий</td>\n",
       "      <td>Фокин</td>\n",
       "      <td>2018-08-28</td>\n",
       "      <td>ultra</td>\n",
       "    </tr>\n",
       "    <tr>\n",
       "      <td>496</td>\n",
       "      <td>1496</td>\n",
       "      <td>36</td>\n",
       "      <td>NaN</td>\n",
       "      <td>Вологда</td>\n",
       "      <td>Трифон</td>\n",
       "      <td>Блохин</td>\n",
       "      <td>2018-01-27</td>\n",
       "      <td>smart</td>\n",
       "    </tr>\n",
       "    <tr>\n",
       "      <td>497</td>\n",
       "      <td>1497</td>\n",
       "      <td>32</td>\n",
       "      <td>NaN</td>\n",
       "      <td>Челябинск</td>\n",
       "      <td>Каролина</td>\n",
       "      <td>Агеева</td>\n",
       "      <td>2018-10-09</td>\n",
       "      <td>smart</td>\n",
       "    </tr>\n",
       "    <tr>\n",
       "      <td>498</td>\n",
       "      <td>1498</td>\n",
       "      <td>68</td>\n",
       "      <td>2018-10-25</td>\n",
       "      <td>Владикавказ</td>\n",
       "      <td>Всеволод</td>\n",
       "      <td>Акимчин</td>\n",
       "      <td>2018-07-19</td>\n",
       "      <td>smart</td>\n",
       "    </tr>\n",
       "    <tr>\n",
       "      <td>499</td>\n",
       "      <td>1499</td>\n",
       "      <td>35</td>\n",
       "      <td>NaN</td>\n",
       "      <td>Пермь</td>\n",
       "      <td>Гектор</td>\n",
       "      <td>Корнилов</td>\n",
       "      <td>2018-09-27</td>\n",
       "      <td>smart</td>\n",
       "    </tr>\n",
       "  </tbody>\n",
       "</table>\n",
       "<p>500 rows × 8 columns</p>\n",
       "</div>"
      ],
      "text/plain": [
       "     user_id  age  churn_date         city first_name  last_name    reg_date  \\\n",
       "0       1000   52         NaN    Краснодар     Рафаил  Верещагин  2018-05-25   \n",
       "1       1001   41         NaN       Москва       Иван       Ежов  2018-11-01   \n",
       "2       1002   59         NaN  Стерлитамак    Евгений  Абрамович  2018-06-17   \n",
       "3       1003   23         NaN       Москва      Белла   Белякова  2018-08-17   \n",
       "4       1004   68         NaN  Новокузнецк    Татьяна   Авдеенко  2018-05-14   \n",
       "..       ...  ...         ...          ...        ...        ...         ...   \n",
       "495     1495   65         NaN      Иркутск  Авксентий      Фокин  2018-08-28   \n",
       "496     1496   36         NaN      Вологда     Трифон     Блохин  2018-01-27   \n",
       "497     1497   32         NaN    Челябинск   Каролина     Агеева  2018-10-09   \n",
       "498     1498   68  2018-10-25  Владикавказ   Всеволод    Акимчин  2018-07-19   \n",
       "499     1499   35         NaN        Пермь     Гектор   Корнилов  2018-09-27   \n",
       "\n",
       "    tariff  \n",
       "0    ultra  \n",
       "1    smart  \n",
       "2    smart  \n",
       "3    ultra  \n",
       "4    ultra  \n",
       "..     ...  \n",
       "495  ultra  \n",
       "496  smart  \n",
       "497  smart  \n",
       "498  smart  \n",
       "499  smart  \n",
       "\n",
       "[500 rows x 8 columns]"
      ]
     },
     "execution_count": 3,
     "metadata": {},
     "output_type": "execute_result"
    }
   ],
   "source": [
    "users"
   ]
  },
  {
   "cell_type": "markdown",
   "metadata": {},
   "source": [
    "Проверка на пропущенные значения и дубликаты"
   ]
  },
  {
   "cell_type": "code",
   "execution_count": 4,
   "metadata": {},
   "outputs": [
    {
     "data": {
      "text/plain": [
       "user_id         0\n",
       "age             0\n",
       "churn_date    462\n",
       "city            0\n",
       "first_name      0\n",
       "last_name       0\n",
       "reg_date        0\n",
       "tariff          0\n",
       "dtype: int64"
      ]
     },
     "execution_count": 4,
     "metadata": {},
     "output_type": "execute_result"
    }
   ],
   "source": [
    "users.isna().sum()"
   ]
  },
  {
   "cell_type": "markdown",
   "metadata": {},
   "source": [
    "Пропуски только в столбце churn_date, они значат, что тариф еще действовал в момент выгрузки датасета. Не будем заполнять эти пустые значения"
   ]
  },
  {
   "cell_type": "code",
   "execution_count": 5,
   "metadata": {},
   "outputs": [
    {
     "data": {
      "text/plain": [
       "0"
      ]
     },
     "execution_count": 5,
     "metadata": {},
     "output_type": "execute_result"
    }
   ],
   "source": [
    "users.duplicated().sum()"
   ]
  },
  {
   "cell_type": "markdown",
   "metadata": {},
   "source": [
    "Дубликатов нет"
   ]
  },
  {
   "cell_type": "code",
   "execution_count": 6,
   "metadata": {},
   "outputs": [
    {
     "name": "stdout",
     "output_type": "stream",
     "text": [
      "<class 'pandas.core.frame.DataFrame'>\n",
      "RangeIndex: 500 entries, 0 to 499\n",
      "Data columns (total 8 columns):\n",
      "user_id       500 non-null int64\n",
      "age           500 non-null int64\n",
      "churn_date    38 non-null object\n",
      "city          500 non-null object\n",
      "first_name    500 non-null object\n",
      "last_name     500 non-null object\n",
      "reg_date      500 non-null object\n",
      "tariff        500 non-null object\n",
      "dtypes: int64(2), object(6)\n",
      "memory usage: 31.4+ KB\n"
     ]
    }
   ],
   "source": [
    "users.info()"
   ]
  },
  {
   "cell_type": "markdown",
   "metadata": {},
   "source": [
    "Замена типа данных в столбце reg_date"
   ]
  },
  {
   "cell_type": "code",
   "execution_count": 7,
   "metadata": {},
   "outputs": [],
   "source": [
    "users['reg_date'] = pd.to_datetime(users['reg_date'], format='%Y-%m-%d')"
   ]
  },
  {
   "cell_type": "markdown",
   "metadata": {},
   "source": [
    "Анализ таблицы calls"
   ]
  },
  {
   "cell_type": "code",
   "execution_count": 8,
   "metadata": {},
   "outputs": [
    {
     "data": {
      "text/html": [
       "<div>\n",
       "<style scoped>\n",
       "    .dataframe tbody tr th:only-of-type {\n",
       "        vertical-align: middle;\n",
       "    }\n",
       "\n",
       "    .dataframe tbody tr th {\n",
       "        vertical-align: top;\n",
       "    }\n",
       "\n",
       "    .dataframe thead th {\n",
       "        text-align: right;\n",
       "    }\n",
       "</style>\n",
       "<table border=\"1\" class=\"dataframe\">\n",
       "  <thead>\n",
       "    <tr style=\"text-align: right;\">\n",
       "      <th></th>\n",
       "      <th>id</th>\n",
       "      <th>call_date</th>\n",
       "      <th>duration</th>\n",
       "      <th>user_id</th>\n",
       "    </tr>\n",
       "  </thead>\n",
       "  <tbody>\n",
       "    <tr>\n",
       "      <td>0</td>\n",
       "      <td>1000_0</td>\n",
       "      <td>2018-07-25</td>\n",
       "      <td>0.00</td>\n",
       "      <td>1000</td>\n",
       "    </tr>\n",
       "    <tr>\n",
       "      <td>1</td>\n",
       "      <td>1000_1</td>\n",
       "      <td>2018-08-17</td>\n",
       "      <td>0.00</td>\n",
       "      <td>1000</td>\n",
       "    </tr>\n",
       "    <tr>\n",
       "      <td>2</td>\n",
       "      <td>1000_2</td>\n",
       "      <td>2018-06-11</td>\n",
       "      <td>2.85</td>\n",
       "      <td>1000</td>\n",
       "    </tr>\n",
       "    <tr>\n",
       "      <td>3</td>\n",
       "      <td>1000_3</td>\n",
       "      <td>2018-09-21</td>\n",
       "      <td>13.80</td>\n",
       "      <td>1000</td>\n",
       "    </tr>\n",
       "    <tr>\n",
       "      <td>4</td>\n",
       "      <td>1000_4</td>\n",
       "      <td>2018-12-15</td>\n",
       "      <td>5.18</td>\n",
       "      <td>1000</td>\n",
       "    </tr>\n",
       "    <tr>\n",
       "      <td>...</td>\n",
       "      <td>...</td>\n",
       "      <td>...</td>\n",
       "      <td>...</td>\n",
       "      <td>...</td>\n",
       "    </tr>\n",
       "    <tr>\n",
       "      <td>202602</td>\n",
       "      <td>1499_215</td>\n",
       "      <td>2018-12-26</td>\n",
       "      <td>0.76</td>\n",
       "      <td>1499</td>\n",
       "    </tr>\n",
       "    <tr>\n",
       "      <td>202603</td>\n",
       "      <td>1499_216</td>\n",
       "      <td>2018-10-18</td>\n",
       "      <td>18.83</td>\n",
       "      <td>1499</td>\n",
       "    </tr>\n",
       "    <tr>\n",
       "      <td>202604</td>\n",
       "      <td>1499_217</td>\n",
       "      <td>2018-11-10</td>\n",
       "      <td>10.81</td>\n",
       "      <td>1499</td>\n",
       "    </tr>\n",
       "    <tr>\n",
       "      <td>202605</td>\n",
       "      <td>1499_218</td>\n",
       "      <td>2018-10-06</td>\n",
       "      <td>4.27</td>\n",
       "      <td>1499</td>\n",
       "    </tr>\n",
       "    <tr>\n",
       "      <td>202606</td>\n",
       "      <td>1499_219</td>\n",
       "      <td>2018-12-14</td>\n",
       "      <td>19.62</td>\n",
       "      <td>1499</td>\n",
       "    </tr>\n",
       "  </tbody>\n",
       "</table>\n",
       "<p>202607 rows × 4 columns</p>\n",
       "</div>"
      ],
      "text/plain": [
       "              id   call_date  duration  user_id\n",
       "0         1000_0  2018-07-25      0.00     1000\n",
       "1         1000_1  2018-08-17      0.00     1000\n",
       "2         1000_2  2018-06-11      2.85     1000\n",
       "3         1000_3  2018-09-21     13.80     1000\n",
       "4         1000_4  2018-12-15      5.18     1000\n",
       "...          ...         ...       ...      ...\n",
       "202602  1499_215  2018-12-26      0.76     1499\n",
       "202603  1499_216  2018-10-18     18.83     1499\n",
       "202604  1499_217  2018-11-10     10.81     1499\n",
       "202605  1499_218  2018-10-06      4.27     1499\n",
       "202606  1499_219  2018-12-14     19.62     1499\n",
       "\n",
       "[202607 rows x 4 columns]"
      ]
     },
     "execution_count": 8,
     "metadata": {},
     "output_type": "execute_result"
    }
   ],
   "source": [
    "calls"
   ]
  },
  {
   "cell_type": "markdown",
   "metadata": {},
   "source": [
    "Проверка на пустые значения и дубликаты"
   ]
  },
  {
   "cell_type": "code",
   "execution_count": 9,
   "metadata": {},
   "outputs": [
    {
     "data": {
      "text/plain": [
       "id           0\n",
       "call_date    0\n",
       "duration     0\n",
       "user_id      0\n",
       "dtype: int64"
      ]
     },
     "execution_count": 9,
     "metadata": {},
     "output_type": "execute_result"
    }
   ],
   "source": [
    "calls.isna().sum()"
   ]
  },
  {
   "cell_type": "code",
   "execution_count": 10,
   "metadata": {},
   "outputs": [
    {
     "data": {
      "text/plain": [
       "0"
      ]
     },
     "execution_count": 10,
     "metadata": {},
     "output_type": "execute_result"
    }
   ],
   "source": [
    "calls.duplicated().sum()"
   ]
  },
  {
   "cell_type": "code",
   "execution_count": 11,
   "metadata": {},
   "outputs": [
    {
     "name": "stdout",
     "output_type": "stream",
     "text": [
      "<class 'pandas.core.frame.DataFrame'>\n",
      "RangeIndex: 202607 entries, 0 to 202606\n",
      "Data columns (total 4 columns):\n",
      "id           202607 non-null object\n",
      "call_date    202607 non-null object\n",
      "duration     202607 non-null float64\n",
      "user_id      202607 non-null int64\n",
      "dtypes: float64(1), int64(1), object(2)\n",
      "memory usage: 6.2+ MB\n"
     ]
    }
   ],
   "source": [
    "calls.info()"
   ]
  },
  {
   "cell_type": "markdown",
   "metadata": {},
   "source": [
    "Замена типа данных в столбце call_date"
   ]
  },
  {
   "cell_type": "code",
   "execution_count": 12,
   "metadata": {},
   "outputs": [],
   "source": [
    "calls['call_date'] = pd.to_datetime(calls['call_date'], format='%Y-%m-%d')"
   ]
  },
  {
   "cell_type": "markdown",
   "metadata": {},
   "source": [
    "Проверка, есть ли звонки с отрицательной продолжительностью"
   ]
  },
  {
   "cell_type": "code",
   "execution_count": 13,
   "metadata": {},
   "outputs": [
    {
     "data": {
      "text/html": [
       "<div>\n",
       "<style scoped>\n",
       "    .dataframe tbody tr th:only-of-type {\n",
       "        vertical-align: middle;\n",
       "    }\n",
       "\n",
       "    .dataframe tbody tr th {\n",
       "        vertical-align: top;\n",
       "    }\n",
       "\n",
       "    .dataframe thead th {\n",
       "        text-align: right;\n",
       "    }\n",
       "</style>\n",
       "<table border=\"1\" class=\"dataframe\">\n",
       "  <thead>\n",
       "    <tr style=\"text-align: right;\">\n",
       "      <th></th>\n",
       "      <th>id</th>\n",
       "      <th>call_date</th>\n",
       "      <th>duration</th>\n",
       "      <th>user_id</th>\n",
       "    </tr>\n",
       "  </thead>\n",
       "  <tbody>\n",
       "  </tbody>\n",
       "</table>\n",
       "</div>"
      ],
      "text/plain": [
       "Empty DataFrame\n",
       "Columns: [id, call_date, duration, user_id]\n",
       "Index: []"
      ]
     },
     "execution_count": 13,
     "metadata": {},
     "output_type": "execute_result"
    }
   ],
   "source": [
    "calls.query('duration < 0')"
   ]
  },
  {
   "cell_type": "markdown",
   "metadata": {},
   "source": [
    "обработка таблицы messages"
   ]
  },
  {
   "cell_type": "code",
   "execution_count": 14,
   "metadata": {},
   "outputs": [
    {
     "data": {
      "text/html": [
       "<div>\n",
       "<style scoped>\n",
       "    .dataframe tbody tr th:only-of-type {\n",
       "        vertical-align: middle;\n",
       "    }\n",
       "\n",
       "    .dataframe tbody tr th {\n",
       "        vertical-align: top;\n",
       "    }\n",
       "\n",
       "    .dataframe thead th {\n",
       "        text-align: right;\n",
       "    }\n",
       "</style>\n",
       "<table border=\"1\" class=\"dataframe\">\n",
       "  <thead>\n",
       "    <tr style=\"text-align: right;\">\n",
       "      <th></th>\n",
       "      <th>id</th>\n",
       "      <th>message_date</th>\n",
       "      <th>user_id</th>\n",
       "    </tr>\n",
       "  </thead>\n",
       "  <tbody>\n",
       "    <tr>\n",
       "      <td>0</td>\n",
       "      <td>1000_0</td>\n",
       "      <td>2018-06-27</td>\n",
       "      <td>1000</td>\n",
       "    </tr>\n",
       "    <tr>\n",
       "      <td>1</td>\n",
       "      <td>1000_1</td>\n",
       "      <td>2018-10-08</td>\n",
       "      <td>1000</td>\n",
       "    </tr>\n",
       "    <tr>\n",
       "      <td>2</td>\n",
       "      <td>1000_2</td>\n",
       "      <td>2018-08-04</td>\n",
       "      <td>1000</td>\n",
       "    </tr>\n",
       "    <tr>\n",
       "      <td>3</td>\n",
       "      <td>1000_3</td>\n",
       "      <td>2018-06-16</td>\n",
       "      <td>1000</td>\n",
       "    </tr>\n",
       "    <tr>\n",
       "      <td>4</td>\n",
       "      <td>1000_4</td>\n",
       "      <td>2018-12-05</td>\n",
       "      <td>1000</td>\n",
       "    </tr>\n",
       "    <tr>\n",
       "      <td>...</td>\n",
       "      <td>...</td>\n",
       "      <td>...</td>\n",
       "      <td>...</td>\n",
       "    </tr>\n",
       "    <tr>\n",
       "      <td>123031</td>\n",
       "      <td>1499_179</td>\n",
       "      <td>2018-12-12</td>\n",
       "      <td>1499</td>\n",
       "    </tr>\n",
       "    <tr>\n",
       "      <td>123032</td>\n",
       "      <td>1499_180</td>\n",
       "      <td>2018-09-28</td>\n",
       "      <td>1499</td>\n",
       "    </tr>\n",
       "    <tr>\n",
       "      <td>123033</td>\n",
       "      <td>1499_181</td>\n",
       "      <td>2018-09-27</td>\n",
       "      <td>1499</td>\n",
       "    </tr>\n",
       "    <tr>\n",
       "      <td>123034</td>\n",
       "      <td>1499_182</td>\n",
       "      <td>2018-11-15</td>\n",
       "      <td>1499</td>\n",
       "    </tr>\n",
       "    <tr>\n",
       "      <td>123035</td>\n",
       "      <td>1499_183</td>\n",
       "      <td>2018-11-16</td>\n",
       "      <td>1499</td>\n",
       "    </tr>\n",
       "  </tbody>\n",
       "</table>\n",
       "<p>123036 rows × 3 columns</p>\n",
       "</div>"
      ],
      "text/plain": [
       "              id message_date  user_id\n",
       "0         1000_0   2018-06-27     1000\n",
       "1         1000_1   2018-10-08     1000\n",
       "2         1000_2   2018-08-04     1000\n",
       "3         1000_3   2018-06-16     1000\n",
       "4         1000_4   2018-12-05     1000\n",
       "...          ...          ...      ...\n",
       "123031  1499_179   2018-12-12     1499\n",
       "123032  1499_180   2018-09-28     1499\n",
       "123033  1499_181   2018-09-27     1499\n",
       "123034  1499_182   2018-11-15     1499\n",
       "123035  1499_183   2018-11-16     1499\n",
       "\n",
       "[123036 rows x 3 columns]"
      ]
     },
     "execution_count": 14,
     "metadata": {},
     "output_type": "execute_result"
    }
   ],
   "source": [
    "messages"
   ]
  },
  {
   "cell_type": "code",
   "execution_count": 15,
   "metadata": {},
   "outputs": [
    {
     "name": "stdout",
     "output_type": "stream",
     "text": [
      "<class 'pandas.core.frame.DataFrame'>\n",
      "RangeIndex: 123036 entries, 0 to 123035\n",
      "Data columns (total 3 columns):\n",
      "id              123036 non-null object\n",
      "message_date    123036 non-null object\n",
      "user_id         123036 non-null int64\n",
      "dtypes: int64(1), object(2)\n",
      "memory usage: 2.8+ MB\n"
     ]
    }
   ],
   "source": [
    "messages.info()"
   ]
  },
  {
   "cell_type": "markdown",
   "metadata": {},
   "source": [
    "Замена типа данных в столбце message_date"
   ]
  },
  {
   "cell_type": "code",
   "execution_count": 16,
   "metadata": {},
   "outputs": [],
   "source": [
    "messages['message_date'] = pd.to_datetime(messages['message_date'], format='%Y-%m-%d')"
   ]
  },
  {
   "cell_type": "markdown",
   "metadata": {},
   "source": [
    "обработка таблицы internet"
   ]
  },
  {
   "cell_type": "code",
   "execution_count": 17,
   "metadata": {},
   "outputs": [
    {
     "data": {
      "text/html": [
       "<div>\n",
       "<style scoped>\n",
       "    .dataframe tbody tr th:only-of-type {\n",
       "        vertical-align: middle;\n",
       "    }\n",
       "\n",
       "    .dataframe tbody tr th {\n",
       "        vertical-align: top;\n",
       "    }\n",
       "\n",
       "    .dataframe thead th {\n",
       "        text-align: right;\n",
       "    }\n",
       "</style>\n",
       "<table border=\"1\" class=\"dataframe\">\n",
       "  <thead>\n",
       "    <tr style=\"text-align: right;\">\n",
       "      <th></th>\n",
       "      <th>Unnamed: 0</th>\n",
       "      <th>id</th>\n",
       "      <th>mb_used</th>\n",
       "      <th>session_date</th>\n",
       "      <th>user_id</th>\n",
       "    </tr>\n",
       "  </thead>\n",
       "  <tbody>\n",
       "    <tr>\n",
       "      <td>0</td>\n",
       "      <td>0</td>\n",
       "      <td>1000_0</td>\n",
       "      <td>112.95</td>\n",
       "      <td>2018-11-25</td>\n",
       "      <td>1000</td>\n",
       "    </tr>\n",
       "    <tr>\n",
       "      <td>1</td>\n",
       "      <td>1</td>\n",
       "      <td>1000_1</td>\n",
       "      <td>1052.81</td>\n",
       "      <td>2018-09-07</td>\n",
       "      <td>1000</td>\n",
       "    </tr>\n",
       "    <tr>\n",
       "      <td>2</td>\n",
       "      <td>2</td>\n",
       "      <td>1000_2</td>\n",
       "      <td>1197.26</td>\n",
       "      <td>2018-06-25</td>\n",
       "      <td>1000</td>\n",
       "    </tr>\n",
       "    <tr>\n",
       "      <td>3</td>\n",
       "      <td>3</td>\n",
       "      <td>1000_3</td>\n",
       "      <td>550.27</td>\n",
       "      <td>2018-08-22</td>\n",
       "      <td>1000</td>\n",
       "    </tr>\n",
       "    <tr>\n",
       "      <td>4</td>\n",
       "      <td>4</td>\n",
       "      <td>1000_4</td>\n",
       "      <td>302.56</td>\n",
       "      <td>2018-09-24</td>\n",
       "      <td>1000</td>\n",
       "    </tr>\n",
       "    <tr>\n",
       "      <td>...</td>\n",
       "      <td>...</td>\n",
       "      <td>...</td>\n",
       "      <td>...</td>\n",
       "      <td>...</td>\n",
       "      <td>...</td>\n",
       "    </tr>\n",
       "    <tr>\n",
       "      <td>149391</td>\n",
       "      <td>149391</td>\n",
       "      <td>1499_152</td>\n",
       "      <td>318.90</td>\n",
       "      <td>2018-10-03</td>\n",
       "      <td>1499</td>\n",
       "    </tr>\n",
       "    <tr>\n",
       "      <td>149392</td>\n",
       "      <td>149392</td>\n",
       "      <td>1499_153</td>\n",
       "      <td>490.13</td>\n",
       "      <td>2018-12-14</td>\n",
       "      <td>1499</td>\n",
       "    </tr>\n",
       "    <tr>\n",
       "      <td>149393</td>\n",
       "      <td>149393</td>\n",
       "      <td>1499_154</td>\n",
       "      <td>0.00</td>\n",
       "      <td>2018-10-27</td>\n",
       "      <td>1499</td>\n",
       "    </tr>\n",
       "    <tr>\n",
       "      <td>149394</td>\n",
       "      <td>149394</td>\n",
       "      <td>1499_155</td>\n",
       "      <td>1246.32</td>\n",
       "      <td>2018-11-26</td>\n",
       "      <td>1499</td>\n",
       "    </tr>\n",
       "    <tr>\n",
       "      <td>149395</td>\n",
       "      <td>149395</td>\n",
       "      <td>1499_156</td>\n",
       "      <td>544.37</td>\n",
       "      <td>2018-10-26</td>\n",
       "      <td>1499</td>\n",
       "    </tr>\n",
       "  </tbody>\n",
       "</table>\n",
       "<p>149396 rows × 5 columns</p>\n",
       "</div>"
      ],
      "text/plain": [
       "        Unnamed: 0        id  mb_used session_date  user_id\n",
       "0                0    1000_0   112.95   2018-11-25     1000\n",
       "1                1    1000_1  1052.81   2018-09-07     1000\n",
       "2                2    1000_2  1197.26   2018-06-25     1000\n",
       "3                3    1000_3   550.27   2018-08-22     1000\n",
       "4                4    1000_4   302.56   2018-09-24     1000\n",
       "...            ...       ...      ...          ...      ...\n",
       "149391      149391  1499_152   318.90   2018-10-03     1499\n",
       "149392      149392  1499_153   490.13   2018-12-14     1499\n",
       "149393      149393  1499_154     0.00   2018-10-27     1499\n",
       "149394      149394  1499_155  1246.32   2018-11-26     1499\n",
       "149395      149395  1499_156   544.37   2018-10-26     1499\n",
       "\n",
       "[149396 rows x 5 columns]"
      ]
     },
     "execution_count": 17,
     "metadata": {},
     "output_type": "execute_result"
    }
   ],
   "source": [
    "internet"
   ]
  },
  {
   "cell_type": "markdown",
   "metadata": {},
   "source": [
    "Обнаружен столбец, полностью повторяющий индексы, избавимся от этого столбца"
   ]
  },
  {
   "cell_type": "code",
   "execution_count": 18,
   "metadata": {},
   "outputs": [
    {
     "data": {
      "text/html": [
       "<div>\n",
       "<style scoped>\n",
       "    .dataframe tbody tr th:only-of-type {\n",
       "        vertical-align: middle;\n",
       "    }\n",
       "\n",
       "    .dataframe tbody tr th {\n",
       "        vertical-align: top;\n",
       "    }\n",
       "\n",
       "    .dataframe thead th {\n",
       "        text-align: right;\n",
       "    }\n",
       "</style>\n",
       "<table border=\"1\" class=\"dataframe\">\n",
       "  <thead>\n",
       "    <tr style=\"text-align: right;\">\n",
       "      <th></th>\n",
       "      <th>id</th>\n",
       "      <th>mb_used</th>\n",
       "      <th>session_date</th>\n",
       "      <th>user_id</th>\n",
       "    </tr>\n",
       "  </thead>\n",
       "  <tbody>\n",
       "    <tr>\n",
       "      <td>0</td>\n",
       "      <td>1000_0</td>\n",
       "      <td>112.95</td>\n",
       "      <td>2018-11-25</td>\n",
       "      <td>1000</td>\n",
       "    </tr>\n",
       "    <tr>\n",
       "      <td>1</td>\n",
       "      <td>1000_1</td>\n",
       "      <td>1052.81</td>\n",
       "      <td>2018-09-07</td>\n",
       "      <td>1000</td>\n",
       "    </tr>\n",
       "    <tr>\n",
       "      <td>2</td>\n",
       "      <td>1000_2</td>\n",
       "      <td>1197.26</td>\n",
       "      <td>2018-06-25</td>\n",
       "      <td>1000</td>\n",
       "    </tr>\n",
       "    <tr>\n",
       "      <td>3</td>\n",
       "      <td>1000_3</td>\n",
       "      <td>550.27</td>\n",
       "      <td>2018-08-22</td>\n",
       "      <td>1000</td>\n",
       "    </tr>\n",
       "    <tr>\n",
       "      <td>4</td>\n",
       "      <td>1000_4</td>\n",
       "      <td>302.56</td>\n",
       "      <td>2018-09-24</td>\n",
       "      <td>1000</td>\n",
       "    </tr>\n",
       "    <tr>\n",
       "      <td>...</td>\n",
       "      <td>...</td>\n",
       "      <td>...</td>\n",
       "      <td>...</td>\n",
       "      <td>...</td>\n",
       "    </tr>\n",
       "    <tr>\n",
       "      <td>149391</td>\n",
       "      <td>1499_152</td>\n",
       "      <td>318.90</td>\n",
       "      <td>2018-10-03</td>\n",
       "      <td>1499</td>\n",
       "    </tr>\n",
       "    <tr>\n",
       "      <td>149392</td>\n",
       "      <td>1499_153</td>\n",
       "      <td>490.13</td>\n",
       "      <td>2018-12-14</td>\n",
       "      <td>1499</td>\n",
       "    </tr>\n",
       "    <tr>\n",
       "      <td>149393</td>\n",
       "      <td>1499_154</td>\n",
       "      <td>0.00</td>\n",
       "      <td>2018-10-27</td>\n",
       "      <td>1499</td>\n",
       "    </tr>\n",
       "    <tr>\n",
       "      <td>149394</td>\n",
       "      <td>1499_155</td>\n",
       "      <td>1246.32</td>\n",
       "      <td>2018-11-26</td>\n",
       "      <td>1499</td>\n",
       "    </tr>\n",
       "    <tr>\n",
       "      <td>149395</td>\n",
       "      <td>1499_156</td>\n",
       "      <td>544.37</td>\n",
       "      <td>2018-10-26</td>\n",
       "      <td>1499</td>\n",
       "    </tr>\n",
       "  </tbody>\n",
       "</table>\n",
       "<p>149396 rows × 4 columns</p>\n",
       "</div>"
      ],
      "text/plain": [
       "              id  mb_used session_date  user_id\n",
       "0         1000_0   112.95   2018-11-25     1000\n",
       "1         1000_1  1052.81   2018-09-07     1000\n",
       "2         1000_2  1197.26   2018-06-25     1000\n",
       "3         1000_3   550.27   2018-08-22     1000\n",
       "4         1000_4   302.56   2018-09-24     1000\n",
       "...          ...      ...          ...      ...\n",
       "149391  1499_152   318.90   2018-10-03     1499\n",
       "149392  1499_153   490.13   2018-12-14     1499\n",
       "149393  1499_154     0.00   2018-10-27     1499\n",
       "149394  1499_155  1246.32   2018-11-26     1499\n",
       "149395  1499_156   544.37   2018-10-26     1499\n",
       "\n",
       "[149396 rows x 4 columns]"
      ]
     },
     "execution_count": 18,
     "metadata": {},
     "output_type": "execute_result"
    }
   ],
   "source": [
    "internet = internet.loc[:,['id', 'mb_used', 'session_date', 'user_id']]\n",
    "internet"
   ]
  },
  {
   "cell_type": "markdown",
   "metadata": {},
   "source": [
    "проверка, есть ли отрицательные значения в столбце mb_used"
   ]
  },
  {
   "cell_type": "code",
   "execution_count": 19,
   "metadata": {},
   "outputs": [
    {
     "data": {
      "text/html": [
       "<div>\n",
       "<style scoped>\n",
       "    .dataframe tbody tr th:only-of-type {\n",
       "        vertical-align: middle;\n",
       "    }\n",
       "\n",
       "    .dataframe tbody tr th {\n",
       "        vertical-align: top;\n",
       "    }\n",
       "\n",
       "    .dataframe thead th {\n",
       "        text-align: right;\n",
       "    }\n",
       "</style>\n",
       "<table border=\"1\" class=\"dataframe\">\n",
       "  <thead>\n",
       "    <tr style=\"text-align: right;\">\n",
       "      <th></th>\n",
       "      <th>id</th>\n",
       "      <th>mb_used</th>\n",
       "      <th>session_date</th>\n",
       "      <th>user_id</th>\n",
       "    </tr>\n",
       "  </thead>\n",
       "  <tbody>\n",
       "  </tbody>\n",
       "</table>\n",
       "</div>"
      ],
      "text/plain": [
       "Empty DataFrame\n",
       "Columns: [id, mb_used, session_date, user_id]\n",
       "Index: []"
      ]
     },
     "execution_count": 19,
     "metadata": {},
     "output_type": "execute_result"
    }
   ],
   "source": [
    "internet.query('mb_used < 0')"
   ]
  },
  {
   "cell_type": "code",
   "execution_count": 20,
   "metadata": {},
   "outputs": [
    {
     "name": "stdout",
     "output_type": "stream",
     "text": [
      "<class 'pandas.core.frame.DataFrame'>\n",
      "RangeIndex: 149396 entries, 0 to 149395\n",
      "Data columns (total 4 columns):\n",
      "id              149396 non-null object\n",
      "mb_used         149396 non-null float64\n",
      "session_date    149396 non-null object\n",
      "user_id         149396 non-null int64\n",
      "dtypes: float64(1), int64(1), object(2)\n",
      "memory usage: 4.6+ MB\n"
     ]
    }
   ],
   "source": [
    "internet.info()"
   ]
  },
  {
   "cell_type": "markdown",
   "metadata": {},
   "source": [
    "замена типа данных в столбце session_date"
   ]
  },
  {
   "cell_type": "code",
   "execution_count": 21,
   "metadata": {},
   "outputs": [],
   "source": [
    "internet['session_date'] = pd.to_datetime(internet['session_date'], format='%Y-%m-%d')"
   ]
  },
  {
   "cell_type": "markdown",
   "metadata": {},
   "source": [
    "Обработка таблицы с тарифами"
   ]
  },
  {
   "cell_type": "code",
   "execution_count": 22,
   "metadata": {},
   "outputs": [
    {
     "data": {
      "text/html": [
       "<div>\n",
       "<style scoped>\n",
       "    .dataframe tbody tr th:only-of-type {\n",
       "        vertical-align: middle;\n",
       "    }\n",
       "\n",
       "    .dataframe tbody tr th {\n",
       "        vertical-align: top;\n",
       "    }\n",
       "\n",
       "    .dataframe thead th {\n",
       "        text-align: right;\n",
       "    }\n",
       "</style>\n",
       "<table border=\"1\" class=\"dataframe\">\n",
       "  <thead>\n",
       "    <tr style=\"text-align: right;\">\n",
       "      <th></th>\n",
       "      <th>messages_included</th>\n",
       "      <th>mb_per_month_included</th>\n",
       "      <th>minutes_included</th>\n",
       "      <th>rub_monthly_fee</th>\n",
       "      <th>rub_per_gb</th>\n",
       "      <th>rub_per_message</th>\n",
       "      <th>rub_per_minute</th>\n",
       "      <th>tariff_name</th>\n",
       "    </tr>\n",
       "  </thead>\n",
       "  <tbody>\n",
       "    <tr>\n",
       "      <td>0</td>\n",
       "      <td>50</td>\n",
       "      <td>15360</td>\n",
       "      <td>500</td>\n",
       "      <td>550</td>\n",
       "      <td>200</td>\n",
       "      <td>3</td>\n",
       "      <td>3</td>\n",
       "      <td>smart</td>\n",
       "    </tr>\n",
       "    <tr>\n",
       "      <td>1</td>\n",
       "      <td>1000</td>\n",
       "      <td>30720</td>\n",
       "      <td>3000</td>\n",
       "      <td>1950</td>\n",
       "      <td>150</td>\n",
       "      <td>1</td>\n",
       "      <td>1</td>\n",
       "      <td>ultra</td>\n",
       "    </tr>\n",
       "  </tbody>\n",
       "</table>\n",
       "</div>"
      ],
      "text/plain": [
       "   messages_included  mb_per_month_included  minutes_included  \\\n",
       "0                 50                  15360               500   \n",
       "1               1000                  30720              3000   \n",
       "\n",
       "   rub_monthly_fee  rub_per_gb  rub_per_message  rub_per_minute tariff_name  \n",
       "0              550         200                3               3       smart  \n",
       "1             1950         150                1               1       ultra  "
      ]
     },
     "execution_count": 22,
     "metadata": {},
     "output_type": "execute_result"
    }
   ],
   "source": [
    "tariffs"
   ]
  },
  {
   "cell_type": "markdown",
   "metadata": {},
   "source": [
    "Количество сделанных звонков и израсходованных минут разговора по месяцам"
   ]
  },
  {
   "cell_type": "code",
   "execution_count": 23,
   "metadata": {},
   "outputs": [
    {
     "data": {
      "text/html": [
       "<div>\n",
       "<style scoped>\n",
       "    .dataframe tbody tr th:only-of-type {\n",
       "        vertical-align: middle;\n",
       "    }\n",
       "\n",
       "    .dataframe tbody tr th {\n",
       "        vertical-align: top;\n",
       "    }\n",
       "\n",
       "    .dataframe thead th {\n",
       "        text-align: right;\n",
       "    }\n",
       "</style>\n",
       "<table border=\"1\" class=\"dataframe\">\n",
       "  <thead>\n",
       "    <tr style=\"text-align: right;\">\n",
       "      <th></th>\n",
       "      <th>id</th>\n",
       "      <th>call_date</th>\n",
       "      <th>duration</th>\n",
       "      <th>user_id</th>\n",
       "    </tr>\n",
       "  </thead>\n",
       "  <tbody>\n",
       "    <tr>\n",
       "      <td>0</td>\n",
       "      <td>1000_0</td>\n",
       "      <td>2018-07-25</td>\n",
       "      <td>0.00</td>\n",
       "      <td>1000</td>\n",
       "    </tr>\n",
       "    <tr>\n",
       "      <td>1</td>\n",
       "      <td>1000_1</td>\n",
       "      <td>2018-08-17</td>\n",
       "      <td>0.00</td>\n",
       "      <td>1000</td>\n",
       "    </tr>\n",
       "    <tr>\n",
       "      <td>2</td>\n",
       "      <td>1000_2</td>\n",
       "      <td>2018-06-11</td>\n",
       "      <td>2.85</td>\n",
       "      <td>1000</td>\n",
       "    </tr>\n",
       "    <tr>\n",
       "      <td>3</td>\n",
       "      <td>1000_3</td>\n",
       "      <td>2018-09-21</td>\n",
       "      <td>13.80</td>\n",
       "      <td>1000</td>\n",
       "    </tr>\n",
       "    <tr>\n",
       "      <td>4</td>\n",
       "      <td>1000_4</td>\n",
       "      <td>2018-12-15</td>\n",
       "      <td>5.18</td>\n",
       "      <td>1000</td>\n",
       "    </tr>\n",
       "    <tr>\n",
       "      <td>...</td>\n",
       "      <td>...</td>\n",
       "      <td>...</td>\n",
       "      <td>...</td>\n",
       "      <td>...</td>\n",
       "    </tr>\n",
       "    <tr>\n",
       "      <td>202602</td>\n",
       "      <td>1499_215</td>\n",
       "      <td>2018-12-26</td>\n",
       "      <td>0.76</td>\n",
       "      <td>1499</td>\n",
       "    </tr>\n",
       "    <tr>\n",
       "      <td>202603</td>\n",
       "      <td>1499_216</td>\n",
       "      <td>2018-10-18</td>\n",
       "      <td>18.83</td>\n",
       "      <td>1499</td>\n",
       "    </tr>\n",
       "    <tr>\n",
       "      <td>202604</td>\n",
       "      <td>1499_217</td>\n",
       "      <td>2018-11-10</td>\n",
       "      <td>10.81</td>\n",
       "      <td>1499</td>\n",
       "    </tr>\n",
       "    <tr>\n",
       "      <td>202605</td>\n",
       "      <td>1499_218</td>\n",
       "      <td>2018-10-06</td>\n",
       "      <td>4.27</td>\n",
       "      <td>1499</td>\n",
       "    </tr>\n",
       "    <tr>\n",
       "      <td>202606</td>\n",
       "      <td>1499_219</td>\n",
       "      <td>2018-12-14</td>\n",
       "      <td>19.62</td>\n",
       "      <td>1499</td>\n",
       "    </tr>\n",
       "  </tbody>\n",
       "</table>\n",
       "<p>202607 rows × 4 columns</p>\n",
       "</div>"
      ],
      "text/plain": [
       "              id  call_date  duration  user_id\n",
       "0         1000_0 2018-07-25      0.00     1000\n",
       "1         1000_1 2018-08-17      0.00     1000\n",
       "2         1000_2 2018-06-11      2.85     1000\n",
       "3         1000_3 2018-09-21     13.80     1000\n",
       "4         1000_4 2018-12-15      5.18     1000\n",
       "...          ...        ...       ...      ...\n",
       "202602  1499_215 2018-12-26      0.76     1499\n",
       "202603  1499_216 2018-10-18     18.83     1499\n",
       "202604  1499_217 2018-11-10     10.81     1499\n",
       "202605  1499_218 2018-10-06      4.27     1499\n",
       "202606  1499_219 2018-12-14     19.62     1499\n",
       "\n",
       "[202607 rows x 4 columns]"
      ]
     },
     "execution_count": 23,
     "metadata": {},
     "output_type": "execute_result"
    }
   ],
   "source": [
    "calls"
   ]
  },
  {
   "cell_type": "code",
   "execution_count": 24,
   "metadata": {},
   "outputs": [
    {
     "data": {
      "text/html": [
       "<div>\n",
       "<style scoped>\n",
       "    .dataframe tbody tr th:only-of-type {\n",
       "        vertical-align: middle;\n",
       "    }\n",
       "\n",
       "    .dataframe tbody tr th {\n",
       "        vertical-align: top;\n",
       "    }\n",
       "\n",
       "    .dataframe thead th {\n",
       "        text-align: right;\n",
       "    }\n",
       "</style>\n",
       "<table border=\"1\" class=\"dataframe\">\n",
       "  <thead>\n",
       "    <tr style=\"text-align: right;\">\n",
       "      <th></th>\n",
       "      <th>id</th>\n",
       "      <th>call_date</th>\n",
       "      <th>duration</th>\n",
       "      <th>user_id</th>\n",
       "      <th>month</th>\n",
       "    </tr>\n",
       "  </thead>\n",
       "  <tbody>\n",
       "    <tr>\n",
       "      <td>0</td>\n",
       "      <td>1000_0</td>\n",
       "      <td>2018-07-25</td>\n",
       "      <td>0.00</td>\n",
       "      <td>1000</td>\n",
       "      <td>7</td>\n",
       "    </tr>\n",
       "    <tr>\n",
       "      <td>1</td>\n",
       "      <td>1000_1</td>\n",
       "      <td>2018-08-17</td>\n",
       "      <td>0.00</td>\n",
       "      <td>1000</td>\n",
       "      <td>8</td>\n",
       "    </tr>\n",
       "    <tr>\n",
       "      <td>2</td>\n",
       "      <td>1000_2</td>\n",
       "      <td>2018-06-11</td>\n",
       "      <td>2.85</td>\n",
       "      <td>1000</td>\n",
       "      <td>6</td>\n",
       "    </tr>\n",
       "    <tr>\n",
       "      <td>3</td>\n",
       "      <td>1000_3</td>\n",
       "      <td>2018-09-21</td>\n",
       "      <td>13.80</td>\n",
       "      <td>1000</td>\n",
       "      <td>9</td>\n",
       "    </tr>\n",
       "    <tr>\n",
       "      <td>4</td>\n",
       "      <td>1000_4</td>\n",
       "      <td>2018-12-15</td>\n",
       "      <td>5.18</td>\n",
       "      <td>1000</td>\n",
       "      <td>12</td>\n",
       "    </tr>\n",
       "    <tr>\n",
       "      <td>...</td>\n",
       "      <td>...</td>\n",
       "      <td>...</td>\n",
       "      <td>...</td>\n",
       "      <td>...</td>\n",
       "      <td>...</td>\n",
       "    </tr>\n",
       "    <tr>\n",
       "      <td>202602</td>\n",
       "      <td>1499_215</td>\n",
       "      <td>2018-12-26</td>\n",
       "      <td>0.76</td>\n",
       "      <td>1499</td>\n",
       "      <td>12</td>\n",
       "    </tr>\n",
       "    <tr>\n",
       "      <td>202603</td>\n",
       "      <td>1499_216</td>\n",
       "      <td>2018-10-18</td>\n",
       "      <td>18.83</td>\n",
       "      <td>1499</td>\n",
       "      <td>10</td>\n",
       "    </tr>\n",
       "    <tr>\n",
       "      <td>202604</td>\n",
       "      <td>1499_217</td>\n",
       "      <td>2018-11-10</td>\n",
       "      <td>10.81</td>\n",
       "      <td>1499</td>\n",
       "      <td>11</td>\n",
       "    </tr>\n",
       "    <tr>\n",
       "      <td>202605</td>\n",
       "      <td>1499_218</td>\n",
       "      <td>2018-10-06</td>\n",
       "      <td>4.27</td>\n",
       "      <td>1499</td>\n",
       "      <td>10</td>\n",
       "    </tr>\n",
       "    <tr>\n",
       "      <td>202606</td>\n",
       "      <td>1499_219</td>\n",
       "      <td>2018-12-14</td>\n",
       "      <td>19.62</td>\n",
       "      <td>1499</td>\n",
       "      <td>12</td>\n",
       "    </tr>\n",
       "  </tbody>\n",
       "</table>\n",
       "<p>202607 rows × 5 columns</p>\n",
       "</div>"
      ],
      "text/plain": [
       "              id  call_date  duration  user_id  month\n",
       "0         1000_0 2018-07-25      0.00     1000      7\n",
       "1         1000_1 2018-08-17      0.00     1000      8\n",
       "2         1000_2 2018-06-11      2.85     1000      6\n",
       "3         1000_3 2018-09-21     13.80     1000      9\n",
       "4         1000_4 2018-12-15      5.18     1000     12\n",
       "...          ...        ...       ...      ...    ...\n",
       "202602  1499_215 2018-12-26      0.76     1499     12\n",
       "202603  1499_216 2018-10-18     18.83     1499     10\n",
       "202604  1499_217 2018-11-10     10.81     1499     11\n",
       "202605  1499_218 2018-10-06      4.27     1499     10\n",
       "202606  1499_219 2018-12-14     19.62     1499     12\n",
       "\n",
       "[202607 rows x 5 columns]"
      ]
     },
     "execution_count": 24,
     "metadata": {},
     "output_type": "execute_result"
    }
   ],
   "source": [
    "calls['month'] = calls['call_date'].dt.month\n",
    "calls"
   ]
  },
  {
   "cell_type": "code",
   "execution_count": 25,
   "metadata": {},
   "outputs": [
    {
     "data": {
      "text/html": [
       "<div>\n",
       "<style scoped>\n",
       "    .dataframe tbody tr th:only-of-type {\n",
       "        vertical-align: middle;\n",
       "    }\n",
       "\n",
       "    .dataframe tbody tr th {\n",
       "        vertical-align: top;\n",
       "    }\n",
       "\n",
       "    .dataframe thead th {\n",
       "        text-align: right;\n",
       "    }\n",
       "</style>\n",
       "<table border=\"1\" class=\"dataframe\">\n",
       "  <thead>\n",
       "    <tr style=\"text-align: right;\">\n",
       "      <th></th>\n",
       "      <th>user_id</th>\n",
       "      <th>tariff</th>\n",
       "    </tr>\n",
       "  </thead>\n",
       "  <tbody>\n",
       "    <tr>\n",
       "      <td>0</td>\n",
       "      <td>1000</td>\n",
       "      <td>ultra</td>\n",
       "    </tr>\n",
       "    <tr>\n",
       "      <td>1</td>\n",
       "      <td>1001</td>\n",
       "      <td>smart</td>\n",
       "    </tr>\n",
       "    <tr>\n",
       "      <td>2</td>\n",
       "      <td>1002</td>\n",
       "      <td>smart</td>\n",
       "    </tr>\n",
       "    <tr>\n",
       "      <td>3</td>\n",
       "      <td>1003</td>\n",
       "      <td>ultra</td>\n",
       "    </tr>\n",
       "    <tr>\n",
       "      <td>4</td>\n",
       "      <td>1004</td>\n",
       "      <td>ultra</td>\n",
       "    </tr>\n",
       "    <tr>\n",
       "      <td>...</td>\n",
       "      <td>...</td>\n",
       "      <td>...</td>\n",
       "    </tr>\n",
       "    <tr>\n",
       "      <td>495</td>\n",
       "      <td>1495</td>\n",
       "      <td>ultra</td>\n",
       "    </tr>\n",
       "    <tr>\n",
       "      <td>496</td>\n",
       "      <td>1496</td>\n",
       "      <td>smart</td>\n",
       "    </tr>\n",
       "    <tr>\n",
       "      <td>497</td>\n",
       "      <td>1497</td>\n",
       "      <td>smart</td>\n",
       "    </tr>\n",
       "    <tr>\n",
       "      <td>498</td>\n",
       "      <td>1498</td>\n",
       "      <td>smart</td>\n",
       "    </tr>\n",
       "    <tr>\n",
       "      <td>499</td>\n",
       "      <td>1499</td>\n",
       "      <td>smart</td>\n",
       "    </tr>\n",
       "  </tbody>\n",
       "</table>\n",
       "<p>500 rows × 2 columns</p>\n",
       "</div>"
      ],
      "text/plain": [
       "     user_id tariff\n",
       "0       1000  ultra\n",
       "1       1001  smart\n",
       "2       1002  smart\n",
       "3       1003  ultra\n",
       "4       1004  ultra\n",
       "..       ...    ...\n",
       "495     1495  ultra\n",
       "496     1496  smart\n",
       "497     1497  smart\n",
       "498     1498  smart\n",
       "499     1499  smart\n",
       "\n",
       "[500 rows x 2 columns]"
      ]
     },
     "execution_count": 25,
     "metadata": {},
     "output_type": "execute_result"
    }
   ],
   "source": [
    "tarifs_for_users = users.loc[:,['user_id', 'tariff']]\n",
    "tarifs_for_users"
   ]
  },
  {
   "cell_type": "code",
   "execution_count": 26,
   "metadata": {},
   "outputs": [
    {
     "data": {
      "text/html": [
       "<div>\n",
       "<style scoped>\n",
       "    .dataframe tbody tr th:only-of-type {\n",
       "        vertical-align: middle;\n",
       "    }\n",
       "\n",
       "    .dataframe tbody tr th {\n",
       "        vertical-align: top;\n",
       "    }\n",
       "\n",
       "    .dataframe thead tr th {\n",
       "        text-align: left;\n",
       "    }\n",
       "</style>\n",
       "<table border=\"1\" class=\"dataframe\">\n",
       "  <thead>\n",
       "    <tr>\n",
       "      <th></th>\n",
       "      <th>user_id</th>\n",
       "      <th>month</th>\n",
       "      <th colspan=\"2\" halign=\"left\">duration</th>\n",
       "    </tr>\n",
       "    <tr>\n",
       "      <th></th>\n",
       "      <th></th>\n",
       "      <th></th>\n",
       "      <th>count</th>\n",
       "      <th>sum</th>\n",
       "    </tr>\n",
       "  </thead>\n",
       "  <tbody>\n",
       "    <tr>\n",
       "      <td>0</td>\n",
       "      <td>1000</td>\n",
       "      <td>5</td>\n",
       "      <td>22</td>\n",
       "      <td>150.06</td>\n",
       "    </tr>\n",
       "    <tr>\n",
       "      <td>1</td>\n",
       "      <td>1000</td>\n",
       "      <td>6</td>\n",
       "      <td>43</td>\n",
       "      <td>158.90</td>\n",
       "    </tr>\n",
       "    <tr>\n",
       "      <td>2</td>\n",
       "      <td>1000</td>\n",
       "      <td>7</td>\n",
       "      <td>47</td>\n",
       "      <td>318.80</td>\n",
       "    </tr>\n",
       "    <tr>\n",
       "      <td>3</td>\n",
       "      <td>1000</td>\n",
       "      <td>8</td>\n",
       "      <td>52</td>\n",
       "      <td>389.87</td>\n",
       "    </tr>\n",
       "    <tr>\n",
       "      <td>4</td>\n",
       "      <td>1000</td>\n",
       "      <td>9</td>\n",
       "      <td>58</td>\n",
       "      <td>440.14</td>\n",
       "    </tr>\n",
       "    <tr>\n",
       "      <td>...</td>\n",
       "      <td>...</td>\n",
       "      <td>...</td>\n",
       "      <td>...</td>\n",
       "      <td>...</td>\n",
       "    </tr>\n",
       "    <tr>\n",
       "      <td>3169</td>\n",
       "      <td>1498</td>\n",
       "      <td>10</td>\n",
       "      <td>41</td>\n",
       "      <td>232.63</td>\n",
       "    </tr>\n",
       "    <tr>\n",
       "      <td>3170</td>\n",
       "      <td>1499</td>\n",
       "      <td>9</td>\n",
       "      <td>9</td>\n",
       "      <td>64.65</td>\n",
       "    </tr>\n",
       "    <tr>\n",
       "      <td>3171</td>\n",
       "      <td>1499</td>\n",
       "      <td>10</td>\n",
       "      <td>68</td>\n",
       "      <td>429.91</td>\n",
       "    </tr>\n",
       "    <tr>\n",
       "      <td>3172</td>\n",
       "      <td>1499</td>\n",
       "      <td>11</td>\n",
       "      <td>74</td>\n",
       "      <td>576.50</td>\n",
       "    </tr>\n",
       "    <tr>\n",
       "      <td>3173</td>\n",
       "      <td>1499</td>\n",
       "      <td>12</td>\n",
       "      <td>69</td>\n",
       "      <td>465.16</td>\n",
       "    </tr>\n",
       "  </tbody>\n",
       "</table>\n",
       "<p>3174 rows × 4 columns</p>\n",
       "</div>"
      ],
      "text/plain": [
       "     user_id month duration        \n",
       "                      count     sum\n",
       "0       1000     5       22  150.06\n",
       "1       1000     6       43  158.90\n",
       "2       1000     7       47  318.80\n",
       "3       1000     8       52  389.87\n",
       "4       1000     9       58  440.14\n",
       "...      ...   ...      ...     ...\n",
       "3169    1498    10       41  232.63\n",
       "3170    1499     9        9   64.65\n",
       "3171    1499    10       68  429.91\n",
       "3172    1499    11       74  576.50\n",
       "3173    1499    12       69  465.16\n",
       "\n",
       "[3174 rows x 4 columns]"
      ]
     },
     "execution_count": 26,
     "metadata": {},
     "output_type": "execute_result"
    }
   ],
   "source": [
    "calls_group = calls.groupby(['user_id', 'month'], as_index=False).agg({'duration':['count', 'sum']})\n",
    "calls_group"
   ]
  },
  {
   "cell_type": "code",
   "execution_count": 27,
   "metadata": {},
   "outputs": [
    {
     "data": {
      "text/plain": [
       "[1000,\n",
       " 1003,\n",
       " 1004,\n",
       " 1013,\n",
       " 1016,\n",
       " 1018,\n",
       " 1019,\n",
       " 1021,\n",
       " 1024,\n",
       " 1028,\n",
       " 1039,\n",
       " 1048,\n",
       " 1049,\n",
       " 1050,\n",
       " 1053,\n",
       " 1057,\n",
       " 1060,\n",
       " 1063,\n",
       " 1078,\n",
       " 1080,\n",
       " 1081,\n",
       " 1084,\n",
       " 1085,\n",
       " 1089,\n",
       " 1090,\n",
       " 1091,\n",
       " 1094,\n",
       " 1096,\n",
       " 1097,\n",
       " 1099,\n",
       " 1104,\n",
       " 1106,\n",
       " 1120,\n",
       " 1122,\n",
       " 1124,\n",
       " 1126,\n",
       " 1128,\n",
       " 1143,\n",
       " 1148,\n",
       " 1150,\n",
       " 1151,\n",
       " 1152,\n",
       " 1156,\n",
       " 1165,\n",
       " 1166,\n",
       " 1167,\n",
       " 1168,\n",
       " 1180,\n",
       " 1182,\n",
       " 1185,\n",
       " 1192,\n",
       " 1196,\n",
       " 1200,\n",
       " 1201,\n",
       " 1203,\n",
       " 1208,\n",
       " 1222,\n",
       " 1225,\n",
       " 1226,\n",
       " 1231,\n",
       " 1234,\n",
       " 1240,\n",
       " 1243,\n",
       " 1245,\n",
       " 1253,\n",
       " 1254,\n",
       " 1255,\n",
       " 1257,\n",
       " 1259,\n",
       " 1265,\n",
       " 1270,\n",
       " 1271,\n",
       " 1272,\n",
       " 1273,\n",
       " 1276,\n",
       " 1277,\n",
       " 1281,\n",
       " 1289,\n",
       " 1292,\n",
       " 1294,\n",
       " 1300,\n",
       " 1303,\n",
       " 1304,\n",
       " 1309,\n",
       " 1310,\n",
       " 1318,\n",
       " 1325,\n",
       " 1328,\n",
       " 1330,\n",
       " 1331,\n",
       " 1333,\n",
       " 1335,\n",
       " 1336,\n",
       " 1341,\n",
       " 1343,\n",
       " 1344,\n",
       " 1346,\n",
       " 1347,\n",
       " 1348,\n",
       " 1349,\n",
       " 1350,\n",
       " 1352,\n",
       " 1356,\n",
       " 1360,\n",
       " 1361,\n",
       " 1363,\n",
       " 1364,\n",
       " 1367,\n",
       " 1369,\n",
       " 1375,\n",
       " 1377,\n",
       " 1379,\n",
       " 1380,\n",
       " 1381,\n",
       " 1382,\n",
       " 1385,\n",
       " 1391,\n",
       " 1392,\n",
       " 1396,\n",
       " 1397,\n",
       " 1399,\n",
       " 1402,\n",
       " 1403,\n",
       " 1405,\n",
       " 1412,\n",
       " 1415,\n",
       " 1416,\n",
       " 1424,\n",
       " 1430,\n",
       " 1436,\n",
       " 1440,\n",
       " 1442,\n",
       " 1452,\n",
       " 1453,\n",
       " 1455,\n",
       " 1458,\n",
       " 1461,\n",
       " 1463,\n",
       " 1466,\n",
       " 1467,\n",
       " 1469,\n",
       " 1471,\n",
       " 1473,\n",
       " 1474,\n",
       " 1476,\n",
       " 1485,\n",
       " 1491,\n",
       " 1493,\n",
       " 1495]"
      ]
     },
     "execution_count": 27,
     "metadata": {},
     "output_type": "execute_result"
    }
   ],
   "source": [
    "sheet = list(tarifs_for_users.query('tariff == \"ultra\"')['user_id'])\n",
    "sheet"
   ]
  },
  {
   "cell_type": "code",
   "execution_count": 28,
   "metadata": {},
   "outputs": [],
   "source": [
    "def tariff(value, sheet):\n",
    "    if value in sheet:\n",
    "        return 'ultra'\n",
    "    else:\n",
    "        return 'smart'"
   ]
  },
  {
   "cell_type": "code",
   "execution_count": 29,
   "metadata": {},
   "outputs": [
    {
     "data": {
      "text/html": [
       "<div>\n",
       "<style scoped>\n",
       "    .dataframe tbody tr th:only-of-type {\n",
       "        vertical-align: middle;\n",
       "    }\n",
       "\n",
       "    .dataframe tbody tr th {\n",
       "        vertical-align: top;\n",
       "    }\n",
       "\n",
       "    .dataframe thead tr th {\n",
       "        text-align: left;\n",
       "    }\n",
       "</style>\n",
       "<table border=\"1\" class=\"dataframe\">\n",
       "  <thead>\n",
       "    <tr>\n",
       "      <th></th>\n",
       "      <th>user_id</th>\n",
       "      <th>month</th>\n",
       "      <th colspan=\"2\" halign=\"left\">duration</th>\n",
       "      <th>tarif</th>\n",
       "    </tr>\n",
       "    <tr>\n",
       "      <th></th>\n",
       "      <th></th>\n",
       "      <th></th>\n",
       "      <th>count</th>\n",
       "      <th>sum</th>\n",
       "      <th></th>\n",
       "    </tr>\n",
       "  </thead>\n",
       "  <tbody>\n",
       "    <tr>\n",
       "      <td>0</td>\n",
       "      <td>1000</td>\n",
       "      <td>5</td>\n",
       "      <td>22</td>\n",
       "      <td>150.06</td>\n",
       "      <td>ultra</td>\n",
       "    </tr>\n",
       "    <tr>\n",
       "      <td>1</td>\n",
       "      <td>1000</td>\n",
       "      <td>6</td>\n",
       "      <td>43</td>\n",
       "      <td>158.90</td>\n",
       "      <td>ultra</td>\n",
       "    </tr>\n",
       "    <tr>\n",
       "      <td>2</td>\n",
       "      <td>1000</td>\n",
       "      <td>7</td>\n",
       "      <td>47</td>\n",
       "      <td>318.80</td>\n",
       "      <td>ultra</td>\n",
       "    </tr>\n",
       "    <tr>\n",
       "      <td>3</td>\n",
       "      <td>1000</td>\n",
       "      <td>8</td>\n",
       "      <td>52</td>\n",
       "      <td>389.87</td>\n",
       "      <td>ultra</td>\n",
       "    </tr>\n",
       "    <tr>\n",
       "      <td>4</td>\n",
       "      <td>1000</td>\n",
       "      <td>9</td>\n",
       "      <td>58</td>\n",
       "      <td>440.14</td>\n",
       "      <td>ultra</td>\n",
       "    </tr>\n",
       "    <tr>\n",
       "      <td>...</td>\n",
       "      <td>...</td>\n",
       "      <td>...</td>\n",
       "      <td>...</td>\n",
       "      <td>...</td>\n",
       "      <td>...</td>\n",
       "    </tr>\n",
       "    <tr>\n",
       "      <td>3169</td>\n",
       "      <td>1498</td>\n",
       "      <td>10</td>\n",
       "      <td>41</td>\n",
       "      <td>232.63</td>\n",
       "      <td>smart</td>\n",
       "    </tr>\n",
       "    <tr>\n",
       "      <td>3170</td>\n",
       "      <td>1499</td>\n",
       "      <td>9</td>\n",
       "      <td>9</td>\n",
       "      <td>64.65</td>\n",
       "      <td>smart</td>\n",
       "    </tr>\n",
       "    <tr>\n",
       "      <td>3171</td>\n",
       "      <td>1499</td>\n",
       "      <td>10</td>\n",
       "      <td>68</td>\n",
       "      <td>429.91</td>\n",
       "      <td>smart</td>\n",
       "    </tr>\n",
       "    <tr>\n",
       "      <td>3172</td>\n",
       "      <td>1499</td>\n",
       "      <td>11</td>\n",
       "      <td>74</td>\n",
       "      <td>576.50</td>\n",
       "      <td>smart</td>\n",
       "    </tr>\n",
       "    <tr>\n",
       "      <td>3173</td>\n",
       "      <td>1499</td>\n",
       "      <td>12</td>\n",
       "      <td>69</td>\n",
       "      <td>465.16</td>\n",
       "      <td>smart</td>\n",
       "    </tr>\n",
       "  </tbody>\n",
       "</table>\n",
       "<p>3174 rows × 5 columns</p>\n",
       "</div>"
      ],
      "text/plain": [
       "     user_id month duration          tarif\n",
       "                      count     sum       \n",
       "0       1000     5       22  150.06  ultra\n",
       "1       1000     6       43  158.90  ultra\n",
       "2       1000     7       47  318.80  ultra\n",
       "3       1000     8       52  389.87  ultra\n",
       "4       1000     9       58  440.14  ultra\n",
       "...      ...   ...      ...     ...    ...\n",
       "3169    1498    10       41  232.63  smart\n",
       "3170    1499     9        9   64.65  smart\n",
       "3171    1499    10       68  429.91  smart\n",
       "3172    1499    11       74  576.50  smart\n",
       "3173    1499    12       69  465.16  smart\n",
       "\n",
       "[3174 rows x 5 columns]"
      ]
     },
     "execution_count": 29,
     "metadata": {},
     "output_type": "execute_result"
    }
   ],
   "source": [
    "calls_group['tarif'] = calls_group['user_id'].apply(tariff, args=(sheet,))\n",
    "calls_group"
   ]
  },
  {
   "cell_type": "markdown",
   "metadata": {},
   "source": [
    "Количество отправленных сообщений по месяцам"
   ]
  },
  {
   "cell_type": "code",
   "execution_count": 30,
   "metadata": {},
   "outputs": [
    {
     "data": {
      "text/html": [
       "<div>\n",
       "<style scoped>\n",
       "    .dataframe tbody tr th:only-of-type {\n",
       "        vertical-align: middle;\n",
       "    }\n",
       "\n",
       "    .dataframe tbody tr th {\n",
       "        vertical-align: top;\n",
       "    }\n",
       "\n",
       "    .dataframe thead th {\n",
       "        text-align: right;\n",
       "    }\n",
       "</style>\n",
       "<table border=\"1\" class=\"dataframe\">\n",
       "  <thead>\n",
       "    <tr style=\"text-align: right;\">\n",
       "      <th></th>\n",
       "      <th>id</th>\n",
       "      <th>message_date</th>\n",
       "      <th>user_id</th>\n",
       "    </tr>\n",
       "  </thead>\n",
       "  <tbody>\n",
       "    <tr>\n",
       "      <td>0</td>\n",
       "      <td>1000_0</td>\n",
       "      <td>2018-06-27</td>\n",
       "      <td>1000</td>\n",
       "    </tr>\n",
       "    <tr>\n",
       "      <td>1</td>\n",
       "      <td>1000_1</td>\n",
       "      <td>2018-10-08</td>\n",
       "      <td>1000</td>\n",
       "    </tr>\n",
       "    <tr>\n",
       "      <td>2</td>\n",
       "      <td>1000_2</td>\n",
       "      <td>2018-08-04</td>\n",
       "      <td>1000</td>\n",
       "    </tr>\n",
       "    <tr>\n",
       "      <td>3</td>\n",
       "      <td>1000_3</td>\n",
       "      <td>2018-06-16</td>\n",
       "      <td>1000</td>\n",
       "    </tr>\n",
       "    <tr>\n",
       "      <td>4</td>\n",
       "      <td>1000_4</td>\n",
       "      <td>2018-12-05</td>\n",
       "      <td>1000</td>\n",
       "    </tr>\n",
       "    <tr>\n",
       "      <td>...</td>\n",
       "      <td>...</td>\n",
       "      <td>...</td>\n",
       "      <td>...</td>\n",
       "    </tr>\n",
       "    <tr>\n",
       "      <td>123031</td>\n",
       "      <td>1499_179</td>\n",
       "      <td>2018-12-12</td>\n",
       "      <td>1499</td>\n",
       "    </tr>\n",
       "    <tr>\n",
       "      <td>123032</td>\n",
       "      <td>1499_180</td>\n",
       "      <td>2018-09-28</td>\n",
       "      <td>1499</td>\n",
       "    </tr>\n",
       "    <tr>\n",
       "      <td>123033</td>\n",
       "      <td>1499_181</td>\n",
       "      <td>2018-09-27</td>\n",
       "      <td>1499</td>\n",
       "    </tr>\n",
       "    <tr>\n",
       "      <td>123034</td>\n",
       "      <td>1499_182</td>\n",
       "      <td>2018-11-15</td>\n",
       "      <td>1499</td>\n",
       "    </tr>\n",
       "    <tr>\n",
       "      <td>123035</td>\n",
       "      <td>1499_183</td>\n",
       "      <td>2018-11-16</td>\n",
       "      <td>1499</td>\n",
       "    </tr>\n",
       "  </tbody>\n",
       "</table>\n",
       "<p>123036 rows × 3 columns</p>\n",
       "</div>"
      ],
      "text/plain": [
       "              id message_date  user_id\n",
       "0         1000_0   2018-06-27     1000\n",
       "1         1000_1   2018-10-08     1000\n",
       "2         1000_2   2018-08-04     1000\n",
       "3         1000_3   2018-06-16     1000\n",
       "4         1000_4   2018-12-05     1000\n",
       "...          ...          ...      ...\n",
       "123031  1499_179   2018-12-12     1499\n",
       "123032  1499_180   2018-09-28     1499\n",
       "123033  1499_181   2018-09-27     1499\n",
       "123034  1499_182   2018-11-15     1499\n",
       "123035  1499_183   2018-11-16     1499\n",
       "\n",
       "[123036 rows x 3 columns]"
      ]
     },
     "execution_count": 30,
     "metadata": {},
     "output_type": "execute_result"
    }
   ],
   "source": [
    "messages"
   ]
  },
  {
   "cell_type": "code",
   "execution_count": 31,
   "metadata": {},
   "outputs": [
    {
     "data": {
      "text/html": [
       "<div>\n",
       "<style scoped>\n",
       "    .dataframe tbody tr th:only-of-type {\n",
       "        vertical-align: middle;\n",
       "    }\n",
       "\n",
       "    .dataframe tbody tr th {\n",
       "        vertical-align: top;\n",
       "    }\n",
       "\n",
       "    .dataframe thead th {\n",
       "        text-align: right;\n",
       "    }\n",
       "</style>\n",
       "<table border=\"1\" class=\"dataframe\">\n",
       "  <thead>\n",
       "    <tr style=\"text-align: right;\">\n",
       "      <th></th>\n",
       "      <th>id</th>\n",
       "      <th>message_date</th>\n",
       "      <th>user_id</th>\n",
       "      <th>month</th>\n",
       "    </tr>\n",
       "  </thead>\n",
       "  <tbody>\n",
       "    <tr>\n",
       "      <td>0</td>\n",
       "      <td>1000_0</td>\n",
       "      <td>2018-06-27</td>\n",
       "      <td>1000</td>\n",
       "      <td>6</td>\n",
       "    </tr>\n",
       "    <tr>\n",
       "      <td>1</td>\n",
       "      <td>1000_1</td>\n",
       "      <td>2018-10-08</td>\n",
       "      <td>1000</td>\n",
       "      <td>10</td>\n",
       "    </tr>\n",
       "    <tr>\n",
       "      <td>2</td>\n",
       "      <td>1000_2</td>\n",
       "      <td>2018-08-04</td>\n",
       "      <td>1000</td>\n",
       "      <td>8</td>\n",
       "    </tr>\n",
       "    <tr>\n",
       "      <td>3</td>\n",
       "      <td>1000_3</td>\n",
       "      <td>2018-06-16</td>\n",
       "      <td>1000</td>\n",
       "      <td>6</td>\n",
       "    </tr>\n",
       "    <tr>\n",
       "      <td>4</td>\n",
       "      <td>1000_4</td>\n",
       "      <td>2018-12-05</td>\n",
       "      <td>1000</td>\n",
       "      <td>12</td>\n",
       "    </tr>\n",
       "    <tr>\n",
       "      <td>...</td>\n",
       "      <td>...</td>\n",
       "      <td>...</td>\n",
       "      <td>...</td>\n",
       "      <td>...</td>\n",
       "    </tr>\n",
       "    <tr>\n",
       "      <td>123031</td>\n",
       "      <td>1499_179</td>\n",
       "      <td>2018-12-12</td>\n",
       "      <td>1499</td>\n",
       "      <td>12</td>\n",
       "    </tr>\n",
       "    <tr>\n",
       "      <td>123032</td>\n",
       "      <td>1499_180</td>\n",
       "      <td>2018-09-28</td>\n",
       "      <td>1499</td>\n",
       "      <td>9</td>\n",
       "    </tr>\n",
       "    <tr>\n",
       "      <td>123033</td>\n",
       "      <td>1499_181</td>\n",
       "      <td>2018-09-27</td>\n",
       "      <td>1499</td>\n",
       "      <td>9</td>\n",
       "    </tr>\n",
       "    <tr>\n",
       "      <td>123034</td>\n",
       "      <td>1499_182</td>\n",
       "      <td>2018-11-15</td>\n",
       "      <td>1499</td>\n",
       "      <td>11</td>\n",
       "    </tr>\n",
       "    <tr>\n",
       "      <td>123035</td>\n",
       "      <td>1499_183</td>\n",
       "      <td>2018-11-16</td>\n",
       "      <td>1499</td>\n",
       "      <td>11</td>\n",
       "    </tr>\n",
       "  </tbody>\n",
       "</table>\n",
       "<p>123036 rows × 4 columns</p>\n",
       "</div>"
      ],
      "text/plain": [
       "              id message_date  user_id  month\n",
       "0         1000_0   2018-06-27     1000      6\n",
       "1         1000_1   2018-10-08     1000     10\n",
       "2         1000_2   2018-08-04     1000      8\n",
       "3         1000_3   2018-06-16     1000      6\n",
       "4         1000_4   2018-12-05     1000     12\n",
       "...          ...          ...      ...    ...\n",
       "123031  1499_179   2018-12-12     1499     12\n",
       "123032  1499_180   2018-09-28     1499      9\n",
       "123033  1499_181   2018-09-27     1499      9\n",
       "123034  1499_182   2018-11-15     1499     11\n",
       "123035  1499_183   2018-11-16     1499     11\n",
       "\n",
       "[123036 rows x 4 columns]"
      ]
     },
     "execution_count": 31,
     "metadata": {},
     "output_type": "execute_result"
    }
   ],
   "source": [
    "messages['month'] = messages['message_date'].dt.month\n",
    "messages"
   ]
  },
  {
   "cell_type": "code",
   "execution_count": 32,
   "metadata": {},
   "outputs": [
    {
     "data": {
      "text/html": [
       "<div>\n",
       "<style scoped>\n",
       "    .dataframe tbody tr th:only-of-type {\n",
       "        vertical-align: middle;\n",
       "    }\n",
       "\n",
       "    .dataframe tbody tr th {\n",
       "        vertical-align: top;\n",
       "    }\n",
       "\n",
       "    .dataframe thead th {\n",
       "        text-align: right;\n",
       "    }\n",
       "</style>\n",
       "<table border=\"1\" class=\"dataframe\">\n",
       "  <thead>\n",
       "    <tr style=\"text-align: right;\">\n",
       "      <th></th>\n",
       "      <th>user_id</th>\n",
       "      <th>month</th>\n",
       "      <th>messages</th>\n",
       "    </tr>\n",
       "  </thead>\n",
       "  <tbody>\n",
       "    <tr>\n",
       "      <td>0</td>\n",
       "      <td>1000</td>\n",
       "      <td>5</td>\n",
       "      <td>22</td>\n",
       "    </tr>\n",
       "    <tr>\n",
       "      <td>1</td>\n",
       "      <td>1000</td>\n",
       "      <td>6</td>\n",
       "      <td>60</td>\n",
       "    </tr>\n",
       "    <tr>\n",
       "      <td>2</td>\n",
       "      <td>1000</td>\n",
       "      <td>7</td>\n",
       "      <td>75</td>\n",
       "    </tr>\n",
       "    <tr>\n",
       "      <td>3</td>\n",
       "      <td>1000</td>\n",
       "      <td>8</td>\n",
       "      <td>81</td>\n",
       "    </tr>\n",
       "    <tr>\n",
       "      <td>4</td>\n",
       "      <td>1000</td>\n",
       "      <td>9</td>\n",
       "      <td>57</td>\n",
       "    </tr>\n",
       "    <tr>\n",
       "      <td>...</td>\n",
       "      <td>...</td>\n",
       "      <td>...</td>\n",
       "      <td>...</td>\n",
       "    </tr>\n",
       "    <tr>\n",
       "      <td>2712</td>\n",
       "      <td>1498</td>\n",
       "      <td>10</td>\n",
       "      <td>42</td>\n",
       "    </tr>\n",
       "    <tr>\n",
       "      <td>2713</td>\n",
       "      <td>1499</td>\n",
       "      <td>9</td>\n",
       "      <td>11</td>\n",
       "    </tr>\n",
       "    <tr>\n",
       "      <td>2714</td>\n",
       "      <td>1499</td>\n",
       "      <td>10</td>\n",
       "      <td>48</td>\n",
       "    </tr>\n",
       "    <tr>\n",
       "      <td>2715</td>\n",
       "      <td>1499</td>\n",
       "      <td>11</td>\n",
       "      <td>59</td>\n",
       "    </tr>\n",
       "    <tr>\n",
       "      <td>2716</td>\n",
       "      <td>1499</td>\n",
       "      <td>12</td>\n",
       "      <td>66</td>\n",
       "    </tr>\n",
       "  </tbody>\n",
       "</table>\n",
       "<p>2717 rows × 3 columns</p>\n",
       "</div>"
      ],
      "text/plain": [
       "      user_id  month  messages\n",
       "0        1000      5        22\n",
       "1        1000      6        60\n",
       "2        1000      7        75\n",
       "3        1000      8        81\n",
       "4        1000      9        57\n",
       "...       ...    ...       ...\n",
       "2712     1498     10        42\n",
       "2713     1499      9        11\n",
       "2714     1499     10        48\n",
       "2715     1499     11        59\n",
       "2716     1499     12        66\n",
       "\n",
       "[2717 rows x 3 columns]"
      ]
     },
     "execution_count": 32,
     "metadata": {},
     "output_type": "execute_result"
    }
   ],
   "source": [
    "messages_group = messages.groupby(['user_id','month'],as_index=False).agg({'id':'count'})\n",
    "messages_group.columns = ['user_id', 'month', 'messages']\n",
    "messages_group"
   ]
  },
  {
   "cell_type": "markdown",
   "metadata": {},
   "source": [
    "объем израсходованного трафика по месяцам"
   ]
  },
  {
   "cell_type": "code",
   "execution_count": 33,
   "metadata": {},
   "outputs": [
    {
     "data": {
      "text/html": [
       "<div>\n",
       "<style scoped>\n",
       "    .dataframe tbody tr th:only-of-type {\n",
       "        vertical-align: middle;\n",
       "    }\n",
       "\n",
       "    .dataframe tbody tr th {\n",
       "        vertical-align: top;\n",
       "    }\n",
       "\n",
       "    .dataframe thead th {\n",
       "        text-align: right;\n",
       "    }\n",
       "</style>\n",
       "<table border=\"1\" class=\"dataframe\">\n",
       "  <thead>\n",
       "    <tr style=\"text-align: right;\">\n",
       "      <th></th>\n",
       "      <th>id</th>\n",
       "      <th>mb_used</th>\n",
       "      <th>session_date</th>\n",
       "      <th>user_id</th>\n",
       "    </tr>\n",
       "  </thead>\n",
       "  <tbody>\n",
       "    <tr>\n",
       "      <td>0</td>\n",
       "      <td>1000_0</td>\n",
       "      <td>112.95</td>\n",
       "      <td>2018-11-25</td>\n",
       "      <td>1000</td>\n",
       "    </tr>\n",
       "    <tr>\n",
       "      <td>1</td>\n",
       "      <td>1000_1</td>\n",
       "      <td>1052.81</td>\n",
       "      <td>2018-09-07</td>\n",
       "      <td>1000</td>\n",
       "    </tr>\n",
       "    <tr>\n",
       "      <td>2</td>\n",
       "      <td>1000_2</td>\n",
       "      <td>1197.26</td>\n",
       "      <td>2018-06-25</td>\n",
       "      <td>1000</td>\n",
       "    </tr>\n",
       "    <tr>\n",
       "      <td>3</td>\n",
       "      <td>1000_3</td>\n",
       "      <td>550.27</td>\n",
       "      <td>2018-08-22</td>\n",
       "      <td>1000</td>\n",
       "    </tr>\n",
       "    <tr>\n",
       "      <td>4</td>\n",
       "      <td>1000_4</td>\n",
       "      <td>302.56</td>\n",
       "      <td>2018-09-24</td>\n",
       "      <td>1000</td>\n",
       "    </tr>\n",
       "    <tr>\n",
       "      <td>...</td>\n",
       "      <td>...</td>\n",
       "      <td>...</td>\n",
       "      <td>...</td>\n",
       "      <td>...</td>\n",
       "    </tr>\n",
       "    <tr>\n",
       "      <td>149391</td>\n",
       "      <td>1499_152</td>\n",
       "      <td>318.90</td>\n",
       "      <td>2018-10-03</td>\n",
       "      <td>1499</td>\n",
       "    </tr>\n",
       "    <tr>\n",
       "      <td>149392</td>\n",
       "      <td>1499_153</td>\n",
       "      <td>490.13</td>\n",
       "      <td>2018-12-14</td>\n",
       "      <td>1499</td>\n",
       "    </tr>\n",
       "    <tr>\n",
       "      <td>149393</td>\n",
       "      <td>1499_154</td>\n",
       "      <td>0.00</td>\n",
       "      <td>2018-10-27</td>\n",
       "      <td>1499</td>\n",
       "    </tr>\n",
       "    <tr>\n",
       "      <td>149394</td>\n",
       "      <td>1499_155</td>\n",
       "      <td>1246.32</td>\n",
       "      <td>2018-11-26</td>\n",
       "      <td>1499</td>\n",
       "    </tr>\n",
       "    <tr>\n",
       "      <td>149395</td>\n",
       "      <td>1499_156</td>\n",
       "      <td>544.37</td>\n",
       "      <td>2018-10-26</td>\n",
       "      <td>1499</td>\n",
       "    </tr>\n",
       "  </tbody>\n",
       "</table>\n",
       "<p>149396 rows × 4 columns</p>\n",
       "</div>"
      ],
      "text/plain": [
       "              id  mb_used session_date  user_id\n",
       "0         1000_0   112.95   2018-11-25     1000\n",
       "1         1000_1  1052.81   2018-09-07     1000\n",
       "2         1000_2  1197.26   2018-06-25     1000\n",
       "3         1000_3   550.27   2018-08-22     1000\n",
       "4         1000_4   302.56   2018-09-24     1000\n",
       "...          ...      ...          ...      ...\n",
       "149391  1499_152   318.90   2018-10-03     1499\n",
       "149392  1499_153   490.13   2018-12-14     1499\n",
       "149393  1499_154     0.00   2018-10-27     1499\n",
       "149394  1499_155  1246.32   2018-11-26     1499\n",
       "149395  1499_156   544.37   2018-10-26     1499\n",
       "\n",
       "[149396 rows x 4 columns]"
      ]
     },
     "execution_count": 33,
     "metadata": {},
     "output_type": "execute_result"
    }
   ],
   "source": [
    "internet"
   ]
  },
  {
   "cell_type": "code",
   "execution_count": 34,
   "metadata": {},
   "outputs": [
    {
     "data": {
      "text/html": [
       "<div>\n",
       "<style scoped>\n",
       "    .dataframe tbody tr th:only-of-type {\n",
       "        vertical-align: middle;\n",
       "    }\n",
       "\n",
       "    .dataframe tbody tr th {\n",
       "        vertical-align: top;\n",
       "    }\n",
       "\n",
       "    .dataframe thead th {\n",
       "        text-align: right;\n",
       "    }\n",
       "</style>\n",
       "<table border=\"1\" class=\"dataframe\">\n",
       "  <thead>\n",
       "    <tr style=\"text-align: right;\">\n",
       "      <th></th>\n",
       "      <th>id</th>\n",
       "      <th>mb_used</th>\n",
       "      <th>session_date</th>\n",
       "      <th>user_id</th>\n",
       "      <th>month</th>\n",
       "    </tr>\n",
       "  </thead>\n",
       "  <tbody>\n",
       "    <tr>\n",
       "      <td>0</td>\n",
       "      <td>1000_0</td>\n",
       "      <td>112.95</td>\n",
       "      <td>2018-11-25</td>\n",
       "      <td>1000</td>\n",
       "      <td>11</td>\n",
       "    </tr>\n",
       "    <tr>\n",
       "      <td>1</td>\n",
       "      <td>1000_1</td>\n",
       "      <td>1052.81</td>\n",
       "      <td>2018-09-07</td>\n",
       "      <td>1000</td>\n",
       "      <td>9</td>\n",
       "    </tr>\n",
       "    <tr>\n",
       "      <td>2</td>\n",
       "      <td>1000_2</td>\n",
       "      <td>1197.26</td>\n",
       "      <td>2018-06-25</td>\n",
       "      <td>1000</td>\n",
       "      <td>6</td>\n",
       "    </tr>\n",
       "    <tr>\n",
       "      <td>3</td>\n",
       "      <td>1000_3</td>\n",
       "      <td>550.27</td>\n",
       "      <td>2018-08-22</td>\n",
       "      <td>1000</td>\n",
       "      <td>8</td>\n",
       "    </tr>\n",
       "    <tr>\n",
       "      <td>4</td>\n",
       "      <td>1000_4</td>\n",
       "      <td>302.56</td>\n",
       "      <td>2018-09-24</td>\n",
       "      <td>1000</td>\n",
       "      <td>9</td>\n",
       "    </tr>\n",
       "    <tr>\n",
       "      <td>...</td>\n",
       "      <td>...</td>\n",
       "      <td>...</td>\n",
       "      <td>...</td>\n",
       "      <td>...</td>\n",
       "      <td>...</td>\n",
       "    </tr>\n",
       "    <tr>\n",
       "      <td>149391</td>\n",
       "      <td>1499_152</td>\n",
       "      <td>318.90</td>\n",
       "      <td>2018-10-03</td>\n",
       "      <td>1499</td>\n",
       "      <td>10</td>\n",
       "    </tr>\n",
       "    <tr>\n",
       "      <td>149392</td>\n",
       "      <td>1499_153</td>\n",
       "      <td>490.13</td>\n",
       "      <td>2018-12-14</td>\n",
       "      <td>1499</td>\n",
       "      <td>12</td>\n",
       "    </tr>\n",
       "    <tr>\n",
       "      <td>149393</td>\n",
       "      <td>1499_154</td>\n",
       "      <td>0.00</td>\n",
       "      <td>2018-10-27</td>\n",
       "      <td>1499</td>\n",
       "      <td>10</td>\n",
       "    </tr>\n",
       "    <tr>\n",
       "      <td>149394</td>\n",
       "      <td>1499_155</td>\n",
       "      <td>1246.32</td>\n",
       "      <td>2018-11-26</td>\n",
       "      <td>1499</td>\n",
       "      <td>11</td>\n",
       "    </tr>\n",
       "    <tr>\n",
       "      <td>149395</td>\n",
       "      <td>1499_156</td>\n",
       "      <td>544.37</td>\n",
       "      <td>2018-10-26</td>\n",
       "      <td>1499</td>\n",
       "      <td>10</td>\n",
       "    </tr>\n",
       "  </tbody>\n",
       "</table>\n",
       "<p>149396 rows × 5 columns</p>\n",
       "</div>"
      ],
      "text/plain": [
       "              id  mb_used session_date  user_id  month\n",
       "0         1000_0   112.95   2018-11-25     1000     11\n",
       "1         1000_1  1052.81   2018-09-07     1000      9\n",
       "2         1000_2  1197.26   2018-06-25     1000      6\n",
       "3         1000_3   550.27   2018-08-22     1000      8\n",
       "4         1000_4   302.56   2018-09-24     1000      9\n",
       "...          ...      ...          ...      ...    ...\n",
       "149391  1499_152   318.90   2018-10-03     1499     10\n",
       "149392  1499_153   490.13   2018-12-14     1499     12\n",
       "149393  1499_154     0.00   2018-10-27     1499     10\n",
       "149394  1499_155  1246.32   2018-11-26     1499     11\n",
       "149395  1499_156   544.37   2018-10-26     1499     10\n",
       "\n",
       "[149396 rows x 5 columns]"
      ]
     },
     "execution_count": 34,
     "metadata": {},
     "output_type": "execute_result"
    }
   ],
   "source": [
    "internet['month'] = internet['session_date'].dt.month\n",
    "internet"
   ]
  },
  {
   "cell_type": "code",
   "execution_count": 35,
   "metadata": {},
   "outputs": [
    {
     "data": {
      "text/html": [
       "<div>\n",
       "<style scoped>\n",
       "    .dataframe tbody tr th:only-of-type {\n",
       "        vertical-align: middle;\n",
       "    }\n",
       "\n",
       "    .dataframe tbody tr th {\n",
       "        vertical-align: top;\n",
       "    }\n",
       "\n",
       "    .dataframe thead th {\n",
       "        text-align: right;\n",
       "    }\n",
       "</style>\n",
       "<table border=\"1\" class=\"dataframe\">\n",
       "  <thead>\n",
       "    <tr style=\"text-align: right;\">\n",
       "      <th></th>\n",
       "      <th>user_id</th>\n",
       "      <th>month</th>\n",
       "      <th>mb_used</th>\n",
       "      <th>gb_used</th>\n",
       "    </tr>\n",
       "  </thead>\n",
       "  <tbody>\n",
       "    <tr>\n",
       "      <td>0</td>\n",
       "      <td>1000</td>\n",
       "      <td>5</td>\n",
       "      <td>2253.49</td>\n",
       "      <td>2.20</td>\n",
       "    </tr>\n",
       "    <tr>\n",
       "      <td>1</td>\n",
       "      <td>1000</td>\n",
       "      <td>6</td>\n",
       "      <td>23233.77</td>\n",
       "      <td>22.69</td>\n",
       "    </tr>\n",
       "    <tr>\n",
       "      <td>2</td>\n",
       "      <td>1000</td>\n",
       "      <td>7</td>\n",
       "      <td>14003.64</td>\n",
       "      <td>13.68</td>\n",
       "    </tr>\n",
       "    <tr>\n",
       "      <td>3</td>\n",
       "      <td>1000</td>\n",
       "      <td>8</td>\n",
       "      <td>14055.93</td>\n",
       "      <td>13.73</td>\n",
       "    </tr>\n",
       "    <tr>\n",
       "      <td>4</td>\n",
       "      <td>1000</td>\n",
       "      <td>9</td>\n",
       "      <td>14568.91</td>\n",
       "      <td>14.23</td>\n",
       "    </tr>\n",
       "    <tr>\n",
       "      <td>...</td>\n",
       "      <td>...</td>\n",
       "      <td>...</td>\n",
       "      <td>...</td>\n",
       "      <td>...</td>\n",
       "    </tr>\n",
       "    <tr>\n",
       "      <td>3198</td>\n",
       "      <td>1498</td>\n",
       "      <td>10</td>\n",
       "      <td>20579.36</td>\n",
       "      <td>20.10</td>\n",
       "    </tr>\n",
       "    <tr>\n",
       "      <td>3199</td>\n",
       "      <td>1499</td>\n",
       "      <td>9</td>\n",
       "      <td>1845.75</td>\n",
       "      <td>1.80</td>\n",
       "    </tr>\n",
       "    <tr>\n",
       "      <td>3200</td>\n",
       "      <td>1499</td>\n",
       "      <td>10</td>\n",
       "      <td>17788.51</td>\n",
       "      <td>17.37</td>\n",
       "    </tr>\n",
       "    <tr>\n",
       "      <td>3201</td>\n",
       "      <td>1499</td>\n",
       "      <td>11</td>\n",
       "      <td>17963.31</td>\n",
       "      <td>17.54</td>\n",
       "    </tr>\n",
       "    <tr>\n",
       "      <td>3202</td>\n",
       "      <td>1499</td>\n",
       "      <td>12</td>\n",
       "      <td>13055.58</td>\n",
       "      <td>12.75</td>\n",
       "    </tr>\n",
       "  </tbody>\n",
       "</table>\n",
       "<p>3203 rows × 4 columns</p>\n",
       "</div>"
      ],
      "text/plain": [
       "      user_id  month   mb_used  gb_used\n",
       "0        1000      5   2253.49     2.20\n",
       "1        1000      6  23233.77    22.69\n",
       "2        1000      7  14003.64    13.68\n",
       "3        1000      8  14055.93    13.73\n",
       "4        1000      9  14568.91    14.23\n",
       "...       ...    ...       ...      ...\n",
       "3198     1498     10  20579.36    20.10\n",
       "3199     1499      9   1845.75     1.80\n",
       "3200     1499     10  17788.51    17.37\n",
       "3201     1499     11  17963.31    17.54\n",
       "3202     1499     12  13055.58    12.75\n",
       "\n",
       "[3203 rows x 4 columns]"
      ]
     },
     "execution_count": 35,
     "metadata": {},
     "output_type": "execute_result"
    }
   ],
   "source": [
    "internet_group = internet.groupby(['user_id', 'month'],as_index=False).agg({'mb_used':'sum'})\n",
    "internet_group['gb_used'] = round(internet_group['mb_used'] / 1024, 2)\n",
    "internet_group"
   ]
  },
  {
   "cell_type": "markdown",
   "metadata": {},
   "source": [
    "Добавление в каждую таблицу столбец с тарифом"
   ]
  },
  {
   "cell_type": "code",
   "execution_count": 36,
   "metadata": {},
   "outputs": [],
   "source": [
    "messages_group['tarif'] = messages_group['user_id'].apply(tariff, args=(sheet,))\n",
    "internet_group['tarif'] = internet_group['user_id'].apply(tariff, args=(sheet,))"
   ]
  },
  {
   "cell_type": "markdown",
   "metadata": {},
   "source": [
    "Добавление в сгруппированные таблицы оплаченного числа минут, сообщений и гб интернета"
   ]
  },
  {
   "cell_type": "code",
   "execution_count": 37,
   "metadata": {},
   "outputs": [],
   "source": [
    "def minutes(tarif):\n",
    "    if tarif == 'smart':\n",
    "        return 500\n",
    "    else:\n",
    "        return 3000"
   ]
  },
  {
   "cell_type": "code",
   "execution_count": 38,
   "metadata": {},
   "outputs": [
    {
     "data": {
      "text/html": [
       "<div>\n",
       "<style scoped>\n",
       "    .dataframe tbody tr th:only-of-type {\n",
       "        vertical-align: middle;\n",
       "    }\n",
       "\n",
       "    .dataframe tbody tr th {\n",
       "        vertical-align: top;\n",
       "    }\n",
       "\n",
       "    .dataframe thead tr th {\n",
       "        text-align: left;\n",
       "    }\n",
       "</style>\n",
       "<table border=\"1\" class=\"dataframe\">\n",
       "  <thead>\n",
       "    <tr>\n",
       "      <th></th>\n",
       "      <th>user_id</th>\n",
       "      <th>month</th>\n",
       "      <th colspan=\"2\" halign=\"left\">duration</th>\n",
       "      <th>tarif</th>\n",
       "    </tr>\n",
       "    <tr>\n",
       "      <th></th>\n",
       "      <th></th>\n",
       "      <th></th>\n",
       "      <th>count</th>\n",
       "      <th>sum</th>\n",
       "      <th></th>\n",
       "    </tr>\n",
       "  </thead>\n",
       "  <tbody>\n",
       "    <tr>\n",
       "      <td>0</td>\n",
       "      <td>1000</td>\n",
       "      <td>5</td>\n",
       "      <td>22</td>\n",
       "      <td>150.06</td>\n",
       "      <td>ultra</td>\n",
       "    </tr>\n",
       "    <tr>\n",
       "      <td>1</td>\n",
       "      <td>1000</td>\n",
       "      <td>6</td>\n",
       "      <td>43</td>\n",
       "      <td>158.90</td>\n",
       "      <td>ultra</td>\n",
       "    </tr>\n",
       "    <tr>\n",
       "      <td>2</td>\n",
       "      <td>1000</td>\n",
       "      <td>7</td>\n",
       "      <td>47</td>\n",
       "      <td>318.80</td>\n",
       "      <td>ultra</td>\n",
       "    </tr>\n",
       "    <tr>\n",
       "      <td>3</td>\n",
       "      <td>1000</td>\n",
       "      <td>8</td>\n",
       "      <td>52</td>\n",
       "      <td>389.87</td>\n",
       "      <td>ultra</td>\n",
       "    </tr>\n",
       "    <tr>\n",
       "      <td>4</td>\n",
       "      <td>1000</td>\n",
       "      <td>9</td>\n",
       "      <td>58</td>\n",
       "      <td>440.14</td>\n",
       "      <td>ultra</td>\n",
       "    </tr>\n",
       "    <tr>\n",
       "      <td>...</td>\n",
       "      <td>...</td>\n",
       "      <td>...</td>\n",
       "      <td>...</td>\n",
       "      <td>...</td>\n",
       "      <td>...</td>\n",
       "    </tr>\n",
       "    <tr>\n",
       "      <td>3169</td>\n",
       "      <td>1498</td>\n",
       "      <td>10</td>\n",
       "      <td>41</td>\n",
       "      <td>232.63</td>\n",
       "      <td>smart</td>\n",
       "    </tr>\n",
       "    <tr>\n",
       "      <td>3170</td>\n",
       "      <td>1499</td>\n",
       "      <td>9</td>\n",
       "      <td>9</td>\n",
       "      <td>64.65</td>\n",
       "      <td>smart</td>\n",
       "    </tr>\n",
       "    <tr>\n",
       "      <td>3171</td>\n",
       "      <td>1499</td>\n",
       "      <td>10</td>\n",
       "      <td>68</td>\n",
       "      <td>429.91</td>\n",
       "      <td>smart</td>\n",
       "    </tr>\n",
       "    <tr>\n",
       "      <td>3172</td>\n",
       "      <td>1499</td>\n",
       "      <td>11</td>\n",
       "      <td>74</td>\n",
       "      <td>576.50</td>\n",
       "      <td>smart</td>\n",
       "    </tr>\n",
       "    <tr>\n",
       "      <td>3173</td>\n",
       "      <td>1499</td>\n",
       "      <td>12</td>\n",
       "      <td>69</td>\n",
       "      <td>465.16</td>\n",
       "      <td>smart</td>\n",
       "    </tr>\n",
       "  </tbody>\n",
       "</table>\n",
       "<p>3174 rows × 5 columns</p>\n",
       "</div>"
      ],
      "text/plain": [
       "     user_id month duration          tarif\n",
       "                      count     sum       \n",
       "0       1000     5       22  150.06  ultra\n",
       "1       1000     6       43  158.90  ultra\n",
       "2       1000     7       47  318.80  ultra\n",
       "3       1000     8       52  389.87  ultra\n",
       "4       1000     9       58  440.14  ultra\n",
       "...      ...   ...      ...     ...    ...\n",
       "3169    1498    10       41  232.63  smart\n",
       "3170    1499     9        9   64.65  smart\n",
       "3171    1499    10       68  429.91  smart\n",
       "3172    1499    11       74  576.50  smart\n",
       "3173    1499    12       69  465.16  smart\n",
       "\n",
       "[3174 rows x 5 columns]"
      ]
     },
     "execution_count": 38,
     "metadata": {},
     "output_type": "execute_result"
    }
   ],
   "source": [
    "calls_group"
   ]
  },
  {
   "cell_type": "code",
   "execution_count": 39,
   "metadata": {},
   "outputs": [
    {
     "data": {
      "text/html": [
       "<div>\n",
       "<style scoped>\n",
       "    .dataframe tbody tr th:only-of-type {\n",
       "        vertical-align: middle;\n",
       "    }\n",
       "\n",
       "    .dataframe tbody tr th {\n",
       "        vertical-align: top;\n",
       "    }\n",
       "\n",
       "    .dataframe thead tr th {\n",
       "        text-align: left;\n",
       "    }\n",
       "</style>\n",
       "<table border=\"1\" class=\"dataframe\">\n",
       "  <thead>\n",
       "    <tr>\n",
       "      <th></th>\n",
       "      <th>user_id</th>\n",
       "      <th>month</th>\n",
       "      <th colspan=\"2\" halign=\"left\">duration</th>\n",
       "      <th>tarif</th>\n",
       "      <th>paid_minutes</th>\n",
       "    </tr>\n",
       "    <tr>\n",
       "      <th></th>\n",
       "      <th></th>\n",
       "      <th></th>\n",
       "      <th>count</th>\n",
       "      <th>sum</th>\n",
       "      <th></th>\n",
       "      <th></th>\n",
       "    </tr>\n",
       "  </thead>\n",
       "  <tbody>\n",
       "    <tr>\n",
       "      <td>0</td>\n",
       "      <td>1000</td>\n",
       "      <td>5</td>\n",
       "      <td>22</td>\n",
       "      <td>150.06</td>\n",
       "      <td>ultra</td>\n",
       "      <td>3000</td>\n",
       "    </tr>\n",
       "    <tr>\n",
       "      <td>1</td>\n",
       "      <td>1000</td>\n",
       "      <td>6</td>\n",
       "      <td>43</td>\n",
       "      <td>158.90</td>\n",
       "      <td>ultra</td>\n",
       "      <td>3000</td>\n",
       "    </tr>\n",
       "    <tr>\n",
       "      <td>2</td>\n",
       "      <td>1000</td>\n",
       "      <td>7</td>\n",
       "      <td>47</td>\n",
       "      <td>318.80</td>\n",
       "      <td>ultra</td>\n",
       "      <td>3000</td>\n",
       "    </tr>\n",
       "    <tr>\n",
       "      <td>3</td>\n",
       "      <td>1000</td>\n",
       "      <td>8</td>\n",
       "      <td>52</td>\n",
       "      <td>389.87</td>\n",
       "      <td>ultra</td>\n",
       "      <td>3000</td>\n",
       "    </tr>\n",
       "    <tr>\n",
       "      <td>4</td>\n",
       "      <td>1000</td>\n",
       "      <td>9</td>\n",
       "      <td>58</td>\n",
       "      <td>440.14</td>\n",
       "      <td>ultra</td>\n",
       "      <td>3000</td>\n",
       "    </tr>\n",
       "    <tr>\n",
       "      <td>...</td>\n",
       "      <td>...</td>\n",
       "      <td>...</td>\n",
       "      <td>...</td>\n",
       "      <td>...</td>\n",
       "      <td>...</td>\n",
       "      <td>...</td>\n",
       "    </tr>\n",
       "    <tr>\n",
       "      <td>3169</td>\n",
       "      <td>1498</td>\n",
       "      <td>10</td>\n",
       "      <td>41</td>\n",
       "      <td>232.63</td>\n",
       "      <td>smart</td>\n",
       "      <td>500</td>\n",
       "    </tr>\n",
       "    <tr>\n",
       "      <td>3170</td>\n",
       "      <td>1499</td>\n",
       "      <td>9</td>\n",
       "      <td>9</td>\n",
       "      <td>64.65</td>\n",
       "      <td>smart</td>\n",
       "      <td>500</td>\n",
       "    </tr>\n",
       "    <tr>\n",
       "      <td>3171</td>\n",
       "      <td>1499</td>\n",
       "      <td>10</td>\n",
       "      <td>68</td>\n",
       "      <td>429.91</td>\n",
       "      <td>smart</td>\n",
       "      <td>500</td>\n",
       "    </tr>\n",
       "    <tr>\n",
       "      <td>3172</td>\n",
       "      <td>1499</td>\n",
       "      <td>11</td>\n",
       "      <td>74</td>\n",
       "      <td>576.50</td>\n",
       "      <td>smart</td>\n",
       "      <td>500</td>\n",
       "    </tr>\n",
       "    <tr>\n",
       "      <td>3173</td>\n",
       "      <td>1499</td>\n",
       "      <td>12</td>\n",
       "      <td>69</td>\n",
       "      <td>465.16</td>\n",
       "      <td>smart</td>\n",
       "      <td>500</td>\n",
       "    </tr>\n",
       "  </tbody>\n",
       "</table>\n",
       "<p>3174 rows × 6 columns</p>\n",
       "</div>"
      ],
      "text/plain": [
       "     user_id month duration          tarif paid_minutes\n",
       "                      count     sum                    \n",
       "0       1000     5       22  150.06  ultra         3000\n",
       "1       1000     6       43  158.90  ultra         3000\n",
       "2       1000     7       47  318.80  ultra         3000\n",
       "3       1000     8       52  389.87  ultra         3000\n",
       "4       1000     9       58  440.14  ultra         3000\n",
       "...      ...   ...      ...     ...    ...          ...\n",
       "3169    1498    10       41  232.63  smart          500\n",
       "3170    1499     9        9   64.65  smart          500\n",
       "3171    1499    10       68  429.91  smart          500\n",
       "3172    1499    11       74  576.50  smart          500\n",
       "3173    1499    12       69  465.16  smart          500\n",
       "\n",
       "[3174 rows x 6 columns]"
      ]
     },
     "execution_count": 39,
     "metadata": {},
     "output_type": "execute_result"
    }
   ],
   "source": [
    "calls_group['paid_minutes'] = calls_group['tarif'].apply(minutes)\n",
    "calls_group"
   ]
  },
  {
   "cell_type": "markdown",
   "metadata": {},
   "source": [
    "Необходимо округлить вверх сумму всех минут, проговоренных пользователем за месяц, таковы правила компании"
   ]
  },
  {
   "cell_type": "code",
   "execution_count": 40,
   "metadata": {},
   "outputs": [],
   "source": [
    "def high_round(value):\n",
    "    new_value = int(value) + 1\n",
    "    return new_value"
   ]
  },
  {
   "cell_type": "code",
   "execution_count": 41,
   "metadata": {},
   "outputs": [
    {
     "data": {
      "text/html": [
       "<div>\n",
       "<style scoped>\n",
       "    .dataframe tbody tr th:only-of-type {\n",
       "        vertical-align: middle;\n",
       "    }\n",
       "\n",
       "    .dataframe tbody tr th {\n",
       "        vertical-align: top;\n",
       "    }\n",
       "\n",
       "    .dataframe thead tr th {\n",
       "        text-align: left;\n",
       "    }\n",
       "</style>\n",
       "<table border=\"1\" class=\"dataframe\">\n",
       "  <thead>\n",
       "    <tr>\n",
       "      <th></th>\n",
       "      <th>user_id</th>\n",
       "      <th>month</th>\n",
       "      <th colspan=\"2\" halign=\"left\">duration</th>\n",
       "      <th>tarif</th>\n",
       "      <th>paid_minutes</th>\n",
       "      <th>minutes_for_company</th>\n",
       "    </tr>\n",
       "    <tr>\n",
       "      <th></th>\n",
       "      <th></th>\n",
       "      <th></th>\n",
       "      <th>count</th>\n",
       "      <th>sum</th>\n",
       "      <th></th>\n",
       "      <th></th>\n",
       "      <th></th>\n",
       "    </tr>\n",
       "  </thead>\n",
       "  <tbody>\n",
       "    <tr>\n",
       "      <td>0</td>\n",
       "      <td>1000</td>\n",
       "      <td>5</td>\n",
       "      <td>22</td>\n",
       "      <td>150.06</td>\n",
       "      <td>ultra</td>\n",
       "      <td>3000</td>\n",
       "      <td>151.0</td>\n",
       "    </tr>\n",
       "    <tr>\n",
       "      <td>1</td>\n",
       "      <td>1000</td>\n",
       "      <td>6</td>\n",
       "      <td>43</td>\n",
       "      <td>158.90</td>\n",
       "      <td>ultra</td>\n",
       "      <td>3000</td>\n",
       "      <td>159.0</td>\n",
       "    </tr>\n",
       "    <tr>\n",
       "      <td>2</td>\n",
       "      <td>1000</td>\n",
       "      <td>7</td>\n",
       "      <td>47</td>\n",
       "      <td>318.80</td>\n",
       "      <td>ultra</td>\n",
       "      <td>3000</td>\n",
       "      <td>319.0</td>\n",
       "    </tr>\n",
       "    <tr>\n",
       "      <td>3</td>\n",
       "      <td>1000</td>\n",
       "      <td>8</td>\n",
       "      <td>52</td>\n",
       "      <td>389.87</td>\n",
       "      <td>ultra</td>\n",
       "      <td>3000</td>\n",
       "      <td>390.0</td>\n",
       "    </tr>\n",
       "    <tr>\n",
       "      <td>4</td>\n",
       "      <td>1000</td>\n",
       "      <td>9</td>\n",
       "      <td>58</td>\n",
       "      <td>440.14</td>\n",
       "      <td>ultra</td>\n",
       "      <td>3000</td>\n",
       "      <td>441.0</td>\n",
       "    </tr>\n",
       "    <tr>\n",
       "      <td>...</td>\n",
       "      <td>...</td>\n",
       "      <td>...</td>\n",
       "      <td>...</td>\n",
       "      <td>...</td>\n",
       "      <td>...</td>\n",
       "      <td>...</td>\n",
       "      <td>...</td>\n",
       "    </tr>\n",
       "    <tr>\n",
       "      <td>3169</td>\n",
       "      <td>1498</td>\n",
       "      <td>10</td>\n",
       "      <td>41</td>\n",
       "      <td>232.63</td>\n",
       "      <td>smart</td>\n",
       "      <td>500</td>\n",
       "      <td>233.0</td>\n",
       "    </tr>\n",
       "    <tr>\n",
       "      <td>3170</td>\n",
       "      <td>1499</td>\n",
       "      <td>9</td>\n",
       "      <td>9</td>\n",
       "      <td>64.65</td>\n",
       "      <td>smart</td>\n",
       "      <td>500</td>\n",
       "      <td>65.0</td>\n",
       "    </tr>\n",
       "    <tr>\n",
       "      <td>3171</td>\n",
       "      <td>1499</td>\n",
       "      <td>10</td>\n",
       "      <td>68</td>\n",
       "      <td>429.91</td>\n",
       "      <td>smart</td>\n",
       "      <td>500</td>\n",
       "      <td>430.0</td>\n",
       "    </tr>\n",
       "    <tr>\n",
       "      <td>3172</td>\n",
       "      <td>1499</td>\n",
       "      <td>11</td>\n",
       "      <td>74</td>\n",
       "      <td>576.50</td>\n",
       "      <td>smart</td>\n",
       "      <td>500</td>\n",
       "      <td>577.0</td>\n",
       "    </tr>\n",
       "    <tr>\n",
       "      <td>3173</td>\n",
       "      <td>1499</td>\n",
       "      <td>12</td>\n",
       "      <td>69</td>\n",
       "      <td>465.16</td>\n",
       "      <td>smart</td>\n",
       "      <td>500</td>\n",
       "      <td>466.0</td>\n",
       "    </tr>\n",
       "  </tbody>\n",
       "</table>\n",
       "<p>3174 rows × 7 columns</p>\n",
       "</div>"
      ],
      "text/plain": [
       "     user_id month duration          tarif paid_minutes minutes_for_company\n",
       "                      count     sum                                        \n",
       "0       1000     5       22  150.06  ultra         3000               151.0\n",
       "1       1000     6       43  158.90  ultra         3000               159.0\n",
       "2       1000     7       47  318.80  ultra         3000               319.0\n",
       "3       1000     8       52  389.87  ultra         3000               390.0\n",
       "4       1000     9       58  440.14  ultra         3000               441.0\n",
       "...      ...   ...      ...     ...    ...          ...                 ...\n",
       "3169    1498    10       41  232.63  smart          500               233.0\n",
       "3170    1499     9        9   64.65  smart          500                65.0\n",
       "3171    1499    10       68  429.91  smart          500               430.0\n",
       "3172    1499    11       74  576.50  smart          500               577.0\n",
       "3173    1499    12       69  465.16  smart          500               466.0\n",
       "\n",
       "[3174 rows x 7 columns]"
      ]
     },
     "execution_count": 41,
     "metadata": {},
     "output_type": "execute_result"
    }
   ],
   "source": [
    "calls_group['minutes_for_company'] = calls_group['duration'].loc[:,'sum'].apply(np.ceil)\n",
    "calls_group"
   ]
  },
  {
   "cell_type": "code",
   "execution_count": 42,
   "metadata": {},
   "outputs": [
    {
     "data": {
      "text/html": [
       "<div>\n",
       "<style scoped>\n",
       "    .dataframe tbody tr th:only-of-type {\n",
       "        vertical-align: middle;\n",
       "    }\n",
       "\n",
       "    .dataframe tbody tr th {\n",
       "        vertical-align: top;\n",
       "    }\n",
       "\n",
       "    .dataframe thead tr th {\n",
       "        text-align: left;\n",
       "    }\n",
       "</style>\n",
       "<table border=\"1\" class=\"dataframe\">\n",
       "  <thead>\n",
       "    <tr>\n",
       "      <th></th>\n",
       "      <th>user_id</th>\n",
       "      <th>month</th>\n",
       "      <th colspan=\"2\" halign=\"left\">duration</th>\n",
       "      <th>tarif</th>\n",
       "      <th>paid_minutes</th>\n",
       "      <th>minutes_for_company</th>\n",
       "      <th>minutes_over_tariff</th>\n",
       "    </tr>\n",
       "    <tr>\n",
       "      <th></th>\n",
       "      <th></th>\n",
       "      <th></th>\n",
       "      <th>count</th>\n",
       "      <th>sum</th>\n",
       "      <th></th>\n",
       "      <th></th>\n",
       "      <th></th>\n",
       "      <th></th>\n",
       "    </tr>\n",
       "  </thead>\n",
       "  <tbody>\n",
       "    <tr>\n",
       "      <td>0</td>\n",
       "      <td>1000</td>\n",
       "      <td>5</td>\n",
       "      <td>22</td>\n",
       "      <td>150.06</td>\n",
       "      <td>ultra</td>\n",
       "      <td>3000</td>\n",
       "      <td>151.0</td>\n",
       "      <td>-2849.0</td>\n",
       "    </tr>\n",
       "    <tr>\n",
       "      <td>1</td>\n",
       "      <td>1000</td>\n",
       "      <td>6</td>\n",
       "      <td>43</td>\n",
       "      <td>158.90</td>\n",
       "      <td>ultra</td>\n",
       "      <td>3000</td>\n",
       "      <td>159.0</td>\n",
       "      <td>-2841.0</td>\n",
       "    </tr>\n",
       "    <tr>\n",
       "      <td>2</td>\n",
       "      <td>1000</td>\n",
       "      <td>7</td>\n",
       "      <td>47</td>\n",
       "      <td>318.80</td>\n",
       "      <td>ultra</td>\n",
       "      <td>3000</td>\n",
       "      <td>319.0</td>\n",
       "      <td>-2681.0</td>\n",
       "    </tr>\n",
       "    <tr>\n",
       "      <td>3</td>\n",
       "      <td>1000</td>\n",
       "      <td>8</td>\n",
       "      <td>52</td>\n",
       "      <td>389.87</td>\n",
       "      <td>ultra</td>\n",
       "      <td>3000</td>\n",
       "      <td>390.0</td>\n",
       "      <td>-2610.0</td>\n",
       "    </tr>\n",
       "    <tr>\n",
       "      <td>4</td>\n",
       "      <td>1000</td>\n",
       "      <td>9</td>\n",
       "      <td>58</td>\n",
       "      <td>440.14</td>\n",
       "      <td>ultra</td>\n",
       "      <td>3000</td>\n",
       "      <td>441.0</td>\n",
       "      <td>-2559.0</td>\n",
       "    </tr>\n",
       "    <tr>\n",
       "      <td>...</td>\n",
       "      <td>...</td>\n",
       "      <td>...</td>\n",
       "      <td>...</td>\n",
       "      <td>...</td>\n",
       "      <td>...</td>\n",
       "      <td>...</td>\n",
       "      <td>...</td>\n",
       "      <td>...</td>\n",
       "    </tr>\n",
       "    <tr>\n",
       "      <td>3169</td>\n",
       "      <td>1498</td>\n",
       "      <td>10</td>\n",
       "      <td>41</td>\n",
       "      <td>232.63</td>\n",
       "      <td>smart</td>\n",
       "      <td>500</td>\n",
       "      <td>233.0</td>\n",
       "      <td>-267.0</td>\n",
       "    </tr>\n",
       "    <tr>\n",
       "      <td>3170</td>\n",
       "      <td>1499</td>\n",
       "      <td>9</td>\n",
       "      <td>9</td>\n",
       "      <td>64.65</td>\n",
       "      <td>smart</td>\n",
       "      <td>500</td>\n",
       "      <td>65.0</td>\n",
       "      <td>-435.0</td>\n",
       "    </tr>\n",
       "    <tr>\n",
       "      <td>3171</td>\n",
       "      <td>1499</td>\n",
       "      <td>10</td>\n",
       "      <td>68</td>\n",
       "      <td>429.91</td>\n",
       "      <td>smart</td>\n",
       "      <td>500</td>\n",
       "      <td>430.0</td>\n",
       "      <td>-70.0</td>\n",
       "    </tr>\n",
       "    <tr>\n",
       "      <td>3172</td>\n",
       "      <td>1499</td>\n",
       "      <td>11</td>\n",
       "      <td>74</td>\n",
       "      <td>576.50</td>\n",
       "      <td>smart</td>\n",
       "      <td>500</td>\n",
       "      <td>577.0</td>\n",
       "      <td>77.0</td>\n",
       "    </tr>\n",
       "    <tr>\n",
       "      <td>3173</td>\n",
       "      <td>1499</td>\n",
       "      <td>12</td>\n",
       "      <td>69</td>\n",
       "      <td>465.16</td>\n",
       "      <td>smart</td>\n",
       "      <td>500</td>\n",
       "      <td>466.0</td>\n",
       "      <td>-34.0</td>\n",
       "    </tr>\n",
       "  </tbody>\n",
       "</table>\n",
       "<p>3174 rows × 8 columns</p>\n",
       "</div>"
      ],
      "text/plain": [
       "     user_id month duration          tarif paid_minutes minutes_for_company  \\\n",
       "                      count     sum                                           \n",
       "0       1000     5       22  150.06  ultra         3000               151.0   \n",
       "1       1000     6       43  158.90  ultra         3000               159.0   \n",
       "2       1000     7       47  318.80  ultra         3000               319.0   \n",
       "3       1000     8       52  389.87  ultra         3000               390.0   \n",
       "4       1000     9       58  440.14  ultra         3000               441.0   \n",
       "...      ...   ...      ...     ...    ...          ...                 ...   \n",
       "3169    1498    10       41  232.63  smart          500               233.0   \n",
       "3170    1499     9        9   64.65  smart          500                65.0   \n",
       "3171    1499    10       68  429.91  smart          500               430.0   \n",
       "3172    1499    11       74  576.50  smart          500               577.0   \n",
       "3173    1499    12       69  465.16  smart          500               466.0   \n",
       "\n",
       "     minutes_over_tariff  \n",
       "                          \n",
       "0                -2849.0  \n",
       "1                -2841.0  \n",
       "2                -2681.0  \n",
       "3                -2610.0  \n",
       "4                -2559.0  \n",
       "...                  ...  \n",
       "3169              -267.0  \n",
       "3170              -435.0  \n",
       "3171               -70.0  \n",
       "3172                77.0  \n",
       "3173               -34.0  \n",
       "\n",
       "[3174 rows x 8 columns]"
      ]
     },
     "execution_count": 42,
     "metadata": {},
     "output_type": "execute_result"
    }
   ],
   "source": [
    "calls_group['minutes_over_tariff'] = calls_group['minutes_for_company'] - calls_group['paid_minutes']\n",
    "calls_group"
   ]
  },
  {
   "cell_type": "code",
   "execution_count": 43,
   "metadata": {},
   "outputs": [],
   "source": [
    "def transform(value):\n",
    "    if value > 0:\n",
    "        return value\n",
    "    else:\n",
    "        return 0"
   ]
  },
  {
   "cell_type": "code",
   "execution_count": 44,
   "metadata": {},
   "outputs": [
    {
     "data": {
      "text/html": [
       "<div>\n",
       "<style scoped>\n",
       "    .dataframe tbody tr th:only-of-type {\n",
       "        vertical-align: middle;\n",
       "    }\n",
       "\n",
       "    .dataframe tbody tr th {\n",
       "        vertical-align: top;\n",
       "    }\n",
       "\n",
       "    .dataframe thead tr th {\n",
       "        text-align: left;\n",
       "    }\n",
       "</style>\n",
       "<table border=\"1\" class=\"dataframe\">\n",
       "  <thead>\n",
       "    <tr>\n",
       "      <th></th>\n",
       "      <th>user_id</th>\n",
       "      <th>month</th>\n",
       "      <th colspan=\"2\" halign=\"left\">duration</th>\n",
       "      <th>tarif</th>\n",
       "      <th>paid_minutes</th>\n",
       "      <th>minutes_for_company</th>\n",
       "      <th>minutes_over_tariff</th>\n",
       "    </tr>\n",
       "    <tr>\n",
       "      <th></th>\n",
       "      <th></th>\n",
       "      <th></th>\n",
       "      <th>count</th>\n",
       "      <th>sum</th>\n",
       "      <th></th>\n",
       "      <th></th>\n",
       "      <th></th>\n",
       "      <th></th>\n",
       "    </tr>\n",
       "  </thead>\n",
       "  <tbody>\n",
       "    <tr>\n",
       "      <td>0</td>\n",
       "      <td>1000</td>\n",
       "      <td>5</td>\n",
       "      <td>22</td>\n",
       "      <td>150.06</td>\n",
       "      <td>ultra</td>\n",
       "      <td>3000</td>\n",
       "      <td>151.0</td>\n",
       "      <td>0.0</td>\n",
       "    </tr>\n",
       "    <tr>\n",
       "      <td>1</td>\n",
       "      <td>1000</td>\n",
       "      <td>6</td>\n",
       "      <td>43</td>\n",
       "      <td>158.90</td>\n",
       "      <td>ultra</td>\n",
       "      <td>3000</td>\n",
       "      <td>159.0</td>\n",
       "      <td>0.0</td>\n",
       "    </tr>\n",
       "    <tr>\n",
       "      <td>2</td>\n",
       "      <td>1000</td>\n",
       "      <td>7</td>\n",
       "      <td>47</td>\n",
       "      <td>318.80</td>\n",
       "      <td>ultra</td>\n",
       "      <td>3000</td>\n",
       "      <td>319.0</td>\n",
       "      <td>0.0</td>\n",
       "    </tr>\n",
       "    <tr>\n",
       "      <td>3</td>\n",
       "      <td>1000</td>\n",
       "      <td>8</td>\n",
       "      <td>52</td>\n",
       "      <td>389.87</td>\n",
       "      <td>ultra</td>\n",
       "      <td>3000</td>\n",
       "      <td>390.0</td>\n",
       "      <td>0.0</td>\n",
       "    </tr>\n",
       "    <tr>\n",
       "      <td>4</td>\n",
       "      <td>1000</td>\n",
       "      <td>9</td>\n",
       "      <td>58</td>\n",
       "      <td>440.14</td>\n",
       "      <td>ultra</td>\n",
       "      <td>3000</td>\n",
       "      <td>441.0</td>\n",
       "      <td>0.0</td>\n",
       "    </tr>\n",
       "    <tr>\n",
       "      <td>...</td>\n",
       "      <td>...</td>\n",
       "      <td>...</td>\n",
       "      <td>...</td>\n",
       "      <td>...</td>\n",
       "      <td>...</td>\n",
       "      <td>...</td>\n",
       "      <td>...</td>\n",
       "      <td>...</td>\n",
       "    </tr>\n",
       "    <tr>\n",
       "      <td>3169</td>\n",
       "      <td>1498</td>\n",
       "      <td>10</td>\n",
       "      <td>41</td>\n",
       "      <td>232.63</td>\n",
       "      <td>smart</td>\n",
       "      <td>500</td>\n",
       "      <td>233.0</td>\n",
       "      <td>0.0</td>\n",
       "    </tr>\n",
       "    <tr>\n",
       "      <td>3170</td>\n",
       "      <td>1499</td>\n",
       "      <td>9</td>\n",
       "      <td>9</td>\n",
       "      <td>64.65</td>\n",
       "      <td>smart</td>\n",
       "      <td>500</td>\n",
       "      <td>65.0</td>\n",
       "      <td>0.0</td>\n",
       "    </tr>\n",
       "    <tr>\n",
       "      <td>3171</td>\n",
       "      <td>1499</td>\n",
       "      <td>10</td>\n",
       "      <td>68</td>\n",
       "      <td>429.91</td>\n",
       "      <td>smart</td>\n",
       "      <td>500</td>\n",
       "      <td>430.0</td>\n",
       "      <td>0.0</td>\n",
       "    </tr>\n",
       "    <tr>\n",
       "      <td>3172</td>\n",
       "      <td>1499</td>\n",
       "      <td>11</td>\n",
       "      <td>74</td>\n",
       "      <td>576.50</td>\n",
       "      <td>smart</td>\n",
       "      <td>500</td>\n",
       "      <td>577.0</td>\n",
       "      <td>77.0</td>\n",
       "    </tr>\n",
       "    <tr>\n",
       "      <td>3173</td>\n",
       "      <td>1499</td>\n",
       "      <td>12</td>\n",
       "      <td>69</td>\n",
       "      <td>465.16</td>\n",
       "      <td>smart</td>\n",
       "      <td>500</td>\n",
       "      <td>466.0</td>\n",
       "      <td>0.0</td>\n",
       "    </tr>\n",
       "  </tbody>\n",
       "</table>\n",
       "<p>3174 rows × 8 columns</p>\n",
       "</div>"
      ],
      "text/plain": [
       "     user_id month duration          tarif paid_minutes minutes_for_company  \\\n",
       "                      count     sum                                           \n",
       "0       1000     5       22  150.06  ultra         3000               151.0   \n",
       "1       1000     6       43  158.90  ultra         3000               159.0   \n",
       "2       1000     7       47  318.80  ultra         3000               319.0   \n",
       "3       1000     8       52  389.87  ultra         3000               390.0   \n",
       "4       1000     9       58  440.14  ultra         3000               441.0   \n",
       "...      ...   ...      ...     ...    ...          ...                 ...   \n",
       "3169    1498    10       41  232.63  smart          500               233.0   \n",
       "3170    1499     9        9   64.65  smart          500                65.0   \n",
       "3171    1499    10       68  429.91  smart          500               430.0   \n",
       "3172    1499    11       74  576.50  smart          500               577.0   \n",
       "3173    1499    12       69  465.16  smart          500               466.0   \n",
       "\n",
       "     minutes_over_tariff  \n",
       "                          \n",
       "0                    0.0  \n",
       "1                    0.0  \n",
       "2                    0.0  \n",
       "3                    0.0  \n",
       "4                    0.0  \n",
       "...                  ...  \n",
       "3169                 0.0  \n",
       "3170                 0.0  \n",
       "3171                 0.0  \n",
       "3172                77.0  \n",
       "3173                 0.0  \n",
       "\n",
       "[3174 rows x 8 columns]"
      ]
     },
     "execution_count": 44,
     "metadata": {},
     "output_type": "execute_result"
    }
   ],
   "source": [
    "calls_group['minutes_over_tariff'] = calls_group['minutes_over_tariff'].apply(transform)\n",
    "calls_group"
   ]
  },
  {
   "cell_type": "code",
   "execution_count": 45,
   "metadata": {},
   "outputs": [],
   "source": [
    "def overprice_calls(tarif):\n",
    "    if tarif == 'smart':\n",
    "        overprice_per_minutes = 3\n",
    "    else:\n",
    "        overprice_per_minutes = 1\n",
    "    return overprice_per_minutes"
   ]
  },
  {
   "cell_type": "code",
   "execution_count": 46,
   "metadata": {},
   "outputs": [
    {
     "data": {
      "text/html": [
       "<div>\n",
       "<style scoped>\n",
       "    .dataframe tbody tr th:only-of-type {\n",
       "        vertical-align: middle;\n",
       "    }\n",
       "\n",
       "    .dataframe tbody tr th {\n",
       "        vertical-align: top;\n",
       "    }\n",
       "\n",
       "    .dataframe thead tr th {\n",
       "        text-align: left;\n",
       "    }\n",
       "</style>\n",
       "<table border=\"1\" class=\"dataframe\">\n",
       "  <thead>\n",
       "    <tr>\n",
       "      <th></th>\n",
       "      <th>user_id</th>\n",
       "      <th>month</th>\n",
       "      <th colspan=\"2\" halign=\"left\">duration</th>\n",
       "      <th>tarif</th>\n",
       "      <th>paid_minutes</th>\n",
       "      <th>minutes_for_company</th>\n",
       "      <th>minutes_over_tariff</th>\n",
       "      <th>overprice_per_minutes</th>\n",
       "      <th>final_overprice_for_calls</th>\n",
       "    </tr>\n",
       "    <tr>\n",
       "      <th></th>\n",
       "      <th></th>\n",
       "      <th></th>\n",
       "      <th>count</th>\n",
       "      <th>sum</th>\n",
       "      <th></th>\n",
       "      <th></th>\n",
       "      <th></th>\n",
       "      <th></th>\n",
       "      <th></th>\n",
       "      <th></th>\n",
       "    </tr>\n",
       "  </thead>\n",
       "  <tbody>\n",
       "    <tr>\n",
       "      <td>0</td>\n",
       "      <td>1000</td>\n",
       "      <td>5</td>\n",
       "      <td>22</td>\n",
       "      <td>150.06</td>\n",
       "      <td>ultra</td>\n",
       "      <td>3000</td>\n",
       "      <td>151.0</td>\n",
       "      <td>0.0</td>\n",
       "      <td>1</td>\n",
       "      <td>0.0</td>\n",
       "    </tr>\n",
       "    <tr>\n",
       "      <td>1</td>\n",
       "      <td>1000</td>\n",
       "      <td>6</td>\n",
       "      <td>43</td>\n",
       "      <td>158.90</td>\n",
       "      <td>ultra</td>\n",
       "      <td>3000</td>\n",
       "      <td>159.0</td>\n",
       "      <td>0.0</td>\n",
       "      <td>1</td>\n",
       "      <td>0.0</td>\n",
       "    </tr>\n",
       "    <tr>\n",
       "      <td>2</td>\n",
       "      <td>1000</td>\n",
       "      <td>7</td>\n",
       "      <td>47</td>\n",
       "      <td>318.80</td>\n",
       "      <td>ultra</td>\n",
       "      <td>3000</td>\n",
       "      <td>319.0</td>\n",
       "      <td>0.0</td>\n",
       "      <td>1</td>\n",
       "      <td>0.0</td>\n",
       "    </tr>\n",
       "    <tr>\n",
       "      <td>3</td>\n",
       "      <td>1000</td>\n",
       "      <td>8</td>\n",
       "      <td>52</td>\n",
       "      <td>389.87</td>\n",
       "      <td>ultra</td>\n",
       "      <td>3000</td>\n",
       "      <td>390.0</td>\n",
       "      <td>0.0</td>\n",
       "      <td>1</td>\n",
       "      <td>0.0</td>\n",
       "    </tr>\n",
       "    <tr>\n",
       "      <td>4</td>\n",
       "      <td>1000</td>\n",
       "      <td>9</td>\n",
       "      <td>58</td>\n",
       "      <td>440.14</td>\n",
       "      <td>ultra</td>\n",
       "      <td>3000</td>\n",
       "      <td>441.0</td>\n",
       "      <td>0.0</td>\n",
       "      <td>1</td>\n",
       "      <td>0.0</td>\n",
       "    </tr>\n",
       "    <tr>\n",
       "      <td>...</td>\n",
       "      <td>...</td>\n",
       "      <td>...</td>\n",
       "      <td>...</td>\n",
       "      <td>...</td>\n",
       "      <td>...</td>\n",
       "      <td>...</td>\n",
       "      <td>...</td>\n",
       "      <td>...</td>\n",
       "      <td>...</td>\n",
       "      <td>...</td>\n",
       "    </tr>\n",
       "    <tr>\n",
       "      <td>3169</td>\n",
       "      <td>1498</td>\n",
       "      <td>10</td>\n",
       "      <td>41</td>\n",
       "      <td>232.63</td>\n",
       "      <td>smart</td>\n",
       "      <td>500</td>\n",
       "      <td>233.0</td>\n",
       "      <td>0.0</td>\n",
       "      <td>3</td>\n",
       "      <td>0.0</td>\n",
       "    </tr>\n",
       "    <tr>\n",
       "      <td>3170</td>\n",
       "      <td>1499</td>\n",
       "      <td>9</td>\n",
       "      <td>9</td>\n",
       "      <td>64.65</td>\n",
       "      <td>smart</td>\n",
       "      <td>500</td>\n",
       "      <td>65.0</td>\n",
       "      <td>0.0</td>\n",
       "      <td>3</td>\n",
       "      <td>0.0</td>\n",
       "    </tr>\n",
       "    <tr>\n",
       "      <td>3171</td>\n",
       "      <td>1499</td>\n",
       "      <td>10</td>\n",
       "      <td>68</td>\n",
       "      <td>429.91</td>\n",
       "      <td>smart</td>\n",
       "      <td>500</td>\n",
       "      <td>430.0</td>\n",
       "      <td>0.0</td>\n",
       "      <td>3</td>\n",
       "      <td>0.0</td>\n",
       "    </tr>\n",
       "    <tr>\n",
       "      <td>3172</td>\n",
       "      <td>1499</td>\n",
       "      <td>11</td>\n",
       "      <td>74</td>\n",
       "      <td>576.50</td>\n",
       "      <td>smart</td>\n",
       "      <td>500</td>\n",
       "      <td>577.0</td>\n",
       "      <td>77.0</td>\n",
       "      <td>3</td>\n",
       "      <td>231.0</td>\n",
       "    </tr>\n",
       "    <tr>\n",
       "      <td>3173</td>\n",
       "      <td>1499</td>\n",
       "      <td>12</td>\n",
       "      <td>69</td>\n",
       "      <td>465.16</td>\n",
       "      <td>smart</td>\n",
       "      <td>500</td>\n",
       "      <td>466.0</td>\n",
       "      <td>0.0</td>\n",
       "      <td>3</td>\n",
       "      <td>0.0</td>\n",
       "    </tr>\n",
       "  </tbody>\n",
       "</table>\n",
       "<p>3174 rows × 10 columns</p>\n",
       "</div>"
      ],
      "text/plain": [
       "     user_id month duration          tarif paid_minutes minutes_for_company  \\\n",
       "                      count     sum                                           \n",
       "0       1000     5       22  150.06  ultra         3000               151.0   \n",
       "1       1000     6       43  158.90  ultra         3000               159.0   \n",
       "2       1000     7       47  318.80  ultra         3000               319.0   \n",
       "3       1000     8       52  389.87  ultra         3000               390.0   \n",
       "4       1000     9       58  440.14  ultra         3000               441.0   \n",
       "...      ...   ...      ...     ...    ...          ...                 ...   \n",
       "3169    1498    10       41  232.63  smart          500               233.0   \n",
       "3170    1499     9        9   64.65  smart          500                65.0   \n",
       "3171    1499    10       68  429.91  smart          500               430.0   \n",
       "3172    1499    11       74  576.50  smart          500               577.0   \n",
       "3173    1499    12       69  465.16  smart          500               466.0   \n",
       "\n",
       "     minutes_over_tariff overprice_per_minutes final_overprice_for_calls  \n",
       "                                                                          \n",
       "0                    0.0                     1                       0.0  \n",
       "1                    0.0                     1                       0.0  \n",
       "2                    0.0                     1                       0.0  \n",
       "3                    0.0                     1                       0.0  \n",
       "4                    0.0                     1                       0.0  \n",
       "...                  ...                   ...                       ...  \n",
       "3169                 0.0                     3                       0.0  \n",
       "3170                 0.0                     3                       0.0  \n",
       "3171                 0.0                     3                       0.0  \n",
       "3172                77.0                     3                     231.0  \n",
       "3173                 0.0                     3                       0.0  \n",
       "\n",
       "[3174 rows x 10 columns]"
      ]
     },
     "execution_count": 46,
     "metadata": {},
     "output_type": "execute_result"
    }
   ],
   "source": [
    "calls_group['overprice_per_minutes'] = calls_group['tarif'].apply(overprice_calls)\n",
    "calls_group['final_overprice_for_calls'] = calls_group['minutes_over_tariff'] * calls_group['overprice_per_minutes']\n",
    "calls_group"
   ]
  },
  {
   "cell_type": "code",
   "execution_count": 47,
   "metadata": {},
   "outputs": [
    {
     "data": {
      "text/html": [
       "<div>\n",
       "<style scoped>\n",
       "    .dataframe tbody tr th:only-of-type {\n",
       "        vertical-align: middle;\n",
       "    }\n",
       "\n",
       "    .dataframe tbody tr th {\n",
       "        vertical-align: top;\n",
       "    }\n",
       "\n",
       "    .dataframe thead tr th {\n",
       "        text-align: left;\n",
       "    }\n",
       "</style>\n",
       "<table border=\"1\" class=\"dataframe\">\n",
       "  <thead>\n",
       "    <tr>\n",
       "      <th></th>\n",
       "      <th>user_id</th>\n",
       "      <th>month</th>\n",
       "      <th>minutes_over_tariff</th>\n",
       "      <th>final_overprice_for_calls</th>\n",
       "    </tr>\n",
       "    <tr>\n",
       "      <th></th>\n",
       "      <th></th>\n",
       "      <th></th>\n",
       "      <th></th>\n",
       "      <th></th>\n",
       "    </tr>\n",
       "  </thead>\n",
       "  <tbody>\n",
       "    <tr>\n",
       "      <td>0</td>\n",
       "      <td>1000</td>\n",
       "      <td>5</td>\n",
       "      <td>0.0</td>\n",
       "      <td>0.0</td>\n",
       "    </tr>\n",
       "    <tr>\n",
       "      <td>1</td>\n",
       "      <td>1000</td>\n",
       "      <td>6</td>\n",
       "      <td>0.0</td>\n",
       "      <td>0.0</td>\n",
       "    </tr>\n",
       "    <tr>\n",
       "      <td>2</td>\n",
       "      <td>1000</td>\n",
       "      <td>7</td>\n",
       "      <td>0.0</td>\n",
       "      <td>0.0</td>\n",
       "    </tr>\n",
       "    <tr>\n",
       "      <td>3</td>\n",
       "      <td>1000</td>\n",
       "      <td>8</td>\n",
       "      <td>0.0</td>\n",
       "      <td>0.0</td>\n",
       "    </tr>\n",
       "    <tr>\n",
       "      <td>4</td>\n",
       "      <td>1000</td>\n",
       "      <td>9</td>\n",
       "      <td>0.0</td>\n",
       "      <td>0.0</td>\n",
       "    </tr>\n",
       "    <tr>\n",
       "      <td>...</td>\n",
       "      <td>...</td>\n",
       "      <td>...</td>\n",
       "      <td>...</td>\n",
       "      <td>...</td>\n",
       "    </tr>\n",
       "    <tr>\n",
       "      <td>3169</td>\n",
       "      <td>1498</td>\n",
       "      <td>10</td>\n",
       "      <td>0.0</td>\n",
       "      <td>0.0</td>\n",
       "    </tr>\n",
       "    <tr>\n",
       "      <td>3170</td>\n",
       "      <td>1499</td>\n",
       "      <td>9</td>\n",
       "      <td>0.0</td>\n",
       "      <td>0.0</td>\n",
       "    </tr>\n",
       "    <tr>\n",
       "      <td>3171</td>\n",
       "      <td>1499</td>\n",
       "      <td>10</td>\n",
       "      <td>0.0</td>\n",
       "      <td>0.0</td>\n",
       "    </tr>\n",
       "    <tr>\n",
       "      <td>3172</td>\n",
       "      <td>1499</td>\n",
       "      <td>11</td>\n",
       "      <td>77.0</td>\n",
       "      <td>231.0</td>\n",
       "    </tr>\n",
       "    <tr>\n",
       "      <td>3173</td>\n",
       "      <td>1499</td>\n",
       "      <td>12</td>\n",
       "      <td>0.0</td>\n",
       "      <td>0.0</td>\n",
       "    </tr>\n",
       "  </tbody>\n",
       "</table>\n",
       "<p>3174 rows × 4 columns</p>\n",
       "</div>"
      ],
      "text/plain": [
       "     user_id month minutes_over_tariff final_overprice_for_calls\n",
       "                                                                \n",
       "0       1000     5                 0.0                       0.0\n",
       "1       1000     6                 0.0                       0.0\n",
       "2       1000     7                 0.0                       0.0\n",
       "3       1000     8                 0.0                       0.0\n",
       "4       1000     9                 0.0                       0.0\n",
       "...      ...   ...                 ...                       ...\n",
       "3169    1498    10                 0.0                       0.0\n",
       "3170    1499     9                 0.0                       0.0\n",
       "3171    1499    10                 0.0                       0.0\n",
       "3172    1499    11                77.0                     231.0\n",
       "3173    1499    12                 0.0                       0.0\n",
       "\n",
       "[3174 rows x 4 columns]"
      ]
     },
     "execution_count": 47,
     "metadata": {},
     "output_type": "execute_result"
    }
   ],
   "source": [
    "calls_group_final = calls_group.loc[:, ['user_id', 'month', 'minutes_over_tariff', 'final_overprice_for_calls']]\n",
    "calls_group_final"
   ]
  },
  {
   "cell_type": "markdown",
   "metadata": {},
   "source": [
    "Расчет сообщений и интернета вне тарифа"
   ]
  },
  {
   "cell_type": "code",
   "execution_count": 48,
   "metadata": {},
   "outputs": [
    {
     "data": {
      "text/html": [
       "<div>\n",
       "<style scoped>\n",
       "    .dataframe tbody tr th:only-of-type {\n",
       "        vertical-align: middle;\n",
       "    }\n",
       "\n",
       "    .dataframe tbody tr th {\n",
       "        vertical-align: top;\n",
       "    }\n",
       "\n",
       "    .dataframe thead th {\n",
       "        text-align: right;\n",
       "    }\n",
       "</style>\n",
       "<table border=\"1\" class=\"dataframe\">\n",
       "  <thead>\n",
       "    <tr style=\"text-align: right;\">\n",
       "      <th></th>\n",
       "      <th>user_id</th>\n",
       "      <th>month</th>\n",
       "      <th>messages</th>\n",
       "      <th>tarif</th>\n",
       "    </tr>\n",
       "  </thead>\n",
       "  <tbody>\n",
       "    <tr>\n",
       "      <td>0</td>\n",
       "      <td>1000</td>\n",
       "      <td>5</td>\n",
       "      <td>22</td>\n",
       "      <td>ultra</td>\n",
       "    </tr>\n",
       "    <tr>\n",
       "      <td>1</td>\n",
       "      <td>1000</td>\n",
       "      <td>6</td>\n",
       "      <td>60</td>\n",
       "      <td>ultra</td>\n",
       "    </tr>\n",
       "    <tr>\n",
       "      <td>2</td>\n",
       "      <td>1000</td>\n",
       "      <td>7</td>\n",
       "      <td>75</td>\n",
       "      <td>ultra</td>\n",
       "    </tr>\n",
       "    <tr>\n",
       "      <td>3</td>\n",
       "      <td>1000</td>\n",
       "      <td>8</td>\n",
       "      <td>81</td>\n",
       "      <td>ultra</td>\n",
       "    </tr>\n",
       "    <tr>\n",
       "      <td>4</td>\n",
       "      <td>1000</td>\n",
       "      <td>9</td>\n",
       "      <td>57</td>\n",
       "      <td>ultra</td>\n",
       "    </tr>\n",
       "    <tr>\n",
       "      <td>...</td>\n",
       "      <td>...</td>\n",
       "      <td>...</td>\n",
       "      <td>...</td>\n",
       "      <td>...</td>\n",
       "    </tr>\n",
       "    <tr>\n",
       "      <td>2712</td>\n",
       "      <td>1498</td>\n",
       "      <td>10</td>\n",
       "      <td>42</td>\n",
       "      <td>smart</td>\n",
       "    </tr>\n",
       "    <tr>\n",
       "      <td>2713</td>\n",
       "      <td>1499</td>\n",
       "      <td>9</td>\n",
       "      <td>11</td>\n",
       "      <td>smart</td>\n",
       "    </tr>\n",
       "    <tr>\n",
       "      <td>2714</td>\n",
       "      <td>1499</td>\n",
       "      <td>10</td>\n",
       "      <td>48</td>\n",
       "      <td>smart</td>\n",
       "    </tr>\n",
       "    <tr>\n",
       "      <td>2715</td>\n",
       "      <td>1499</td>\n",
       "      <td>11</td>\n",
       "      <td>59</td>\n",
       "      <td>smart</td>\n",
       "    </tr>\n",
       "    <tr>\n",
       "      <td>2716</td>\n",
       "      <td>1499</td>\n",
       "      <td>12</td>\n",
       "      <td>66</td>\n",
       "      <td>smart</td>\n",
       "    </tr>\n",
       "  </tbody>\n",
       "</table>\n",
       "<p>2717 rows × 4 columns</p>\n",
       "</div>"
      ],
      "text/plain": [
       "      user_id  month  messages  tarif\n",
       "0        1000      5        22  ultra\n",
       "1        1000      6        60  ultra\n",
       "2        1000      7        75  ultra\n",
       "3        1000      8        81  ultra\n",
       "4        1000      9        57  ultra\n",
       "...       ...    ...       ...    ...\n",
       "2712     1498     10        42  smart\n",
       "2713     1499      9        11  smart\n",
       "2714     1499     10        48  smart\n",
       "2715     1499     11        59  smart\n",
       "2716     1499     12        66  smart\n",
       "\n",
       "[2717 rows x 4 columns]"
      ]
     },
     "execution_count": 48,
     "metadata": {},
     "output_type": "execute_result"
    }
   ],
   "source": [
    "messages_group"
   ]
  },
  {
   "cell_type": "code",
   "execution_count": 49,
   "metadata": {},
   "outputs": [],
   "source": [
    "def paid_messages(tarif):\n",
    "    if tarif == 'ultra':\n",
    "        return 1000\n",
    "    else:\n",
    "        return 50"
   ]
  },
  {
   "cell_type": "code",
   "execution_count": 50,
   "metadata": {},
   "outputs": [
    {
     "data": {
      "text/html": [
       "<div>\n",
       "<style scoped>\n",
       "    .dataframe tbody tr th:only-of-type {\n",
       "        vertical-align: middle;\n",
       "    }\n",
       "\n",
       "    .dataframe tbody tr th {\n",
       "        vertical-align: top;\n",
       "    }\n",
       "\n",
       "    .dataframe thead th {\n",
       "        text-align: right;\n",
       "    }\n",
       "</style>\n",
       "<table border=\"1\" class=\"dataframe\">\n",
       "  <thead>\n",
       "    <tr style=\"text-align: right;\">\n",
       "      <th></th>\n",
       "      <th>user_id</th>\n",
       "      <th>month</th>\n",
       "      <th>messages</th>\n",
       "      <th>tarif</th>\n",
       "      <th>paid_messages</th>\n",
       "    </tr>\n",
       "  </thead>\n",
       "  <tbody>\n",
       "    <tr>\n",
       "      <td>0</td>\n",
       "      <td>1000</td>\n",
       "      <td>5</td>\n",
       "      <td>22</td>\n",
       "      <td>ultra</td>\n",
       "      <td>1000</td>\n",
       "    </tr>\n",
       "    <tr>\n",
       "      <td>1</td>\n",
       "      <td>1000</td>\n",
       "      <td>6</td>\n",
       "      <td>60</td>\n",
       "      <td>ultra</td>\n",
       "      <td>1000</td>\n",
       "    </tr>\n",
       "    <tr>\n",
       "      <td>2</td>\n",
       "      <td>1000</td>\n",
       "      <td>7</td>\n",
       "      <td>75</td>\n",
       "      <td>ultra</td>\n",
       "      <td>1000</td>\n",
       "    </tr>\n",
       "    <tr>\n",
       "      <td>3</td>\n",
       "      <td>1000</td>\n",
       "      <td>8</td>\n",
       "      <td>81</td>\n",
       "      <td>ultra</td>\n",
       "      <td>1000</td>\n",
       "    </tr>\n",
       "    <tr>\n",
       "      <td>4</td>\n",
       "      <td>1000</td>\n",
       "      <td>9</td>\n",
       "      <td>57</td>\n",
       "      <td>ultra</td>\n",
       "      <td>1000</td>\n",
       "    </tr>\n",
       "    <tr>\n",
       "      <td>...</td>\n",
       "      <td>...</td>\n",
       "      <td>...</td>\n",
       "      <td>...</td>\n",
       "      <td>...</td>\n",
       "      <td>...</td>\n",
       "    </tr>\n",
       "    <tr>\n",
       "      <td>2712</td>\n",
       "      <td>1498</td>\n",
       "      <td>10</td>\n",
       "      <td>42</td>\n",
       "      <td>smart</td>\n",
       "      <td>50</td>\n",
       "    </tr>\n",
       "    <tr>\n",
       "      <td>2713</td>\n",
       "      <td>1499</td>\n",
       "      <td>9</td>\n",
       "      <td>11</td>\n",
       "      <td>smart</td>\n",
       "      <td>50</td>\n",
       "    </tr>\n",
       "    <tr>\n",
       "      <td>2714</td>\n",
       "      <td>1499</td>\n",
       "      <td>10</td>\n",
       "      <td>48</td>\n",
       "      <td>smart</td>\n",
       "      <td>50</td>\n",
       "    </tr>\n",
       "    <tr>\n",
       "      <td>2715</td>\n",
       "      <td>1499</td>\n",
       "      <td>11</td>\n",
       "      <td>59</td>\n",
       "      <td>smart</td>\n",
       "      <td>50</td>\n",
       "    </tr>\n",
       "    <tr>\n",
       "      <td>2716</td>\n",
       "      <td>1499</td>\n",
       "      <td>12</td>\n",
       "      <td>66</td>\n",
       "      <td>smart</td>\n",
       "      <td>50</td>\n",
       "    </tr>\n",
       "  </tbody>\n",
       "</table>\n",
       "<p>2717 rows × 5 columns</p>\n",
       "</div>"
      ],
      "text/plain": [
       "      user_id  month  messages  tarif  paid_messages\n",
       "0        1000      5        22  ultra           1000\n",
       "1        1000      6        60  ultra           1000\n",
       "2        1000      7        75  ultra           1000\n",
       "3        1000      8        81  ultra           1000\n",
       "4        1000      9        57  ultra           1000\n",
       "...       ...    ...       ...    ...            ...\n",
       "2712     1498     10        42  smart             50\n",
       "2713     1499      9        11  smart             50\n",
       "2714     1499     10        48  smart             50\n",
       "2715     1499     11        59  smart             50\n",
       "2716     1499     12        66  smart             50\n",
       "\n",
       "[2717 rows x 5 columns]"
      ]
     },
     "execution_count": 50,
     "metadata": {},
     "output_type": "execute_result"
    }
   ],
   "source": [
    "messages_group['paid_messages'] = messages_group['tarif'].apply(paid_messages)\n",
    "messages_group"
   ]
  },
  {
   "cell_type": "code",
   "execution_count": 51,
   "metadata": {},
   "outputs": [
    {
     "data": {
      "text/html": [
       "<div>\n",
       "<style scoped>\n",
       "    .dataframe tbody tr th:only-of-type {\n",
       "        vertical-align: middle;\n",
       "    }\n",
       "\n",
       "    .dataframe tbody tr th {\n",
       "        vertical-align: top;\n",
       "    }\n",
       "\n",
       "    .dataframe thead th {\n",
       "        text-align: right;\n",
       "    }\n",
       "</style>\n",
       "<table border=\"1\" class=\"dataframe\">\n",
       "  <thead>\n",
       "    <tr style=\"text-align: right;\">\n",
       "      <th></th>\n",
       "      <th>user_id</th>\n",
       "      <th>month</th>\n",
       "      <th>messages</th>\n",
       "      <th>tarif</th>\n",
       "      <th>paid_messages</th>\n",
       "      <th>message_over_tarif</th>\n",
       "    </tr>\n",
       "  </thead>\n",
       "  <tbody>\n",
       "    <tr>\n",
       "      <td>0</td>\n",
       "      <td>1000</td>\n",
       "      <td>5</td>\n",
       "      <td>22</td>\n",
       "      <td>ultra</td>\n",
       "      <td>1000</td>\n",
       "      <td>0</td>\n",
       "    </tr>\n",
       "    <tr>\n",
       "      <td>1</td>\n",
       "      <td>1000</td>\n",
       "      <td>6</td>\n",
       "      <td>60</td>\n",
       "      <td>ultra</td>\n",
       "      <td>1000</td>\n",
       "      <td>0</td>\n",
       "    </tr>\n",
       "    <tr>\n",
       "      <td>2</td>\n",
       "      <td>1000</td>\n",
       "      <td>7</td>\n",
       "      <td>75</td>\n",
       "      <td>ultra</td>\n",
       "      <td>1000</td>\n",
       "      <td>0</td>\n",
       "    </tr>\n",
       "    <tr>\n",
       "      <td>3</td>\n",
       "      <td>1000</td>\n",
       "      <td>8</td>\n",
       "      <td>81</td>\n",
       "      <td>ultra</td>\n",
       "      <td>1000</td>\n",
       "      <td>0</td>\n",
       "    </tr>\n",
       "    <tr>\n",
       "      <td>4</td>\n",
       "      <td>1000</td>\n",
       "      <td>9</td>\n",
       "      <td>57</td>\n",
       "      <td>ultra</td>\n",
       "      <td>1000</td>\n",
       "      <td>0</td>\n",
       "    </tr>\n",
       "    <tr>\n",
       "      <td>...</td>\n",
       "      <td>...</td>\n",
       "      <td>...</td>\n",
       "      <td>...</td>\n",
       "      <td>...</td>\n",
       "      <td>...</td>\n",
       "      <td>...</td>\n",
       "    </tr>\n",
       "    <tr>\n",
       "      <td>2712</td>\n",
       "      <td>1498</td>\n",
       "      <td>10</td>\n",
       "      <td>42</td>\n",
       "      <td>smart</td>\n",
       "      <td>50</td>\n",
       "      <td>0</td>\n",
       "    </tr>\n",
       "    <tr>\n",
       "      <td>2713</td>\n",
       "      <td>1499</td>\n",
       "      <td>9</td>\n",
       "      <td>11</td>\n",
       "      <td>smart</td>\n",
       "      <td>50</td>\n",
       "      <td>0</td>\n",
       "    </tr>\n",
       "    <tr>\n",
       "      <td>2714</td>\n",
       "      <td>1499</td>\n",
       "      <td>10</td>\n",
       "      <td>48</td>\n",
       "      <td>smart</td>\n",
       "      <td>50</td>\n",
       "      <td>0</td>\n",
       "    </tr>\n",
       "    <tr>\n",
       "      <td>2715</td>\n",
       "      <td>1499</td>\n",
       "      <td>11</td>\n",
       "      <td>59</td>\n",
       "      <td>smart</td>\n",
       "      <td>50</td>\n",
       "      <td>9</td>\n",
       "    </tr>\n",
       "    <tr>\n",
       "      <td>2716</td>\n",
       "      <td>1499</td>\n",
       "      <td>12</td>\n",
       "      <td>66</td>\n",
       "      <td>smart</td>\n",
       "      <td>50</td>\n",
       "      <td>16</td>\n",
       "    </tr>\n",
       "  </tbody>\n",
       "</table>\n",
       "<p>2717 rows × 6 columns</p>\n",
       "</div>"
      ],
      "text/plain": [
       "      user_id  month  messages  tarif  paid_messages  message_over_tarif\n",
       "0        1000      5        22  ultra           1000                   0\n",
       "1        1000      6        60  ultra           1000                   0\n",
       "2        1000      7        75  ultra           1000                   0\n",
       "3        1000      8        81  ultra           1000                   0\n",
       "4        1000      9        57  ultra           1000                   0\n",
       "...       ...    ...       ...    ...            ...                 ...\n",
       "2712     1498     10        42  smart             50                   0\n",
       "2713     1499      9        11  smart             50                   0\n",
       "2714     1499     10        48  smart             50                   0\n",
       "2715     1499     11        59  smart             50                   9\n",
       "2716     1499     12        66  smart             50                  16\n",
       "\n",
       "[2717 rows x 6 columns]"
      ]
     },
     "execution_count": 51,
     "metadata": {},
     "output_type": "execute_result"
    }
   ],
   "source": [
    "messages_group['message_over_tarif'] = (messages_group['messages'] - messages_group['paid_messages']).apply(transform)\n",
    "messages_group"
   ]
  },
  {
   "cell_type": "code",
   "execution_count": 52,
   "metadata": {},
   "outputs": [],
   "source": [
    "def overprice_messages(tarif):\n",
    "    if tarif == 'smart':\n",
    "        overprice_per_messages = 3\n",
    "    else:\n",
    "        overprice_per_messages = 1\n",
    "    return overprice_per_messages"
   ]
  },
  {
   "cell_type": "code",
   "execution_count": 53,
   "metadata": {},
   "outputs": [
    {
     "data": {
      "text/html": [
       "<div>\n",
       "<style scoped>\n",
       "    .dataframe tbody tr th:only-of-type {\n",
       "        vertical-align: middle;\n",
       "    }\n",
       "\n",
       "    .dataframe tbody tr th {\n",
       "        vertical-align: top;\n",
       "    }\n",
       "\n",
       "    .dataframe thead th {\n",
       "        text-align: right;\n",
       "    }\n",
       "</style>\n",
       "<table border=\"1\" class=\"dataframe\">\n",
       "  <thead>\n",
       "    <tr style=\"text-align: right;\">\n",
       "      <th></th>\n",
       "      <th>user_id</th>\n",
       "      <th>month</th>\n",
       "      <th>messages</th>\n",
       "      <th>tarif</th>\n",
       "      <th>paid_messages</th>\n",
       "      <th>message_over_tarif</th>\n",
       "      <th>overprice_per_messages</th>\n",
       "      <th>final_overprice_for_messages</th>\n",
       "    </tr>\n",
       "  </thead>\n",
       "  <tbody>\n",
       "    <tr>\n",
       "      <td>0</td>\n",
       "      <td>1000</td>\n",
       "      <td>5</td>\n",
       "      <td>22</td>\n",
       "      <td>ultra</td>\n",
       "      <td>1000</td>\n",
       "      <td>0</td>\n",
       "      <td>1</td>\n",
       "      <td>0</td>\n",
       "    </tr>\n",
       "    <tr>\n",
       "      <td>1</td>\n",
       "      <td>1000</td>\n",
       "      <td>6</td>\n",
       "      <td>60</td>\n",
       "      <td>ultra</td>\n",
       "      <td>1000</td>\n",
       "      <td>0</td>\n",
       "      <td>1</td>\n",
       "      <td>0</td>\n",
       "    </tr>\n",
       "    <tr>\n",
       "      <td>2</td>\n",
       "      <td>1000</td>\n",
       "      <td>7</td>\n",
       "      <td>75</td>\n",
       "      <td>ultra</td>\n",
       "      <td>1000</td>\n",
       "      <td>0</td>\n",
       "      <td>1</td>\n",
       "      <td>0</td>\n",
       "    </tr>\n",
       "    <tr>\n",
       "      <td>3</td>\n",
       "      <td>1000</td>\n",
       "      <td>8</td>\n",
       "      <td>81</td>\n",
       "      <td>ultra</td>\n",
       "      <td>1000</td>\n",
       "      <td>0</td>\n",
       "      <td>1</td>\n",
       "      <td>0</td>\n",
       "    </tr>\n",
       "    <tr>\n",
       "      <td>4</td>\n",
       "      <td>1000</td>\n",
       "      <td>9</td>\n",
       "      <td>57</td>\n",
       "      <td>ultra</td>\n",
       "      <td>1000</td>\n",
       "      <td>0</td>\n",
       "      <td>1</td>\n",
       "      <td>0</td>\n",
       "    </tr>\n",
       "    <tr>\n",
       "      <td>...</td>\n",
       "      <td>...</td>\n",
       "      <td>...</td>\n",
       "      <td>...</td>\n",
       "      <td>...</td>\n",
       "      <td>...</td>\n",
       "      <td>...</td>\n",
       "      <td>...</td>\n",
       "      <td>...</td>\n",
       "    </tr>\n",
       "    <tr>\n",
       "      <td>2712</td>\n",
       "      <td>1498</td>\n",
       "      <td>10</td>\n",
       "      <td>42</td>\n",
       "      <td>smart</td>\n",
       "      <td>50</td>\n",
       "      <td>0</td>\n",
       "      <td>3</td>\n",
       "      <td>0</td>\n",
       "    </tr>\n",
       "    <tr>\n",
       "      <td>2713</td>\n",
       "      <td>1499</td>\n",
       "      <td>9</td>\n",
       "      <td>11</td>\n",
       "      <td>smart</td>\n",
       "      <td>50</td>\n",
       "      <td>0</td>\n",
       "      <td>3</td>\n",
       "      <td>0</td>\n",
       "    </tr>\n",
       "    <tr>\n",
       "      <td>2714</td>\n",
       "      <td>1499</td>\n",
       "      <td>10</td>\n",
       "      <td>48</td>\n",
       "      <td>smart</td>\n",
       "      <td>50</td>\n",
       "      <td>0</td>\n",
       "      <td>3</td>\n",
       "      <td>0</td>\n",
       "    </tr>\n",
       "    <tr>\n",
       "      <td>2715</td>\n",
       "      <td>1499</td>\n",
       "      <td>11</td>\n",
       "      <td>59</td>\n",
       "      <td>smart</td>\n",
       "      <td>50</td>\n",
       "      <td>9</td>\n",
       "      <td>3</td>\n",
       "      <td>27</td>\n",
       "    </tr>\n",
       "    <tr>\n",
       "      <td>2716</td>\n",
       "      <td>1499</td>\n",
       "      <td>12</td>\n",
       "      <td>66</td>\n",
       "      <td>smart</td>\n",
       "      <td>50</td>\n",
       "      <td>16</td>\n",
       "      <td>3</td>\n",
       "      <td>48</td>\n",
       "    </tr>\n",
       "  </tbody>\n",
       "</table>\n",
       "<p>2717 rows × 8 columns</p>\n",
       "</div>"
      ],
      "text/plain": [
       "      user_id  month  messages  tarif  paid_messages  message_over_tarif  \\\n",
       "0        1000      5        22  ultra           1000                   0   \n",
       "1        1000      6        60  ultra           1000                   0   \n",
       "2        1000      7        75  ultra           1000                   0   \n",
       "3        1000      8        81  ultra           1000                   0   \n",
       "4        1000      9        57  ultra           1000                   0   \n",
       "...       ...    ...       ...    ...            ...                 ...   \n",
       "2712     1498     10        42  smart             50                   0   \n",
       "2713     1499      9        11  smart             50                   0   \n",
       "2714     1499     10        48  smart             50                   0   \n",
       "2715     1499     11        59  smart             50                   9   \n",
       "2716     1499     12        66  smart             50                  16   \n",
       "\n",
       "      overprice_per_messages  final_overprice_for_messages  \n",
       "0                          1                             0  \n",
       "1                          1                             0  \n",
       "2                          1                             0  \n",
       "3                          1                             0  \n",
       "4                          1                             0  \n",
       "...                      ...                           ...  \n",
       "2712                       3                             0  \n",
       "2713                       3                             0  \n",
       "2714                       3                             0  \n",
       "2715                       3                            27  \n",
       "2716                       3                            48  \n",
       "\n",
       "[2717 rows x 8 columns]"
      ]
     },
     "execution_count": 53,
     "metadata": {},
     "output_type": "execute_result"
    }
   ],
   "source": [
    "messages_group['overprice_per_messages'] = messages_group['tarif'].apply(overprice_messages)\n",
    "messages_group['final_overprice_for_messages'] = messages_group['message_over_tarif'] * messages_group['overprice_per_messages']\n",
    "messages_group"
   ]
  },
  {
   "cell_type": "code",
   "execution_count": 54,
   "metadata": {},
   "outputs": [
    {
     "data": {
      "text/html": [
       "<div>\n",
       "<style scoped>\n",
       "    .dataframe tbody tr th:only-of-type {\n",
       "        vertical-align: middle;\n",
       "    }\n",
       "\n",
       "    .dataframe tbody tr th {\n",
       "        vertical-align: top;\n",
       "    }\n",
       "\n",
       "    .dataframe thead th {\n",
       "        text-align: right;\n",
       "    }\n",
       "</style>\n",
       "<table border=\"1\" class=\"dataframe\">\n",
       "  <thead>\n",
       "    <tr style=\"text-align: right;\">\n",
       "      <th></th>\n",
       "      <th>user_id</th>\n",
       "      <th>month</th>\n",
       "      <th>message_over_tarif</th>\n",
       "      <th>final_overprice_for_messages</th>\n",
       "    </tr>\n",
       "  </thead>\n",
       "  <tbody>\n",
       "    <tr>\n",
       "      <td>0</td>\n",
       "      <td>1000</td>\n",
       "      <td>5</td>\n",
       "      <td>0</td>\n",
       "      <td>0</td>\n",
       "    </tr>\n",
       "    <tr>\n",
       "      <td>1</td>\n",
       "      <td>1000</td>\n",
       "      <td>6</td>\n",
       "      <td>0</td>\n",
       "      <td>0</td>\n",
       "    </tr>\n",
       "    <tr>\n",
       "      <td>2</td>\n",
       "      <td>1000</td>\n",
       "      <td>7</td>\n",
       "      <td>0</td>\n",
       "      <td>0</td>\n",
       "    </tr>\n",
       "    <tr>\n",
       "      <td>3</td>\n",
       "      <td>1000</td>\n",
       "      <td>8</td>\n",
       "      <td>0</td>\n",
       "      <td>0</td>\n",
       "    </tr>\n",
       "    <tr>\n",
       "      <td>4</td>\n",
       "      <td>1000</td>\n",
       "      <td>9</td>\n",
       "      <td>0</td>\n",
       "      <td>0</td>\n",
       "    </tr>\n",
       "    <tr>\n",
       "      <td>...</td>\n",
       "      <td>...</td>\n",
       "      <td>...</td>\n",
       "      <td>...</td>\n",
       "      <td>...</td>\n",
       "    </tr>\n",
       "    <tr>\n",
       "      <td>2712</td>\n",
       "      <td>1498</td>\n",
       "      <td>10</td>\n",
       "      <td>0</td>\n",
       "      <td>0</td>\n",
       "    </tr>\n",
       "    <tr>\n",
       "      <td>2713</td>\n",
       "      <td>1499</td>\n",
       "      <td>9</td>\n",
       "      <td>0</td>\n",
       "      <td>0</td>\n",
       "    </tr>\n",
       "    <tr>\n",
       "      <td>2714</td>\n",
       "      <td>1499</td>\n",
       "      <td>10</td>\n",
       "      <td>0</td>\n",
       "      <td>0</td>\n",
       "    </tr>\n",
       "    <tr>\n",
       "      <td>2715</td>\n",
       "      <td>1499</td>\n",
       "      <td>11</td>\n",
       "      <td>9</td>\n",
       "      <td>27</td>\n",
       "    </tr>\n",
       "    <tr>\n",
       "      <td>2716</td>\n",
       "      <td>1499</td>\n",
       "      <td>12</td>\n",
       "      <td>16</td>\n",
       "      <td>48</td>\n",
       "    </tr>\n",
       "  </tbody>\n",
       "</table>\n",
       "<p>2717 rows × 4 columns</p>\n",
       "</div>"
      ],
      "text/plain": [
       "      user_id  month  message_over_tarif  final_overprice_for_messages\n",
       "0        1000      5                   0                             0\n",
       "1        1000      6                   0                             0\n",
       "2        1000      7                   0                             0\n",
       "3        1000      8                   0                             0\n",
       "4        1000      9                   0                             0\n",
       "...       ...    ...                 ...                           ...\n",
       "2712     1498     10                   0                             0\n",
       "2713     1499      9                   0                             0\n",
       "2714     1499     10                   0                             0\n",
       "2715     1499     11                   9                            27\n",
       "2716     1499     12                  16                            48\n",
       "\n",
       "[2717 rows x 4 columns]"
      ]
     },
     "execution_count": 54,
     "metadata": {},
     "output_type": "execute_result"
    }
   ],
   "source": [
    "messages_group_final = messages_group.loc[:,['user_id', 'month', 'message_over_tarif', 'final_overprice_for_messages']]\n",
    "messages_group_final"
   ]
  },
  {
   "cell_type": "code",
   "execution_count": 55,
   "metadata": {},
   "outputs": [
    {
     "data": {
      "text/html": [
       "<div>\n",
       "<style scoped>\n",
       "    .dataframe tbody tr th:only-of-type {\n",
       "        vertical-align: middle;\n",
       "    }\n",
       "\n",
       "    .dataframe tbody tr th {\n",
       "        vertical-align: top;\n",
       "    }\n",
       "\n",
       "    .dataframe thead th {\n",
       "        text-align: right;\n",
       "    }\n",
       "</style>\n",
       "<table border=\"1\" class=\"dataframe\">\n",
       "  <thead>\n",
       "    <tr style=\"text-align: right;\">\n",
       "      <th></th>\n",
       "      <th>user_id</th>\n",
       "      <th>month</th>\n",
       "      <th>mb_used</th>\n",
       "      <th>gb_used</th>\n",
       "      <th>tarif</th>\n",
       "    </tr>\n",
       "  </thead>\n",
       "  <tbody>\n",
       "    <tr>\n",
       "      <td>0</td>\n",
       "      <td>1000</td>\n",
       "      <td>5</td>\n",
       "      <td>2253.49</td>\n",
       "      <td>2.20</td>\n",
       "      <td>ultra</td>\n",
       "    </tr>\n",
       "    <tr>\n",
       "      <td>1</td>\n",
       "      <td>1000</td>\n",
       "      <td>6</td>\n",
       "      <td>23233.77</td>\n",
       "      <td>22.69</td>\n",
       "      <td>ultra</td>\n",
       "    </tr>\n",
       "    <tr>\n",
       "      <td>2</td>\n",
       "      <td>1000</td>\n",
       "      <td>7</td>\n",
       "      <td>14003.64</td>\n",
       "      <td>13.68</td>\n",
       "      <td>ultra</td>\n",
       "    </tr>\n",
       "    <tr>\n",
       "      <td>3</td>\n",
       "      <td>1000</td>\n",
       "      <td>8</td>\n",
       "      <td>14055.93</td>\n",
       "      <td>13.73</td>\n",
       "      <td>ultra</td>\n",
       "    </tr>\n",
       "    <tr>\n",
       "      <td>4</td>\n",
       "      <td>1000</td>\n",
       "      <td>9</td>\n",
       "      <td>14568.91</td>\n",
       "      <td>14.23</td>\n",
       "      <td>ultra</td>\n",
       "    </tr>\n",
       "    <tr>\n",
       "      <td>...</td>\n",
       "      <td>...</td>\n",
       "      <td>...</td>\n",
       "      <td>...</td>\n",
       "      <td>...</td>\n",
       "      <td>...</td>\n",
       "    </tr>\n",
       "    <tr>\n",
       "      <td>3198</td>\n",
       "      <td>1498</td>\n",
       "      <td>10</td>\n",
       "      <td>20579.36</td>\n",
       "      <td>20.10</td>\n",
       "      <td>smart</td>\n",
       "    </tr>\n",
       "    <tr>\n",
       "      <td>3199</td>\n",
       "      <td>1499</td>\n",
       "      <td>9</td>\n",
       "      <td>1845.75</td>\n",
       "      <td>1.80</td>\n",
       "      <td>smart</td>\n",
       "    </tr>\n",
       "    <tr>\n",
       "      <td>3200</td>\n",
       "      <td>1499</td>\n",
       "      <td>10</td>\n",
       "      <td>17788.51</td>\n",
       "      <td>17.37</td>\n",
       "      <td>smart</td>\n",
       "    </tr>\n",
       "    <tr>\n",
       "      <td>3201</td>\n",
       "      <td>1499</td>\n",
       "      <td>11</td>\n",
       "      <td>17963.31</td>\n",
       "      <td>17.54</td>\n",
       "      <td>smart</td>\n",
       "    </tr>\n",
       "    <tr>\n",
       "      <td>3202</td>\n",
       "      <td>1499</td>\n",
       "      <td>12</td>\n",
       "      <td>13055.58</td>\n",
       "      <td>12.75</td>\n",
       "      <td>smart</td>\n",
       "    </tr>\n",
       "  </tbody>\n",
       "</table>\n",
       "<p>3203 rows × 5 columns</p>\n",
       "</div>"
      ],
      "text/plain": [
       "      user_id  month   mb_used  gb_used  tarif\n",
       "0        1000      5   2253.49     2.20  ultra\n",
       "1        1000      6  23233.77    22.69  ultra\n",
       "2        1000      7  14003.64    13.68  ultra\n",
       "3        1000      8  14055.93    13.73  ultra\n",
       "4        1000      9  14568.91    14.23  ultra\n",
       "...       ...    ...       ...      ...    ...\n",
       "3198     1498     10  20579.36    20.10  smart\n",
       "3199     1499      9   1845.75     1.80  smart\n",
       "3200     1499     10  17788.51    17.37  smart\n",
       "3201     1499     11  17963.31    17.54  smart\n",
       "3202     1499     12  13055.58    12.75  smart\n",
       "\n",
       "[3203 rows x 5 columns]"
      ]
     },
     "execution_count": 55,
     "metadata": {},
     "output_type": "execute_result"
    }
   ],
   "source": [
    "internet_group"
   ]
  },
  {
   "cell_type": "code",
   "execution_count": 56,
   "metadata": {},
   "outputs": [
    {
     "data": {
      "text/html": [
       "<div>\n",
       "<style scoped>\n",
       "    .dataframe tbody tr th:only-of-type {\n",
       "        vertical-align: middle;\n",
       "    }\n",
       "\n",
       "    .dataframe tbody tr th {\n",
       "        vertical-align: top;\n",
       "    }\n",
       "\n",
       "    .dataframe thead th {\n",
       "        text-align: right;\n",
       "    }\n",
       "</style>\n",
       "<table border=\"1\" class=\"dataframe\">\n",
       "  <thead>\n",
       "    <tr style=\"text-align: right;\">\n",
       "      <th></th>\n",
       "      <th>user_id</th>\n",
       "      <th>month</th>\n",
       "      <th>mb_used</th>\n",
       "      <th>gb_used</th>\n",
       "      <th>tarif</th>\n",
       "      <th>gb_used_for_company</th>\n",
       "    </tr>\n",
       "  </thead>\n",
       "  <tbody>\n",
       "    <tr>\n",
       "      <td>0</td>\n",
       "      <td>1000</td>\n",
       "      <td>5</td>\n",
       "      <td>2253.49</td>\n",
       "      <td>2.20</td>\n",
       "      <td>ultra</td>\n",
       "      <td>3</td>\n",
       "    </tr>\n",
       "    <tr>\n",
       "      <td>1</td>\n",
       "      <td>1000</td>\n",
       "      <td>6</td>\n",
       "      <td>23233.77</td>\n",
       "      <td>22.69</td>\n",
       "      <td>ultra</td>\n",
       "      <td>23</td>\n",
       "    </tr>\n",
       "    <tr>\n",
       "      <td>2</td>\n",
       "      <td>1000</td>\n",
       "      <td>7</td>\n",
       "      <td>14003.64</td>\n",
       "      <td>13.68</td>\n",
       "      <td>ultra</td>\n",
       "      <td>14</td>\n",
       "    </tr>\n",
       "    <tr>\n",
       "      <td>3</td>\n",
       "      <td>1000</td>\n",
       "      <td>8</td>\n",
       "      <td>14055.93</td>\n",
       "      <td>13.73</td>\n",
       "      <td>ultra</td>\n",
       "      <td>14</td>\n",
       "    </tr>\n",
       "    <tr>\n",
       "      <td>4</td>\n",
       "      <td>1000</td>\n",
       "      <td>9</td>\n",
       "      <td>14568.91</td>\n",
       "      <td>14.23</td>\n",
       "      <td>ultra</td>\n",
       "      <td>15</td>\n",
       "    </tr>\n",
       "    <tr>\n",
       "      <td>...</td>\n",
       "      <td>...</td>\n",
       "      <td>...</td>\n",
       "      <td>...</td>\n",
       "      <td>...</td>\n",
       "      <td>...</td>\n",
       "      <td>...</td>\n",
       "    </tr>\n",
       "    <tr>\n",
       "      <td>3198</td>\n",
       "      <td>1498</td>\n",
       "      <td>10</td>\n",
       "      <td>20579.36</td>\n",
       "      <td>20.10</td>\n",
       "      <td>smart</td>\n",
       "      <td>21</td>\n",
       "    </tr>\n",
       "    <tr>\n",
       "      <td>3199</td>\n",
       "      <td>1499</td>\n",
       "      <td>9</td>\n",
       "      <td>1845.75</td>\n",
       "      <td>1.80</td>\n",
       "      <td>smart</td>\n",
       "      <td>2</td>\n",
       "    </tr>\n",
       "    <tr>\n",
       "      <td>3200</td>\n",
       "      <td>1499</td>\n",
       "      <td>10</td>\n",
       "      <td>17788.51</td>\n",
       "      <td>17.37</td>\n",
       "      <td>smart</td>\n",
       "      <td>18</td>\n",
       "    </tr>\n",
       "    <tr>\n",
       "      <td>3201</td>\n",
       "      <td>1499</td>\n",
       "      <td>11</td>\n",
       "      <td>17963.31</td>\n",
       "      <td>17.54</td>\n",
       "      <td>smart</td>\n",
       "      <td>18</td>\n",
       "    </tr>\n",
       "    <tr>\n",
       "      <td>3202</td>\n",
       "      <td>1499</td>\n",
       "      <td>12</td>\n",
       "      <td>13055.58</td>\n",
       "      <td>12.75</td>\n",
       "      <td>smart</td>\n",
       "      <td>13</td>\n",
       "    </tr>\n",
       "  </tbody>\n",
       "</table>\n",
       "<p>3203 rows × 6 columns</p>\n",
       "</div>"
      ],
      "text/plain": [
       "      user_id  month   mb_used  gb_used  tarif  gb_used_for_company\n",
       "0        1000      5   2253.49     2.20  ultra                    3\n",
       "1        1000      6  23233.77    22.69  ultra                   23\n",
       "2        1000      7  14003.64    13.68  ultra                   14\n",
       "3        1000      8  14055.93    13.73  ultra                   14\n",
       "4        1000      9  14568.91    14.23  ultra                   15\n",
       "...       ...    ...       ...      ...    ...                  ...\n",
       "3198     1498     10  20579.36    20.10  smart                   21\n",
       "3199     1499      9   1845.75     1.80  smart                    2\n",
       "3200     1499     10  17788.51    17.37  smart                   18\n",
       "3201     1499     11  17963.31    17.54  smart                   18\n",
       "3202     1499     12  13055.58    12.75  smart                   13\n",
       "\n",
       "[3203 rows x 6 columns]"
      ]
     },
     "execution_count": 56,
     "metadata": {},
     "output_type": "execute_result"
    }
   ],
   "source": [
    "internet_group['gb_used_for_company'] = internet_group['gb_used'].apply(int) + 1\n",
    "internet_group"
   ]
  },
  {
   "cell_type": "code",
   "execution_count": 57,
   "metadata": {},
   "outputs": [],
   "source": [
    "def paid_gigabytes(tarif):\n",
    "    if tarif == 'smart':\n",
    "        return 15\n",
    "    else:\n",
    "        return 30"
   ]
  },
  {
   "cell_type": "code",
   "execution_count": 58,
   "metadata": {},
   "outputs": [
    {
     "data": {
      "text/html": [
       "<div>\n",
       "<style scoped>\n",
       "    .dataframe tbody tr th:only-of-type {\n",
       "        vertical-align: middle;\n",
       "    }\n",
       "\n",
       "    .dataframe tbody tr th {\n",
       "        vertical-align: top;\n",
       "    }\n",
       "\n",
       "    .dataframe thead th {\n",
       "        text-align: right;\n",
       "    }\n",
       "</style>\n",
       "<table border=\"1\" class=\"dataframe\">\n",
       "  <thead>\n",
       "    <tr style=\"text-align: right;\">\n",
       "      <th></th>\n",
       "      <th>user_id</th>\n",
       "      <th>month</th>\n",
       "      <th>mb_used</th>\n",
       "      <th>gb_used</th>\n",
       "      <th>tarif</th>\n",
       "      <th>gb_used_for_company</th>\n",
       "      <th>paid_gigabytes</th>\n",
       "    </tr>\n",
       "  </thead>\n",
       "  <tbody>\n",
       "    <tr>\n",
       "      <td>0</td>\n",
       "      <td>1000</td>\n",
       "      <td>5</td>\n",
       "      <td>2253.49</td>\n",
       "      <td>2.20</td>\n",
       "      <td>ultra</td>\n",
       "      <td>3</td>\n",
       "      <td>30</td>\n",
       "    </tr>\n",
       "    <tr>\n",
       "      <td>1</td>\n",
       "      <td>1000</td>\n",
       "      <td>6</td>\n",
       "      <td>23233.77</td>\n",
       "      <td>22.69</td>\n",
       "      <td>ultra</td>\n",
       "      <td>23</td>\n",
       "      <td>30</td>\n",
       "    </tr>\n",
       "    <tr>\n",
       "      <td>2</td>\n",
       "      <td>1000</td>\n",
       "      <td>7</td>\n",
       "      <td>14003.64</td>\n",
       "      <td>13.68</td>\n",
       "      <td>ultra</td>\n",
       "      <td>14</td>\n",
       "      <td>30</td>\n",
       "    </tr>\n",
       "    <tr>\n",
       "      <td>3</td>\n",
       "      <td>1000</td>\n",
       "      <td>8</td>\n",
       "      <td>14055.93</td>\n",
       "      <td>13.73</td>\n",
       "      <td>ultra</td>\n",
       "      <td>14</td>\n",
       "      <td>30</td>\n",
       "    </tr>\n",
       "    <tr>\n",
       "      <td>4</td>\n",
       "      <td>1000</td>\n",
       "      <td>9</td>\n",
       "      <td>14568.91</td>\n",
       "      <td>14.23</td>\n",
       "      <td>ultra</td>\n",
       "      <td>15</td>\n",
       "      <td>30</td>\n",
       "    </tr>\n",
       "    <tr>\n",
       "      <td>...</td>\n",
       "      <td>...</td>\n",
       "      <td>...</td>\n",
       "      <td>...</td>\n",
       "      <td>...</td>\n",
       "      <td>...</td>\n",
       "      <td>...</td>\n",
       "      <td>...</td>\n",
       "    </tr>\n",
       "    <tr>\n",
       "      <td>3198</td>\n",
       "      <td>1498</td>\n",
       "      <td>10</td>\n",
       "      <td>20579.36</td>\n",
       "      <td>20.10</td>\n",
       "      <td>smart</td>\n",
       "      <td>21</td>\n",
       "      <td>15</td>\n",
       "    </tr>\n",
       "    <tr>\n",
       "      <td>3199</td>\n",
       "      <td>1499</td>\n",
       "      <td>9</td>\n",
       "      <td>1845.75</td>\n",
       "      <td>1.80</td>\n",
       "      <td>smart</td>\n",
       "      <td>2</td>\n",
       "      <td>15</td>\n",
       "    </tr>\n",
       "    <tr>\n",
       "      <td>3200</td>\n",
       "      <td>1499</td>\n",
       "      <td>10</td>\n",
       "      <td>17788.51</td>\n",
       "      <td>17.37</td>\n",
       "      <td>smart</td>\n",
       "      <td>18</td>\n",
       "      <td>15</td>\n",
       "    </tr>\n",
       "    <tr>\n",
       "      <td>3201</td>\n",
       "      <td>1499</td>\n",
       "      <td>11</td>\n",
       "      <td>17963.31</td>\n",
       "      <td>17.54</td>\n",
       "      <td>smart</td>\n",
       "      <td>18</td>\n",
       "      <td>15</td>\n",
       "    </tr>\n",
       "    <tr>\n",
       "      <td>3202</td>\n",
       "      <td>1499</td>\n",
       "      <td>12</td>\n",
       "      <td>13055.58</td>\n",
       "      <td>12.75</td>\n",
       "      <td>smart</td>\n",
       "      <td>13</td>\n",
       "      <td>15</td>\n",
       "    </tr>\n",
       "  </tbody>\n",
       "</table>\n",
       "<p>3203 rows × 7 columns</p>\n",
       "</div>"
      ],
      "text/plain": [
       "      user_id  month   mb_used  gb_used  tarif  gb_used_for_company  \\\n",
       "0        1000      5   2253.49     2.20  ultra                    3   \n",
       "1        1000      6  23233.77    22.69  ultra                   23   \n",
       "2        1000      7  14003.64    13.68  ultra                   14   \n",
       "3        1000      8  14055.93    13.73  ultra                   14   \n",
       "4        1000      9  14568.91    14.23  ultra                   15   \n",
       "...       ...    ...       ...      ...    ...                  ...   \n",
       "3198     1498     10  20579.36    20.10  smart                   21   \n",
       "3199     1499      9   1845.75     1.80  smart                    2   \n",
       "3200     1499     10  17788.51    17.37  smart                   18   \n",
       "3201     1499     11  17963.31    17.54  smart                   18   \n",
       "3202     1499     12  13055.58    12.75  smart                   13   \n",
       "\n",
       "      paid_gigabytes  \n",
       "0                 30  \n",
       "1                 30  \n",
       "2                 30  \n",
       "3                 30  \n",
       "4                 30  \n",
       "...              ...  \n",
       "3198              15  \n",
       "3199              15  \n",
       "3200              15  \n",
       "3201              15  \n",
       "3202              15  \n",
       "\n",
       "[3203 rows x 7 columns]"
      ]
     },
     "execution_count": 58,
     "metadata": {},
     "output_type": "execute_result"
    }
   ],
   "source": [
    "internet_group['paid_gigabytes'] = internet_group['tarif'].apply(paid_gigabytes)\n",
    "internet_group"
   ]
  },
  {
   "cell_type": "code",
   "execution_count": 59,
   "metadata": {},
   "outputs": [
    {
     "data": {
      "text/html": [
       "<div>\n",
       "<style scoped>\n",
       "    .dataframe tbody tr th:only-of-type {\n",
       "        vertical-align: middle;\n",
       "    }\n",
       "\n",
       "    .dataframe tbody tr th {\n",
       "        vertical-align: top;\n",
       "    }\n",
       "\n",
       "    .dataframe thead th {\n",
       "        text-align: right;\n",
       "    }\n",
       "</style>\n",
       "<table border=\"1\" class=\"dataframe\">\n",
       "  <thead>\n",
       "    <tr style=\"text-align: right;\">\n",
       "      <th></th>\n",
       "      <th>user_id</th>\n",
       "      <th>month</th>\n",
       "      <th>mb_used</th>\n",
       "      <th>gb_used</th>\n",
       "      <th>tarif</th>\n",
       "      <th>gb_used_for_company</th>\n",
       "      <th>paid_gigabytes</th>\n",
       "      <th>gb_over_tarif</th>\n",
       "    </tr>\n",
       "  </thead>\n",
       "  <tbody>\n",
       "    <tr>\n",
       "      <td>0</td>\n",
       "      <td>1000</td>\n",
       "      <td>5</td>\n",
       "      <td>2253.49</td>\n",
       "      <td>2.20</td>\n",
       "      <td>ultra</td>\n",
       "      <td>3</td>\n",
       "      <td>30</td>\n",
       "      <td>0</td>\n",
       "    </tr>\n",
       "    <tr>\n",
       "      <td>1</td>\n",
       "      <td>1000</td>\n",
       "      <td>6</td>\n",
       "      <td>23233.77</td>\n",
       "      <td>22.69</td>\n",
       "      <td>ultra</td>\n",
       "      <td>23</td>\n",
       "      <td>30</td>\n",
       "      <td>0</td>\n",
       "    </tr>\n",
       "    <tr>\n",
       "      <td>2</td>\n",
       "      <td>1000</td>\n",
       "      <td>7</td>\n",
       "      <td>14003.64</td>\n",
       "      <td>13.68</td>\n",
       "      <td>ultra</td>\n",
       "      <td>14</td>\n",
       "      <td>30</td>\n",
       "      <td>0</td>\n",
       "    </tr>\n",
       "    <tr>\n",
       "      <td>3</td>\n",
       "      <td>1000</td>\n",
       "      <td>8</td>\n",
       "      <td>14055.93</td>\n",
       "      <td>13.73</td>\n",
       "      <td>ultra</td>\n",
       "      <td>14</td>\n",
       "      <td>30</td>\n",
       "      <td>0</td>\n",
       "    </tr>\n",
       "    <tr>\n",
       "      <td>4</td>\n",
       "      <td>1000</td>\n",
       "      <td>9</td>\n",
       "      <td>14568.91</td>\n",
       "      <td>14.23</td>\n",
       "      <td>ultra</td>\n",
       "      <td>15</td>\n",
       "      <td>30</td>\n",
       "      <td>0</td>\n",
       "    </tr>\n",
       "    <tr>\n",
       "      <td>...</td>\n",
       "      <td>...</td>\n",
       "      <td>...</td>\n",
       "      <td>...</td>\n",
       "      <td>...</td>\n",
       "      <td>...</td>\n",
       "      <td>...</td>\n",
       "      <td>...</td>\n",
       "      <td>...</td>\n",
       "    </tr>\n",
       "    <tr>\n",
       "      <td>3198</td>\n",
       "      <td>1498</td>\n",
       "      <td>10</td>\n",
       "      <td>20579.36</td>\n",
       "      <td>20.10</td>\n",
       "      <td>smart</td>\n",
       "      <td>21</td>\n",
       "      <td>15</td>\n",
       "      <td>6</td>\n",
       "    </tr>\n",
       "    <tr>\n",
       "      <td>3199</td>\n",
       "      <td>1499</td>\n",
       "      <td>9</td>\n",
       "      <td>1845.75</td>\n",
       "      <td>1.80</td>\n",
       "      <td>smart</td>\n",
       "      <td>2</td>\n",
       "      <td>15</td>\n",
       "      <td>0</td>\n",
       "    </tr>\n",
       "    <tr>\n",
       "      <td>3200</td>\n",
       "      <td>1499</td>\n",
       "      <td>10</td>\n",
       "      <td>17788.51</td>\n",
       "      <td>17.37</td>\n",
       "      <td>smart</td>\n",
       "      <td>18</td>\n",
       "      <td>15</td>\n",
       "      <td>3</td>\n",
       "    </tr>\n",
       "    <tr>\n",
       "      <td>3201</td>\n",
       "      <td>1499</td>\n",
       "      <td>11</td>\n",
       "      <td>17963.31</td>\n",
       "      <td>17.54</td>\n",
       "      <td>smart</td>\n",
       "      <td>18</td>\n",
       "      <td>15</td>\n",
       "      <td>3</td>\n",
       "    </tr>\n",
       "    <tr>\n",
       "      <td>3202</td>\n",
       "      <td>1499</td>\n",
       "      <td>12</td>\n",
       "      <td>13055.58</td>\n",
       "      <td>12.75</td>\n",
       "      <td>smart</td>\n",
       "      <td>13</td>\n",
       "      <td>15</td>\n",
       "      <td>0</td>\n",
       "    </tr>\n",
       "  </tbody>\n",
       "</table>\n",
       "<p>3203 rows × 8 columns</p>\n",
       "</div>"
      ],
      "text/plain": [
       "      user_id  month   mb_used  gb_used  tarif  gb_used_for_company  \\\n",
       "0        1000      5   2253.49     2.20  ultra                    3   \n",
       "1        1000      6  23233.77    22.69  ultra                   23   \n",
       "2        1000      7  14003.64    13.68  ultra                   14   \n",
       "3        1000      8  14055.93    13.73  ultra                   14   \n",
       "4        1000      9  14568.91    14.23  ultra                   15   \n",
       "...       ...    ...       ...      ...    ...                  ...   \n",
       "3198     1498     10  20579.36    20.10  smart                   21   \n",
       "3199     1499      9   1845.75     1.80  smart                    2   \n",
       "3200     1499     10  17788.51    17.37  smart                   18   \n",
       "3201     1499     11  17963.31    17.54  smart                   18   \n",
       "3202     1499     12  13055.58    12.75  smart                   13   \n",
       "\n",
       "      paid_gigabytes  gb_over_tarif  \n",
       "0                 30              0  \n",
       "1                 30              0  \n",
       "2                 30              0  \n",
       "3                 30              0  \n",
       "4                 30              0  \n",
       "...              ...            ...  \n",
       "3198              15              6  \n",
       "3199              15              0  \n",
       "3200              15              3  \n",
       "3201              15              3  \n",
       "3202              15              0  \n",
       "\n",
       "[3203 rows x 8 columns]"
      ]
     },
     "execution_count": 59,
     "metadata": {},
     "output_type": "execute_result"
    }
   ],
   "source": [
    "internet_group['gb_over_tarif'] = (internet_group['gb_used_for_company'] - internet_group['paid_gigabytes']).apply(transform)\n",
    "internet_group"
   ]
  },
  {
   "cell_type": "code",
   "execution_count": 60,
   "metadata": {},
   "outputs": [],
   "source": [
    "def overprice_for_internet(tarif):\n",
    "    if tarif == 'smart':\n",
    "        overprice_per_gb = 200\n",
    "    else:\n",
    "        overprice_per_gb = 150\n",
    "    return overprice_per_gb"
   ]
  },
  {
   "cell_type": "code",
   "execution_count": 61,
   "metadata": {},
   "outputs": [
    {
     "data": {
      "text/html": [
       "<div>\n",
       "<style scoped>\n",
       "    .dataframe tbody tr th:only-of-type {\n",
       "        vertical-align: middle;\n",
       "    }\n",
       "\n",
       "    .dataframe tbody tr th {\n",
       "        vertical-align: top;\n",
       "    }\n",
       "\n",
       "    .dataframe thead th {\n",
       "        text-align: right;\n",
       "    }\n",
       "</style>\n",
       "<table border=\"1\" class=\"dataframe\">\n",
       "  <thead>\n",
       "    <tr style=\"text-align: right;\">\n",
       "      <th></th>\n",
       "      <th>user_id</th>\n",
       "      <th>month</th>\n",
       "      <th>mb_used</th>\n",
       "      <th>gb_used</th>\n",
       "      <th>tarif</th>\n",
       "      <th>gb_used_for_company</th>\n",
       "      <th>paid_gigabytes</th>\n",
       "      <th>gb_over_tarif</th>\n",
       "      <th>overprice_per_gb</th>\n",
       "      <th>final_overprice_internet</th>\n",
       "    </tr>\n",
       "  </thead>\n",
       "  <tbody>\n",
       "    <tr>\n",
       "      <td>0</td>\n",
       "      <td>1000</td>\n",
       "      <td>5</td>\n",
       "      <td>2253.49</td>\n",
       "      <td>2.20</td>\n",
       "      <td>ultra</td>\n",
       "      <td>3</td>\n",
       "      <td>30</td>\n",
       "      <td>0</td>\n",
       "      <td>150</td>\n",
       "      <td>0</td>\n",
       "    </tr>\n",
       "    <tr>\n",
       "      <td>1</td>\n",
       "      <td>1000</td>\n",
       "      <td>6</td>\n",
       "      <td>23233.77</td>\n",
       "      <td>22.69</td>\n",
       "      <td>ultra</td>\n",
       "      <td>23</td>\n",
       "      <td>30</td>\n",
       "      <td>0</td>\n",
       "      <td>150</td>\n",
       "      <td>0</td>\n",
       "    </tr>\n",
       "    <tr>\n",
       "      <td>2</td>\n",
       "      <td>1000</td>\n",
       "      <td>7</td>\n",
       "      <td>14003.64</td>\n",
       "      <td>13.68</td>\n",
       "      <td>ultra</td>\n",
       "      <td>14</td>\n",
       "      <td>30</td>\n",
       "      <td>0</td>\n",
       "      <td>150</td>\n",
       "      <td>0</td>\n",
       "    </tr>\n",
       "    <tr>\n",
       "      <td>3</td>\n",
       "      <td>1000</td>\n",
       "      <td>8</td>\n",
       "      <td>14055.93</td>\n",
       "      <td>13.73</td>\n",
       "      <td>ultra</td>\n",
       "      <td>14</td>\n",
       "      <td>30</td>\n",
       "      <td>0</td>\n",
       "      <td>150</td>\n",
       "      <td>0</td>\n",
       "    </tr>\n",
       "    <tr>\n",
       "      <td>4</td>\n",
       "      <td>1000</td>\n",
       "      <td>9</td>\n",
       "      <td>14568.91</td>\n",
       "      <td>14.23</td>\n",
       "      <td>ultra</td>\n",
       "      <td>15</td>\n",
       "      <td>30</td>\n",
       "      <td>0</td>\n",
       "      <td>150</td>\n",
       "      <td>0</td>\n",
       "    </tr>\n",
       "    <tr>\n",
       "      <td>...</td>\n",
       "      <td>...</td>\n",
       "      <td>...</td>\n",
       "      <td>...</td>\n",
       "      <td>...</td>\n",
       "      <td>...</td>\n",
       "      <td>...</td>\n",
       "      <td>...</td>\n",
       "      <td>...</td>\n",
       "      <td>...</td>\n",
       "      <td>...</td>\n",
       "    </tr>\n",
       "    <tr>\n",
       "      <td>3198</td>\n",
       "      <td>1498</td>\n",
       "      <td>10</td>\n",
       "      <td>20579.36</td>\n",
       "      <td>20.10</td>\n",
       "      <td>smart</td>\n",
       "      <td>21</td>\n",
       "      <td>15</td>\n",
       "      <td>6</td>\n",
       "      <td>200</td>\n",
       "      <td>1200</td>\n",
       "    </tr>\n",
       "    <tr>\n",
       "      <td>3199</td>\n",
       "      <td>1499</td>\n",
       "      <td>9</td>\n",
       "      <td>1845.75</td>\n",
       "      <td>1.80</td>\n",
       "      <td>smart</td>\n",
       "      <td>2</td>\n",
       "      <td>15</td>\n",
       "      <td>0</td>\n",
       "      <td>200</td>\n",
       "      <td>0</td>\n",
       "    </tr>\n",
       "    <tr>\n",
       "      <td>3200</td>\n",
       "      <td>1499</td>\n",
       "      <td>10</td>\n",
       "      <td>17788.51</td>\n",
       "      <td>17.37</td>\n",
       "      <td>smart</td>\n",
       "      <td>18</td>\n",
       "      <td>15</td>\n",
       "      <td>3</td>\n",
       "      <td>200</td>\n",
       "      <td>600</td>\n",
       "    </tr>\n",
       "    <tr>\n",
       "      <td>3201</td>\n",
       "      <td>1499</td>\n",
       "      <td>11</td>\n",
       "      <td>17963.31</td>\n",
       "      <td>17.54</td>\n",
       "      <td>smart</td>\n",
       "      <td>18</td>\n",
       "      <td>15</td>\n",
       "      <td>3</td>\n",
       "      <td>200</td>\n",
       "      <td>600</td>\n",
       "    </tr>\n",
       "    <tr>\n",
       "      <td>3202</td>\n",
       "      <td>1499</td>\n",
       "      <td>12</td>\n",
       "      <td>13055.58</td>\n",
       "      <td>12.75</td>\n",
       "      <td>smart</td>\n",
       "      <td>13</td>\n",
       "      <td>15</td>\n",
       "      <td>0</td>\n",
       "      <td>200</td>\n",
       "      <td>0</td>\n",
       "    </tr>\n",
       "  </tbody>\n",
       "</table>\n",
       "<p>3203 rows × 10 columns</p>\n",
       "</div>"
      ],
      "text/plain": [
       "      user_id  month   mb_used  gb_used  tarif  gb_used_for_company  \\\n",
       "0        1000      5   2253.49     2.20  ultra                    3   \n",
       "1        1000      6  23233.77    22.69  ultra                   23   \n",
       "2        1000      7  14003.64    13.68  ultra                   14   \n",
       "3        1000      8  14055.93    13.73  ultra                   14   \n",
       "4        1000      9  14568.91    14.23  ultra                   15   \n",
       "...       ...    ...       ...      ...    ...                  ...   \n",
       "3198     1498     10  20579.36    20.10  smart                   21   \n",
       "3199     1499      9   1845.75     1.80  smart                    2   \n",
       "3200     1499     10  17788.51    17.37  smart                   18   \n",
       "3201     1499     11  17963.31    17.54  smart                   18   \n",
       "3202     1499     12  13055.58    12.75  smart                   13   \n",
       "\n",
       "      paid_gigabytes  gb_over_tarif  overprice_per_gb  \\\n",
       "0                 30              0               150   \n",
       "1                 30              0               150   \n",
       "2                 30              0               150   \n",
       "3                 30              0               150   \n",
       "4                 30              0               150   \n",
       "...              ...            ...               ...   \n",
       "3198              15              6               200   \n",
       "3199              15              0               200   \n",
       "3200              15              3               200   \n",
       "3201              15              3               200   \n",
       "3202              15              0               200   \n",
       "\n",
       "      final_overprice_internet  \n",
       "0                            0  \n",
       "1                            0  \n",
       "2                            0  \n",
       "3                            0  \n",
       "4                            0  \n",
       "...                        ...  \n",
       "3198                      1200  \n",
       "3199                         0  \n",
       "3200                       600  \n",
       "3201                       600  \n",
       "3202                         0  \n",
       "\n",
       "[3203 rows x 10 columns]"
      ]
     },
     "execution_count": 61,
     "metadata": {},
     "output_type": "execute_result"
    }
   ],
   "source": [
    "internet_group['overprice_per_gb'] = internet_group['tarif'].apply(overprice_for_internet)\n",
    "internet_group['final_overprice_internet'] = internet_group['gb_over_tarif'] * internet_group['overprice_per_gb']\n",
    "internet_group"
   ]
  },
  {
   "cell_type": "code",
   "execution_count": 62,
   "metadata": {},
   "outputs": [
    {
     "data": {
      "text/html": [
       "<div>\n",
       "<style scoped>\n",
       "    .dataframe tbody tr th:only-of-type {\n",
       "        vertical-align: middle;\n",
       "    }\n",
       "\n",
       "    .dataframe tbody tr th {\n",
       "        vertical-align: top;\n",
       "    }\n",
       "\n",
       "    .dataframe thead th {\n",
       "        text-align: right;\n",
       "    }\n",
       "</style>\n",
       "<table border=\"1\" class=\"dataframe\">\n",
       "  <thead>\n",
       "    <tr style=\"text-align: right;\">\n",
       "      <th></th>\n",
       "      <th>user_id</th>\n",
       "      <th>month</th>\n",
       "      <th>gb_over_tarif</th>\n",
       "      <th>final_overprice_internet</th>\n",
       "    </tr>\n",
       "  </thead>\n",
       "  <tbody>\n",
       "    <tr>\n",
       "      <td>0</td>\n",
       "      <td>1000</td>\n",
       "      <td>5</td>\n",
       "      <td>0</td>\n",
       "      <td>0</td>\n",
       "    </tr>\n",
       "    <tr>\n",
       "      <td>1</td>\n",
       "      <td>1000</td>\n",
       "      <td>6</td>\n",
       "      <td>0</td>\n",
       "      <td>0</td>\n",
       "    </tr>\n",
       "    <tr>\n",
       "      <td>2</td>\n",
       "      <td>1000</td>\n",
       "      <td>7</td>\n",
       "      <td>0</td>\n",
       "      <td>0</td>\n",
       "    </tr>\n",
       "    <tr>\n",
       "      <td>3</td>\n",
       "      <td>1000</td>\n",
       "      <td>8</td>\n",
       "      <td>0</td>\n",
       "      <td>0</td>\n",
       "    </tr>\n",
       "    <tr>\n",
       "      <td>4</td>\n",
       "      <td>1000</td>\n",
       "      <td>9</td>\n",
       "      <td>0</td>\n",
       "      <td>0</td>\n",
       "    </tr>\n",
       "    <tr>\n",
       "      <td>...</td>\n",
       "      <td>...</td>\n",
       "      <td>...</td>\n",
       "      <td>...</td>\n",
       "      <td>...</td>\n",
       "    </tr>\n",
       "    <tr>\n",
       "      <td>3198</td>\n",
       "      <td>1498</td>\n",
       "      <td>10</td>\n",
       "      <td>6</td>\n",
       "      <td>1200</td>\n",
       "    </tr>\n",
       "    <tr>\n",
       "      <td>3199</td>\n",
       "      <td>1499</td>\n",
       "      <td>9</td>\n",
       "      <td>0</td>\n",
       "      <td>0</td>\n",
       "    </tr>\n",
       "    <tr>\n",
       "      <td>3200</td>\n",
       "      <td>1499</td>\n",
       "      <td>10</td>\n",
       "      <td>3</td>\n",
       "      <td>600</td>\n",
       "    </tr>\n",
       "    <tr>\n",
       "      <td>3201</td>\n",
       "      <td>1499</td>\n",
       "      <td>11</td>\n",
       "      <td>3</td>\n",
       "      <td>600</td>\n",
       "    </tr>\n",
       "    <tr>\n",
       "      <td>3202</td>\n",
       "      <td>1499</td>\n",
       "      <td>12</td>\n",
       "      <td>0</td>\n",
       "      <td>0</td>\n",
       "    </tr>\n",
       "  </tbody>\n",
       "</table>\n",
       "<p>3203 rows × 4 columns</p>\n",
       "</div>"
      ],
      "text/plain": [
       "      user_id  month  gb_over_tarif  final_overprice_internet\n",
       "0        1000      5              0                         0\n",
       "1        1000      6              0                         0\n",
       "2        1000      7              0                         0\n",
       "3        1000      8              0                         0\n",
       "4        1000      9              0                         0\n",
       "...       ...    ...            ...                       ...\n",
       "3198     1498     10              6                      1200\n",
       "3199     1499      9              0                         0\n",
       "3200     1499     10              3                       600\n",
       "3201     1499     11              3                       600\n",
       "3202     1499     12              0                         0\n",
       "\n",
       "[3203 rows x 4 columns]"
      ]
     },
     "execution_count": 62,
     "metadata": {},
     "output_type": "execute_result"
    }
   ],
   "source": [
    "internet_group_final = internet_group.loc[:, ['user_id', 'month', 'gb_over_tarif', 'final_overprice_internet']]\n",
    "internet_group_final"
   ]
  },
  {
   "cell_type": "code",
   "execution_count": 63,
   "metadata": {},
   "outputs": [
    {
     "data": {
      "text/html": [
       "<div>\n",
       "<style scoped>\n",
       "    .dataframe tbody tr th:only-of-type {\n",
       "        vertical-align: middle;\n",
       "    }\n",
       "\n",
       "    .dataframe tbody tr th {\n",
       "        vertical-align: top;\n",
       "    }\n",
       "\n",
       "    .dataframe thead th {\n",
       "        text-align: right;\n",
       "    }\n",
       "</style>\n",
       "<table border=\"1\" class=\"dataframe\">\n",
       "  <thead>\n",
       "    <tr style=\"text-align: right;\">\n",
       "      <th></th>\n",
       "      <th>user_id</th>\n",
       "      <th>month</th>\n",
       "      <th>message_over_tarif</th>\n",
       "      <th>final_overprice_for_messages</th>\n",
       "      <th>gb_over_tarif</th>\n",
       "      <th>final_overprice_internet</th>\n",
       "    </tr>\n",
       "  </thead>\n",
       "  <tbody>\n",
       "    <tr>\n",
       "      <td>0</td>\n",
       "      <td>1000</td>\n",
       "      <td>5</td>\n",
       "      <td>0.0</td>\n",
       "      <td>0.0</td>\n",
       "      <td>0.0</td>\n",
       "      <td>0.0</td>\n",
       "    </tr>\n",
       "    <tr>\n",
       "      <td>1</td>\n",
       "      <td>1000</td>\n",
       "      <td>6</td>\n",
       "      <td>0.0</td>\n",
       "      <td>0.0</td>\n",
       "      <td>0.0</td>\n",
       "      <td>0.0</td>\n",
       "    </tr>\n",
       "    <tr>\n",
       "      <td>2</td>\n",
       "      <td>1000</td>\n",
       "      <td>7</td>\n",
       "      <td>0.0</td>\n",
       "      <td>0.0</td>\n",
       "      <td>0.0</td>\n",
       "      <td>0.0</td>\n",
       "    </tr>\n",
       "    <tr>\n",
       "      <td>3</td>\n",
       "      <td>1000</td>\n",
       "      <td>8</td>\n",
       "      <td>0.0</td>\n",
       "      <td>0.0</td>\n",
       "      <td>0.0</td>\n",
       "      <td>0.0</td>\n",
       "    </tr>\n",
       "    <tr>\n",
       "      <td>4</td>\n",
       "      <td>1000</td>\n",
       "      <td>9</td>\n",
       "      <td>0.0</td>\n",
       "      <td>0.0</td>\n",
       "      <td>0.0</td>\n",
       "      <td>0.0</td>\n",
       "    </tr>\n",
       "    <tr>\n",
       "      <td>...</td>\n",
       "      <td>...</td>\n",
       "      <td>...</td>\n",
       "      <td>...</td>\n",
       "      <td>...</td>\n",
       "      <td>...</td>\n",
       "      <td>...</td>\n",
       "    </tr>\n",
       "    <tr>\n",
       "      <td>3209</td>\n",
       "      <td>1494</td>\n",
       "      <td>8</td>\n",
       "      <td>NaN</td>\n",
       "      <td>NaN</td>\n",
       "      <td>0.0</td>\n",
       "      <td>0.0</td>\n",
       "    </tr>\n",
       "    <tr>\n",
       "      <td>3210</td>\n",
       "      <td>1494</td>\n",
       "      <td>9</td>\n",
       "      <td>NaN</td>\n",
       "      <td>NaN</td>\n",
       "      <td>2.0</td>\n",
       "      <td>400.0</td>\n",
       "    </tr>\n",
       "    <tr>\n",
       "      <td>3211</td>\n",
       "      <td>1494</td>\n",
       "      <td>10</td>\n",
       "      <td>NaN</td>\n",
       "      <td>NaN</td>\n",
       "      <td>3.0</td>\n",
       "      <td>600.0</td>\n",
       "    </tr>\n",
       "    <tr>\n",
       "      <td>3212</td>\n",
       "      <td>1494</td>\n",
       "      <td>11</td>\n",
       "      <td>NaN</td>\n",
       "      <td>NaN</td>\n",
       "      <td>3.0</td>\n",
       "      <td>600.0</td>\n",
       "    </tr>\n",
       "    <tr>\n",
       "      <td>3213</td>\n",
       "      <td>1494</td>\n",
       "      <td>12</td>\n",
       "      <td>NaN</td>\n",
       "      <td>NaN</td>\n",
       "      <td>3.0</td>\n",
       "      <td>600.0</td>\n",
       "    </tr>\n",
       "  </tbody>\n",
       "</table>\n",
       "<p>3214 rows × 6 columns</p>\n",
       "</div>"
      ],
      "text/plain": [
       "      user_id  month  message_over_tarif  final_overprice_for_messages  \\\n",
       "0        1000      5                 0.0                           0.0   \n",
       "1        1000      6                 0.0                           0.0   \n",
       "2        1000      7                 0.0                           0.0   \n",
       "3        1000      8                 0.0                           0.0   \n",
       "4        1000      9                 0.0                           0.0   \n",
       "...       ...    ...                 ...                           ...   \n",
       "3209     1494      8                 NaN                           NaN   \n",
       "3210     1494      9                 NaN                           NaN   \n",
       "3211     1494     10                 NaN                           NaN   \n",
       "3212     1494     11                 NaN                           NaN   \n",
       "3213     1494     12                 NaN                           NaN   \n",
       "\n",
       "      gb_over_tarif  final_overprice_internet  \n",
       "0               0.0                       0.0  \n",
       "1               0.0                       0.0  \n",
       "2               0.0                       0.0  \n",
       "3               0.0                       0.0  \n",
       "4               0.0                       0.0  \n",
       "...             ...                       ...  \n",
       "3209            0.0                       0.0  \n",
       "3210            2.0                     400.0  \n",
       "3211            3.0                     600.0  \n",
       "3212            3.0                     600.0  \n",
       "3213            3.0                     600.0  \n",
       "\n",
       "[3214 rows x 6 columns]"
      ]
     },
     "execution_count": 63,
     "metadata": {},
     "output_type": "execute_result"
    }
   ],
   "source": [
    "helpi = messages_group_final.merge(internet_group_final, on=['user_id', 'month'], how='outer')\n",
    "helpi"
   ]
  },
  {
   "cell_type": "code",
   "execution_count": 64,
   "metadata": {},
   "outputs": [
    {
     "name": "stderr",
     "output_type": "stream",
     "text": [
      "/opt/conda/lib/python3.7/site-packages/pandas/core/reshape/merge.py:617: UserWarning: merging between different levels can give an unintended result (2 levels on the left, 1 on the right)\n",
      "  warnings.warn(msg, UserWarning)\n"
     ]
    },
    {
     "data": {
      "text/html": [
       "<div>\n",
       "<style scoped>\n",
       "    .dataframe tbody tr th:only-of-type {\n",
       "        vertical-align: middle;\n",
       "    }\n",
       "\n",
       "    .dataframe tbody tr th {\n",
       "        vertical-align: top;\n",
       "    }\n",
       "\n",
       "    .dataframe thead th {\n",
       "        text-align: right;\n",
       "    }\n",
       "</style>\n",
       "<table border=\"1\" class=\"dataframe\">\n",
       "  <thead>\n",
       "    <tr style=\"text-align: right;\">\n",
       "      <th></th>\n",
       "      <th>user_id</th>\n",
       "      <th>month</th>\n",
       "      <th>(user_id, )</th>\n",
       "      <th>(month, )</th>\n",
       "      <th>(minutes_over_tariff, )</th>\n",
       "      <th>(final_overprice_for_calls, )</th>\n",
       "      <th>message_over_tarif</th>\n",
       "      <th>final_overprice_for_messages</th>\n",
       "      <th>gb_over_tarif</th>\n",
       "      <th>final_overprice_internet</th>\n",
       "    </tr>\n",
       "  </thead>\n",
       "  <tbody>\n",
       "    <tr>\n",
       "      <td>0</td>\n",
       "      <td>1000</td>\n",
       "      <td>5</td>\n",
       "      <td>1000.0</td>\n",
       "      <td>5.0</td>\n",
       "      <td>0.0</td>\n",
       "      <td>0.0</td>\n",
       "      <td>0.0</td>\n",
       "      <td>0.0</td>\n",
       "      <td>0.0</td>\n",
       "      <td>0.0</td>\n",
       "    </tr>\n",
       "    <tr>\n",
       "      <td>1</td>\n",
       "      <td>1000</td>\n",
       "      <td>6</td>\n",
       "      <td>1000.0</td>\n",
       "      <td>6.0</td>\n",
       "      <td>0.0</td>\n",
       "      <td>0.0</td>\n",
       "      <td>0.0</td>\n",
       "      <td>0.0</td>\n",
       "      <td>0.0</td>\n",
       "      <td>0.0</td>\n",
       "    </tr>\n",
       "    <tr>\n",
       "      <td>2</td>\n",
       "      <td>1000</td>\n",
       "      <td>7</td>\n",
       "      <td>1000.0</td>\n",
       "      <td>7.0</td>\n",
       "      <td>0.0</td>\n",
       "      <td>0.0</td>\n",
       "      <td>0.0</td>\n",
       "      <td>0.0</td>\n",
       "      <td>0.0</td>\n",
       "      <td>0.0</td>\n",
       "    </tr>\n",
       "    <tr>\n",
       "      <td>3</td>\n",
       "      <td>1000</td>\n",
       "      <td>8</td>\n",
       "      <td>1000.0</td>\n",
       "      <td>8.0</td>\n",
       "      <td>0.0</td>\n",
       "      <td>0.0</td>\n",
       "      <td>0.0</td>\n",
       "      <td>0.0</td>\n",
       "      <td>0.0</td>\n",
       "      <td>0.0</td>\n",
       "    </tr>\n",
       "    <tr>\n",
       "      <td>4</td>\n",
       "      <td>1000</td>\n",
       "      <td>9</td>\n",
       "      <td>1000.0</td>\n",
       "      <td>9.0</td>\n",
       "      <td>0.0</td>\n",
       "      <td>0.0</td>\n",
       "      <td>0.0</td>\n",
       "      <td>0.0</td>\n",
       "      <td>0.0</td>\n",
       "      <td>0.0</td>\n",
       "    </tr>\n",
       "    <tr>\n",
       "      <td>...</td>\n",
       "      <td>...</td>\n",
       "      <td>...</td>\n",
       "      <td>...</td>\n",
       "      <td>...</td>\n",
       "      <td>...</td>\n",
       "      <td>...</td>\n",
       "      <td>...</td>\n",
       "      <td>...</td>\n",
       "      <td>...</td>\n",
       "      <td>...</td>\n",
       "    </tr>\n",
       "    <tr>\n",
       "      <td>3209</td>\n",
       "      <td>1489</td>\n",
       "      <td>9</td>\n",
       "      <td>0.0</td>\n",
       "      <td>0.0</td>\n",
       "      <td>0.0</td>\n",
       "      <td>0.0</td>\n",
       "      <td>0.0</td>\n",
       "      <td>0.0</td>\n",
       "      <td>2.0</td>\n",
       "      <td>400.0</td>\n",
       "    </tr>\n",
       "    <tr>\n",
       "      <td>3210</td>\n",
       "      <td>1489</td>\n",
       "      <td>10</td>\n",
       "      <td>0.0</td>\n",
       "      <td>0.0</td>\n",
       "      <td>0.0</td>\n",
       "      <td>0.0</td>\n",
       "      <td>0.0</td>\n",
       "      <td>0.0</td>\n",
       "      <td>5.0</td>\n",
       "      <td>1000.0</td>\n",
       "    </tr>\n",
       "    <tr>\n",
       "      <td>3211</td>\n",
       "      <td>1489</td>\n",
       "      <td>11</td>\n",
       "      <td>0.0</td>\n",
       "      <td>0.0</td>\n",
       "      <td>0.0</td>\n",
       "      <td>0.0</td>\n",
       "      <td>0.0</td>\n",
       "      <td>0.0</td>\n",
       "      <td>3.0</td>\n",
       "      <td>600.0</td>\n",
       "    </tr>\n",
       "    <tr>\n",
       "      <td>3212</td>\n",
       "      <td>1489</td>\n",
       "      <td>12</td>\n",
       "      <td>0.0</td>\n",
       "      <td>0.0</td>\n",
       "      <td>0.0</td>\n",
       "      <td>0.0</td>\n",
       "      <td>0.0</td>\n",
       "      <td>0.0</td>\n",
       "      <td>2.0</td>\n",
       "      <td>400.0</td>\n",
       "    </tr>\n",
       "    <tr>\n",
       "      <td>3213</td>\n",
       "      <td>1476</td>\n",
       "      <td>4</td>\n",
       "      <td>0.0</td>\n",
       "      <td>0.0</td>\n",
       "      <td>0.0</td>\n",
       "      <td>0.0</td>\n",
       "      <td>0.0</td>\n",
       "      <td>0.0</td>\n",
       "      <td>0.0</td>\n",
       "      <td>0.0</td>\n",
       "    </tr>\n",
       "  </tbody>\n",
       "</table>\n",
       "<p>3214 rows × 10 columns</p>\n",
       "</div>"
      ],
      "text/plain": [
       "      user_id  month  (user_id, )  (month, )  (minutes_over_tariff, )  \\\n",
       "0        1000      5       1000.0        5.0                      0.0   \n",
       "1        1000      6       1000.0        6.0                      0.0   \n",
       "2        1000      7       1000.0        7.0                      0.0   \n",
       "3        1000      8       1000.0        8.0                      0.0   \n",
       "4        1000      9       1000.0        9.0                      0.0   \n",
       "...       ...    ...          ...        ...                      ...   \n",
       "3209     1489      9          0.0        0.0                      0.0   \n",
       "3210     1489     10          0.0        0.0                      0.0   \n",
       "3211     1489     11          0.0        0.0                      0.0   \n",
       "3212     1489     12          0.0        0.0                      0.0   \n",
       "3213     1476      4          0.0        0.0                      0.0   \n",
       "\n",
       "      (final_overprice_for_calls, )  message_over_tarif  \\\n",
       "0                               0.0                 0.0   \n",
       "1                               0.0                 0.0   \n",
       "2                               0.0                 0.0   \n",
       "3                               0.0                 0.0   \n",
       "4                               0.0                 0.0   \n",
       "...                             ...                 ...   \n",
       "3209                            0.0                 0.0   \n",
       "3210                            0.0                 0.0   \n",
       "3211                            0.0                 0.0   \n",
       "3212                            0.0                 0.0   \n",
       "3213                            0.0                 0.0   \n",
       "\n",
       "      final_overprice_for_messages  gb_over_tarif  final_overprice_internet  \n",
       "0                              0.0            0.0                       0.0  \n",
       "1                              0.0            0.0                       0.0  \n",
       "2                              0.0            0.0                       0.0  \n",
       "3                              0.0            0.0                       0.0  \n",
       "4                              0.0            0.0                       0.0  \n",
       "...                            ...            ...                       ...  \n",
       "3209                           0.0            2.0                     400.0  \n",
       "3210                           0.0            5.0                    1000.0  \n",
       "3211                           0.0            3.0                     600.0  \n",
       "3212                           0.0            2.0                     400.0  \n",
       "3213                           0.0            0.0                       0.0  \n",
       "\n",
       "[3214 rows x 10 columns]"
      ]
     },
     "execution_count": 64,
     "metadata": {},
     "output_type": "execute_result"
    }
   ],
   "source": [
    "final_group = calls_group_final.merge(helpi, on=['user_id', 'month'], how='outer')\n",
    "final_group = final_group.fillna(0)\n",
    "final_group"
   ]
  },
  {
   "cell_type": "code",
   "execution_count": 65,
   "metadata": {},
   "outputs": [
    {
     "data": {
      "text/plain": [
       "498"
      ]
     },
     "execution_count": 65,
     "metadata": {},
     "output_type": "execute_result"
    }
   ],
   "source": [
    "final_group.user_id.nunique()"
   ]
  },
  {
   "cell_type": "code",
   "execution_count": 66,
   "metadata": {},
   "outputs": [
    {
     "data": {
      "text/plain": [
       "Index([                        'user_id',                           'month',\n",
       "                         ('user_id', ''),                     ('month', ''),\n",
       "             ('minutes_over_tariff', ''), ('final_overprice_for_calls', ''),\n",
       "                    'message_over_tarif',    'final_overprice_for_messages',\n",
       "                         'gb_over_tarif',        'final_overprice_internet'],\n",
       "      dtype='object')"
      ]
     },
     "execution_count": 66,
     "metadata": {},
     "output_type": "execute_result"
    }
   ],
   "source": [
    "final_group.columns"
   ]
  },
  {
   "cell_type": "code",
   "execution_count": 67,
   "metadata": {},
   "outputs": [
    {
     "name": "stderr",
     "output_type": "stream",
     "text": [
      "/opt/conda/lib/python3.7/site-packages/numpy/core/_asarray.py:83: VisibleDeprecationWarning: Creating an ndarray from ragged nested sequences (which is a list-or-tuple of lists-or-tuples-or ndarrays with different lengths or shapes) is deprecated. If you meant to do this, you must specify 'dtype=object' when creating the ndarray\n",
      "  return array(a, dtype, copy=False, order=order)\n"
     ]
    },
    {
     "data": {
      "text/html": [
       "<div>\n",
       "<style scoped>\n",
       "    .dataframe tbody tr th:only-of-type {\n",
       "        vertical-align: middle;\n",
       "    }\n",
       "\n",
       "    .dataframe tbody tr th {\n",
       "        vertical-align: top;\n",
       "    }\n",
       "\n",
       "    .dataframe thead th {\n",
       "        text-align: right;\n",
       "    }\n",
       "</style>\n",
       "<table border=\"1\" class=\"dataframe\">\n",
       "  <thead>\n",
       "    <tr style=\"text-align: right;\">\n",
       "      <th></th>\n",
       "      <th>user_id</th>\n",
       "      <th>month</th>\n",
       "      <th>(final_overprice_for_calls, )</th>\n",
       "      <th>final_overprice_for_messages</th>\n",
       "      <th>final_overprice_internet</th>\n",
       "    </tr>\n",
       "  </thead>\n",
       "  <tbody>\n",
       "    <tr>\n",
       "      <td>0</td>\n",
       "      <td>1000</td>\n",
       "      <td>5</td>\n",
       "      <td>0.0</td>\n",
       "      <td>0.0</td>\n",
       "      <td>0.0</td>\n",
       "    </tr>\n",
       "    <tr>\n",
       "      <td>1</td>\n",
       "      <td>1000</td>\n",
       "      <td>6</td>\n",
       "      <td>0.0</td>\n",
       "      <td>0.0</td>\n",
       "      <td>0.0</td>\n",
       "    </tr>\n",
       "    <tr>\n",
       "      <td>2</td>\n",
       "      <td>1000</td>\n",
       "      <td>7</td>\n",
       "      <td>0.0</td>\n",
       "      <td>0.0</td>\n",
       "      <td>0.0</td>\n",
       "    </tr>\n",
       "    <tr>\n",
       "      <td>3</td>\n",
       "      <td>1000</td>\n",
       "      <td>8</td>\n",
       "      <td>0.0</td>\n",
       "      <td>0.0</td>\n",
       "      <td>0.0</td>\n",
       "    </tr>\n",
       "    <tr>\n",
       "      <td>4</td>\n",
       "      <td>1000</td>\n",
       "      <td>9</td>\n",
       "      <td>0.0</td>\n",
       "      <td>0.0</td>\n",
       "      <td>0.0</td>\n",
       "    </tr>\n",
       "    <tr>\n",
       "      <td>...</td>\n",
       "      <td>...</td>\n",
       "      <td>...</td>\n",
       "      <td>...</td>\n",
       "      <td>...</td>\n",
       "      <td>...</td>\n",
       "    </tr>\n",
       "    <tr>\n",
       "      <td>3209</td>\n",
       "      <td>1489</td>\n",
       "      <td>9</td>\n",
       "      <td>0.0</td>\n",
       "      <td>0.0</td>\n",
       "      <td>400.0</td>\n",
       "    </tr>\n",
       "    <tr>\n",
       "      <td>3210</td>\n",
       "      <td>1489</td>\n",
       "      <td>10</td>\n",
       "      <td>0.0</td>\n",
       "      <td>0.0</td>\n",
       "      <td>1000.0</td>\n",
       "    </tr>\n",
       "    <tr>\n",
       "      <td>3211</td>\n",
       "      <td>1489</td>\n",
       "      <td>11</td>\n",
       "      <td>0.0</td>\n",
       "      <td>0.0</td>\n",
       "      <td>600.0</td>\n",
       "    </tr>\n",
       "    <tr>\n",
       "      <td>3212</td>\n",
       "      <td>1489</td>\n",
       "      <td>12</td>\n",
       "      <td>0.0</td>\n",
       "      <td>0.0</td>\n",
       "      <td>400.0</td>\n",
       "    </tr>\n",
       "    <tr>\n",
       "      <td>3213</td>\n",
       "      <td>1476</td>\n",
       "      <td>4</td>\n",
       "      <td>0.0</td>\n",
       "      <td>0.0</td>\n",
       "      <td>0.0</td>\n",
       "    </tr>\n",
       "  </tbody>\n",
       "</table>\n",
       "<p>3214 rows × 5 columns</p>\n",
       "</div>"
      ],
      "text/plain": [
       "      user_id  month  (final_overprice_for_calls, )  \\\n",
       "0        1000      5                            0.0   \n",
       "1        1000      6                            0.0   \n",
       "2        1000      7                            0.0   \n",
       "3        1000      8                            0.0   \n",
       "4        1000      9                            0.0   \n",
       "...       ...    ...                            ...   \n",
       "3209     1489      9                            0.0   \n",
       "3210     1489     10                            0.0   \n",
       "3211     1489     11                            0.0   \n",
       "3212     1489     12                            0.0   \n",
       "3213     1476      4                            0.0   \n",
       "\n",
       "      final_overprice_for_messages  final_overprice_internet  \n",
       "0                              0.0                       0.0  \n",
       "1                              0.0                       0.0  \n",
       "2                              0.0                       0.0  \n",
       "3                              0.0                       0.0  \n",
       "4                              0.0                       0.0  \n",
       "...                            ...                       ...  \n",
       "3209                           0.0                     400.0  \n",
       "3210                           0.0                    1000.0  \n",
       "3211                           0.0                     600.0  \n",
       "3212                           0.0                     400.0  \n",
       "3213                           0.0                       0.0  \n",
       "\n",
       "[3214 rows x 5 columns]"
      ]
     },
     "execution_count": 67,
     "metadata": {},
     "output_type": "execute_result"
    }
   ],
   "source": [
    "final_group = final_group.loc[:,\n",
    "            ['user_id', 'month', ('final_overprice_for_calls', ''), 'final_overprice_for_messages', 'final_overprice_internet']\n",
    "                             ]\n",
    "final_group"
   ]
  },
  {
   "cell_type": "code",
   "execution_count": 68,
   "metadata": {},
   "outputs": [
    {
     "data": {
      "text/html": [
       "<div>\n",
       "<style scoped>\n",
       "    .dataframe tbody tr th:only-of-type {\n",
       "        vertical-align: middle;\n",
       "    }\n",
       "\n",
       "    .dataframe tbody tr th {\n",
       "        vertical-align: top;\n",
       "    }\n",
       "\n",
       "    .dataframe thead th {\n",
       "        text-align: right;\n",
       "    }\n",
       "</style>\n",
       "<table border=\"1\" class=\"dataframe\">\n",
       "  <thead>\n",
       "    <tr style=\"text-align: right;\">\n",
       "      <th></th>\n",
       "      <th>user_id</th>\n",
       "      <th>month</th>\n",
       "      <th>(final_overprice_for_calls, )</th>\n",
       "      <th>final_overprice_for_messages</th>\n",
       "      <th>final_overprice_internet</th>\n",
       "      <th>tarif</th>\n",
       "    </tr>\n",
       "  </thead>\n",
       "  <tbody>\n",
       "    <tr>\n",
       "      <td>0</td>\n",
       "      <td>1000</td>\n",
       "      <td>5</td>\n",
       "      <td>0.0</td>\n",
       "      <td>0.0</td>\n",
       "      <td>0.0</td>\n",
       "      <td>ultra</td>\n",
       "    </tr>\n",
       "    <tr>\n",
       "      <td>1</td>\n",
       "      <td>1000</td>\n",
       "      <td>6</td>\n",
       "      <td>0.0</td>\n",
       "      <td>0.0</td>\n",
       "      <td>0.0</td>\n",
       "      <td>ultra</td>\n",
       "    </tr>\n",
       "    <tr>\n",
       "      <td>2</td>\n",
       "      <td>1000</td>\n",
       "      <td>7</td>\n",
       "      <td>0.0</td>\n",
       "      <td>0.0</td>\n",
       "      <td>0.0</td>\n",
       "      <td>ultra</td>\n",
       "    </tr>\n",
       "    <tr>\n",
       "      <td>3</td>\n",
       "      <td>1000</td>\n",
       "      <td>8</td>\n",
       "      <td>0.0</td>\n",
       "      <td>0.0</td>\n",
       "      <td>0.0</td>\n",
       "      <td>ultra</td>\n",
       "    </tr>\n",
       "    <tr>\n",
       "      <td>4</td>\n",
       "      <td>1000</td>\n",
       "      <td>9</td>\n",
       "      <td>0.0</td>\n",
       "      <td>0.0</td>\n",
       "      <td>0.0</td>\n",
       "      <td>ultra</td>\n",
       "    </tr>\n",
       "    <tr>\n",
       "      <td>...</td>\n",
       "      <td>...</td>\n",
       "      <td>...</td>\n",
       "      <td>...</td>\n",
       "      <td>...</td>\n",
       "      <td>...</td>\n",
       "      <td>...</td>\n",
       "    </tr>\n",
       "    <tr>\n",
       "      <td>3209</td>\n",
       "      <td>1489</td>\n",
       "      <td>9</td>\n",
       "      <td>0.0</td>\n",
       "      <td>0.0</td>\n",
       "      <td>400.0</td>\n",
       "      <td>smart</td>\n",
       "    </tr>\n",
       "    <tr>\n",
       "      <td>3210</td>\n",
       "      <td>1489</td>\n",
       "      <td>10</td>\n",
       "      <td>0.0</td>\n",
       "      <td>0.0</td>\n",
       "      <td>1000.0</td>\n",
       "      <td>smart</td>\n",
       "    </tr>\n",
       "    <tr>\n",
       "      <td>3211</td>\n",
       "      <td>1489</td>\n",
       "      <td>11</td>\n",
       "      <td>0.0</td>\n",
       "      <td>0.0</td>\n",
       "      <td>600.0</td>\n",
       "      <td>smart</td>\n",
       "    </tr>\n",
       "    <tr>\n",
       "      <td>3212</td>\n",
       "      <td>1489</td>\n",
       "      <td>12</td>\n",
       "      <td>0.0</td>\n",
       "      <td>0.0</td>\n",
       "      <td>400.0</td>\n",
       "      <td>smart</td>\n",
       "    </tr>\n",
       "    <tr>\n",
       "      <td>3213</td>\n",
       "      <td>1476</td>\n",
       "      <td>4</td>\n",
       "      <td>0.0</td>\n",
       "      <td>0.0</td>\n",
       "      <td>0.0</td>\n",
       "      <td>ultra</td>\n",
       "    </tr>\n",
       "  </tbody>\n",
       "</table>\n",
       "<p>3214 rows × 6 columns</p>\n",
       "</div>"
      ],
      "text/plain": [
       "      user_id  month  (final_overprice_for_calls, )  \\\n",
       "0        1000      5                            0.0   \n",
       "1        1000      6                            0.0   \n",
       "2        1000      7                            0.0   \n",
       "3        1000      8                            0.0   \n",
       "4        1000      9                            0.0   \n",
       "...       ...    ...                            ...   \n",
       "3209     1489      9                            0.0   \n",
       "3210     1489     10                            0.0   \n",
       "3211     1489     11                            0.0   \n",
       "3212     1489     12                            0.0   \n",
       "3213     1476      4                            0.0   \n",
       "\n",
       "      final_overprice_for_messages  final_overprice_internet  tarif  \n",
       "0                              0.0                       0.0  ultra  \n",
       "1                              0.0                       0.0  ultra  \n",
       "2                              0.0                       0.0  ultra  \n",
       "3                              0.0                       0.0  ultra  \n",
       "4                              0.0                       0.0  ultra  \n",
       "...                            ...                       ...    ...  \n",
       "3209                           0.0                     400.0  smart  \n",
       "3210                           0.0                    1000.0  smart  \n",
       "3211                           0.0                     600.0  smart  \n",
       "3212                           0.0                     400.0  smart  \n",
       "3213                           0.0                       0.0  ultra  \n",
       "\n",
       "[3214 rows x 6 columns]"
      ]
     },
     "execution_count": 68,
     "metadata": {},
     "output_type": "execute_result"
    }
   ],
   "source": [
    "final_group['tarif'] = final_group['user_id'].apply(tariff, args=(sheet,))\n",
    "final_group"
   ]
  },
  {
   "cell_type": "code",
   "execution_count": 69,
   "metadata": {},
   "outputs": [],
   "source": [
    "def abonent_payments(tarif):\n",
    "    if tarif == 'smart':\n",
    "        return 550\n",
    "    else:\n",
    "        return 1950"
   ]
  },
  {
   "cell_type": "code",
   "execution_count": 70,
   "metadata": {},
   "outputs": [
    {
     "data": {
      "text/html": [
       "<div>\n",
       "<style scoped>\n",
       "    .dataframe tbody tr th:only-of-type {\n",
       "        vertical-align: middle;\n",
       "    }\n",
       "\n",
       "    .dataframe tbody tr th {\n",
       "        vertical-align: top;\n",
       "    }\n",
       "\n",
       "    .dataframe thead th {\n",
       "        text-align: right;\n",
       "    }\n",
       "</style>\n",
       "<table border=\"1\" class=\"dataframe\">\n",
       "  <thead>\n",
       "    <tr style=\"text-align: right;\">\n",
       "      <th></th>\n",
       "      <th>user_id</th>\n",
       "      <th>month</th>\n",
       "      <th>(final_overprice_for_calls, )</th>\n",
       "      <th>final_overprice_for_messages</th>\n",
       "      <th>final_overprice_internet</th>\n",
       "      <th>tarif</th>\n",
       "      <th>abonent_payments</th>\n",
       "    </tr>\n",
       "  </thead>\n",
       "  <tbody>\n",
       "    <tr>\n",
       "      <td>0</td>\n",
       "      <td>1000</td>\n",
       "      <td>5</td>\n",
       "      <td>0.0</td>\n",
       "      <td>0.0</td>\n",
       "      <td>0.0</td>\n",
       "      <td>ultra</td>\n",
       "      <td>1950</td>\n",
       "    </tr>\n",
       "    <tr>\n",
       "      <td>1</td>\n",
       "      <td>1000</td>\n",
       "      <td>6</td>\n",
       "      <td>0.0</td>\n",
       "      <td>0.0</td>\n",
       "      <td>0.0</td>\n",
       "      <td>ultra</td>\n",
       "      <td>1950</td>\n",
       "    </tr>\n",
       "    <tr>\n",
       "      <td>2</td>\n",
       "      <td>1000</td>\n",
       "      <td>7</td>\n",
       "      <td>0.0</td>\n",
       "      <td>0.0</td>\n",
       "      <td>0.0</td>\n",
       "      <td>ultra</td>\n",
       "      <td>1950</td>\n",
       "    </tr>\n",
       "    <tr>\n",
       "      <td>3</td>\n",
       "      <td>1000</td>\n",
       "      <td>8</td>\n",
       "      <td>0.0</td>\n",
       "      <td>0.0</td>\n",
       "      <td>0.0</td>\n",
       "      <td>ultra</td>\n",
       "      <td>1950</td>\n",
       "    </tr>\n",
       "    <tr>\n",
       "      <td>4</td>\n",
       "      <td>1000</td>\n",
       "      <td>9</td>\n",
       "      <td>0.0</td>\n",
       "      <td>0.0</td>\n",
       "      <td>0.0</td>\n",
       "      <td>ultra</td>\n",
       "      <td>1950</td>\n",
       "    </tr>\n",
       "    <tr>\n",
       "      <td>...</td>\n",
       "      <td>...</td>\n",
       "      <td>...</td>\n",
       "      <td>...</td>\n",
       "      <td>...</td>\n",
       "      <td>...</td>\n",
       "      <td>...</td>\n",
       "      <td>...</td>\n",
       "    </tr>\n",
       "    <tr>\n",
       "      <td>3209</td>\n",
       "      <td>1489</td>\n",
       "      <td>9</td>\n",
       "      <td>0.0</td>\n",
       "      <td>0.0</td>\n",
       "      <td>400.0</td>\n",
       "      <td>smart</td>\n",
       "      <td>550</td>\n",
       "    </tr>\n",
       "    <tr>\n",
       "      <td>3210</td>\n",
       "      <td>1489</td>\n",
       "      <td>10</td>\n",
       "      <td>0.0</td>\n",
       "      <td>0.0</td>\n",
       "      <td>1000.0</td>\n",
       "      <td>smart</td>\n",
       "      <td>550</td>\n",
       "    </tr>\n",
       "    <tr>\n",
       "      <td>3211</td>\n",
       "      <td>1489</td>\n",
       "      <td>11</td>\n",
       "      <td>0.0</td>\n",
       "      <td>0.0</td>\n",
       "      <td>600.0</td>\n",
       "      <td>smart</td>\n",
       "      <td>550</td>\n",
       "    </tr>\n",
       "    <tr>\n",
       "      <td>3212</td>\n",
       "      <td>1489</td>\n",
       "      <td>12</td>\n",
       "      <td>0.0</td>\n",
       "      <td>0.0</td>\n",
       "      <td>400.0</td>\n",
       "      <td>smart</td>\n",
       "      <td>550</td>\n",
       "    </tr>\n",
       "    <tr>\n",
       "      <td>3213</td>\n",
       "      <td>1476</td>\n",
       "      <td>4</td>\n",
       "      <td>0.0</td>\n",
       "      <td>0.0</td>\n",
       "      <td>0.0</td>\n",
       "      <td>ultra</td>\n",
       "      <td>1950</td>\n",
       "    </tr>\n",
       "  </tbody>\n",
       "</table>\n",
       "<p>3214 rows × 7 columns</p>\n",
       "</div>"
      ],
      "text/plain": [
       "      user_id  month  (final_overprice_for_calls, )  \\\n",
       "0        1000      5                            0.0   \n",
       "1        1000      6                            0.0   \n",
       "2        1000      7                            0.0   \n",
       "3        1000      8                            0.0   \n",
       "4        1000      9                            0.0   \n",
       "...       ...    ...                            ...   \n",
       "3209     1489      9                            0.0   \n",
       "3210     1489     10                            0.0   \n",
       "3211     1489     11                            0.0   \n",
       "3212     1489     12                            0.0   \n",
       "3213     1476      4                            0.0   \n",
       "\n",
       "      final_overprice_for_messages  final_overprice_internet  tarif  \\\n",
       "0                              0.0                       0.0  ultra   \n",
       "1                              0.0                       0.0  ultra   \n",
       "2                              0.0                       0.0  ultra   \n",
       "3                              0.0                       0.0  ultra   \n",
       "4                              0.0                       0.0  ultra   \n",
       "...                            ...                       ...    ...   \n",
       "3209                           0.0                     400.0  smart   \n",
       "3210                           0.0                    1000.0  smart   \n",
       "3211                           0.0                     600.0  smart   \n",
       "3212                           0.0                     400.0  smart   \n",
       "3213                           0.0                       0.0  ultra   \n",
       "\n",
       "      abonent_payments  \n",
       "0                 1950  \n",
       "1                 1950  \n",
       "2                 1950  \n",
       "3                 1950  \n",
       "4                 1950  \n",
       "...                ...  \n",
       "3209               550  \n",
       "3210               550  \n",
       "3211               550  \n",
       "3212               550  \n",
       "3213              1950  \n",
       "\n",
       "[3214 rows x 7 columns]"
      ]
     },
     "execution_count": 70,
     "metadata": {},
     "output_type": "execute_result"
    }
   ],
   "source": [
    "final_group['abonent_payments'] = final_group['tarif'].apply(abonent_payments)\n",
    "final_group"
   ]
  },
  {
   "cell_type": "markdown",
   "metadata": {},
   "source": [
    "Расчет стоимости прибыли с клиента для компании"
   ]
  },
  {
   "cell_type": "code",
   "execution_count": 71,
   "metadata": {},
   "outputs": [
    {
     "data": {
      "text/html": [
       "<div>\n",
       "<style scoped>\n",
       "    .dataframe tbody tr th:only-of-type {\n",
       "        vertical-align: middle;\n",
       "    }\n",
       "\n",
       "    .dataframe tbody tr th {\n",
       "        vertical-align: top;\n",
       "    }\n",
       "\n",
       "    .dataframe thead th {\n",
       "        text-align: right;\n",
       "    }\n",
       "</style>\n",
       "<table border=\"1\" class=\"dataframe\">\n",
       "  <thead>\n",
       "    <tr style=\"text-align: right;\">\n",
       "      <th></th>\n",
       "      <th>user_id</th>\n",
       "      <th>month</th>\n",
       "      <th>(final_overprice_for_calls, )</th>\n",
       "      <th>final_overprice_for_messages</th>\n",
       "      <th>final_overprice_internet</th>\n",
       "      <th>tarif</th>\n",
       "      <th>abonent_payments</th>\n",
       "      <th>company_profit</th>\n",
       "    </tr>\n",
       "  </thead>\n",
       "  <tbody>\n",
       "    <tr>\n",
       "      <td>0</td>\n",
       "      <td>1000</td>\n",
       "      <td>5</td>\n",
       "      <td>0.0</td>\n",
       "      <td>0.0</td>\n",
       "      <td>0.0</td>\n",
       "      <td>ultra</td>\n",
       "      <td>1950</td>\n",
       "      <td>1950.0</td>\n",
       "    </tr>\n",
       "    <tr>\n",
       "      <td>1</td>\n",
       "      <td>1000</td>\n",
       "      <td>6</td>\n",
       "      <td>0.0</td>\n",
       "      <td>0.0</td>\n",
       "      <td>0.0</td>\n",
       "      <td>ultra</td>\n",
       "      <td>1950</td>\n",
       "      <td>1950.0</td>\n",
       "    </tr>\n",
       "    <tr>\n",
       "      <td>2</td>\n",
       "      <td>1000</td>\n",
       "      <td>7</td>\n",
       "      <td>0.0</td>\n",
       "      <td>0.0</td>\n",
       "      <td>0.0</td>\n",
       "      <td>ultra</td>\n",
       "      <td>1950</td>\n",
       "      <td>1950.0</td>\n",
       "    </tr>\n",
       "    <tr>\n",
       "      <td>3</td>\n",
       "      <td>1000</td>\n",
       "      <td>8</td>\n",
       "      <td>0.0</td>\n",
       "      <td>0.0</td>\n",
       "      <td>0.0</td>\n",
       "      <td>ultra</td>\n",
       "      <td>1950</td>\n",
       "      <td>1950.0</td>\n",
       "    </tr>\n",
       "    <tr>\n",
       "      <td>4</td>\n",
       "      <td>1000</td>\n",
       "      <td>9</td>\n",
       "      <td>0.0</td>\n",
       "      <td>0.0</td>\n",
       "      <td>0.0</td>\n",
       "      <td>ultra</td>\n",
       "      <td>1950</td>\n",
       "      <td>1950.0</td>\n",
       "    </tr>\n",
       "    <tr>\n",
       "      <td>...</td>\n",
       "      <td>...</td>\n",
       "      <td>...</td>\n",
       "      <td>...</td>\n",
       "      <td>...</td>\n",
       "      <td>...</td>\n",
       "      <td>...</td>\n",
       "      <td>...</td>\n",
       "      <td>...</td>\n",
       "    </tr>\n",
       "    <tr>\n",
       "      <td>3209</td>\n",
       "      <td>1489</td>\n",
       "      <td>9</td>\n",
       "      <td>0.0</td>\n",
       "      <td>0.0</td>\n",
       "      <td>400.0</td>\n",
       "      <td>smart</td>\n",
       "      <td>550</td>\n",
       "      <td>950.0</td>\n",
       "    </tr>\n",
       "    <tr>\n",
       "      <td>3210</td>\n",
       "      <td>1489</td>\n",
       "      <td>10</td>\n",
       "      <td>0.0</td>\n",
       "      <td>0.0</td>\n",
       "      <td>1000.0</td>\n",
       "      <td>smart</td>\n",
       "      <td>550</td>\n",
       "      <td>1550.0</td>\n",
       "    </tr>\n",
       "    <tr>\n",
       "      <td>3211</td>\n",
       "      <td>1489</td>\n",
       "      <td>11</td>\n",
       "      <td>0.0</td>\n",
       "      <td>0.0</td>\n",
       "      <td>600.0</td>\n",
       "      <td>smart</td>\n",
       "      <td>550</td>\n",
       "      <td>1150.0</td>\n",
       "    </tr>\n",
       "    <tr>\n",
       "      <td>3212</td>\n",
       "      <td>1489</td>\n",
       "      <td>12</td>\n",
       "      <td>0.0</td>\n",
       "      <td>0.0</td>\n",
       "      <td>400.0</td>\n",
       "      <td>smart</td>\n",
       "      <td>550</td>\n",
       "      <td>950.0</td>\n",
       "    </tr>\n",
       "    <tr>\n",
       "      <td>3213</td>\n",
       "      <td>1476</td>\n",
       "      <td>4</td>\n",
       "      <td>0.0</td>\n",
       "      <td>0.0</td>\n",
       "      <td>0.0</td>\n",
       "      <td>ultra</td>\n",
       "      <td>1950</td>\n",
       "      <td>1950.0</td>\n",
       "    </tr>\n",
       "  </tbody>\n",
       "</table>\n",
       "<p>3214 rows × 8 columns</p>\n",
       "</div>"
      ],
      "text/plain": [
       "      user_id  month  (final_overprice_for_calls, )  \\\n",
       "0        1000      5                            0.0   \n",
       "1        1000      6                            0.0   \n",
       "2        1000      7                            0.0   \n",
       "3        1000      8                            0.0   \n",
       "4        1000      9                            0.0   \n",
       "...       ...    ...                            ...   \n",
       "3209     1489      9                            0.0   \n",
       "3210     1489     10                            0.0   \n",
       "3211     1489     11                            0.0   \n",
       "3212     1489     12                            0.0   \n",
       "3213     1476      4                            0.0   \n",
       "\n",
       "      final_overprice_for_messages  final_overprice_internet  tarif  \\\n",
       "0                              0.0                       0.0  ultra   \n",
       "1                              0.0                       0.0  ultra   \n",
       "2                              0.0                       0.0  ultra   \n",
       "3                              0.0                       0.0  ultra   \n",
       "4                              0.0                       0.0  ultra   \n",
       "...                            ...                       ...    ...   \n",
       "3209                           0.0                     400.0  smart   \n",
       "3210                           0.0                    1000.0  smart   \n",
       "3211                           0.0                     600.0  smart   \n",
       "3212                           0.0                     400.0  smart   \n",
       "3213                           0.0                       0.0  ultra   \n",
       "\n",
       "      abonent_payments  company_profit  \n",
       "0                 1950          1950.0  \n",
       "1                 1950          1950.0  \n",
       "2                 1950          1950.0  \n",
       "3                 1950          1950.0  \n",
       "4                 1950          1950.0  \n",
       "...                ...             ...  \n",
       "3209               550           950.0  \n",
       "3210               550          1550.0  \n",
       "3211               550          1150.0  \n",
       "3212               550           950.0  \n",
       "3213              1950          1950.0  \n",
       "\n",
       "[3214 rows x 8 columns]"
      ]
     },
     "execution_count": 71,
     "metadata": {},
     "output_type": "execute_result"
    }
   ],
   "source": [
    "final_group['company_profit'] = final_group[('final_overprice_for_calls','')] + final_group[\n",
    "                    'final_overprice_for_messages'] + final_group['final_overprice_internet'] + final_group['abonent_payments']\n",
    "final_group"
   ]
  },
  {
   "cell_type": "code",
   "execution_count": 72,
   "metadata": {},
   "outputs": [
    {
     "data": {
      "text/plain": [
       "count    3214.000000\n",
       "mean     1507.409770\n",
       "std       793.008233\n",
       "min       550.000000\n",
       "25%       748.000000\n",
       "50%      1568.000000\n",
       "75%      1950.000000\n",
       "max      6614.000000\n",
       "Name: company_profit, dtype: float64"
      ]
     },
     "execution_count": 72,
     "metadata": {},
     "output_type": "execute_result"
    }
   ],
   "source": [
    "final_group['company_profit'].describe()"
   ]
  },
  {
   "cell_type": "markdown",
   "metadata": {},
   "source": [
    "Описание поведения исходя из выборки"
   ]
  },
  {
   "cell_type": "code",
   "execution_count": 73,
   "metadata": {},
   "outputs": [
    {
     "data": {
      "text/html": [
       "<div>\n",
       "<style scoped>\n",
       "    .dataframe tbody tr th:only-of-type {\n",
       "        vertical-align: middle;\n",
       "    }\n",
       "\n",
       "    .dataframe tbody tr th {\n",
       "        vertical-align: top;\n",
       "    }\n",
       "\n",
       "    .dataframe thead tr th {\n",
       "        text-align: left;\n",
       "    }\n",
       "</style>\n",
       "<table border=\"1\" class=\"dataframe\">\n",
       "  <thead>\n",
       "    <tr>\n",
       "      <th></th>\n",
       "      <th>user_id</th>\n",
       "      <th>month</th>\n",
       "      <th colspan=\"2\" halign=\"left\">duration</th>\n",
       "      <th>tarif</th>\n",
       "      <th>paid_minutes</th>\n",
       "      <th>minutes_for_company</th>\n",
       "      <th>minutes_over_tariff</th>\n",
       "      <th>overprice_per_minutes</th>\n",
       "      <th>final_overprice_for_calls</th>\n",
       "    </tr>\n",
       "    <tr>\n",
       "      <th></th>\n",
       "      <th></th>\n",
       "      <th></th>\n",
       "      <th>count</th>\n",
       "      <th>sum</th>\n",
       "      <th></th>\n",
       "      <th></th>\n",
       "      <th></th>\n",
       "      <th></th>\n",
       "      <th></th>\n",
       "      <th></th>\n",
       "    </tr>\n",
       "  </thead>\n",
       "  <tbody>\n",
       "    <tr>\n",
       "      <td>0</td>\n",
       "      <td>1000</td>\n",
       "      <td>5</td>\n",
       "      <td>22</td>\n",
       "      <td>150.06</td>\n",
       "      <td>ultra</td>\n",
       "      <td>3000</td>\n",
       "      <td>151.0</td>\n",
       "      <td>0.0</td>\n",
       "      <td>1</td>\n",
       "      <td>0.0</td>\n",
       "    </tr>\n",
       "    <tr>\n",
       "      <td>1</td>\n",
       "      <td>1000</td>\n",
       "      <td>6</td>\n",
       "      <td>43</td>\n",
       "      <td>158.90</td>\n",
       "      <td>ultra</td>\n",
       "      <td>3000</td>\n",
       "      <td>159.0</td>\n",
       "      <td>0.0</td>\n",
       "      <td>1</td>\n",
       "      <td>0.0</td>\n",
       "    </tr>\n",
       "    <tr>\n",
       "      <td>2</td>\n",
       "      <td>1000</td>\n",
       "      <td>7</td>\n",
       "      <td>47</td>\n",
       "      <td>318.80</td>\n",
       "      <td>ultra</td>\n",
       "      <td>3000</td>\n",
       "      <td>319.0</td>\n",
       "      <td>0.0</td>\n",
       "      <td>1</td>\n",
       "      <td>0.0</td>\n",
       "    </tr>\n",
       "    <tr>\n",
       "      <td>3</td>\n",
       "      <td>1000</td>\n",
       "      <td>8</td>\n",
       "      <td>52</td>\n",
       "      <td>389.87</td>\n",
       "      <td>ultra</td>\n",
       "      <td>3000</td>\n",
       "      <td>390.0</td>\n",
       "      <td>0.0</td>\n",
       "      <td>1</td>\n",
       "      <td>0.0</td>\n",
       "    </tr>\n",
       "    <tr>\n",
       "      <td>4</td>\n",
       "      <td>1000</td>\n",
       "      <td>9</td>\n",
       "      <td>58</td>\n",
       "      <td>440.14</td>\n",
       "      <td>ultra</td>\n",
       "      <td>3000</td>\n",
       "      <td>441.0</td>\n",
       "      <td>0.0</td>\n",
       "      <td>1</td>\n",
       "      <td>0.0</td>\n",
       "    </tr>\n",
       "    <tr>\n",
       "      <td>...</td>\n",
       "      <td>...</td>\n",
       "      <td>...</td>\n",
       "      <td>...</td>\n",
       "      <td>...</td>\n",
       "      <td>...</td>\n",
       "      <td>...</td>\n",
       "      <td>...</td>\n",
       "      <td>...</td>\n",
       "      <td>...</td>\n",
       "      <td>...</td>\n",
       "    </tr>\n",
       "    <tr>\n",
       "      <td>3169</td>\n",
       "      <td>1498</td>\n",
       "      <td>10</td>\n",
       "      <td>41</td>\n",
       "      <td>232.63</td>\n",
       "      <td>smart</td>\n",
       "      <td>500</td>\n",
       "      <td>233.0</td>\n",
       "      <td>0.0</td>\n",
       "      <td>3</td>\n",
       "      <td>0.0</td>\n",
       "    </tr>\n",
       "    <tr>\n",
       "      <td>3170</td>\n",
       "      <td>1499</td>\n",
       "      <td>9</td>\n",
       "      <td>9</td>\n",
       "      <td>64.65</td>\n",
       "      <td>smart</td>\n",
       "      <td>500</td>\n",
       "      <td>65.0</td>\n",
       "      <td>0.0</td>\n",
       "      <td>3</td>\n",
       "      <td>0.0</td>\n",
       "    </tr>\n",
       "    <tr>\n",
       "      <td>3171</td>\n",
       "      <td>1499</td>\n",
       "      <td>10</td>\n",
       "      <td>68</td>\n",
       "      <td>429.91</td>\n",
       "      <td>smart</td>\n",
       "      <td>500</td>\n",
       "      <td>430.0</td>\n",
       "      <td>0.0</td>\n",
       "      <td>3</td>\n",
       "      <td>0.0</td>\n",
       "    </tr>\n",
       "    <tr>\n",
       "      <td>3172</td>\n",
       "      <td>1499</td>\n",
       "      <td>11</td>\n",
       "      <td>74</td>\n",
       "      <td>576.50</td>\n",
       "      <td>smart</td>\n",
       "      <td>500</td>\n",
       "      <td>577.0</td>\n",
       "      <td>77.0</td>\n",
       "      <td>3</td>\n",
       "      <td>231.0</td>\n",
       "    </tr>\n",
       "    <tr>\n",
       "      <td>3173</td>\n",
       "      <td>1499</td>\n",
       "      <td>12</td>\n",
       "      <td>69</td>\n",
       "      <td>465.16</td>\n",
       "      <td>smart</td>\n",
       "      <td>500</td>\n",
       "      <td>466.0</td>\n",
       "      <td>0.0</td>\n",
       "      <td>3</td>\n",
       "      <td>0.0</td>\n",
       "    </tr>\n",
       "  </tbody>\n",
       "</table>\n",
       "<p>3174 rows × 10 columns</p>\n",
       "</div>"
      ],
      "text/plain": [
       "     user_id month duration          tarif paid_minutes minutes_for_company  \\\n",
       "                      count     sum                                           \n",
       "0       1000     5       22  150.06  ultra         3000               151.0   \n",
       "1       1000     6       43  158.90  ultra         3000               159.0   \n",
       "2       1000     7       47  318.80  ultra         3000               319.0   \n",
       "3       1000     8       52  389.87  ultra         3000               390.0   \n",
       "4       1000     9       58  440.14  ultra         3000               441.0   \n",
       "...      ...   ...      ...     ...    ...          ...                 ...   \n",
       "3169    1498    10       41  232.63  smart          500               233.0   \n",
       "3170    1499     9        9   64.65  smart          500                65.0   \n",
       "3171    1499    10       68  429.91  smart          500               430.0   \n",
       "3172    1499    11       74  576.50  smart          500               577.0   \n",
       "3173    1499    12       69  465.16  smart          500               466.0   \n",
       "\n",
       "     minutes_over_tariff overprice_per_minutes final_overprice_for_calls  \n",
       "                                                                          \n",
       "0                    0.0                     1                       0.0  \n",
       "1                    0.0                     1                       0.0  \n",
       "2                    0.0                     1                       0.0  \n",
       "3                    0.0                     1                       0.0  \n",
       "4                    0.0                     1                       0.0  \n",
       "...                  ...                   ...                       ...  \n",
       "3169                 0.0                     3                       0.0  \n",
       "3170                 0.0                     3                       0.0  \n",
       "3171                 0.0                     3                       0.0  \n",
       "3172                77.0                     3                     231.0  \n",
       "3173                 0.0                     3                       0.0  \n",
       "\n",
       "[3174 rows x 10 columns]"
      ]
     },
     "execution_count": 73,
     "metadata": {},
     "output_type": "execute_result"
    }
   ],
   "source": [
    "calls_group"
   ]
  },
  {
   "cell_type": "code",
   "execution_count": 74,
   "metadata": {},
   "outputs": [],
   "source": [
    "calls_group['minutes'] = calls_group[('duration', 'sum')]"
   ]
  },
  {
   "cell_type": "markdown",
   "metadata": {},
   "source": [
    "Распределение минут, потраченных пользователями тарифа смарт в каждом месяце"
   ]
  },
  {
   "cell_type": "code",
   "execution_count": 75,
   "metadata": {},
   "outputs": [
    {
     "data": {
      "text/plain": [
       "Text(0.5, 1.0, 'Smart minutes distribution')"
      ]
     },
     "execution_count": 75,
     "metadata": {},
     "output_type": "execute_result"
    },
    {
     "data": {
      "image/png": "[encoded data removed]",
      "text/plain": [
       "<Figure size 432x288 with 1 Axes>"
      ]
     },
     "metadata": {
      "needs_background": "light"
     },
     "output_type": "display_data"
    }
   ],
   "source": [
    "calls_group.loc[(calls_group['tarif'] == 'smart'), 'minutes'].hist(bins=38)\n",
    "plt.title('Smart minutes distribution')"
   ]
  },
  {
   "cell_type": "code",
   "execution_count": 76,
   "metadata": {},
   "outputs": [
    {
     "data": {
      "text/plain": [
       "count    2223.000000\n",
       "mean      395.491606\n",
       "std       179.032472\n",
       "min         0.000000\n",
       "25%       268.305000\n",
       "50%       398.790000\n",
       "75%       515.360000\n",
       "max      1354.220000\n",
       "Name: minutes, dtype: float64"
      ]
     },
     "execution_count": 76,
     "metadata": {},
     "output_type": "execute_result"
    }
   ],
   "source": [
    "calls_group.loc[(calls_group['tarif'] == 'smart'), 'minutes'].describe()"
   ]
  },
  {
   "cell_type": "markdown",
   "metadata": {},
   "source": [
    "Расчет дисперсии, стандартного отклонения и среднего для тарифа смарт"
   ]
  },
  {
   "cell_type": "code",
   "execution_count": 77,
   "metadata": {},
   "outputs": [
    {
     "data": {
      "text/plain": [
       "32052.625910876148"
      ]
     },
     "execution_count": 77,
     "metadata": {},
     "output_type": "execute_result"
    }
   ],
   "source": [
    "variance_smart = np.var(calls_group.loc[(calls_group['tarif'] == 'smart'), 'minutes'], ddof=1)\n",
    "variance_smart"
   ]
  },
  {
   "cell_type": "code",
   "execution_count": 78,
   "metadata": {},
   "outputs": [
    {
     "data": {
      "text/plain": [
       "179.03247166610907"
      ]
     },
     "execution_count": 78,
     "metadata": {},
     "output_type": "execute_result"
    }
   ],
   "source": [
    "std_smart = math.sqrt(variance_smart)\n",
    "std_smart"
   ]
  },
  {
   "cell_type": "code",
   "execution_count": 79,
   "metadata": {},
   "outputs": [
    {
     "data": {
      "text/plain": [
       "395.4916059379217"
      ]
     },
     "execution_count": 79,
     "metadata": {},
     "output_type": "execute_result"
    }
   ],
   "source": [
    "mean_smart = calls_group.loc[(calls_group['tarif'] == 'smart'), 'minutes'].mean()\n",
    "mean_smart"
   ]
  },
  {
   "cell_type": "markdown",
   "metadata": {},
   "source": [
    "Распределение минут, потраченных пользователями тарифа ультра в каждом месяце"
   ]
  },
  {
   "cell_type": "code",
   "execution_count": 80,
   "metadata": {},
   "outputs": [
    {
     "data": {
      "text/plain": [
       "Text(0.5, 1.0, 'Ultra minutes distribution')"
      ]
     },
     "execution_count": 80,
     "metadata": {},
     "output_type": "execute_result"
    },
    {
     "data": {
      "image/png": "[encoded data removed]",
      "text/plain": [
       "<Figure size 432x288 with 1 Axes>"
      ]
     },
     "metadata": {
      "needs_background": "light"
     },
     "output_type": "display_data"
    }
   ],
   "source": [
    "calls_group.loc[(calls_group['tarif'] == 'ultra'), 'minutes'].hist(bins=10)\n",
    "plt.title('Ultra minutes distribution')"
   ]
  },
  {
   "cell_type": "code",
   "execution_count": 81,
   "metadata": {},
   "outputs": [
    {
     "data": {
      "text/plain": [
       "count     951.000000\n",
       "mean      514.839327\n",
       "std       289.832022\n",
       "min         0.000000\n",
       "25%       291.730000\n",
       "50%       497.890000\n",
       "75%       714.630000\n",
       "max      1578.060000\n",
       "Name: minutes, dtype: float64"
      ]
     },
     "execution_count": 81,
     "metadata": {},
     "output_type": "execute_result"
    }
   ],
   "source": [
    "calls_group.loc[(calls_group['tarif'] == 'ultra'), 'minutes'].describe()"
   ]
  },
  {
   "cell_type": "markdown",
   "metadata": {},
   "source": [
    "Расчет дисперсии, стандартного отклонения и среднего для пользователей тарифа ультра"
   ]
  },
  {
   "cell_type": "code",
   "execution_count": 82,
   "metadata": {},
   "outputs": [
    {
     "data": {
      "text/plain": [
       "84002.60126038875"
      ]
     },
     "execution_count": 82,
     "metadata": {},
     "output_type": "execute_result"
    }
   ],
   "source": [
    "variance_ultra = np.var(calls_group.loc[(calls_group['tarif'] == 'ultra'), 'minutes'], ddof=1)\n",
    "variance_ultra"
   ]
  },
  {
   "cell_type": "code",
   "execution_count": 83,
   "metadata": {},
   "outputs": [
    {
     "data": {
      "text/plain": [
       "289.8320224895599"
      ]
     },
     "execution_count": 83,
     "metadata": {},
     "output_type": "execute_result"
    }
   ],
   "source": [
    "std_ultra = math.sqrt(variance_ultra)\n",
    "std_ultra"
   ]
  },
  {
   "cell_type": "code",
   "execution_count": 84,
   "metadata": {},
   "outputs": [
    {
     "data": {
      "text/plain": [
       "514.8393270241851"
      ]
     },
     "execution_count": 84,
     "metadata": {},
     "output_type": "execute_result"
    }
   ],
   "source": [
    "mean_ultra = calls_group.loc[(calls_group['tarif'] == 'ultra'), 'minutes'].mean()\n",
    "mean_ultra"
   ]
  },
  {
   "cell_type": "markdown",
   "metadata": {},
   "source": [
    "Гистограмма для тарифа смарт напоминает нормальное распределение, но все же немного скошена влево об этом говорит то, что медиана больше среднего, значит многие пользователи этого тарифа тратят меньше среднего минут"
   ]
  },
  {
   "cell_type": "markdown",
   "metadata": {},
   "source": [
    "Гистограма для тарифа ультра скошена вправо, это видно из гистограмы и из того, что медиана меньше среднего, значит многие пользователи используют больше среднего минут"
   ]
  },
  {
   "cell_type": "markdown",
   "metadata": {},
   "source": [
    "Анализ тарифов по смс"
   ]
  },
  {
   "cell_type": "code",
   "execution_count": 85,
   "metadata": {},
   "outputs": [
    {
     "data": {
      "text/html": [
       "<div>\n",
       "<style scoped>\n",
       "    .dataframe tbody tr th:only-of-type {\n",
       "        vertical-align: middle;\n",
       "    }\n",
       "\n",
       "    .dataframe tbody tr th {\n",
       "        vertical-align: top;\n",
       "    }\n",
       "\n",
       "    .dataframe thead th {\n",
       "        text-align: right;\n",
       "    }\n",
       "</style>\n",
       "<table border=\"1\" class=\"dataframe\">\n",
       "  <thead>\n",
       "    <tr style=\"text-align: right;\">\n",
       "      <th></th>\n",
       "      <th>user_id</th>\n",
       "      <th>month</th>\n",
       "      <th>messages</th>\n",
       "      <th>tarif</th>\n",
       "      <th>paid_messages</th>\n",
       "      <th>message_over_tarif</th>\n",
       "      <th>overprice_per_messages</th>\n",
       "      <th>final_overprice_for_messages</th>\n",
       "    </tr>\n",
       "  </thead>\n",
       "  <tbody>\n",
       "    <tr>\n",
       "      <td>0</td>\n",
       "      <td>1000</td>\n",
       "      <td>5</td>\n",
       "      <td>22</td>\n",
       "      <td>ultra</td>\n",
       "      <td>1000</td>\n",
       "      <td>0</td>\n",
       "      <td>1</td>\n",
       "      <td>0</td>\n",
       "    </tr>\n",
       "    <tr>\n",
       "      <td>1</td>\n",
       "      <td>1000</td>\n",
       "      <td>6</td>\n",
       "      <td>60</td>\n",
       "      <td>ultra</td>\n",
       "      <td>1000</td>\n",
       "      <td>0</td>\n",
       "      <td>1</td>\n",
       "      <td>0</td>\n",
       "    </tr>\n",
       "    <tr>\n",
       "      <td>2</td>\n",
       "      <td>1000</td>\n",
       "      <td>7</td>\n",
       "      <td>75</td>\n",
       "      <td>ultra</td>\n",
       "      <td>1000</td>\n",
       "      <td>0</td>\n",
       "      <td>1</td>\n",
       "      <td>0</td>\n",
       "    </tr>\n",
       "    <tr>\n",
       "      <td>3</td>\n",
       "      <td>1000</td>\n",
       "      <td>8</td>\n",
       "      <td>81</td>\n",
       "      <td>ultra</td>\n",
       "      <td>1000</td>\n",
       "      <td>0</td>\n",
       "      <td>1</td>\n",
       "      <td>0</td>\n",
       "    </tr>\n",
       "    <tr>\n",
       "      <td>4</td>\n",
       "      <td>1000</td>\n",
       "      <td>9</td>\n",
       "      <td>57</td>\n",
       "      <td>ultra</td>\n",
       "      <td>1000</td>\n",
       "      <td>0</td>\n",
       "      <td>1</td>\n",
       "      <td>0</td>\n",
       "    </tr>\n",
       "    <tr>\n",
       "      <td>...</td>\n",
       "      <td>...</td>\n",
       "      <td>...</td>\n",
       "      <td>...</td>\n",
       "      <td>...</td>\n",
       "      <td>...</td>\n",
       "      <td>...</td>\n",
       "      <td>...</td>\n",
       "      <td>...</td>\n",
       "    </tr>\n",
       "    <tr>\n",
       "      <td>2712</td>\n",
       "      <td>1498</td>\n",
       "      <td>10</td>\n",
       "      <td>42</td>\n",
       "      <td>smart</td>\n",
       "      <td>50</td>\n",
       "      <td>0</td>\n",
       "      <td>3</td>\n",
       "      <td>0</td>\n",
       "    </tr>\n",
       "    <tr>\n",
       "      <td>2713</td>\n",
       "      <td>1499</td>\n",
       "      <td>9</td>\n",
       "      <td>11</td>\n",
       "      <td>smart</td>\n",
       "      <td>50</td>\n",
       "      <td>0</td>\n",
       "      <td>3</td>\n",
       "      <td>0</td>\n",
       "    </tr>\n",
       "    <tr>\n",
       "      <td>2714</td>\n",
       "      <td>1499</td>\n",
       "      <td>10</td>\n",
       "      <td>48</td>\n",
       "      <td>smart</td>\n",
       "      <td>50</td>\n",
       "      <td>0</td>\n",
       "      <td>3</td>\n",
       "      <td>0</td>\n",
       "    </tr>\n",
       "    <tr>\n",
       "      <td>2715</td>\n",
       "      <td>1499</td>\n",
       "      <td>11</td>\n",
       "      <td>59</td>\n",
       "      <td>smart</td>\n",
       "      <td>50</td>\n",
       "      <td>9</td>\n",
       "      <td>3</td>\n",
       "      <td>27</td>\n",
       "    </tr>\n",
       "    <tr>\n",
       "      <td>2716</td>\n",
       "      <td>1499</td>\n",
       "      <td>12</td>\n",
       "      <td>66</td>\n",
       "      <td>smart</td>\n",
       "      <td>50</td>\n",
       "      <td>16</td>\n",
       "      <td>3</td>\n",
       "      <td>48</td>\n",
       "    </tr>\n",
       "  </tbody>\n",
       "</table>\n",
       "<p>2717 rows × 8 columns</p>\n",
       "</div>"
      ],
      "text/plain": [
       "      user_id  month  messages  tarif  paid_messages  message_over_tarif  \\\n",
       "0        1000      5        22  ultra           1000                   0   \n",
       "1        1000      6        60  ultra           1000                   0   \n",
       "2        1000      7        75  ultra           1000                   0   \n",
       "3        1000      8        81  ultra           1000                   0   \n",
       "4        1000      9        57  ultra           1000                   0   \n",
       "...       ...    ...       ...    ...            ...                 ...   \n",
       "2712     1498     10        42  smart             50                   0   \n",
       "2713     1499      9        11  smart             50                   0   \n",
       "2714     1499     10        48  smart             50                   0   \n",
       "2715     1499     11        59  smart             50                   9   \n",
       "2716     1499     12        66  smart             50                  16   \n",
       "\n",
       "      overprice_per_messages  final_overprice_for_messages  \n",
       "0                          1                             0  \n",
       "1                          1                             0  \n",
       "2                          1                             0  \n",
       "3                          1                             0  \n",
       "4                          1                             0  \n",
       "...                      ...                           ...  \n",
       "2712                       3                             0  \n",
       "2713                       3                             0  \n",
       "2714                       3                             0  \n",
       "2715                       3                            27  \n",
       "2716                       3                            48  \n",
       "\n",
       "[2717 rows x 8 columns]"
      ]
     },
     "execution_count": 85,
     "metadata": {},
     "output_type": "execute_result"
    }
   ],
   "source": [
    "messages_group"
   ]
  },
  {
   "cell_type": "code",
   "execution_count": 86,
   "metadata": {},
   "outputs": [
    {
     "data": {
      "text/plain": [
       "Text(0.5, 1.0, 'Messages Smart distribution')"
      ]
     },
     "execution_count": 86,
     "metadata": {},
     "output_type": "execute_result"
    },
    {
     "data": {
      "image/png": "[encoded data removed]",
      "text/plain": [
       "<Figure size 432x288 with 1 Axes>"
      ]
     },
     "metadata": {
      "needs_background": "light"
     },
     "output_type": "display_data"
    }
   ],
   "source": [
    "messages_group.loc[messages_group['tarif'] == 'smart', 'messages'].hist(bins=25)\n",
    "plt.title('Messages Smart distribution')"
   ]
  },
  {
   "cell_type": "code",
   "execution_count": 87,
   "metadata": {},
   "outputs": [
    {
     "data": {
      "text/plain": [
       "717.5942011753547"
      ]
     },
     "execution_count": 87,
     "metadata": {},
     "output_type": "execute_result"
    }
   ],
   "source": [
    "variance_message_smart = np.var(messages_group.loc[messages_group['tarif'] == 'smart', 'messages'], ddof=1)\n",
    "variance_message_smart"
   ]
  },
  {
   "cell_type": "code",
   "execution_count": 88,
   "metadata": {},
   "outputs": [
    {
     "data": {
      "text/plain": [
       "26.787948804926344"
      ]
     },
     "execution_count": 88,
     "metadata": {},
     "output_type": "execute_result"
    }
   ],
   "source": [
    "std_message_smart = math.sqrt(variance_message_smart)\n",
    "std_message_smart"
   ]
  },
  {
   "cell_type": "code",
   "execution_count": 89,
   "metadata": {},
   "outputs": [
    {
     "data": {
      "text/plain": [
       "38.71644120707596"
      ]
     },
     "execution_count": 89,
     "metadata": {},
     "output_type": "execute_result"
    }
   ],
   "source": [
    "mean_message_smart = messages_group.loc[messages_group['tarif'] == 'smart', 'messages'].mean()\n",
    "mean_message_smart"
   ]
  },
  {
   "cell_type": "code",
   "execution_count": 90,
   "metadata": {},
   "outputs": [
    {
     "data": {
      "text/plain": [
       "count    1922.000000\n",
       "mean       38.716441\n",
       "std        26.787949\n",
       "min         1.000000\n",
       "25%        17.000000\n",
       "50%        34.000000\n",
       "75%        55.000000\n",
       "max       143.000000\n",
       "Name: messages, dtype: float64"
      ]
     },
     "execution_count": 90,
     "metadata": {},
     "output_type": "execute_result"
    }
   ],
   "source": [
    "messages_group.loc[messages_group['tarif'] == 'smart', 'messages'].describe()"
   ]
  },
  {
   "cell_type": "markdown",
   "metadata": {},
   "source": [
    "Поиск среднего, дисперсии и стандартного отклонения по смс для тарифа ультра "
   ]
  },
  {
   "cell_type": "code",
   "execution_count": 91,
   "metadata": {},
   "outputs": [
    {
     "data": {
      "text/plain": [
       "Text(0.5, 1.0, 'Messages Ultra distribution')"
      ]
     },
     "execution_count": 91,
     "metadata": {},
     "output_type": "execute_result"
    },
    {
     "data": {
      "image/png": "[encoded data removed]",
      "text/plain": [
       "<Figure size 432x288 with 1 Axes>"
      ]
     },
     "metadata": {
      "needs_background": "light"
     },
     "output_type": "display_data"
    }
   ],
   "source": [
    "messages_group.loc[messages_group['tarif'] == 'ultra', 'messages'].hist(bins=20)\n",
    "plt.title('Messages Ultra distribution')"
   ]
  },
  {
   "cell_type": "code",
   "execution_count": 92,
   "metadata": {},
   "outputs": [
    {
     "data": {
      "text/plain": [
       "2109.6591828652"
      ]
     },
     "execution_count": 92,
     "metadata": {},
     "output_type": "execute_result"
    }
   ],
   "source": [
    "variance_message_ultra = np.var(messages_group.loc[messages_group['tarif'] == 'ultra', 'messages'], ddof=1)\n",
    "variance_message_ultra"
   ]
  },
  {
   "cell_type": "code",
   "execution_count": 93,
   "metadata": {},
   "outputs": [
    {
     "data": {
      "text/plain": [
       "45.931026364160424"
      ]
     },
     "execution_count": 93,
     "metadata": {},
     "output_type": "execute_result"
    }
   ],
   "source": [
    "std_message_ultra = np.std(messages_group.loc[messages_group['tarif'] == 'ultra', 'messages'], ddof=1)\n",
    "std_message_ultra"
   ]
  },
  {
   "cell_type": "code",
   "execution_count": 94,
   "metadata": {},
   "outputs": [
    {
     "data": {
      "text/plain": [
       "61.161006289308176"
      ]
     },
     "execution_count": 94,
     "metadata": {},
     "output_type": "execute_result"
    }
   ],
   "source": [
    "mean_message_ultra = messages_group.loc[messages_group['tarif'] == 'ultra', 'messages'].mean()\n",
    "mean_message_ultra"
   ]
  },
  {
   "cell_type": "code",
   "execution_count": 95,
   "metadata": {},
   "outputs": [
    {
     "data": {
      "text/plain": [
       "count    795.000000\n",
       "mean      61.161006\n",
       "std       45.931026\n",
       "min        1.000000\n",
       "25%       24.000000\n",
       "50%       51.000000\n",
       "75%       87.500000\n",
       "max      224.000000\n",
       "Name: messages, dtype: float64"
      ]
     },
     "execution_count": 95,
     "metadata": {},
     "output_type": "execute_result"
    }
   ],
   "source": [
    "messages_group.loc[messages_group['tarif'] == 'ultra', 'messages'].describe()"
   ]
  },
  {
   "cell_type": "markdown",
   "metadata": {},
   "source": [
    "По гистограмам можно сказать, что пользователи неактивно используют сообщения, пользователи тарифа смарт в среднем отправляют не более 40 сообщений в месяц, а пользователи тарифа ультра не более 60"
   ]
  },
  {
   "cell_type": "markdown",
   "metadata": {},
   "source": [
    "Расчет для интернета"
   ]
  },
  {
   "cell_type": "code",
   "execution_count": 96,
   "metadata": {},
   "outputs": [
    {
     "data": {
      "text/html": [
       "<div>\n",
       "<style scoped>\n",
       "    .dataframe tbody tr th:only-of-type {\n",
       "        vertical-align: middle;\n",
       "    }\n",
       "\n",
       "    .dataframe tbody tr th {\n",
       "        vertical-align: top;\n",
       "    }\n",
       "\n",
       "    .dataframe thead th {\n",
       "        text-align: right;\n",
       "    }\n",
       "</style>\n",
       "<table border=\"1\" class=\"dataframe\">\n",
       "  <thead>\n",
       "    <tr style=\"text-align: right;\">\n",
       "      <th></th>\n",
       "      <th>user_id</th>\n",
       "      <th>month</th>\n",
       "      <th>mb_used</th>\n",
       "      <th>gb_used</th>\n",
       "      <th>tarif</th>\n",
       "      <th>gb_used_for_company</th>\n",
       "      <th>paid_gigabytes</th>\n",
       "      <th>gb_over_tarif</th>\n",
       "      <th>overprice_per_gb</th>\n",
       "      <th>final_overprice_internet</th>\n",
       "    </tr>\n",
       "  </thead>\n",
       "  <tbody>\n",
       "    <tr>\n",
       "      <td>0</td>\n",
       "      <td>1000</td>\n",
       "      <td>5</td>\n",
       "      <td>2253.49</td>\n",
       "      <td>2.20</td>\n",
       "      <td>ultra</td>\n",
       "      <td>3</td>\n",
       "      <td>30</td>\n",
       "      <td>0</td>\n",
       "      <td>150</td>\n",
       "      <td>0</td>\n",
       "    </tr>\n",
       "    <tr>\n",
       "      <td>1</td>\n",
       "      <td>1000</td>\n",
       "      <td>6</td>\n",
       "      <td>23233.77</td>\n",
       "      <td>22.69</td>\n",
       "      <td>ultra</td>\n",
       "      <td>23</td>\n",
       "      <td>30</td>\n",
       "      <td>0</td>\n",
       "      <td>150</td>\n",
       "      <td>0</td>\n",
       "    </tr>\n",
       "    <tr>\n",
       "      <td>2</td>\n",
       "      <td>1000</td>\n",
       "      <td>7</td>\n",
       "      <td>14003.64</td>\n",
       "      <td>13.68</td>\n",
       "      <td>ultra</td>\n",
       "      <td>14</td>\n",
       "      <td>30</td>\n",
       "      <td>0</td>\n",
       "      <td>150</td>\n",
       "      <td>0</td>\n",
       "    </tr>\n",
       "    <tr>\n",
       "      <td>3</td>\n",
       "      <td>1000</td>\n",
       "      <td>8</td>\n",
       "      <td>14055.93</td>\n",
       "      <td>13.73</td>\n",
       "      <td>ultra</td>\n",
       "      <td>14</td>\n",
       "      <td>30</td>\n",
       "      <td>0</td>\n",
       "      <td>150</td>\n",
       "      <td>0</td>\n",
       "    </tr>\n",
       "    <tr>\n",
       "      <td>4</td>\n",
       "      <td>1000</td>\n",
       "      <td>9</td>\n",
       "      <td>14568.91</td>\n",
       "      <td>14.23</td>\n",
       "      <td>ultra</td>\n",
       "      <td>15</td>\n",
       "      <td>30</td>\n",
       "      <td>0</td>\n",
       "      <td>150</td>\n",
       "      <td>0</td>\n",
       "    </tr>\n",
       "    <tr>\n",
       "      <td>...</td>\n",
       "      <td>...</td>\n",
       "      <td>...</td>\n",
       "      <td>...</td>\n",
       "      <td>...</td>\n",
       "      <td>...</td>\n",
       "      <td>...</td>\n",
       "      <td>...</td>\n",
       "      <td>...</td>\n",
       "      <td>...</td>\n",
       "      <td>...</td>\n",
       "    </tr>\n",
       "    <tr>\n",
       "      <td>3198</td>\n",
       "      <td>1498</td>\n",
       "      <td>10</td>\n",
       "      <td>20579.36</td>\n",
       "      <td>20.10</td>\n",
       "      <td>smart</td>\n",
       "      <td>21</td>\n",
       "      <td>15</td>\n",
       "      <td>6</td>\n",
       "      <td>200</td>\n",
       "      <td>1200</td>\n",
       "    </tr>\n",
       "    <tr>\n",
       "      <td>3199</td>\n",
       "      <td>1499</td>\n",
       "      <td>9</td>\n",
       "      <td>1845.75</td>\n",
       "      <td>1.80</td>\n",
       "      <td>smart</td>\n",
       "      <td>2</td>\n",
       "      <td>15</td>\n",
       "      <td>0</td>\n",
       "      <td>200</td>\n",
       "      <td>0</td>\n",
       "    </tr>\n",
       "    <tr>\n",
       "      <td>3200</td>\n",
       "      <td>1499</td>\n",
       "      <td>10</td>\n",
       "      <td>17788.51</td>\n",
       "      <td>17.37</td>\n",
       "      <td>smart</td>\n",
       "      <td>18</td>\n",
       "      <td>15</td>\n",
       "      <td>3</td>\n",
       "      <td>200</td>\n",
       "      <td>600</td>\n",
       "    </tr>\n",
       "    <tr>\n",
       "      <td>3201</td>\n",
       "      <td>1499</td>\n",
       "      <td>11</td>\n",
       "      <td>17963.31</td>\n",
       "      <td>17.54</td>\n",
       "      <td>smart</td>\n",
       "      <td>18</td>\n",
       "      <td>15</td>\n",
       "      <td>3</td>\n",
       "      <td>200</td>\n",
       "      <td>600</td>\n",
       "    </tr>\n",
       "    <tr>\n",
       "      <td>3202</td>\n",
       "      <td>1499</td>\n",
       "      <td>12</td>\n",
       "      <td>13055.58</td>\n",
       "      <td>12.75</td>\n",
       "      <td>smart</td>\n",
       "      <td>13</td>\n",
       "      <td>15</td>\n",
       "      <td>0</td>\n",
       "      <td>200</td>\n",
       "      <td>0</td>\n",
       "    </tr>\n",
       "  </tbody>\n",
       "</table>\n",
       "<p>3203 rows × 10 columns</p>\n",
       "</div>"
      ],
      "text/plain": [
       "      user_id  month   mb_used  gb_used  tarif  gb_used_for_company  \\\n",
       "0        1000      5   2253.49     2.20  ultra                    3   \n",
       "1        1000      6  23233.77    22.69  ultra                   23   \n",
       "2        1000      7  14003.64    13.68  ultra                   14   \n",
       "3        1000      8  14055.93    13.73  ultra                   14   \n",
       "4        1000      9  14568.91    14.23  ultra                   15   \n",
       "...       ...    ...       ...      ...    ...                  ...   \n",
       "3198     1498     10  20579.36    20.10  smart                   21   \n",
       "3199     1499      9   1845.75     1.80  smart                    2   \n",
       "3200     1499     10  17788.51    17.37  smart                   18   \n",
       "3201     1499     11  17963.31    17.54  smart                   18   \n",
       "3202     1499     12  13055.58    12.75  smart                   13   \n",
       "\n",
       "      paid_gigabytes  gb_over_tarif  overprice_per_gb  \\\n",
       "0                 30              0               150   \n",
       "1                 30              0               150   \n",
       "2                 30              0               150   \n",
       "3                 30              0               150   \n",
       "4                 30              0               150   \n",
       "...              ...            ...               ...   \n",
       "3198              15              6               200   \n",
       "3199              15              0               200   \n",
       "3200              15              3               200   \n",
       "3201              15              3               200   \n",
       "3202              15              0               200   \n",
       "\n",
       "      final_overprice_internet  \n",
       "0                            0  \n",
       "1                            0  \n",
       "2                            0  \n",
       "3                            0  \n",
       "4                            0  \n",
       "...                        ...  \n",
       "3198                      1200  \n",
       "3199                         0  \n",
       "3200                       600  \n",
       "3201                       600  \n",
       "3202                         0  \n",
       "\n",
       "[3203 rows x 10 columns]"
      ]
     },
     "execution_count": 96,
     "metadata": {},
     "output_type": "execute_result"
    }
   ],
   "source": [
    "internet_group"
   ]
  },
  {
   "cell_type": "code",
   "execution_count": 97,
   "metadata": {},
   "outputs": [
    {
     "data": {
      "text/plain": [
       "Text(0.5, 1.0, 'Internet Smart distribution')"
      ]
     },
     "execution_count": 97,
     "metadata": {},
     "output_type": "execute_result"
    },
    {
     "data": {
      "image/png": "[encoded data removed]",
      "text/plain": [
       "<Figure size 432x288 with 1 Axes>"
      ]
     },
     "metadata": {
      "needs_background": "light"
     },
     "output_type": "display_data"
    }
   ],
   "source": [
    "internet_group.loc[internet_group['tarif'] == 'smart', 'gb_used'].hist()\n",
    "plt.title('Internet Smart distribution')"
   ]
  },
  {
   "cell_type": "code",
   "execution_count": 98,
   "metadata": {},
   "outputs": [
    {
     "data": {
      "text/plain": [
       "32.76859998442084"
      ]
     },
     "execution_count": 98,
     "metadata": {},
     "output_type": "execute_result"
    }
   ],
   "source": [
    "variance_internet_smart = np.var(internet_group.loc[internet_group['tarif'] == 'smart', 'gb_used'], ddof=1)\n",
    "variance_internet_smart"
   ]
  },
  {
   "cell_type": "code",
   "execution_count": 99,
   "metadata": {},
   "outputs": [
    {
     "data": {
      "text/plain": [
       "5.724386428642011"
      ]
     },
     "execution_count": 99,
     "metadata": {},
     "output_type": "execute_result"
    }
   ],
   "source": [
    "std_internet_smart = np.std(internet_group.loc[internet_group['tarif'] == 'smart', 'gb_used'], ddof=1)\n",
    "std_internet_smart"
   ]
  },
  {
   "cell_type": "code",
   "execution_count": 100,
   "metadata": {},
   "outputs": [
    {
     "data": {
      "text/plain": [
       "15.835713644524237"
      ]
     },
     "execution_count": 100,
     "metadata": {},
     "output_type": "execute_result"
    }
   ],
   "source": [
    "mean_internet_smart = internet_group.loc[internet_group['tarif'] == 'smart', 'gb_used'].mean()\n",
    "mean_internet_smart"
   ]
  },
  {
   "cell_type": "code",
   "execution_count": 101,
   "metadata": {},
   "outputs": [
    {
     "data": {
      "text/plain": [
       "count    2228.000000\n",
       "mean       15.835714\n",
       "std         5.724386\n",
       "min         0.000000\n",
       "25%        12.350000\n",
       "50%        16.120000\n",
       "75%        19.572500\n",
       "max        37.650000\n",
       "Name: gb_used, dtype: float64"
      ]
     },
     "execution_count": 101,
     "metadata": {},
     "output_type": "execute_result"
    }
   ],
   "source": [
    "internet_group.loc[internet_group['tarif'] == 'smart', 'gb_used'].describe()"
   ]
  },
  {
   "cell_type": "markdown",
   "metadata": {},
   "source": [
    "Расчет для пользователей тарифа ультра"
   ]
  },
  {
   "cell_type": "code",
   "execution_count": 102,
   "metadata": {},
   "outputs": [
    {
     "data": {
      "text/plain": [
       "Text(0.5, 1.0, 'Internet Ultra distribution')"
      ]
     },
     "execution_count": 102,
     "metadata": {},
     "output_type": "execute_result"
    },
    {
     "data": {
      "image/png": "[encoded data removed]",
      "text/plain": [
       "<Figure size 432x288 with 1 Axes>"
      ]
     },
     "metadata": {
      "needs_background": "light"
     },
     "output_type": "display_data"
    }
   ],
   "source": [
    "internet_group.loc[internet_group['tarif'] == 'ultra', 'gb_used'].hist()\n",
    "plt.title('Internet Ultra distribution')"
   ]
  },
  {
   "cell_type": "code",
   "execution_count": 103,
   "metadata": {},
   "outputs": [
    {
     "data": {
      "text/plain": [
       "94.28253407950298"
      ]
     },
     "execution_count": 103,
     "metadata": {},
     "output_type": "execute_result"
    }
   ],
   "source": [
    "variance_internet_ultra = np.var(internet_group.loc[internet_group['tarif'] == 'ultra', 'gb_used'], ddof=1)\n",
    "variance_internet_ultra"
   ]
  },
  {
   "cell_type": "code",
   "execution_count": 104,
   "metadata": {},
   "outputs": [
    {
     "data": {
      "text/plain": [
       "9.70991936524207"
      ]
     },
     "execution_count": 104,
     "metadata": {},
     "output_type": "execute_result"
    }
   ],
   "source": [
    "std_internet_ultra = np.std(internet_group.loc[internet_group['tarif'] == 'ultra', 'gb_used'], ddof=1)\n",
    "std_internet_ultra"
   ]
  },
  {
   "cell_type": "code",
   "execution_count": 105,
   "metadata": {},
   "outputs": [
    {
     "data": {
      "text/plain": [
       "19.20751794871795"
      ]
     },
     "execution_count": 105,
     "metadata": {},
     "output_type": "execute_result"
    }
   ],
   "source": [
    "mean_internet_ultra = internet_group.loc[internet_group['tarif'] == 'ultra', 'gb_used'].mean()\n",
    "mean_internet_ultra"
   ]
  },
  {
   "cell_type": "code",
   "execution_count": 106,
   "metadata": {},
   "outputs": [
    {
     "data": {
      "text/plain": [
       "count    975.000000\n",
       "mean      19.207518\n",
       "std        9.709919\n",
       "min        0.000000\n",
       "25%       11.730000\n",
       "50%       18.940000\n",
       "75%       26.270000\n",
       "max       48.580000\n",
       "Name: gb_used, dtype: float64"
      ]
     },
     "execution_count": 106,
     "metadata": {},
     "output_type": "execute_result"
    }
   ],
   "source": [
    "internet_group.loc[internet_group['tarif'] == 'ultra', 'gb_used'].describe()"
   ]
  },
  {
   "cell_type": "markdown",
   "metadata": {},
   "source": [
    "По гистограмме расспределения для обоих тарифов похожи на нормальные, также видно, что пользователи тарифа смарт в основном используют около 15 гб трафика, то есть весь оплаченный объем, а пользователи тарифа ультра используют в среднем около 20 гб трафика, то есть меньше, чем у них оплачено. Также стоит отметить, что пользователи есть пользователи, которые используют значительно больше трафика, чем изначально оплатили"
   ]
  },
  {
   "cell_type": "markdown",
   "metadata": {},
   "source": [
    "Формулировка гипотез:\n",
    "Нулевая гипотеза: Средние выручки тарифов смарт и ультра равны.\n",
    "Альтернативная гипотеза: Средние выручки тарифов смарт и ультра различаются."
   ]
  },
  {
   "cell_type": "code",
   "execution_count": 107,
   "metadata": {},
   "outputs": [
    {
     "data": {
      "text/html": [
       "<div>\n",
       "<style scoped>\n",
       "    .dataframe tbody tr th:only-of-type {\n",
       "        vertical-align: middle;\n",
       "    }\n",
       "\n",
       "    .dataframe tbody tr th {\n",
       "        vertical-align: top;\n",
       "    }\n",
       "\n",
       "    .dataframe thead th {\n",
       "        text-align: right;\n",
       "    }\n",
       "</style>\n",
       "<table border=\"1\" class=\"dataframe\">\n",
       "  <thead>\n",
       "    <tr style=\"text-align: right;\">\n",
       "      <th></th>\n",
       "      <th>user_id</th>\n",
       "      <th>month</th>\n",
       "      <th>(final_overprice_for_calls, )</th>\n",
       "      <th>final_overprice_for_messages</th>\n",
       "      <th>final_overprice_internet</th>\n",
       "      <th>tarif</th>\n",
       "      <th>abonent_payments</th>\n",
       "      <th>company_profit</th>\n",
       "    </tr>\n",
       "  </thead>\n",
       "  <tbody>\n",
       "    <tr>\n",
       "      <td>0</td>\n",
       "      <td>1000</td>\n",
       "      <td>5</td>\n",
       "      <td>0.0</td>\n",
       "      <td>0.0</td>\n",
       "      <td>0.0</td>\n",
       "      <td>ultra</td>\n",
       "      <td>1950</td>\n",
       "      <td>1950.0</td>\n",
       "    </tr>\n",
       "    <tr>\n",
       "      <td>1</td>\n",
       "      <td>1000</td>\n",
       "      <td>6</td>\n",
       "      <td>0.0</td>\n",
       "      <td>0.0</td>\n",
       "      <td>0.0</td>\n",
       "      <td>ultra</td>\n",
       "      <td>1950</td>\n",
       "      <td>1950.0</td>\n",
       "    </tr>\n",
       "    <tr>\n",
       "      <td>2</td>\n",
       "      <td>1000</td>\n",
       "      <td>7</td>\n",
       "      <td>0.0</td>\n",
       "      <td>0.0</td>\n",
       "      <td>0.0</td>\n",
       "      <td>ultra</td>\n",
       "      <td>1950</td>\n",
       "      <td>1950.0</td>\n",
       "    </tr>\n",
       "    <tr>\n",
       "      <td>3</td>\n",
       "      <td>1000</td>\n",
       "      <td>8</td>\n",
       "      <td>0.0</td>\n",
       "      <td>0.0</td>\n",
       "      <td>0.0</td>\n",
       "      <td>ultra</td>\n",
       "      <td>1950</td>\n",
       "      <td>1950.0</td>\n",
       "    </tr>\n",
       "    <tr>\n",
       "      <td>4</td>\n",
       "      <td>1000</td>\n",
       "      <td>9</td>\n",
       "      <td>0.0</td>\n",
       "      <td>0.0</td>\n",
       "      <td>0.0</td>\n",
       "      <td>ultra</td>\n",
       "      <td>1950</td>\n",
       "      <td>1950.0</td>\n",
       "    </tr>\n",
       "    <tr>\n",
       "      <td>...</td>\n",
       "      <td>...</td>\n",
       "      <td>...</td>\n",
       "      <td>...</td>\n",
       "      <td>...</td>\n",
       "      <td>...</td>\n",
       "      <td>...</td>\n",
       "      <td>...</td>\n",
       "      <td>...</td>\n",
       "    </tr>\n",
       "    <tr>\n",
       "      <td>3209</td>\n",
       "      <td>1489</td>\n",
       "      <td>9</td>\n",
       "      <td>0.0</td>\n",
       "      <td>0.0</td>\n",
       "      <td>400.0</td>\n",
       "      <td>smart</td>\n",
       "      <td>550</td>\n",
       "      <td>950.0</td>\n",
       "    </tr>\n",
       "    <tr>\n",
       "      <td>3210</td>\n",
       "      <td>1489</td>\n",
       "      <td>10</td>\n",
       "      <td>0.0</td>\n",
       "      <td>0.0</td>\n",
       "      <td>1000.0</td>\n",
       "      <td>smart</td>\n",
       "      <td>550</td>\n",
       "      <td>1550.0</td>\n",
       "    </tr>\n",
       "    <tr>\n",
       "      <td>3211</td>\n",
       "      <td>1489</td>\n",
       "      <td>11</td>\n",
       "      <td>0.0</td>\n",
       "      <td>0.0</td>\n",
       "      <td>600.0</td>\n",
       "      <td>smart</td>\n",
       "      <td>550</td>\n",
       "      <td>1150.0</td>\n",
       "    </tr>\n",
       "    <tr>\n",
       "      <td>3212</td>\n",
       "      <td>1489</td>\n",
       "      <td>12</td>\n",
       "      <td>0.0</td>\n",
       "      <td>0.0</td>\n",
       "      <td>400.0</td>\n",
       "      <td>smart</td>\n",
       "      <td>550</td>\n",
       "      <td>950.0</td>\n",
       "    </tr>\n",
       "    <tr>\n",
       "      <td>3213</td>\n",
       "      <td>1476</td>\n",
       "      <td>4</td>\n",
       "      <td>0.0</td>\n",
       "      <td>0.0</td>\n",
       "      <td>0.0</td>\n",
       "      <td>ultra</td>\n",
       "      <td>1950</td>\n",
       "      <td>1950.0</td>\n",
       "    </tr>\n",
       "  </tbody>\n",
       "</table>\n",
       "<p>3214 rows × 8 columns</p>\n",
       "</div>"
      ],
      "text/plain": [
       "      user_id  month  (final_overprice_for_calls, )  \\\n",
       "0        1000      5                            0.0   \n",
       "1        1000      6                            0.0   \n",
       "2        1000      7                            0.0   \n",
       "3        1000      8                            0.0   \n",
       "4        1000      9                            0.0   \n",
       "...       ...    ...                            ...   \n",
       "3209     1489      9                            0.0   \n",
       "3210     1489     10                            0.0   \n",
       "3211     1489     11                            0.0   \n",
       "3212     1489     12                            0.0   \n",
       "3213     1476      4                            0.0   \n",
       "\n",
       "      final_overprice_for_messages  final_overprice_internet  tarif  \\\n",
       "0                              0.0                       0.0  ultra   \n",
       "1                              0.0                       0.0  ultra   \n",
       "2                              0.0                       0.0  ultra   \n",
       "3                              0.0                       0.0  ultra   \n",
       "4                              0.0                       0.0  ultra   \n",
       "...                            ...                       ...    ...   \n",
       "3209                           0.0                     400.0  smart   \n",
       "3210                           0.0                    1000.0  smart   \n",
       "3211                           0.0                     600.0  smart   \n",
       "3212                           0.0                     400.0  smart   \n",
       "3213                           0.0                       0.0  ultra   \n",
       "\n",
       "      abonent_payments  company_profit  \n",
       "0                 1950          1950.0  \n",
       "1                 1950          1950.0  \n",
       "2                 1950          1950.0  \n",
       "3                 1950          1950.0  \n",
       "4                 1950          1950.0  \n",
       "...                ...             ...  \n",
       "3209               550           950.0  \n",
       "3210               550          1550.0  \n",
       "3211               550          1150.0  \n",
       "3212               550           950.0  \n",
       "3213              1950          1950.0  \n",
       "\n",
       "[3214 rows x 8 columns]"
      ]
     },
     "execution_count": 107,
     "metadata": {},
     "output_type": "execute_result"
    }
   ],
   "source": [
    "final_group"
   ]
  },
  {
   "cell_type": "code",
   "execution_count": 108,
   "metadata": {},
   "outputs": [
    {
     "name": "stdout",
     "output_type": "stream",
     "text": [
      "p-значение: 5.509138950507725e-178\n",
      "Отвергаем нулевую гипотезу\n"
     ]
    }
   ],
   "source": [
    "smart_profit = final_group.loc[final_group['tarif'] == 'smart', 'company_profit']\n",
    "ultra_profit =  final_group.loc[final_group['tarif'] == 'ultra', 'company_profit']\n",
    "alpha = 0.05\n",
    "results = st.ttest_ind(smart_profit, ultra_profit)\n",
    "print('p-значение:', results.pvalue)\n",
    "\n",
    "if results.pvalue < alpha:\n",
    "    print('Отвергаем нулевую гипотезу')\n",
    "else:\n",
    "    print('Не получилось отвергнуть нулевую гипотезу')"
   ]
  },
  {
   "cell_type": "markdown",
   "metadata": {},
   "source": [
    "Статистический тест отверг нулевую гипотезу, значит средние выручки тарифов смарт и ультра различаются"
   ]
  },
  {
   "cell_type": "code",
   "execution_count": 109,
   "metadata": {},
   "outputs": [
    {
     "data": {
      "text/html": [
       "<div>\n",
       "<style scoped>\n",
       "    .dataframe tbody tr th:only-of-type {\n",
       "        vertical-align: middle;\n",
       "    }\n",
       "\n",
       "    .dataframe tbody tr th {\n",
       "        vertical-align: top;\n",
       "    }\n",
       "\n",
       "    .dataframe thead th {\n",
       "        text-align: right;\n",
       "    }\n",
       "</style>\n",
       "<table border=\"1\" class=\"dataframe\">\n",
       "  <thead>\n",
       "    <tr style=\"text-align: right;\">\n",
       "      <th></th>\n",
       "      <th>user_id</th>\n",
       "      <th>city</th>\n",
       "    </tr>\n",
       "  </thead>\n",
       "  <tbody>\n",
       "    <tr>\n",
       "      <td>0</td>\n",
       "      <td>1000</td>\n",
       "      <td>Краснодар</td>\n",
       "    </tr>\n",
       "    <tr>\n",
       "      <td>1</td>\n",
       "      <td>1001</td>\n",
       "      <td>Москва</td>\n",
       "    </tr>\n",
       "    <tr>\n",
       "      <td>2</td>\n",
       "      <td>1002</td>\n",
       "      <td>Стерлитамак</td>\n",
       "    </tr>\n",
       "    <tr>\n",
       "      <td>3</td>\n",
       "      <td>1003</td>\n",
       "      <td>Москва</td>\n",
       "    </tr>\n",
       "    <tr>\n",
       "      <td>4</td>\n",
       "      <td>1004</td>\n",
       "      <td>Новокузнецк</td>\n",
       "    </tr>\n",
       "    <tr>\n",
       "      <td>...</td>\n",
       "      <td>...</td>\n",
       "      <td>...</td>\n",
       "    </tr>\n",
       "    <tr>\n",
       "      <td>495</td>\n",
       "      <td>1495</td>\n",
       "      <td>Иркутск</td>\n",
       "    </tr>\n",
       "    <tr>\n",
       "      <td>496</td>\n",
       "      <td>1496</td>\n",
       "      <td>Вологда</td>\n",
       "    </tr>\n",
       "    <tr>\n",
       "      <td>497</td>\n",
       "      <td>1497</td>\n",
       "      <td>Челябинск</td>\n",
       "    </tr>\n",
       "    <tr>\n",
       "      <td>498</td>\n",
       "      <td>1498</td>\n",
       "      <td>Владикавказ</td>\n",
       "    </tr>\n",
       "    <tr>\n",
       "      <td>499</td>\n",
       "      <td>1499</td>\n",
       "      <td>Пермь</td>\n",
       "    </tr>\n",
       "  </tbody>\n",
       "</table>\n",
       "<p>500 rows × 2 columns</p>\n",
       "</div>"
      ],
      "text/plain": [
       "     user_id         city\n",
       "0       1000    Краснодар\n",
       "1       1001       Москва\n",
       "2       1002  Стерлитамак\n",
       "3       1003       Москва\n",
       "4       1004  Новокузнецк\n",
       "..       ...          ...\n",
       "495     1495      Иркутск\n",
       "496     1496      Вологда\n",
       "497     1497    Челябинск\n",
       "498     1498  Владикавказ\n",
       "499     1499        Пермь\n",
       "\n",
       "[500 rows x 2 columns]"
      ]
     },
     "execution_count": 109,
     "metadata": {},
     "output_type": "execute_result"
    }
   ],
   "source": [
    "h = users.loc[:,['user_id', 'city']]\n",
    "h"
   ]
  },
  {
   "cell_type": "code",
   "execution_count": 110,
   "metadata": {},
   "outputs": [
    {
     "data": {
      "text/html": [
       "<div>\n",
       "<style scoped>\n",
       "    .dataframe tbody tr th:only-of-type {\n",
       "        vertical-align: middle;\n",
       "    }\n",
       "\n",
       "    .dataframe tbody tr th {\n",
       "        vertical-align: top;\n",
       "    }\n",
       "\n",
       "    .dataframe thead th {\n",
       "        text-align: right;\n",
       "    }\n",
       "</style>\n",
       "<table border=\"1\" class=\"dataframe\">\n",
       "  <thead>\n",
       "    <tr style=\"text-align: right;\">\n",
       "      <th></th>\n",
       "      <th>user_id</th>\n",
       "      <th>month</th>\n",
       "      <th>(final_overprice_for_calls, )</th>\n",
       "      <th>final_overprice_for_messages</th>\n",
       "      <th>final_overprice_internet</th>\n",
       "      <th>tarif</th>\n",
       "      <th>abonent_payments</th>\n",
       "      <th>company_profit</th>\n",
       "      <th>city</th>\n",
       "    </tr>\n",
       "  </thead>\n",
       "  <tbody>\n",
       "    <tr>\n",
       "      <td>0</td>\n",
       "      <td>1000</td>\n",
       "      <td>5</td>\n",
       "      <td>0.0</td>\n",
       "      <td>0.0</td>\n",
       "      <td>0.0</td>\n",
       "      <td>ultra</td>\n",
       "      <td>1950</td>\n",
       "      <td>1950.0</td>\n",
       "      <td>Краснодар</td>\n",
       "    </tr>\n",
       "    <tr>\n",
       "      <td>1</td>\n",
       "      <td>1000</td>\n",
       "      <td>6</td>\n",
       "      <td>0.0</td>\n",
       "      <td>0.0</td>\n",
       "      <td>0.0</td>\n",
       "      <td>ultra</td>\n",
       "      <td>1950</td>\n",
       "      <td>1950.0</td>\n",
       "      <td>Краснодар</td>\n",
       "    </tr>\n",
       "    <tr>\n",
       "      <td>2</td>\n",
       "      <td>1000</td>\n",
       "      <td>7</td>\n",
       "      <td>0.0</td>\n",
       "      <td>0.0</td>\n",
       "      <td>0.0</td>\n",
       "      <td>ultra</td>\n",
       "      <td>1950</td>\n",
       "      <td>1950.0</td>\n",
       "      <td>Краснодар</td>\n",
       "    </tr>\n",
       "    <tr>\n",
       "      <td>3</td>\n",
       "      <td>1000</td>\n",
       "      <td>8</td>\n",
       "      <td>0.0</td>\n",
       "      <td>0.0</td>\n",
       "      <td>0.0</td>\n",
       "      <td>ultra</td>\n",
       "      <td>1950</td>\n",
       "      <td>1950.0</td>\n",
       "      <td>Краснодар</td>\n",
       "    </tr>\n",
       "    <tr>\n",
       "      <td>4</td>\n",
       "      <td>1000</td>\n",
       "      <td>9</td>\n",
       "      <td>0.0</td>\n",
       "      <td>0.0</td>\n",
       "      <td>0.0</td>\n",
       "      <td>ultra</td>\n",
       "      <td>1950</td>\n",
       "      <td>1950.0</td>\n",
       "      <td>Краснодар</td>\n",
       "    </tr>\n",
       "    <tr>\n",
       "      <td>...</td>\n",
       "      <td>...</td>\n",
       "      <td>...</td>\n",
       "      <td>...</td>\n",
       "      <td>...</td>\n",
       "      <td>...</td>\n",
       "      <td>...</td>\n",
       "      <td>...</td>\n",
       "      <td>...</td>\n",
       "      <td>...</td>\n",
       "    </tr>\n",
       "    <tr>\n",
       "      <td>3209</td>\n",
       "      <td>1489</td>\n",
       "      <td>8</td>\n",
       "      <td>0.0</td>\n",
       "      <td>0.0</td>\n",
       "      <td>0.0</td>\n",
       "      <td>smart</td>\n",
       "      <td>550</td>\n",
       "      <td>550.0</td>\n",
       "      <td>Санкт-Петербург</td>\n",
       "    </tr>\n",
       "    <tr>\n",
       "      <td>3210</td>\n",
       "      <td>1489</td>\n",
       "      <td>9</td>\n",
       "      <td>0.0</td>\n",
       "      <td>0.0</td>\n",
       "      <td>400.0</td>\n",
       "      <td>smart</td>\n",
       "      <td>550</td>\n",
       "      <td>950.0</td>\n",
       "      <td>Санкт-Петербург</td>\n",
       "    </tr>\n",
       "    <tr>\n",
       "      <td>3211</td>\n",
       "      <td>1489</td>\n",
       "      <td>10</td>\n",
       "      <td>0.0</td>\n",
       "      <td>0.0</td>\n",
       "      <td>1000.0</td>\n",
       "      <td>smart</td>\n",
       "      <td>550</td>\n",
       "      <td>1550.0</td>\n",
       "      <td>Санкт-Петербург</td>\n",
       "    </tr>\n",
       "    <tr>\n",
       "      <td>3212</td>\n",
       "      <td>1489</td>\n",
       "      <td>11</td>\n",
       "      <td>0.0</td>\n",
       "      <td>0.0</td>\n",
       "      <td>600.0</td>\n",
       "      <td>smart</td>\n",
       "      <td>550</td>\n",
       "      <td>1150.0</td>\n",
       "      <td>Санкт-Петербург</td>\n",
       "    </tr>\n",
       "    <tr>\n",
       "      <td>3213</td>\n",
       "      <td>1489</td>\n",
       "      <td>12</td>\n",
       "      <td>0.0</td>\n",
       "      <td>0.0</td>\n",
       "      <td>400.0</td>\n",
       "      <td>smart</td>\n",
       "      <td>550</td>\n",
       "      <td>950.0</td>\n",
       "      <td>Санкт-Петербург</td>\n",
       "    </tr>\n",
       "  </tbody>\n",
       "</table>\n",
       "<p>3214 rows × 9 columns</p>\n",
       "</div>"
      ],
      "text/plain": [
       "      user_id  month  (final_overprice_for_calls, )  \\\n",
       "0        1000      5                            0.0   \n",
       "1        1000      6                            0.0   \n",
       "2        1000      7                            0.0   \n",
       "3        1000      8                            0.0   \n",
       "4        1000      9                            0.0   \n",
       "...       ...    ...                            ...   \n",
       "3209     1489      8                            0.0   \n",
       "3210     1489      9                            0.0   \n",
       "3211     1489     10                            0.0   \n",
       "3212     1489     11                            0.0   \n",
       "3213     1489     12                            0.0   \n",
       "\n",
       "      final_overprice_for_messages  final_overprice_internet  tarif  \\\n",
       "0                              0.0                       0.0  ultra   \n",
       "1                              0.0                       0.0  ultra   \n",
       "2                              0.0                       0.0  ultra   \n",
       "3                              0.0                       0.0  ultra   \n",
       "4                              0.0                       0.0  ultra   \n",
       "...                            ...                       ...    ...   \n",
       "3209                           0.0                       0.0  smart   \n",
       "3210                           0.0                     400.0  smart   \n",
       "3211                           0.0                    1000.0  smart   \n",
       "3212                           0.0                     600.0  smart   \n",
       "3213                           0.0                     400.0  smart   \n",
       "\n",
       "      abonent_payments  company_profit             city  \n",
       "0                 1950          1950.0        Краснодар  \n",
       "1                 1950          1950.0        Краснодар  \n",
       "2                 1950          1950.0        Краснодар  \n",
       "3                 1950          1950.0        Краснодар  \n",
       "4                 1950          1950.0        Краснодар  \n",
       "...                ...             ...              ...  \n",
       "3209               550           550.0  Санкт-Петербург  \n",
       "3210               550           950.0  Санкт-Петербург  \n",
       "3211               550          1550.0  Санкт-Петербург  \n",
       "3212               550          1150.0  Санкт-Петербург  \n",
       "3213               550           950.0  Санкт-Петербург  \n",
       "\n",
       "[3214 rows x 9 columns]"
      ]
     },
     "execution_count": 110,
     "metadata": {},
     "output_type": "execute_result"
    }
   ],
   "source": [
    "g = final_group.merge(h, how='inner')\n",
    "g"
   ]
  },
  {
   "cell_type": "markdown",
   "metadata": {},
   "source": [
    "Обработаем столбец с городами"
   ]
  },
  {
   "cell_type": "code",
   "execution_count": 111,
   "metadata": {},
   "outputs": [],
   "source": [
    "def low(string):\n",
    "    return string.lower()"
   ]
  },
  {
   "cell_type": "code",
   "execution_count": 112,
   "metadata": {},
   "outputs": [
    {
     "data": {
      "text/html": [
       "<div>\n",
       "<style scoped>\n",
       "    .dataframe tbody tr th:only-of-type {\n",
       "        vertical-align: middle;\n",
       "    }\n",
       "\n",
       "    .dataframe tbody tr th {\n",
       "        vertical-align: top;\n",
       "    }\n",
       "\n",
       "    .dataframe thead th {\n",
       "        text-align: right;\n",
       "    }\n",
       "</style>\n",
       "<table border=\"1\" class=\"dataframe\">\n",
       "  <thead>\n",
       "    <tr style=\"text-align: right;\">\n",
       "      <th></th>\n",
       "      <th>user_id</th>\n",
       "      <th>month</th>\n",
       "      <th>(final_overprice_for_calls, )</th>\n",
       "      <th>final_overprice_for_messages</th>\n",
       "      <th>final_overprice_internet</th>\n",
       "      <th>tarif</th>\n",
       "      <th>abonent_payments</th>\n",
       "      <th>company_profit</th>\n",
       "      <th>city</th>\n",
       "    </tr>\n",
       "  </thead>\n",
       "  <tbody>\n",
       "    <tr>\n",
       "      <td>0</td>\n",
       "      <td>1000</td>\n",
       "      <td>5</td>\n",
       "      <td>0.0</td>\n",
       "      <td>0.0</td>\n",
       "      <td>0.0</td>\n",
       "      <td>ultra</td>\n",
       "      <td>1950</td>\n",
       "      <td>1950.0</td>\n",
       "      <td>краснодар</td>\n",
       "    </tr>\n",
       "    <tr>\n",
       "      <td>1</td>\n",
       "      <td>1000</td>\n",
       "      <td>6</td>\n",
       "      <td>0.0</td>\n",
       "      <td>0.0</td>\n",
       "      <td>0.0</td>\n",
       "      <td>ultra</td>\n",
       "      <td>1950</td>\n",
       "      <td>1950.0</td>\n",
       "      <td>краснодар</td>\n",
       "    </tr>\n",
       "    <tr>\n",
       "      <td>2</td>\n",
       "      <td>1000</td>\n",
       "      <td>7</td>\n",
       "      <td>0.0</td>\n",
       "      <td>0.0</td>\n",
       "      <td>0.0</td>\n",
       "      <td>ultra</td>\n",
       "      <td>1950</td>\n",
       "      <td>1950.0</td>\n",
       "      <td>краснодар</td>\n",
       "    </tr>\n",
       "    <tr>\n",
       "      <td>3</td>\n",
       "      <td>1000</td>\n",
       "      <td>8</td>\n",
       "      <td>0.0</td>\n",
       "      <td>0.0</td>\n",
       "      <td>0.0</td>\n",
       "      <td>ultra</td>\n",
       "      <td>1950</td>\n",
       "      <td>1950.0</td>\n",
       "      <td>краснодар</td>\n",
       "    </tr>\n",
       "    <tr>\n",
       "      <td>4</td>\n",
       "      <td>1000</td>\n",
       "      <td>9</td>\n",
       "      <td>0.0</td>\n",
       "      <td>0.0</td>\n",
       "      <td>0.0</td>\n",
       "      <td>ultra</td>\n",
       "      <td>1950</td>\n",
       "      <td>1950.0</td>\n",
       "      <td>краснодар</td>\n",
       "    </tr>\n",
       "    <tr>\n",
       "      <td>...</td>\n",
       "      <td>...</td>\n",
       "      <td>...</td>\n",
       "      <td>...</td>\n",
       "      <td>...</td>\n",
       "      <td>...</td>\n",
       "      <td>...</td>\n",
       "      <td>...</td>\n",
       "      <td>...</td>\n",
       "      <td>...</td>\n",
       "    </tr>\n",
       "    <tr>\n",
       "      <td>3209</td>\n",
       "      <td>1489</td>\n",
       "      <td>8</td>\n",
       "      <td>0.0</td>\n",
       "      <td>0.0</td>\n",
       "      <td>0.0</td>\n",
       "      <td>smart</td>\n",
       "      <td>550</td>\n",
       "      <td>550.0</td>\n",
       "      <td>санкт-петербург</td>\n",
       "    </tr>\n",
       "    <tr>\n",
       "      <td>3210</td>\n",
       "      <td>1489</td>\n",
       "      <td>9</td>\n",
       "      <td>0.0</td>\n",
       "      <td>0.0</td>\n",
       "      <td>400.0</td>\n",
       "      <td>smart</td>\n",
       "      <td>550</td>\n",
       "      <td>950.0</td>\n",
       "      <td>санкт-петербург</td>\n",
       "    </tr>\n",
       "    <tr>\n",
       "      <td>3211</td>\n",
       "      <td>1489</td>\n",
       "      <td>10</td>\n",
       "      <td>0.0</td>\n",
       "      <td>0.0</td>\n",
       "      <td>1000.0</td>\n",
       "      <td>smart</td>\n",
       "      <td>550</td>\n",
       "      <td>1550.0</td>\n",
       "      <td>санкт-петербург</td>\n",
       "    </tr>\n",
       "    <tr>\n",
       "      <td>3212</td>\n",
       "      <td>1489</td>\n",
       "      <td>11</td>\n",
       "      <td>0.0</td>\n",
       "      <td>0.0</td>\n",
       "      <td>600.0</td>\n",
       "      <td>smart</td>\n",
       "      <td>550</td>\n",
       "      <td>1150.0</td>\n",
       "      <td>санкт-петербург</td>\n",
       "    </tr>\n",
       "    <tr>\n",
       "      <td>3213</td>\n",
       "      <td>1489</td>\n",
       "      <td>12</td>\n",
       "      <td>0.0</td>\n",
       "      <td>0.0</td>\n",
       "      <td>400.0</td>\n",
       "      <td>smart</td>\n",
       "      <td>550</td>\n",
       "      <td>950.0</td>\n",
       "      <td>санкт-петербург</td>\n",
       "    </tr>\n",
       "  </tbody>\n",
       "</table>\n",
       "<p>3214 rows × 9 columns</p>\n",
       "</div>"
      ],
      "text/plain": [
       "      user_id  month  (final_overprice_for_calls, )  \\\n",
       "0        1000      5                            0.0   \n",
       "1        1000      6                            0.0   \n",
       "2        1000      7                            0.0   \n",
       "3        1000      8                            0.0   \n",
       "4        1000      9                            0.0   \n",
       "...       ...    ...                            ...   \n",
       "3209     1489      8                            0.0   \n",
       "3210     1489      9                            0.0   \n",
       "3211     1489     10                            0.0   \n",
       "3212     1489     11                            0.0   \n",
       "3213     1489     12                            0.0   \n",
       "\n",
       "      final_overprice_for_messages  final_overprice_internet  tarif  \\\n",
       "0                              0.0                       0.0  ultra   \n",
       "1                              0.0                       0.0  ultra   \n",
       "2                              0.0                       0.0  ultra   \n",
       "3                              0.0                       0.0  ultra   \n",
       "4                              0.0                       0.0  ultra   \n",
       "...                            ...                       ...    ...   \n",
       "3209                           0.0                       0.0  smart   \n",
       "3210                           0.0                     400.0  smart   \n",
       "3211                           0.0                    1000.0  smart   \n",
       "3212                           0.0                     600.0  smart   \n",
       "3213                           0.0                     400.0  smart   \n",
       "\n",
       "      abonent_payments  company_profit             city  \n",
       "0                 1950          1950.0        краснодар  \n",
       "1                 1950          1950.0        краснодар  \n",
       "2                 1950          1950.0        краснодар  \n",
       "3                 1950          1950.0        краснодар  \n",
       "4                 1950          1950.0        краснодар  \n",
       "...                ...             ...              ...  \n",
       "3209               550           550.0  санкт-петербург  \n",
       "3210               550           950.0  санкт-петербург  \n",
       "3211               550          1550.0  санкт-петербург  \n",
       "3212               550          1150.0  санкт-петербург  \n",
       "3213               550           950.0  санкт-петербург  \n",
       "\n",
       "[3214 rows x 9 columns]"
      ]
     },
     "execution_count": 112,
     "metadata": {},
     "output_type": "execute_result"
    }
   ],
   "source": [
    "g['city'] = g['city'].apply(low)\n",
    "g"
   ]
  },
  {
   "cell_type": "markdown",
   "metadata": {},
   "source": [
    "Формулировка гипотез:\n",
    "Нулевая гипотеза: Средняя выручка пользователей из Москвы такая же, как и средняя выручка пользователей из других городов.\n",
    "Альтернативная гипотеза: Средняя выручка пользователей из Москвы отличается от средней выручки пользователей из других городов"
   ]
  },
  {
   "cell_type": "code",
   "execution_count": 113,
   "metadata": {},
   "outputs": [
    {
     "name": "stdout",
     "output_type": "stream",
     "text": [
      "p-значение: 0.45881442879463374\n",
      "Не получилось отвергнуть нулевую гипотезу\n"
     ]
    }
   ],
   "source": [
    "moscow_profit = g.loc[g['city'] == 'москва','company_profit']\n",
    "other_profit = g.loc[g['city'] != 'москва','company_profit']\n",
    "alpha = 0.05\n",
    "results = st.ttest_ind(moscow_profit, other_profit)\n",
    "print('p-значение:', results.pvalue)\n",
    "\n",
    "if results.pvalue < alpha:\n",
    "    print('Отвергаем нулевую гипотезу')\n",
    "else:\n",
    "    print('Не получилось отвергнуть нулевую гипотезу')"
   ]
  },
  {
   "cell_type": "markdown",
   "metadata": {},
   "source": [
    "Статистический тест не отверг нулевую гипотезу, гипотеза не опроверглась и не подтвердилась"
   ]
  },
  {
   "cell_type": "markdown",
   "metadata": {},
   "source": [
    "При помощи статистического теста была отвергнута гипотеза о равенстве средних прибылей для тарифов смарт и ультра, надо рассмотреть этот момент"
   ]
  },
  {
   "cell_type": "code",
   "execution_count": 114,
   "metadata": {},
   "outputs": [
    {
     "data": {
      "text/plain": [
       "count    2229.000000\n",
       "mean     1258.665321\n",
       "std       801.401484\n",
       "min       550.000000\n",
       "25%       550.000000\n",
       "50%       962.000000\n",
       "75%      1736.000000\n",
       "max      6614.000000\n",
       "Name: company_profit, dtype: float64"
      ]
     },
     "execution_count": 114,
     "metadata": {},
     "output_type": "execute_result"
    }
   ],
   "source": [
    "describe_smart = final_group.loc[final_group['tarif'] == 'smart', 'company_profit'].describe()\n",
    "describe_smart"
   ]
  },
  {
   "cell_type": "code",
   "execution_count": 115,
   "metadata": {},
   "outputs": [
    {
     "data": {
      "text/plain": [
       "count     985.000000\n",
       "mean     2070.304569\n",
       "std       376.654762\n",
       "min      1950.000000\n",
       "25%      1950.000000\n",
       "50%      1950.000000\n",
       "75%      1950.000000\n",
       "max      4800.000000\n",
       "Name: company_profit, dtype: float64"
      ]
     },
     "execution_count": 115,
     "metadata": {},
     "output_type": "execute_result"
    }
   ],
   "source": [
    "describe_ultra = final_group.loc[final_group['tarif'] == 'ultra', 'company_profit'].describe()\n",
    "describe_ultra"
   ]
  },
  {
   "cell_type": "markdown",
   "metadata": {},
   "source": [
    "Расчет прибыли в рамках стандартного отклонения для пользователя тарифа смарт"
   ]
  },
  {
   "cell_type": "code",
   "execution_count": 116,
   "metadata": {},
   "outputs": [
    {
     "name": "stdout",
     "output_type": "stream",
     "text": [
      "Граница прибыли для среднего пользователя тарифа смарт (1019241.09, 4591888.91)\n",
      "Нижняя граница 1019241.09\n",
      "Прибыль за год 2805565.0\n",
      "Верхняя граница 4591888.91\n"
     ]
    }
   ],
   "source": [
    "smart_profit_border = (round(describe_smart['count']*(describe_smart['mean'] - describe_smart['std']),2), \n",
    "                            round(describe_smart['count']*(describe_smart['mean'] + describe_smart['std']),2))\n",
    "print('Граница прибыли для среднего пользователя тарифа смарт', smart_profit_border)\n",
    "print('Нижняя граница {}'.format(smart_profit_border[0]))\n",
    "print('Прибыль за год {}'.format(round(describe_smart['mean']*describe_smart['count'], 2)))\n",
    "print('Верхняя граница {}'.format(smart_profit_border[1]))"
   ]
  },
  {
   "cell_type": "markdown",
   "metadata": {},
   "source": [
    "Расчет прибыли в рамках стандартного отклонения пользователя тарифа ультра"
   ]
  },
  {
   "cell_type": "code",
   "execution_count": 117,
   "metadata": {},
   "outputs": [
    {
     "name": "stdout",
     "output_type": "stream",
     "text": [
      "Граница прибыли для среднего пользователя тарифа ультра (1668245.06, 2410254.94)\n",
      "Нижняя граница 1668245.06\n",
      "Прибыль за год 2039250.0\n",
      "Верхняя граница 2410254.94\n"
     ]
    }
   ],
   "source": [
    "ultra_profit_border = (round(describe_ultra['count']*(describe_ultra['mean'] - describe_ultra['std']),2), \n",
    "                            round(describe_ultra['count']*(describe_ultra['mean'] + describe_ultra['std']),2))\n",
    "print('Граница прибыли для среднего пользователя тарифа ультра', ultra_profit_border)\n",
    "print('Нижняя граница {}'.format(ultra_profit_border[0]))\n",
    "print('Прибыль за год {}'.format(round(describe_ultra['mean']*describe_ultra['count'], 2)))\n",
    "print('Верхняя граница {}'.format(ultra_profit_border[1]))"
   ]
  },
  {
   "cell_type": "markdown",
   "metadata": {},
   "source": [
    "Рассмотрение гипотетического случая, если бы тарифы имели одинаковое количество пользователей  и использовались одинаковое количество месяцев"
   ]
  },
  {
   "cell_type": "code",
   "execution_count": 118,
   "metadata": {},
   "outputs": [
    {
     "name": "stdout",
     "output_type": "stream",
     "text": [
      "Граница прибыли для среднего пользователя тарифа ультра (3775145.42, 5454272.35)\n",
      "Нижняя граница 3775145.42\n",
      "Прибыль за год 4614708.88\n",
      "Верхняя граница 5454272.35\n"
     ]
    }
   ],
   "source": [
    "compare_profit_border = (round(describe_smart['count']*(describe_ultra['mean'] - describe_ultra['std']),2), \n",
    "                            round(describe_smart['count']*(describe_ultra['mean'] + describe_ultra['std']),2))\n",
    "print('Граница прибыли для среднего пользователя тарифа ультра', compare_profit_border)\n",
    "print('Нижняя граница {}'.format(compare_profit_border[0]))\n",
    "print('Прибыль за год {}'.format(round(describe_ultra['mean']*describe_smart['count'], 2)))\n",
    "print('Верхняя граница {}'.format(compare_profit_border[1]))"
   ]
  },
  {
   "cell_type": "markdown",
   "metadata": {},
   "source": [
    "Общий вывод:\n",
    "Статистический анализ выборки показал, что на данный момент тариф смарт приносит компании больше денег, чем тариф ультра, причин у этого несколько: 1. У тарифа смарт больше пользователей. 2. Пользователи тарифа смарт довольно часто превышают оплаченный рубеж гигабайтов интернета, в тарифе смарт за это предусмотрена существенная доплата. Однако если бы оба тарифа имели одинаковое количество пользователей и ими бы пользовались одинаковое количество месяцев, то тариф ультра был бы прибыльнее(годовая прибыль - 4.6 млн), чем смарт(годовая прибыль-2.8 млн).\n",
    "Из этих соображений можно сделать вывод, что тариф смарт для компании на данный момент лучше, но тариф ультра может быть перспективнее."
   ]
  },
  {
   "cell_type": "markdown",
   "metadata": {},
   "source": []
  }
 ],
 "metadata": {
  "ExecuteTimeLog": [
   {
    "duration": 864,
    "start_time": "2021-10-10T15:01:10.026Z"
   },
   {
    "duration": 4,
    "start_time": "2021-10-10T15:01:33.997Z"
   },
   {
    "duration": 2569,
    "start_time": "2021-10-10T15:02:14.554Z"
   },
   {
    "duration": 227,
    "start_time": "2021-10-10T15:02:29.498Z"
   },
   {
    "duration": 28,
    "start_time": "2021-10-10T15:02:57.746Z"
   },
   {
    "duration": 56,
    "start_time": "2021-10-10T15:05:19.306Z"
   },
   {
    "duration": 26,
    "start_time": "2021-10-10T15:05:26.648Z"
   },
   {
    "duration": 188,
    "start_time": "2021-10-10T15:06:42.170Z"
   },
   {
    "duration": 12,
    "start_time": "2021-10-10T15:07:50.584Z"
   },
   {
    "duration": 27,
    "start_time": "2021-10-10T15:07:57.026Z"
   },
   {
    "duration": 22,
    "start_time": "2021-10-10T15:08:22.741Z"
   },
   {
    "duration": 45,
    "start_time": "2021-10-10T15:09:09.850Z"
   },
   {
    "duration": 23,
    "start_time": "2021-10-10T15:09:42.756Z"
   },
   {
    "duration": 16,
    "start_time": "2021-10-10T15:10:01.942Z"
   },
   {
    "duration": 20,
    "start_time": "2021-10-10T15:10:19.089Z"
   },
   {
    "duration": 332,
    "start_time": "2021-10-10T15:11:34.978Z"
   },
   {
    "duration": 22,
    "start_time": "2021-10-10T15:11:41.910Z"
   },
   {
    "duration": 810,
    "start_time": "2021-10-10T15:29:02.898Z"
   },
   {
    "duration": 531,
    "start_time": "2021-10-10T15:29:10.540Z"
   },
   {
    "duration": 1009,
    "start_time": "2021-10-10T15:29:17.927Z"
   },
   {
    "duration": 539,
    "start_time": "2021-10-10T15:29:18.940Z"
   },
   {
    "duration": 30,
    "start_time": "2021-10-10T15:31:22.360Z"
   },
   {
    "duration": 8,
    "start_time": "2021-10-10T15:32:25.577Z"
   },
   {
    "duration": 421,
    "start_time": "2021-10-10T15:34:21.740Z"
   },
   {
    "duration": 12,
    "start_time": "2021-10-10T15:34:31.241Z"
   },
   {
    "duration": 9,
    "start_time": "2021-10-10T15:35:04.055Z"
   },
   {
    "duration": 6,
    "start_time": "2021-10-10T15:36:06.104Z"
   },
   {
    "duration": 14,
    "start_time": "2021-10-10T15:39:49.324Z"
   },
   {
    "duration": 26,
    "start_time": "2021-10-10T15:40:49.347Z"
   },
   {
    "duration": 139,
    "start_time": "2021-10-10T15:41:07.292Z"
   },
   {
    "duration": 42,
    "start_time": "2021-10-10T15:41:15.408Z"
   },
   {
    "duration": 43,
    "start_time": "2021-10-10T15:42:18.792Z"
   },
   {
    "duration": 12,
    "start_time": "2021-10-10T15:44:36.616Z"
   },
   {
    "duration": 21,
    "start_time": "2021-10-10T15:46:08.075Z"
   },
   {
    "duration": 316,
    "start_time": "2021-10-10T15:46:38.719Z"
   },
   {
    "duration": 26,
    "start_time": "2021-10-10T15:46:48.696Z"
   },
   {
    "duration": 19,
    "start_time": "2021-10-10T15:47:43.074Z"
   },
   {
    "duration": 1250,
    "start_time": "2021-10-10T15:49:09.267Z"
   },
   {
    "duration": 335,
    "start_time": "2021-10-10T15:49:34.942Z"
   },
   {
    "duration": 12,
    "start_time": "2021-10-10T15:49:48.935Z"
   },
   {
    "duration": 29,
    "start_time": "2021-10-10T15:49:57.661Z"
   },
   {
    "duration": 18,
    "start_time": "2021-10-10T15:52:15.595Z"
   },
   {
    "duration": 13,
    "start_time": "2021-10-10T15:53:43.526Z"
   },
   {
    "duration": 21,
    "start_time": "2021-10-10T15:54:36.059Z"
   },
   {
    "duration": 31,
    "start_time": "2021-10-10T16:03:15.968Z"
   },
   {
    "duration": 13,
    "start_time": "2021-10-10T16:18:57.285Z"
   },
   {
    "duration": 16,
    "start_time": "2021-10-10T16:22:06.766Z"
   },
   {
    "duration": 32,
    "start_time": "2021-10-10T16:22:21.965Z"
   },
   {
    "duration": 46,
    "start_time": "2021-10-10T16:22:26.972Z"
   },
   {
    "duration": 28,
    "start_time": "2021-10-10T16:27:41.430Z"
   },
   {
    "duration": 26,
    "start_time": "2021-10-10T16:28:39.189Z"
   },
   {
    "duration": 23,
    "start_time": "2021-10-10T16:28:54.484Z"
   },
   {
    "duration": 15,
    "start_time": "2021-10-10T16:30:10.100Z"
   },
   {
    "duration": 22,
    "start_time": "2021-10-10T16:30:48.651Z"
   },
   {
    "duration": 33,
    "start_time": "2021-10-10T16:31:00.412Z"
   },
   {
    "duration": 22,
    "start_time": "2021-10-10T16:31:40.628Z"
   },
   {
    "duration": 14,
    "start_time": "2021-10-10T16:32:47.581Z"
   },
   {
    "duration": 16,
    "start_time": "2021-10-10T16:32:56.785Z"
   },
   {
    "duration": 19,
    "start_time": "2021-10-10T16:33:57.777Z"
   },
   {
    "duration": 39,
    "start_time": "2021-10-10T16:35:03.060Z"
   },
   {
    "duration": 12,
    "start_time": "2021-10-10T16:36:03.875Z"
   },
   {
    "duration": 15,
    "start_time": "2021-10-10T16:36:15.380Z"
   },
   {
    "duration": 19,
    "start_time": "2021-10-10T16:36:38.812Z"
   },
   {
    "duration": 105,
    "start_time": "2021-10-10T16:37:03.580Z"
   },
   {
    "duration": 756,
    "start_time": "2021-10-10T16:37:12.117Z"
   },
   {
    "duration": 325,
    "start_time": "2021-10-10T16:44:48.187Z"
   },
   {
    "duration": 31,
    "start_time": "2021-10-10T16:45:02.046Z"
   },
   {
    "duration": 654,
    "start_time": "2021-10-10T16:45:39.222Z"
   },
   {
    "duration": 31,
    "start_time": "2021-10-10T16:47:09.302Z"
   },
   {
    "duration": 39,
    "start_time": "2021-10-10T16:49:08.622Z"
   },
   {
    "duration": 43,
    "start_time": "2021-10-10T16:53:14.987Z"
   },
   {
    "duration": 46,
    "start_time": "2021-10-10T16:53:35.211Z"
   },
   {
    "duration": 29,
    "start_time": "2021-10-10T16:53:48.928Z"
   },
   {
    "duration": 753,
    "start_time": "2021-10-10T16:55:17.954Z"
   },
   {
    "duration": 559,
    "start_time": "2021-10-10T16:55:18.710Z"
   },
   {
    "duration": 28,
    "start_time": "2021-10-10T16:55:19.272Z"
   },
   {
    "duration": 8,
    "start_time": "2021-10-10T16:55:19.302Z"
   },
   {
    "duration": 12,
    "start_time": "2021-10-10T16:55:19.312Z"
   },
   {
    "duration": 10,
    "start_time": "2021-10-10T16:55:19.358Z"
   },
   {
    "duration": 14,
    "start_time": "2021-10-10T16:55:19.370Z"
   },
   {
    "duration": 17,
    "start_time": "2021-10-10T16:55:19.388Z"
   },
   {
    "duration": 63,
    "start_time": "2021-10-10T16:55:19.408Z"
   },
   {
    "duration": 152,
    "start_time": "2021-10-10T16:55:19.474Z"
   },
   {
    "duration": 35,
    "start_time": "2021-10-10T16:55:19.629Z"
   },
   {
    "duration": 46,
    "start_time": "2021-10-10T16:55:19.666Z"
   },
   {
    "duration": 44,
    "start_time": "2021-10-10T16:55:19.715Z"
   },
   {
    "duration": 14,
    "start_time": "2021-10-10T16:55:19.761Z"
   },
   {
    "duration": 25,
    "start_time": "2021-10-10T16:55:19.777Z"
   },
   {
    "duration": 58,
    "start_time": "2021-10-10T16:55:19.804Z"
   },
   {
    "duration": 20,
    "start_time": "2021-10-10T16:55:19.864Z"
   },
   {
    "duration": 24,
    "start_time": "2021-10-10T16:55:19.887Z"
   },
   {
    "duration": 50,
    "start_time": "2021-10-10T16:55:19.914Z"
   },
   {
    "duration": 21,
    "start_time": "2021-10-10T16:55:19.966Z"
   },
   {
    "duration": 69,
    "start_time": "2021-10-10T16:55:19.990Z"
   },
   {
    "duration": 11,
    "start_time": "2021-10-10T16:55:20.061Z"
   },
   {
    "duration": 30,
    "start_time": "2021-10-10T16:55:20.076Z"
   },
   {
    "duration": 67,
    "start_time": "2021-10-10T16:55:20.109Z"
   },
   {
    "duration": 44,
    "start_time": "2021-10-10T16:55:20.179Z"
   },
   {
    "duration": 34,
    "start_time": "2021-10-10T16:55:20.225Z"
   },
   {
    "duration": 33,
    "start_time": "2021-10-10T16:55:20.261Z"
   },
   {
    "duration": 66,
    "start_time": "2021-10-10T16:55:20.296Z"
   },
   {
    "duration": 16,
    "start_time": "2021-10-10T16:55:20.365Z"
   },
   {
    "duration": 38,
    "start_time": "2021-10-10T16:55:20.384Z"
   },
   {
    "duration": 60,
    "start_time": "2021-10-10T16:55:20.424Z"
   },
   {
    "duration": 6,
    "start_time": "2021-10-10T16:58:56.674Z"
   },
   {
    "duration": 394,
    "start_time": "2021-10-10T16:59:04.691Z"
   },
   {
    "duration": 346,
    "start_time": "2021-10-10T16:59:10.399Z"
   },
   {
    "duration": 15,
    "start_time": "2021-10-10T16:59:18.559Z"
   },
   {
    "duration": 17,
    "start_time": "2021-10-10T17:06:49.134Z"
   },
   {
    "duration": 31,
    "start_time": "2021-10-10T17:07:06.310Z"
   },
   {
    "duration": 33,
    "start_time": "2021-10-10T17:07:29.797Z"
   },
   {
    "duration": 22,
    "start_time": "2021-10-10T17:08:12.907Z"
   },
   {
    "duration": 1324,
    "start_time": "2021-10-10T17:08:32.798Z"
   },
   {
    "duration": 1339,
    "start_time": "2021-10-10T17:08:47.455Z"
   },
   {
    "duration": 32,
    "start_time": "2021-10-10T17:09:04.655Z"
   },
   {
    "duration": 38,
    "start_time": "2021-10-10T17:11:51.118Z"
   },
   {
    "duration": 31,
    "start_time": "2021-10-10T17:14:19.766Z"
   },
   {
    "duration": 38,
    "start_time": "2021-10-10T17:14:27.776Z"
   },
   {
    "duration": 779,
    "start_time": "2021-10-10T17:18:07.002Z"
   },
   {
    "duration": 571,
    "start_time": "2021-10-10T17:18:07.784Z"
   },
   {
    "duration": 41,
    "start_time": "2021-10-10T17:18:08.363Z"
   },
   {
    "duration": 8,
    "start_time": "2021-10-10T17:18:08.406Z"
   },
   {
    "duration": 47,
    "start_time": "2021-10-10T17:18:08.417Z"
   },
   {
    "duration": 8,
    "start_time": "2021-10-10T17:18:08.466Z"
   },
   {
    "duration": 7,
    "start_time": "2021-10-10T17:18:08.477Z"
   },
   {
    "duration": 15,
    "start_time": "2021-10-10T17:18:08.489Z"
   },
   {
    "duration": 74,
    "start_time": "2021-10-10T17:18:08.508Z"
   },
   {
    "duration": 162,
    "start_time": "2021-10-10T17:18:08.585Z"
   },
   {
    "duration": 31,
    "start_time": "2021-10-10T17:18:08.749Z"
   },
   {
    "duration": 45,
    "start_time": "2021-10-10T17:18:08.782Z"
   },
   {
    "duration": 36,
    "start_time": "2021-10-10T17:18:08.830Z"
   },
   {
    "duration": 12,
    "start_time": "2021-10-10T17:18:08.869Z"
   },
   {
    "duration": 31,
    "start_time": "2021-10-10T17:18:08.883Z"
   },
   {
    "duration": 55,
    "start_time": "2021-10-10T17:18:08.916Z"
   },
   {
    "duration": 18,
    "start_time": "2021-10-10T17:18:08.974Z"
   },
   {
    "duration": 43,
    "start_time": "2021-10-10T17:18:08.994Z"
   },
   {
    "duration": 26,
    "start_time": "2021-10-10T17:18:09.039Z"
   },
   {
    "duration": 22,
    "start_time": "2021-10-10T17:18:09.067Z"
   },
   {
    "duration": 71,
    "start_time": "2021-10-10T17:18:09.092Z"
   },
   {
    "duration": 12,
    "start_time": "2021-10-10T17:18:09.166Z"
   },
   {
    "duration": 16,
    "start_time": "2021-10-10T17:18:09.181Z"
   },
   {
    "duration": 82,
    "start_time": "2021-10-10T17:18:09.200Z"
   },
   {
    "duration": 15,
    "start_time": "2021-10-10T17:18:09.284Z"
   },
   {
    "duration": 75,
    "start_time": "2021-10-10T17:18:09.304Z"
   },
   {
    "duration": 4,
    "start_time": "2021-10-10T17:18:09.382Z"
   },
   {
    "duration": 447,
    "start_time": "2021-10-10T17:18:09.389Z"
   },
   {
    "duration": -138,
    "start_time": "2021-10-10T17:18:09.977Z"
   },
   {
    "duration": -141,
    "start_time": "2021-10-10T17:18:09.981Z"
   },
   {
    "duration": -144,
    "start_time": "2021-10-10T17:18:09.985Z"
   },
   {
    "duration": -145,
    "start_time": "2021-10-10T17:18:09.988Z"
   },
   {
    "duration": -147,
    "start_time": "2021-10-10T17:18:09.991Z"
   },
   {
    "duration": -148,
    "start_time": "2021-10-10T17:18:09.993Z"
   },
   {
    "duration": 110,
    "start_time": "2021-10-10T17:20:00.417Z"
   },
   {
    "duration": 500,
    "start_time": "2021-10-10T17:20:08.487Z"
   },
   {
    "duration": 4,
    "start_time": "2021-10-10T17:21:02.425Z"
   },
   {
    "duration": 486,
    "start_time": "2021-10-10T17:21:02.845Z"
   },
   {
    "duration": 728,
    "start_time": "2021-10-10T17:21:46.314Z"
   },
   {
    "duration": 539,
    "start_time": "2021-10-10T17:21:47.045Z"
   },
   {
    "duration": 28,
    "start_time": "2021-10-10T17:21:47.586Z"
   },
   {
    "duration": 7,
    "start_time": "2021-10-10T17:21:47.617Z"
   },
   {
    "duration": 23,
    "start_time": "2021-10-10T17:21:47.626Z"
   },
   {
    "duration": 12,
    "start_time": "2021-10-10T17:21:47.652Z"
   },
   {
    "duration": 8,
    "start_time": "2021-10-10T17:21:47.667Z"
   },
   {
    "duration": 19,
    "start_time": "2021-10-10T17:21:47.679Z"
   },
   {
    "duration": 62,
    "start_time": "2021-10-10T17:21:47.701Z"
   },
   {
    "duration": 154,
    "start_time": "2021-10-10T17:21:47.766Z"
   },
   {
    "duration": 40,
    "start_time": "2021-10-10T17:21:47.922Z"
   },
   {
    "duration": 45,
    "start_time": "2021-10-10T17:21:47.964Z"
   },
   {
    "duration": 22,
    "start_time": "2021-10-10T17:21:48.011Z"
   },
   {
    "duration": 34,
    "start_time": "2021-10-10T17:21:48.036Z"
   },
   {
    "duration": 20,
    "start_time": "2021-10-10T17:21:48.073Z"
   },
   {
    "duration": 63,
    "start_time": "2021-10-10T17:21:48.095Z"
   },
   {
    "duration": 20,
    "start_time": "2021-10-10T17:21:48.160Z"
   },
   {
    "duration": 25,
    "start_time": "2021-10-10T17:21:48.182Z"
   },
   {
    "duration": 51,
    "start_time": "2021-10-10T17:21:48.209Z"
   },
   {
    "duration": 22,
    "start_time": "2021-10-10T17:21:48.262Z"
   },
   {
    "duration": 31,
    "start_time": "2021-10-10T17:21:48.286Z"
   },
   {
    "duration": 40,
    "start_time": "2021-10-10T17:21:48.320Z"
   },
   {
    "duration": 25,
    "start_time": "2021-10-10T17:21:48.364Z"
   },
   {
    "duration": 68,
    "start_time": "2021-10-10T17:21:48.392Z"
   },
   {
    "duration": 13,
    "start_time": "2021-10-10T17:21:48.463Z"
   },
   {
    "duration": 55,
    "start_time": "2021-10-10T17:21:48.478Z"
   },
   {
    "duration": 30,
    "start_time": "2021-10-10T17:21:48.535Z"
   },
   {
    "duration": 39,
    "start_time": "2021-10-10T17:21:48.567Z"
   },
   {
    "duration": 66,
    "start_time": "2021-10-10T17:21:48.608Z"
   },
   {
    "duration": 16,
    "start_time": "2021-10-10T17:21:48.676Z"
   },
   {
    "duration": 66,
    "start_time": "2021-10-10T17:21:48.694Z"
   },
   {
    "duration": 36,
    "start_time": "2021-10-10T17:21:48.763Z"
   },
   {
    "duration": 420,
    "start_time": "2021-10-10T17:24:53.093Z"
   },
   {
    "duration": 14,
    "start_time": "2021-10-10T17:24:59.143Z"
   },
   {
    "duration": 16,
    "start_time": "2021-10-10T17:26:30.496Z"
   },
   {
    "duration": 4,
    "start_time": "2021-10-10T17:38:11.454Z"
   },
   {
    "duration": 21,
    "start_time": "2021-10-10T17:38:25.789Z"
   },
   {
    "duration": 41,
    "start_time": "2021-10-10T17:39:01.818Z"
   },
   {
    "duration": 17,
    "start_time": "2021-10-10T17:39:06.499Z"
   },
   {
    "duration": 335,
    "start_time": "2021-10-10T17:40:03.669Z"
   },
   {
    "duration": 325,
    "start_time": "2021-10-10T18:14:41.084Z"
   },
   {
    "duration": 372,
    "start_time": "2021-10-10T18:15:01.497Z"
   },
   {
    "duration": 10,
    "start_time": "2021-10-10T18:15:15.636Z"
   },
   {
    "duration": 4,
    "start_time": "2021-10-10T18:15:23.068Z"
   },
   {
    "duration": 11,
    "start_time": "2021-10-10T18:15:25.147Z"
   },
   {
    "duration": 16,
    "start_time": "2021-10-10T18:15:26.215Z"
   },
   {
    "duration": 382,
    "start_time": "2021-10-10T18:15:27.335Z"
   },
   {
    "duration": 12,
    "start_time": "2021-10-10T18:16:58.243Z"
   },
   {
    "duration": 9,
    "start_time": "2021-10-10T18:17:06.828Z"
   },
   {
    "duration": 8,
    "start_time": "2021-10-10T18:17:16.751Z"
   },
   {
    "duration": 4,
    "start_time": "2021-10-10T18:19:58.824Z"
   },
   {
    "duration": 382,
    "start_time": "2021-10-10T18:20:36.512Z"
   },
   {
    "duration": 4,
    "start_time": "2021-10-10T18:21:00.747Z"
   },
   {
    "duration": 799,
    "start_time": "2021-10-10T18:21:00.947Z"
   },
   {
    "duration": 12,
    "start_time": "2021-10-10T18:26:09.511Z"
   },
   {
    "duration": 37,
    "start_time": "2021-10-10T18:29:15.087Z"
   },
   {
    "duration": 13,
    "start_time": "2021-10-10T18:29:33.539Z"
   },
   {
    "duration": 437,
    "start_time": "2021-10-10T18:29:57.339Z"
   },
   {
    "duration": 4,
    "start_time": "2021-10-10T18:30:26.767Z"
   },
   {
    "duration": 13,
    "start_time": "2021-10-10T18:30:35.019Z"
   },
   {
    "duration": 8,
    "start_time": "2021-10-10T18:31:10.534Z"
   },
   {
    "duration": 5117,
    "start_time": "2021-10-10T18:31:20.779Z"
   },
   {
    "duration": 4989,
    "start_time": "2021-10-10T18:31:46.587Z"
   },
   {
    "duration": 734,
    "start_time": "2021-10-10T18:32:50.164Z"
   },
   {
    "duration": 541,
    "start_time": "2021-10-10T18:32:50.901Z"
   },
   {
    "duration": 27,
    "start_time": "2021-10-10T18:32:51.445Z"
   },
   {
    "duration": 7,
    "start_time": "2021-10-10T18:32:51.475Z"
   },
   {
    "duration": 12,
    "start_time": "2021-10-10T18:32:51.484Z"
   },
   {
    "duration": 9,
    "start_time": "2021-10-10T18:32:51.498Z"
   },
   {
    "duration": 54,
    "start_time": "2021-10-10T18:32:51.509Z"
   },
   {
    "duration": 21,
    "start_time": "2021-10-10T18:32:51.565Z"
   },
   {
    "duration": 27,
    "start_time": "2021-10-10T18:32:51.590Z"
   },
   {
    "duration": 176,
    "start_time": "2021-10-10T18:32:51.620Z"
   },
   {
    "duration": 27,
    "start_time": "2021-10-10T18:32:51.799Z"
   },
   {
    "duration": 64,
    "start_time": "2021-10-10T18:32:51.828Z"
   },
   {
    "duration": 18,
    "start_time": "2021-10-10T18:32:51.894Z"
   },
   {
    "duration": 13,
    "start_time": "2021-10-10T18:32:51.915Z"
   },
   {
    "duration": 45,
    "start_time": "2021-10-10T18:32:51.930Z"
   },
   {
    "duration": 27,
    "start_time": "2021-10-10T18:32:51.978Z"
   },
   {
    "duration": 53,
    "start_time": "2021-10-10T18:32:52.007Z"
   },
   {
    "duration": 28,
    "start_time": "2021-10-10T18:32:52.063Z"
   },
   {
    "duration": 13,
    "start_time": "2021-10-10T18:32:52.094Z"
   },
   {
    "duration": 51,
    "start_time": "2021-10-10T18:32:52.109Z"
   },
   {
    "duration": 32,
    "start_time": "2021-10-10T18:32:52.162Z"
   },
   {
    "duration": 11,
    "start_time": "2021-10-10T18:32:52.197Z"
   },
   {
    "duration": 49,
    "start_time": "2021-10-10T18:32:52.210Z"
   },
   {
    "duration": 46,
    "start_time": "2021-10-10T18:32:52.262Z"
   },
   {
    "duration": 54,
    "start_time": "2021-10-10T18:32:52.310Z"
   },
   {
    "duration": 45,
    "start_time": "2021-10-10T18:32:52.367Z"
   },
   {
    "duration": 41,
    "start_time": "2021-10-10T18:32:52.416Z"
   },
   {
    "duration": 32,
    "start_time": "2021-10-10T18:32:52.460Z"
   },
   {
    "duration": 64,
    "start_time": "2021-10-10T18:32:52.494Z"
   },
   {
    "duration": 18,
    "start_time": "2021-10-10T18:32:52.561Z"
   },
   {
    "duration": 40,
    "start_time": "2021-10-10T18:32:52.581Z"
   },
   {
    "duration": 57,
    "start_time": "2021-10-10T18:32:52.624Z"
   },
   {
    "duration": 13,
    "start_time": "2021-10-10T18:32:52.684Z"
   },
   {
    "duration": 17,
    "start_time": "2021-10-10T20:00:41.324Z"
   },
   {
    "duration": 20,
    "start_time": "2021-10-10T20:00:50.327Z"
   },
   {
    "duration": 26,
    "start_time": "2021-10-10T20:00:56.682Z"
   },
   {
    "duration": 24,
    "start_time": "2021-10-10T20:01:15.680Z"
   },
   {
    "duration": 4,
    "start_time": "2021-10-10T20:03:16.642Z"
   },
   {
    "duration": 28,
    "start_time": "2021-10-10T20:03:43.624Z"
   },
   {
    "duration": 24,
    "start_time": "2021-10-10T20:04:08.942Z"
   },
   {
    "duration": 35,
    "start_time": "2021-10-10T20:04:18.369Z"
   },
   {
    "duration": 38,
    "start_time": "2021-10-10T20:04:37.617Z"
   },
   {
    "duration": 27,
    "start_time": "2021-10-10T20:06:19.804Z"
   },
   {
    "duration": 38,
    "start_time": "2021-10-10T20:07:36.189Z"
   },
   {
    "duration": 10,
    "start_time": "2021-10-10T20:07:55.166Z"
   },
   {
    "duration": 9,
    "start_time": "2021-10-10T20:08:08.331Z"
   },
   {
    "duration": 392,
    "start_time": "2021-10-10T20:09:03.272Z"
   },
   {
    "duration": 1301,
    "start_time": "2021-10-10T20:09:10.759Z"
   },
   {
    "duration": 2975,
    "start_time": "2021-10-10T20:09:25.376Z"
   },
   {
    "duration": 32,
    "start_time": "2021-10-10T20:09:40.742Z"
   },
   {
    "duration": 37,
    "start_time": "2021-10-10T20:09:51.743Z"
   },
   {
    "duration": 4,
    "start_time": "2021-10-10T20:10:28.608Z"
   },
   {
    "duration": 1637,
    "start_time": "2021-10-10T20:10:29.269Z"
   },
   {
    "duration": 1587,
    "start_time": "2021-10-10T20:21:30.255Z"
   },
   {
    "duration": 49,
    "start_time": "2021-10-10T20:23:40.567Z"
   },
   {
    "duration": 43,
    "start_time": "2021-10-10T20:23:50.959Z"
   },
   {
    "duration": 5,
    "start_time": "2021-10-10T20:32:54.398Z"
   },
   {
    "duration": 1861,
    "start_time": "2021-10-10T20:32:55.018Z"
   },
   {
    "duration": 758,
    "start_time": "2021-10-10T20:34:44.458Z"
   },
   {
    "duration": 541,
    "start_time": "2021-10-10T20:34:45.219Z"
   },
   {
    "duration": 28,
    "start_time": "2021-10-10T20:34:45.763Z"
   },
   {
    "duration": 16,
    "start_time": "2021-10-10T20:34:45.794Z"
   },
   {
    "duration": 13,
    "start_time": "2021-10-10T20:34:45.812Z"
   },
   {
    "duration": 37,
    "start_time": "2021-10-10T20:34:45.827Z"
   },
   {
    "duration": 6,
    "start_time": "2021-10-10T20:34:45.866Z"
   },
   {
    "duration": 18,
    "start_time": "2021-10-10T20:34:45.875Z"
   },
   {
    "duration": 71,
    "start_time": "2021-10-10T20:34:45.897Z"
   },
   {
    "duration": 145,
    "start_time": "2021-10-10T20:34:45.971Z"
   },
   {
    "duration": 39,
    "start_time": "2021-10-10T20:34:46.119Z"
   },
   {
    "duration": 41,
    "start_time": "2021-10-10T20:34:46.160Z"
   },
   {
    "duration": 19,
    "start_time": "2021-10-10T20:34:46.204Z"
   },
   {
    "duration": 42,
    "start_time": "2021-10-10T20:34:46.225Z"
   },
   {
    "duration": 20,
    "start_time": "2021-10-10T20:34:46.269Z"
   },
   {
    "duration": 26,
    "start_time": "2021-10-10T20:34:46.291Z"
   },
   {
    "duration": 55,
    "start_time": "2021-10-10T20:34:46.319Z"
   },
   {
    "duration": 24,
    "start_time": "2021-10-10T20:34:46.376Z"
   },
   {
    "duration": 13,
    "start_time": "2021-10-10T20:34:46.402Z"
   },
   {
    "duration": 62,
    "start_time": "2021-10-10T20:34:46.417Z"
   },
   {
    "duration": 31,
    "start_time": "2021-10-10T20:34:46.481Z"
   },
   {
    "duration": 10,
    "start_time": "2021-10-10T20:34:46.514Z"
   },
   {
    "duration": 16,
    "start_time": "2021-10-10T20:34:46.558Z"
   },
   {
    "duration": 46,
    "start_time": "2021-10-10T20:34:46.576Z"
   },
   {
    "duration": 55,
    "start_time": "2021-10-10T20:34:46.624Z"
   },
   {
    "duration": 76,
    "start_time": "2021-10-10T20:34:46.681Z"
   },
   {
    "duration": 3,
    "start_time": "2021-10-10T20:34:46.762Z"
   },
   {
    "duration": 1757,
    "start_time": "2021-10-10T20:34:46.768Z"
   },
   {
    "duration": -258,
    "start_time": "2021-10-10T20:34:48.785Z"
   },
   {
    "duration": -258,
    "start_time": "2021-10-10T20:34:48.787Z"
   },
   {
    "duration": -258,
    "start_time": "2021-10-10T20:34:48.788Z"
   },
   {
    "duration": -259,
    "start_time": "2021-10-10T20:34:48.790Z"
   },
   {
    "duration": -258,
    "start_time": "2021-10-10T20:34:48.791Z"
   },
   {
    "duration": -259,
    "start_time": "2021-10-10T20:34:48.793Z"
   },
   {
    "duration": -259,
    "start_time": "2021-10-10T20:34:48.794Z"
   },
   {
    "duration": 796,
    "start_time": "2021-10-10T20:36:51.637Z"
   },
   {
    "duration": 541,
    "start_time": "2021-10-10T20:36:52.436Z"
   },
   {
    "duration": 29,
    "start_time": "2021-10-10T20:36:52.980Z"
   },
   {
    "duration": 7,
    "start_time": "2021-10-10T20:36:53.012Z"
   },
   {
    "duration": 10,
    "start_time": "2021-10-10T20:36:53.021Z"
   },
   {
    "duration": 8,
    "start_time": "2021-10-10T20:36:53.058Z"
   },
   {
    "duration": 6,
    "start_time": "2021-10-10T20:36:53.070Z"
   },
   {
    "duration": 19,
    "start_time": "2021-10-10T20:36:53.079Z"
   },
   {
    "duration": 66,
    "start_time": "2021-10-10T20:36:53.100Z"
   },
   {
    "duration": 151,
    "start_time": "2021-10-10T20:36:53.168Z"
   },
   {
    "duration": 35,
    "start_time": "2021-10-10T20:36:53.322Z"
   },
   {
    "duration": 45,
    "start_time": "2021-10-10T20:36:53.360Z"
   },
   {
    "duration": 19,
    "start_time": "2021-10-10T20:36:53.408Z"
   },
   {
    "duration": 18,
    "start_time": "2021-10-10T20:36:53.458Z"
   },
   {
    "duration": 25,
    "start_time": "2021-10-10T20:36:53.479Z"
   },
   {
    "duration": 59,
    "start_time": "2021-10-10T20:36:53.506Z"
   },
   {
    "duration": 21,
    "start_time": "2021-10-10T20:36:53.567Z"
   },
   {
    "duration": 29,
    "start_time": "2021-10-10T20:36:53.591Z"
   },
   {
    "duration": 46,
    "start_time": "2021-10-10T20:36:53.622Z"
   },
   {
    "duration": 21,
    "start_time": "2021-10-10T20:36:53.671Z"
   },
   {
    "duration": 33,
    "start_time": "2021-10-10T20:36:53.695Z"
   },
   {
    "duration": 12,
    "start_time": "2021-10-10T20:36:53.760Z"
   },
   {
    "duration": 27,
    "start_time": "2021-10-10T20:36:53.775Z"
   },
   {
    "duration": 83,
    "start_time": "2021-10-10T20:36:53.804Z"
   },
   {
    "duration": 29,
    "start_time": "2021-10-10T20:36:53.890Z"
   },
   {
    "duration": 66,
    "start_time": "2021-10-10T20:36:53.922Z"
   },
   {
    "duration": 16,
    "start_time": "2021-10-10T20:36:53.991Z"
   },
   {
    "duration": 76,
    "start_time": "2021-10-10T20:36:54.010Z"
   },
   {
    "duration": 35,
    "start_time": "2021-10-10T20:36:54.089Z"
   },
   {
    "duration": 43,
    "start_time": "2021-10-10T20:36:54.128Z"
   },
   {
    "duration": 41,
    "start_time": "2021-10-10T20:36:54.174Z"
   },
   {
    "duration": 73,
    "start_time": "2021-10-10T20:36:54.218Z"
   },
   {
    "duration": 391,
    "start_time": "2021-10-10T20:39:14.774Z"
   },
   {
    "duration": 17,
    "start_time": "2021-10-10T20:39:22.193Z"
   },
   {
    "duration": 14,
    "start_time": "2021-10-10T20:39:49.730Z"
   },
   {
    "duration": 11,
    "start_time": "2021-10-10T20:40:50.897Z"
   },
   {
    "duration": 9,
    "start_time": "2021-10-10T20:41:11.183Z"
   },
   {
    "duration": 9,
    "start_time": "2021-10-10T20:41:41.641Z"
   },
   {
    "duration": 14,
    "start_time": "2021-10-10T20:41:50.684Z"
   },
   {
    "duration": 10,
    "start_time": "2021-10-10T20:42:00.885Z"
   },
   {
    "duration": 7,
    "start_time": "2021-10-10T20:53:50.718Z"
   },
   {
    "duration": 4,
    "start_time": "2021-10-10T20:55:00.508Z"
   },
   {
    "duration": 1300,
    "start_time": "2021-10-10T20:55:56.109Z"
   },
   {
    "duration": 108,
    "start_time": "2021-10-10T20:56:50.586Z"
   },
   {
    "duration": 19,
    "start_time": "2021-10-10T20:56:58.208Z"
   },
   {
    "duration": 1273,
    "start_time": "2021-10-10T20:57:23.471Z"
   },
   {
    "duration": 2104,
    "start_time": "2021-10-10T21:08:24.362Z"
   },
   {
    "duration": 6,
    "start_time": "2021-10-10T21:08:50.265Z"
   },
   {
    "duration": 4,
    "start_time": "2021-10-10T21:08:50.838Z"
   },
   {
    "duration": 321,
    "start_time": "2021-10-10T21:08:51.905Z"
   },
   {
    "duration": 7,
    "start_time": "2021-10-10T21:09:16.838Z"
   },
   {
    "duration": 11,
    "start_time": "2021-10-10T21:09:21.823Z"
   },
   {
    "duration": 4,
    "start_time": "2021-10-10T21:09:35.035Z"
   },
   {
    "duration": 1556,
    "start_time": "2021-10-10T21:09:35.971Z"
   },
   {
    "duration": 1262,
    "start_time": "2021-10-10T21:09:57.910Z"
   },
   {
    "duration": 7,
    "start_time": "2021-10-10T21:10:33.457Z"
   },
   {
    "duration": 7,
    "start_time": "2021-10-10T21:10:44.618Z"
   },
   {
    "duration": 11,
    "start_time": "2021-10-10T21:11:32.117Z"
   },
   {
    "duration": 5,
    "start_time": "2021-10-10T21:12:02.715Z"
   },
   {
    "duration": 5,
    "start_time": "2021-10-10T21:12:11.006Z"
   },
   {
    "duration": 5,
    "start_time": "2021-10-10T21:12:21.078Z"
   },
   {
    "duration": 5,
    "start_time": "2021-10-10T21:12:27.940Z"
   },
   {
    "duration": 7,
    "start_time": "2021-10-10T21:12:36.218Z"
   },
   {
    "duration": 519,
    "start_time": "2021-10-10T21:13:46.753Z"
   },
   {
    "duration": 13,
    "start_time": "2021-10-10T21:13:53.586Z"
   },
   {
    "duration": 519,
    "start_time": "2021-10-10T21:13:54.118Z"
   },
   {
    "duration": 21,
    "start_time": "2021-10-10T21:13:55.495Z"
   },
   {
    "duration": 10,
    "start_time": "2021-10-10T21:16:28.995Z"
   },
   {
    "duration": 6,
    "start_time": "2021-10-10T21:16:33.199Z"
   },
   {
    "duration": 4,
    "start_time": "2021-10-10T21:16:33.881Z"
   },
   {
    "duration": 347,
    "start_time": "2021-10-10T21:16:34.762Z"
   },
   {
    "duration": 23,
    "start_time": "2021-10-10T21:16:35.994Z"
   },
   {
    "duration": 6,
    "start_time": "2021-10-10T21:19:12.617Z"
   },
   {
    "duration": 11,
    "start_time": "2021-10-10T21:19:25.477Z"
   },
   {
    "duration": 15,
    "start_time": "2021-10-10T21:19:48.616Z"
   },
   {
    "duration": 18,
    "start_time": "2021-10-10T21:19:55.686Z"
   },
   {
    "duration": 30,
    "start_time": "2021-10-10T21:20:36.181Z"
   },
   {
    "duration": 701,
    "start_time": "2021-10-10T21:23:17.710Z"
   },
   {
    "duration": 521,
    "start_time": "2021-10-10T21:23:18.413Z"
   },
   {
    "duration": 27,
    "start_time": "2021-10-10T21:23:18.937Z"
   },
   {
    "duration": 8,
    "start_time": "2021-10-10T21:23:18.967Z"
   },
   {
    "duration": 13,
    "start_time": "2021-10-10T21:23:18.977Z"
   },
   {
    "duration": 9,
    "start_time": "2021-10-10T21:23:18.992Z"
   },
   {
    "duration": 55,
    "start_time": "2021-10-10T21:23:19.003Z"
   },
   {
    "duration": 20,
    "start_time": "2021-10-10T21:23:19.060Z"
   },
   {
    "duration": 26,
    "start_time": "2021-10-10T21:23:19.084Z"
   },
   {
    "duration": 177,
    "start_time": "2021-10-10T21:23:19.113Z"
   },
   {
    "duration": 27,
    "start_time": "2021-10-10T21:23:19.292Z"
   },
   {
    "duration": 71,
    "start_time": "2021-10-10T21:23:19.322Z"
   },
   {
    "duration": 21,
    "start_time": "2021-10-10T21:23:19.396Z"
   },
   {
    "duration": 40,
    "start_time": "2021-10-10T21:23:19.420Z"
   },
   {
    "duration": 27,
    "start_time": "2021-10-10T21:23:19.464Z"
   },
   {
    "duration": 70,
    "start_time": "2021-10-10T21:23:19.495Z"
   },
   {
    "duration": 22,
    "start_time": "2021-10-10T21:23:19.568Z"
   },
   {
    "duration": 25,
    "start_time": "2021-10-10T21:23:19.594Z"
   },
   {
    "duration": 50,
    "start_time": "2021-10-10T21:23:19.622Z"
   },
   {
    "duration": 26,
    "start_time": "2021-10-10T21:23:19.675Z"
   },
   {
    "duration": 78,
    "start_time": "2021-10-10T21:23:19.704Z"
   },
   {
    "duration": 13,
    "start_time": "2021-10-10T21:23:19.785Z"
   },
   {
    "duration": 58,
    "start_time": "2021-10-10T21:23:19.801Z"
   },
   {
    "duration": 50,
    "start_time": "2021-10-10T21:23:19.862Z"
   },
   {
    "duration": 44,
    "start_time": "2021-10-10T21:23:19.915Z"
   },
   {
    "duration": 51,
    "start_time": "2021-10-10T21:23:19.962Z"
   },
   {
    "duration": 47,
    "start_time": "2021-10-10T21:23:20.020Z"
   },
   {
    "duration": 5,
    "start_time": "2021-10-10T21:23:20.070Z"
   },
   {
    "duration": 32,
    "start_time": "2021-10-10T21:23:20.078Z"
   },
   {
    "duration": 57,
    "start_time": "2021-10-10T21:23:20.113Z"
   },
   {
    "duration": 33,
    "start_time": "2021-10-10T21:23:20.174Z"
   },
   {
    "duration": 86,
    "start_time": "2021-10-10T21:23:20.210Z"
   },
   {
    "duration": 23,
    "start_time": "2021-10-10T21:23:20.299Z"
   },
   {
    "duration": 78,
    "start_time": "2021-10-10T21:23:20.325Z"
   },
   {
    "duration": 77,
    "start_time": "2021-10-10T21:23:20.406Z"
   },
   {
    "duration": 1290,
    "start_time": "2021-10-10T21:27:49.951Z"
   },
   {
    "duration": 522,
    "start_time": "2021-10-10T21:27:51.244Z"
   },
   {
    "duration": 28,
    "start_time": "2021-10-10T21:27:51.772Z"
   },
   {
    "duration": 7,
    "start_time": "2021-10-10T21:27:51.803Z"
   },
   {
    "duration": 47,
    "start_time": "2021-10-10T21:27:51.813Z"
   },
   {
    "duration": 9,
    "start_time": "2021-10-10T21:27:51.863Z"
   },
   {
    "duration": 11,
    "start_time": "2021-10-10T21:27:51.874Z"
   },
   {
    "duration": 20,
    "start_time": "2021-10-10T21:27:51.889Z"
   },
   {
    "duration": 70,
    "start_time": "2021-10-10T21:27:51.912Z"
   },
   {
    "duration": 152,
    "start_time": "2021-10-10T21:27:51.985Z"
   },
   {
    "duration": 34,
    "start_time": "2021-10-10T21:27:52.139Z"
   },
   {
    "duration": 43,
    "start_time": "2021-10-10T21:27:52.176Z"
   },
   {
    "duration": 50,
    "start_time": "2021-10-10T21:27:52.221Z"
   },
   {
    "duration": 13,
    "start_time": "2021-10-10T21:27:52.273Z"
   },
   {
    "duration": 20,
    "start_time": "2021-10-10T21:27:52.288Z"
   },
   {
    "duration": 59,
    "start_time": "2021-10-10T21:27:52.311Z"
   },
   {
    "duration": 20,
    "start_time": "2021-10-10T21:27:52.372Z"
   },
   {
    "duration": 26,
    "start_time": "2021-10-10T21:27:52.394Z"
   },
   {
    "duration": 46,
    "start_time": "2021-10-10T21:27:52.422Z"
   },
   {
    "duration": 23,
    "start_time": "2021-10-10T21:27:52.471Z"
   },
   {
    "duration": 69,
    "start_time": "2021-10-10T21:27:52.496Z"
   },
   {
    "duration": 11,
    "start_time": "2021-10-10T21:27:52.568Z"
   },
   {
    "duration": 19,
    "start_time": "2021-10-10T21:27:52.581Z"
   },
   {
    "duration": 81,
    "start_time": "2021-10-10T21:27:52.602Z"
   },
   {
    "duration": 13,
    "start_time": "2021-10-10T21:27:52.686Z"
   },
   {
    "duration": 69,
    "start_time": "2021-10-10T21:27:52.703Z"
   },
   {
    "duration": 9,
    "start_time": "2021-10-10T21:27:52.775Z"
   },
   {
    "duration": 5,
    "start_time": "2021-10-10T21:27:52.787Z"
   },
   {
    "duration": 76,
    "start_time": "2021-10-10T21:27:52.795Z"
   },
   {
    "duration": 15,
    "start_time": "2021-10-10T21:27:52.874Z"
   },
   {
    "duration": 72,
    "start_time": "2021-10-10T21:27:52.891Z"
   },
   {
    "duration": 37,
    "start_time": "2021-10-10T21:27:52.966Z"
   },
   {
    "duration": 53,
    "start_time": "2021-10-10T21:27:53.006Z"
   },
   {
    "duration": 40,
    "start_time": "2021-10-10T21:27:53.062Z"
   },
   {
    "duration": 76,
    "start_time": "2021-10-10T21:27:53.105Z"
   },
   {
    "duration": 401,
    "start_time": "2021-10-10T21:27:53.184Z"
   },
   {
    "duration": 481,
    "start_time": "2021-10-10T21:28:02.378Z"
   },
   {
    "duration": 19,
    "start_time": "2021-10-10T21:28:10.240Z"
   },
   {
    "duration": 18,
    "start_time": "2021-10-10T21:28:14.582Z"
   },
   {
    "duration": 8300,
    "start_time": "2021-10-10T21:29:07.265Z"
   },
   {
    "duration": 769,
    "start_time": "2021-10-10T21:29:53.824Z"
   },
   {
    "duration": 523,
    "start_time": "2021-10-10T21:29:54.596Z"
   },
   {
    "duration": 27,
    "start_time": "2021-10-10T21:29:55.122Z"
   },
   {
    "duration": 9,
    "start_time": "2021-10-10T21:29:55.151Z"
   },
   {
    "duration": 11,
    "start_time": "2021-10-10T21:29:55.162Z"
   },
   {
    "duration": 8,
    "start_time": "2021-10-10T21:29:55.175Z"
   },
   {
    "duration": 10,
    "start_time": "2021-10-10T21:29:55.185Z"
   },
   {
    "duration": 17,
    "start_time": "2021-10-10T21:29:55.197Z"
   },
   {
    "duration": 30,
    "start_time": "2021-10-10T21:29:55.257Z"
   },
   {
    "duration": 230,
    "start_time": "2021-10-10T21:29:55.291Z"
   },
   {
    "duration": 52,
    "start_time": "2021-10-10T21:29:55.524Z"
   },
   {
    "duration": 43,
    "start_time": "2021-10-10T21:29:55.579Z"
   },
   {
    "duration": 39,
    "start_time": "2021-10-10T21:29:55.624Z"
   },
   {
    "duration": 13,
    "start_time": "2021-10-10T21:29:55.665Z"
   },
   {
    "duration": 33,
    "start_time": "2021-10-10T21:29:55.680Z"
   },
   {
    "duration": 52,
    "start_time": "2021-10-10T21:29:55.715Z"
   },
   {
    "duration": 21,
    "start_time": "2021-10-10T21:29:55.770Z"
   },
   {
    "duration": 28,
    "start_time": "2021-10-10T21:29:55.793Z"
   },
   {
    "duration": 48,
    "start_time": "2021-10-10T21:29:55.824Z"
   },
   {
    "duration": 25,
    "start_time": "2021-10-10T21:29:55.875Z"
   },
   {
    "duration": 72,
    "start_time": "2021-10-10T21:29:55.903Z"
   },
   {
    "duration": 14,
    "start_time": "2021-10-10T21:29:55.977Z"
   },
   {
    "duration": 21,
    "start_time": "2021-10-10T21:29:55.993Z"
   },
   {
    "duration": 78,
    "start_time": "2021-10-10T21:29:56.017Z"
   },
   {
    "duration": 14,
    "start_time": "2021-10-10T21:29:56.097Z"
   },
   {
    "duration": 82,
    "start_time": "2021-10-10T21:29:56.113Z"
   },
   {
    "duration": 9,
    "start_time": "2021-10-10T21:29:56.200Z"
   },
   {
    "duration": 8,
    "start_time": "2021-10-10T21:29:56.212Z"
   },
   {
    "duration": 58,
    "start_time": "2021-10-10T21:29:56.223Z"
   },
   {
    "duration": 14,
    "start_time": "2021-10-10T21:29:56.283Z"
   },
   {
    "duration": 62,
    "start_time": "2021-10-10T21:29:56.300Z"
   },
   {
    "duration": 1482,
    "start_time": "2021-10-10T21:29:56.364Z"
   },
   {
    "duration": -194,
    "start_time": "2021-10-10T21:29:58.043Z"
   },
   {
    "duration": -194,
    "start_time": "2021-10-10T21:29:58.046Z"
   },
   {
    "duration": -195,
    "start_time": "2021-10-10T21:29:58.049Z"
   },
   {
    "duration": -198,
    "start_time": "2021-10-10T21:29:58.054Z"
   },
   {
    "duration": -197,
    "start_time": "2021-10-10T21:29:58.055Z"
   },
   {
    "duration": -197,
    "start_time": "2021-10-10T21:29:58.057Z"
   },
   {
    "duration": 1482,
    "start_time": "2021-10-10T21:31:01.169Z"
   },
   {
    "duration": 31,
    "start_time": "2021-10-10T21:31:19.357Z"
   },
   {
    "duration": 23,
    "start_time": "2021-10-10T21:31:29.850Z"
   },
   {
    "duration": 21,
    "start_time": "2021-10-10T21:31:47.269Z"
   },
   {
    "duration": 28,
    "start_time": "2021-10-10T21:31:59.556Z"
   },
   {
    "duration": 17,
    "start_time": "2021-10-10T21:32:03.305Z"
   },
   {
    "duration": 38,
    "start_time": "2021-10-10T21:32:06.194Z"
   },
   {
    "duration": 342,
    "start_time": "2021-10-10T21:32:08.141Z"
   },
   {
    "duration": 33,
    "start_time": "2021-10-10T21:32:24.689Z"
   },
   {
    "duration": 19,
    "start_time": "2021-10-10T21:32:28.301Z"
   },
   {
    "duration": 16,
    "start_time": "2021-10-10T21:32:28.988Z"
   },
   {
    "duration": 14,
    "start_time": "2021-10-10T21:32:36.009Z"
   },
   {
    "duration": 103,
    "start_time": "2021-10-10T21:34:51.123Z"
   },
   {
    "duration": 4,
    "start_time": "2021-10-10T21:34:56.041Z"
   },
   {
    "duration": 19,
    "start_time": "2021-10-10T21:35:49.513Z"
   },
   {
    "duration": 27,
    "start_time": "2021-10-10T21:36:11.361Z"
   },
   {
    "duration": 3,
    "start_time": "2021-10-10T21:36:31.921Z"
   },
   {
    "duration": 23,
    "start_time": "2021-10-10T21:36:32.353Z"
   },
   {
    "duration": 29,
    "start_time": "2021-10-10T21:36:33.069Z"
   },
   {
    "duration": 4,
    "start_time": "2021-10-10T21:38:24.080Z"
   },
   {
    "duration": 334,
    "start_time": "2021-10-10T21:39:47.060Z"
   },
   {
    "duration": 31,
    "start_time": "2021-10-10T21:40:10.077Z"
   },
   {
    "duration": 19,
    "start_time": "2021-10-10T21:40:30.237Z"
   },
   {
    "duration": 15,
    "start_time": "2021-10-10T21:40:42.806Z"
   },
   {
    "duration": 10,
    "start_time": "2021-10-10T21:41:01.717Z"
   },
   {
    "duration": 340,
    "start_time": "2021-10-10T21:41:14.109Z"
   },
   {
    "duration": 12,
    "start_time": "2021-10-10T21:41:31.579Z"
   },
   {
    "duration": 11,
    "start_time": "2021-10-10T21:41:46.368Z"
   },
   {
    "duration": 4,
    "start_time": "2021-10-10T21:43:46.030Z"
   },
   {
    "duration": 4,
    "start_time": "2021-10-10T21:45:37.733Z"
   },
   {
    "duration": 1660,
    "start_time": "2021-10-10T21:46:28.398Z"
   },
   {
    "duration": 14,
    "start_time": "2021-10-10T21:46:56.542Z"
   },
   {
    "duration": 30,
    "start_time": "2021-10-10T21:47:13.229Z"
   },
   {
    "duration": 3,
    "start_time": "2021-10-10T21:47:57.374Z"
   },
   {
    "duration": 29,
    "start_time": "2021-10-10T21:48:08.583Z"
   },
   {
    "duration": 10,
    "start_time": "2021-10-10T21:48:39.333Z"
   },
   {
    "duration": 28,
    "start_time": "2021-10-10T21:50:41.174Z"
   },
   {
    "duration": 3,
    "start_time": "2021-10-10T21:50:55.817Z"
   },
   {
    "duration": 31,
    "start_time": "2021-10-10T21:50:57.893Z"
   },
   {
    "duration": 29,
    "start_time": "2021-10-10T21:51:41.742Z"
   },
   {
    "duration": 3,
    "start_time": "2021-10-10T21:52:48.365Z"
   },
   {
    "duration": 29,
    "start_time": "2021-10-10T21:52:48.676Z"
   },
   {
    "duration": 905,
    "start_time": "2021-10-10T21:53:05.074Z"
   },
   {
    "duration": 29,
    "start_time": "2021-10-10T21:53:25.150Z"
   },
   {
    "duration": 30,
    "start_time": "2021-10-10T21:54:25.956Z"
   },
   {
    "duration": 29,
    "start_time": "2021-10-10T21:54:31.769Z"
   },
   {
    "duration": 29,
    "start_time": "2021-10-10T21:54:59.961Z"
   },
   {
    "duration": 756,
    "start_time": "2021-10-10T21:55:10.043Z"
   },
   {
    "duration": 515,
    "start_time": "2021-10-10T21:55:10.802Z"
   },
   {
    "duration": 28,
    "start_time": "2021-10-10T21:55:11.320Z"
   },
   {
    "duration": 8,
    "start_time": "2021-10-10T21:55:11.350Z"
   },
   {
    "duration": 20,
    "start_time": "2021-10-10T21:55:11.360Z"
   },
   {
    "duration": 8,
    "start_time": "2021-10-10T21:55:11.383Z"
   },
   {
    "duration": 6,
    "start_time": "2021-10-10T21:55:11.394Z"
   },
   {
    "duration": 61,
    "start_time": "2021-10-10T21:55:11.404Z"
   },
   {
    "duration": 26,
    "start_time": "2021-10-10T21:55:11.468Z"
   },
   {
    "duration": 157,
    "start_time": "2021-10-10T21:55:11.497Z"
   },
   {
    "duration": 26,
    "start_time": "2021-10-10T21:55:11.658Z"
   },
   {
    "duration": 43,
    "start_time": "2021-10-10T21:55:11.686Z"
   },
   {
    "duration": 19,
    "start_time": "2021-10-10T21:55:11.757Z"
   },
   {
    "duration": 13,
    "start_time": "2021-10-10T21:55:11.778Z"
   },
   {
    "duration": 21,
    "start_time": "2021-10-10T21:55:11.793Z"
   },
   {
    "duration": 61,
    "start_time": "2021-10-10T21:55:11.817Z"
   },
   {
    "duration": 19,
    "start_time": "2021-10-10T21:55:11.880Z"
   },
   {
    "duration": 56,
    "start_time": "2021-10-10T21:55:11.901Z"
   },
   {
    "duration": 14,
    "start_time": "2021-10-10T21:55:11.959Z"
   },
   {
    "duration": 22,
    "start_time": "2021-10-10T21:55:11.976Z"
   },
   {
    "duration": 70,
    "start_time": "2021-10-10T21:55:12.001Z"
   },
   {
    "duration": 12,
    "start_time": "2021-10-10T21:55:12.073Z"
   },
   {
    "duration": 15,
    "start_time": "2021-10-10T21:55:12.090Z"
   },
   {
    "duration": 88,
    "start_time": "2021-10-10T21:55:12.108Z"
   },
   {
    "duration": 14,
    "start_time": "2021-10-10T21:55:12.198Z"
   },
   {
    "duration": 78,
    "start_time": "2021-10-10T21:55:12.215Z"
   },
   {
    "duration": 10,
    "start_time": "2021-10-10T21:55:12.295Z"
   },
   {
    "duration": 5,
    "start_time": "2021-10-10T21:55:12.307Z"
   },
   {
    "duration": 67,
    "start_time": "2021-10-10T21:55:12.315Z"
   },
   {
    "duration": 13,
    "start_time": "2021-10-10T21:55:12.385Z"
   },
   {
    "duration": 61,
    "start_time": "2021-10-10T21:55:12.400Z"
   },
   {
    "duration": 33,
    "start_time": "2021-10-10T21:55:12.464Z"
   },
   {
    "duration": 19,
    "start_time": "2021-10-10T21:55:12.499Z"
   },
   {
    "duration": 39,
    "start_time": "2021-10-10T21:55:12.556Z"
   },
   {
    "duration": 67,
    "start_time": "2021-10-10T21:55:12.597Z"
   },
   {
    "duration": 21,
    "start_time": "2021-10-10T21:55:12.668Z"
   },
   {
    "duration": 5,
    "start_time": "2021-10-10T21:55:12.692Z"
   },
   {
    "duration": 25,
    "start_time": "2021-10-10T21:55:12.700Z"
   },
   {
    "duration": 28,
    "start_time": "2021-10-10T21:55:12.759Z"
   },
   {
    "duration": 6,
    "start_time": "2021-10-10T21:55:12.789Z"
   },
   {
    "duration": 66,
    "start_time": "2021-10-10T21:55:12.798Z"
   },
   {
    "duration": 4,
    "start_time": "2021-10-10T21:59:38.955Z"
   },
   {
    "duration": 758,
    "start_time": "2021-10-10T22:00:50.991Z"
   },
   {
    "duration": 664,
    "start_time": "2021-10-10T22:02:36.910Z"
   },
   {
    "duration": 13,
    "start_time": "2021-10-10T22:03:57.543Z"
   },
   {
    "duration": 32,
    "start_time": "2021-10-10T22:04:07.415Z"
   },
   {
    "duration": 39,
    "start_time": "2021-10-10T22:04:52.778Z"
   },
   {
    "duration": 3,
    "start_time": "2021-10-10T22:06:27.031Z"
   },
   {
    "duration": 11,
    "start_time": "2021-10-10T22:06:51.382Z"
   },
   {
    "duration": 23,
    "start_time": "2021-10-10T22:06:57.533Z"
   },
   {
    "duration": 4,
    "start_time": "2021-10-10T22:07:35.950Z"
   },
   {
    "duration": 10,
    "start_time": "2021-10-10T22:07:36.466Z"
   },
   {
    "duration": 22,
    "start_time": "2021-10-10T22:07:37.055Z"
   },
   {
    "duration": 17,
    "start_time": "2021-10-10T22:09:11.572Z"
   },
   {
    "duration": -181,
    "start_time": "2021-10-10T22:09:58.024Z"
   },
   {
    "duration": 9,
    "start_time": "2021-10-10T22:10:04.749Z"
   },
   {
    "duration": 31,
    "start_time": "2021-10-10T22:12:28.321Z"
   },
   {
    "duration": 769,
    "start_time": "2021-10-10T22:12:59.226Z"
   },
   {
    "duration": 539,
    "start_time": "2021-10-10T22:12:59.997Z"
   },
   {
    "duration": 28,
    "start_time": "2021-10-10T22:13:00.539Z"
   },
   {
    "duration": 42,
    "start_time": "2021-10-10T22:13:00.569Z"
   },
   {
    "duration": 33,
    "start_time": "2021-10-10T22:13:00.613Z"
   },
   {
    "duration": 24,
    "start_time": "2021-10-10T22:13:00.649Z"
   },
   {
    "duration": 27,
    "start_time": "2021-10-10T22:13:00.675Z"
   },
   {
    "duration": 44,
    "start_time": "2021-10-10T22:13:00.706Z"
   },
   {
    "duration": 42,
    "start_time": "2021-10-10T22:13:00.753Z"
   },
   {
    "duration": 163,
    "start_time": "2021-10-10T22:13:00.797Z"
   },
   {
    "duration": 26,
    "start_time": "2021-10-10T22:13:00.962Z"
   },
   {
    "duration": 73,
    "start_time": "2021-10-10T22:13:00.991Z"
   },
   {
    "duration": 20,
    "start_time": "2021-10-10T22:13:01.066Z"
   },
   {
    "duration": 33,
    "start_time": "2021-10-10T22:13:01.088Z"
   },
   {
    "duration": 59,
    "start_time": "2021-10-10T22:13:01.123Z"
   },
   {
    "duration": 39,
    "start_time": "2021-10-10T22:13:01.184Z"
   },
   {
    "duration": 28,
    "start_time": "2021-10-10T22:13:01.226Z"
   },
   {
    "duration": 48,
    "start_time": "2021-10-10T22:13:01.256Z"
   },
   {
    "duration": 21,
    "start_time": "2021-10-10T22:13:01.306Z"
   },
   {
    "duration": 30,
    "start_time": "2021-10-10T22:13:01.330Z"
   },
   {
    "duration": 44,
    "start_time": "2021-10-10T22:13:01.363Z"
   },
   {
    "duration": 27,
    "start_time": "2021-10-10T22:13:01.410Z"
   },
   {
    "duration": 52,
    "start_time": "2021-10-10T22:13:01.442Z"
   },
   {
    "duration": 76,
    "start_time": "2021-10-10T22:13:01.498Z"
   },
   {
    "duration": 14,
    "start_time": "2021-10-10T22:13:01.576Z"
   },
   {
    "duration": 79,
    "start_time": "2021-10-10T22:13:01.592Z"
   },
   {
    "duration": 10,
    "start_time": "2021-10-10T22:13:01.673Z"
   },
   {
    "duration": 30,
    "start_time": "2021-10-10T22:13:01.685Z"
   },
   {
    "duration": 65,
    "start_time": "2021-10-10T22:13:01.717Z"
   },
   {
    "duration": 58,
    "start_time": "2021-10-10T22:13:01.785Z"
   },
   {
    "duration": 64,
    "start_time": "2021-10-10T22:13:01.845Z"
   },
   {
    "duration": 46,
    "start_time": "2021-10-10T22:13:01.912Z"
   },
   {
    "duration": 15,
    "start_time": "2021-10-10T22:13:01.961Z"
   },
   {
    "duration": 81,
    "start_time": "2021-10-10T22:13:01.979Z"
   },
   {
    "duration": 33,
    "start_time": "2021-10-10T22:13:02.063Z"
   },
   {
    "duration": 35,
    "start_time": "2021-10-10T22:13:02.098Z"
   },
   {
    "duration": 38,
    "start_time": "2021-10-10T22:13:02.136Z"
   },
   {
    "duration": 49,
    "start_time": "2021-10-10T22:13:02.177Z"
   },
   {
    "duration": 44,
    "start_time": "2021-10-10T22:13:02.229Z"
   },
   {
    "duration": 14,
    "start_time": "2021-10-10T22:13:02.276Z"
   },
   {
    "duration": 47,
    "start_time": "2021-10-10T22:13:02.292Z"
   },
   {
    "duration": 34,
    "start_time": "2021-10-10T22:13:02.342Z"
   },
   {
    "duration": 26,
    "start_time": "2021-10-10T22:13:02.378Z"
   },
   {
    "duration": 61,
    "start_time": "2021-10-10T22:13:02.407Z"
   },
   {
    "duration": 1366,
    "start_time": "2021-10-10T22:14:20.601Z"
   },
   {
    "duration": 23,
    "start_time": "2021-10-10T22:14:35.349Z"
   },
   {
    "duration": 13,
    "start_time": "2021-10-10T22:15:10.070Z"
   },
   {
    "duration": 16,
    "start_time": "2021-10-10T22:15:18.385Z"
   },
   {
    "duration": 15,
    "start_time": "2021-10-10T22:17:44.265Z"
   },
   {
    "duration": 14,
    "start_time": "2021-10-10T22:17:54.145Z"
   },
   {
    "duration": 4,
    "start_time": "2021-10-10T22:27:43.417Z"
   },
   {
    "duration": 21,
    "start_time": "2021-10-10T22:28:39.274Z"
   },
   {
    "duration": 21,
    "start_time": "2021-10-10T22:30:14.063Z"
   },
   {
    "duration": 23,
    "start_time": "2021-10-10T22:30:45.353Z"
   },
   {
    "duration": 19,
    "start_time": "2021-10-10T22:31:06.165Z"
   },
   {
    "duration": 24,
    "start_time": "2021-10-10T22:33:06.304Z"
   },
   {
    "duration": 315,
    "start_time": "2021-10-10T22:37:24.605Z"
   },
   {
    "duration": 103,
    "start_time": "2021-10-10T22:37:31.293Z"
   },
   {
    "duration": 514,
    "start_time": "2021-10-10T22:37:31.589Z"
   },
   {
    "duration": 4,
    "start_time": "2021-10-10T22:37:37.519Z"
   },
   {
    "duration": 7,
    "start_time": "2021-10-10T22:37:38.516Z"
   },
   {
    "duration": 26,
    "start_time": "2021-10-10T22:37:46.052Z"
   },
   {
    "duration": 14,
    "start_time": "2021-10-10T22:39:40.057Z"
   },
   {
    "duration": 28,
    "start_time": "2021-10-10T22:41:22.568Z"
   },
   {
    "duration": 14,
    "start_time": "2021-10-10T22:42:19.401Z"
   },
   {
    "duration": 771,
    "start_time": "2021-10-11T08:02:38.567Z"
   },
   {
    "duration": 551,
    "start_time": "2021-10-11T08:02:39.341Z"
   },
   {
    "duration": 29,
    "start_time": "2021-10-11T08:02:39.895Z"
   },
   {
    "duration": 11,
    "start_time": "2021-10-11T08:02:39.927Z"
   },
   {
    "duration": 12,
    "start_time": "2021-10-11T08:02:39.940Z"
   },
   {
    "duration": 9,
    "start_time": "2021-10-11T08:02:39.955Z"
   },
   {
    "duration": 9,
    "start_time": "2021-10-11T08:02:39.966Z"
   },
   {
    "duration": 20,
    "start_time": "2021-10-11T08:02:39.978Z"
   },
   {
    "duration": 60,
    "start_time": "2021-10-11T08:02:40.001Z"
   },
   {
    "duration": 148,
    "start_time": "2021-10-11T08:02:40.064Z"
   },
   {
    "duration": 47,
    "start_time": "2021-10-11T08:02:40.215Z"
   },
   {
    "duration": 60,
    "start_time": "2021-10-11T08:02:40.264Z"
   },
   {
    "duration": 36,
    "start_time": "2021-10-11T08:02:40.327Z"
   },
   {
    "duration": 19,
    "start_time": "2021-10-11T08:02:40.366Z"
   },
   {
    "duration": 29,
    "start_time": "2021-10-11T08:02:40.388Z"
   },
   {
    "duration": 69,
    "start_time": "2021-10-11T08:02:40.420Z"
   },
   {
    "duration": 26,
    "start_time": "2021-10-11T08:02:40.492Z"
   },
   {
    "duration": 48,
    "start_time": "2021-10-11T08:02:40.521Z"
   },
   {
    "duration": 14,
    "start_time": "2021-10-11T08:02:40.571Z"
   },
   {
    "duration": 22,
    "start_time": "2021-10-11T08:02:40.588Z"
   },
   {
    "duration": 65,
    "start_time": "2021-10-11T08:02:40.612Z"
   },
   {
    "duration": 21,
    "start_time": "2021-10-11T08:02:40.679Z"
   },
   {
    "duration": 19,
    "start_time": "2021-10-11T08:02:40.705Z"
   },
   {
    "duration": 65,
    "start_time": "2021-10-11T08:02:40.727Z"
   },
   {
    "duration": 14,
    "start_time": "2021-10-11T08:02:40.795Z"
   },
   {
    "duration": 66,
    "start_time": "2021-10-11T08:02:40.811Z"
   },
   {
    "duration": 10,
    "start_time": "2021-10-11T08:02:40.879Z"
   },
   {
    "duration": 17,
    "start_time": "2021-10-11T08:02:40.892Z"
   },
   {
    "duration": 34,
    "start_time": "2021-10-11T08:02:40.912Z"
   },
   {
    "duration": 15,
    "start_time": "2021-10-11T08:02:40.956Z"
   },
   {
    "duration": 46,
    "start_time": "2021-10-11T08:02:40.973Z"
   },
   {
    "duration": 46,
    "start_time": "2021-10-11T08:02:41.021Z"
   },
   {
    "duration": 15,
    "start_time": "2021-10-11T08:02:41.070Z"
   },
   {
    "duration": 38,
    "start_time": "2021-10-11T08:02:41.088Z"
   },
   {
    "duration": 57,
    "start_time": "2021-10-11T08:02:41.129Z"
   },
   {
    "duration": 17,
    "start_time": "2021-10-11T08:02:41.188Z"
   },
   {
    "duration": 13,
    "start_time": "2021-10-11T08:02:41.207Z"
   },
   {
    "duration": 36,
    "start_time": "2021-10-11T08:02:41.223Z"
   },
   {
    "duration": 28,
    "start_time": "2021-10-11T08:02:41.262Z"
   },
   {
    "duration": 3,
    "start_time": "2021-10-11T08:02:41.293Z"
   },
   {
    "duration": 62,
    "start_time": "2021-10-11T08:02:41.298Z"
   },
   {
    "duration": 30,
    "start_time": "2021-10-11T08:02:41.362Z"
   },
   {
    "duration": 5,
    "start_time": "2021-10-11T08:02:41.394Z"
   },
   {
    "duration": 58,
    "start_time": "2021-10-11T08:02:41.401Z"
   },
   {
    "duration": 25,
    "start_time": "2021-10-11T08:02:41.462Z"
   },
   {
    "duration": 21,
    "start_time": "2021-10-11T08:02:41.489Z"
   },
   {
    "duration": 11,
    "start_time": "2021-10-11T08:02:41.512Z"
   },
   {
    "duration": 36,
    "start_time": "2021-10-11T08:02:41.525Z"
   },
   {
    "duration": 24,
    "start_time": "2021-10-11T08:02:41.563Z"
   },
   {
    "duration": 14,
    "start_time": "2021-10-11T08:02:41.589Z"
   },
   {
    "duration": 21,
    "start_time": "2021-10-11T08:02:41.606Z"
   },
   {
    "duration": 49,
    "start_time": "2021-10-11T08:02:41.630Z"
   },
   {
    "duration": 4,
    "start_time": "2021-10-11T08:02:41.681Z"
   },
   {
    "duration": 27,
    "start_time": "2021-10-11T08:02:41.687Z"
   },
   {
    "duration": 59,
    "start_time": "2021-10-11T08:02:41.716Z"
   },
   {
    "duration": 17,
    "start_time": "2021-10-11T08:02:41.778Z"
   },
   {
    "duration": 746,
    "start_time": "2021-10-11T08:05:44.473Z"
   },
   {
    "duration": 650,
    "start_time": "2021-10-11T08:05:45.222Z"
   },
   {
    "duration": 29,
    "start_time": "2021-10-11T08:05:45.875Z"
   },
   {
    "duration": 9,
    "start_time": "2021-10-11T08:05:45.907Z"
   },
   {
    "duration": 17,
    "start_time": "2021-10-11T08:05:45.918Z"
   },
   {
    "duration": 25,
    "start_time": "2021-10-11T08:05:45.938Z"
   },
   {
    "duration": 5,
    "start_time": "2021-10-11T08:05:45.966Z"
   },
   {
    "duration": 15,
    "start_time": "2021-10-11T08:05:45.975Z"
   },
   {
    "duration": 27,
    "start_time": "2021-10-11T08:05:45.993Z"
   },
   {
    "duration": 167,
    "start_time": "2021-10-11T08:05:46.022Z"
   },
   {
    "duration": 27,
    "start_time": "2021-10-11T08:05:46.192Z"
   },
   {
    "duration": 63,
    "start_time": "2021-10-11T08:05:46.221Z"
   },
   {
    "duration": 19,
    "start_time": "2021-10-11T08:05:46.287Z"
   },
   {
    "duration": 14,
    "start_time": "2021-10-11T08:05:46.309Z"
   },
   {
    "duration": 43,
    "start_time": "2021-10-11T08:05:46.325Z"
   },
   {
    "duration": 27,
    "start_time": "2021-10-11T08:05:46.371Z"
   },
   {
    "duration": 19,
    "start_time": "2021-10-11T08:05:46.400Z"
   },
   {
    "duration": 54,
    "start_time": "2021-10-11T08:05:46.421Z"
   },
   {
    "duration": 14,
    "start_time": "2021-10-11T08:05:46.477Z"
   },
   {
    "duration": 22,
    "start_time": "2021-10-11T08:05:46.493Z"
   },
   {
    "duration": 63,
    "start_time": "2021-10-11T08:05:46.517Z"
   },
   {
    "duration": 11,
    "start_time": "2021-10-11T08:05:46.582Z"
   },
   {
    "duration": 15,
    "start_time": "2021-10-11T08:05:46.599Z"
   },
   {
    "duration": 78,
    "start_time": "2021-10-11T08:05:46.617Z"
   },
   {
    "duration": 14,
    "start_time": "2021-10-11T08:05:46.698Z"
   },
   {
    "duration": 66,
    "start_time": "2021-10-11T08:05:46.714Z"
   },
   {
    "duration": 10,
    "start_time": "2021-10-11T08:05:46.782Z"
   },
   {
    "duration": 4,
    "start_time": "2021-10-11T08:05:46.794Z"
   },
   {
    "duration": 33,
    "start_time": "2021-10-11T08:05:46.800Z"
   },
   {
    "duration": 16,
    "start_time": "2021-10-11T08:05:46.858Z"
   },
   {
    "duration": 35,
    "start_time": "2021-10-11T08:05:46.876Z"
   },
   {
    "duration": 61,
    "start_time": "2021-10-11T08:05:46.913Z"
   },
   {
    "duration": 17,
    "start_time": "2021-10-11T08:05:46.976Z"
   },
   {
    "duration": 64,
    "start_time": "2021-10-11T08:05:46.995Z"
   },
   {
    "duration": 33,
    "start_time": "2021-10-11T08:05:47.062Z"
   },
   {
    "duration": 17,
    "start_time": "2021-10-11T08:05:47.097Z"
   },
   {
    "duration": 23,
    "start_time": "2021-10-11T08:05:47.116Z"
   },
   {
    "duration": 36,
    "start_time": "2021-10-11T08:05:47.141Z"
   },
   {
    "duration": 33,
    "start_time": "2021-10-11T08:05:47.179Z"
   },
   {
    "duration": 3,
    "start_time": "2021-10-11T08:05:47.215Z"
   },
   {
    "duration": 43,
    "start_time": "2021-10-11T08:05:47.221Z"
   },
   {
    "duration": 33,
    "start_time": "2021-10-11T08:05:47.267Z"
   },
   {
    "duration": 3,
    "start_time": "2021-10-11T08:05:47.303Z"
   },
   {
    "duration": 63,
    "start_time": "2021-10-11T08:05:47.308Z"
   },
   {
    "duration": 3,
    "start_time": "2021-10-11T08:05:47.374Z"
   },
   {
    "duration": 33,
    "start_time": "2021-10-11T08:05:47.379Z"
   },
   {
    "duration": 16,
    "start_time": "2021-10-11T08:05:47.415Z"
   },
   {
    "duration": 14,
    "start_time": "2021-10-11T08:05:47.458Z"
   },
   {
    "duration": 5,
    "start_time": "2021-10-11T08:05:47.475Z"
   },
   {
    "duration": 23,
    "start_time": "2021-10-11T08:05:47.482Z"
   },
   {
    "duration": 56,
    "start_time": "2021-10-11T08:05:47.507Z"
   },
   {
    "duration": 14,
    "start_time": "2021-10-11T08:05:47.566Z"
   },
   {
    "duration": 26,
    "start_time": "2021-10-11T08:05:47.582Z"
   },
   {
    "duration": 48,
    "start_time": "2021-10-11T08:05:47.611Z"
   },
   {
    "duration": 4,
    "start_time": "2021-10-11T08:05:47.662Z"
   },
   {
    "duration": 26,
    "start_time": "2021-10-11T08:05:47.668Z"
   },
   {
    "duration": 28,
    "start_time": "2021-10-11T08:05:47.697Z"
   },
   {
    "duration": 14,
    "start_time": "2021-10-11T08:05:47.758Z"
   },
   {
    "duration": 18,
    "start_time": "2021-10-11T08:06:20.054Z"
   },
   {
    "duration": 30,
    "start_time": "2021-10-11T08:06:41.173Z"
   },
   {
    "duration": 10,
    "start_time": "2021-10-11T08:08:02.373Z"
   },
   {
    "duration": 19,
    "start_time": "2021-10-11T08:08:12.456Z"
   },
   {
    "duration": 12,
    "start_time": "2021-10-11T08:11:43.699Z"
   },
   {
    "duration": 4,
    "start_time": "2021-10-11T08:11:45.272Z"
   },
   {
    "duration": 49,
    "start_time": "2021-10-11T08:11:48.004Z"
   },
   {
    "duration": 824,
    "start_time": "2021-10-11T08:11:57.333Z"
   },
   {
    "duration": 537,
    "start_time": "2021-10-11T08:11:58.160Z"
   },
   {
    "duration": 29,
    "start_time": "2021-10-11T08:11:58.700Z"
   },
   {
    "duration": 8,
    "start_time": "2021-10-11T08:11:58.731Z"
   },
   {
    "duration": 9,
    "start_time": "2021-10-11T08:11:58.741Z"
   },
   {
    "duration": 8,
    "start_time": "2021-10-11T08:11:58.752Z"
   },
   {
    "duration": 17,
    "start_time": "2021-10-11T08:11:58.762Z"
   },
   {
    "duration": 18,
    "start_time": "2021-10-11T08:11:58.783Z"
   },
   {
    "duration": 26,
    "start_time": "2021-10-11T08:11:58.804Z"
   },
   {
    "duration": 151,
    "start_time": "2021-10-11T08:11:58.832Z"
   },
   {
    "duration": 27,
    "start_time": "2021-10-11T08:11:58.986Z"
   },
   {
    "duration": 71,
    "start_time": "2021-10-11T08:11:59.016Z"
   },
   {
    "duration": 20,
    "start_time": "2021-10-11T08:11:59.089Z"
   },
   {
    "duration": 14,
    "start_time": "2021-10-11T08:11:59.112Z"
   },
   {
    "duration": 46,
    "start_time": "2021-10-11T08:11:59.129Z"
   },
   {
    "duration": 28,
    "start_time": "2021-10-11T08:11:59.178Z"
   },
   {
    "duration": 50,
    "start_time": "2021-10-11T08:11:59.208Z"
   },
   {
    "duration": 25,
    "start_time": "2021-10-11T08:11:59.262Z"
   },
   {
    "duration": 15,
    "start_time": "2021-10-11T08:11:59.290Z"
   },
   {
    "duration": 66,
    "start_time": "2021-10-11T08:11:59.308Z"
   },
   {
    "duration": 31,
    "start_time": "2021-10-11T08:11:59.376Z"
   },
   {
    "duration": 11,
    "start_time": "2021-10-11T08:11:59.409Z"
   },
   {
    "duration": 38,
    "start_time": "2021-10-11T08:11:59.426Z"
   },
   {
    "duration": 45,
    "start_time": "2021-10-11T08:11:59.467Z"
   },
   {
    "duration": 14,
    "start_time": "2021-10-11T08:11:59.514Z"
   },
   {
    "duration": 69,
    "start_time": "2021-10-11T08:11:59.531Z"
   },
   {
    "duration": 11,
    "start_time": "2021-10-11T08:11:59.603Z"
   },
   {
    "duration": 3,
    "start_time": "2021-10-11T08:11:59.617Z"
   },
   {
    "duration": 61,
    "start_time": "2021-10-11T08:11:59.623Z"
   },
   {
    "duration": 14,
    "start_time": "2021-10-11T08:11:59.686Z"
   },
   {
    "duration": 56,
    "start_time": "2021-10-11T08:11:59.703Z"
   },
   {
    "duration": 32,
    "start_time": "2021-10-11T08:11:59.762Z"
   },
   {
    "duration": 14,
    "start_time": "2021-10-11T08:11:59.797Z"
   },
   {
    "duration": 64,
    "start_time": "2021-10-11T08:11:59.813Z"
   },
   {
    "duration": 33,
    "start_time": "2021-10-11T08:11:59.879Z"
   },
   {
    "duration": 23,
    "start_time": "2021-10-11T08:11:59.914Z"
   },
   {
    "duration": 4,
    "start_time": "2021-10-11T08:11:59.958Z"
   },
   {
    "duration": 18,
    "start_time": "2021-10-11T08:11:59.964Z"
   },
   {
    "duration": 27,
    "start_time": "2021-10-11T08:11:59.984Z"
   },
   {
    "duration": 4,
    "start_time": "2021-10-11T08:12:00.013Z"
   },
   {
    "duration": 64,
    "start_time": "2021-10-11T08:12:00.019Z"
   },
   {
    "duration": 32,
    "start_time": "2021-10-11T08:12:00.085Z"
   },
   {
    "duration": 38,
    "start_time": "2021-10-11T08:12:00.119Z"
   },
   {
    "duration": 31,
    "start_time": "2021-10-11T08:12:00.160Z"
   },
   {
    "duration": 6,
    "start_time": "2021-10-11T08:12:00.193Z"
   },
   {
    "duration": 62,
    "start_time": "2021-10-11T08:12:00.201Z"
   },
   {
    "duration": 18,
    "start_time": "2021-10-11T08:12:00.265Z"
   },
   {
    "duration": 26,
    "start_time": "2021-10-11T08:12:00.285Z"
   },
   {
    "duration": 9,
    "start_time": "2021-10-11T08:12:00.314Z"
   },
   {
    "duration": 44,
    "start_time": "2021-10-11T08:12:00.325Z"
   },
   {
    "duration": 30,
    "start_time": "2021-10-11T08:12:00.372Z"
   },
   {
    "duration": 19,
    "start_time": "2021-10-11T08:12:00.405Z"
   },
   {
    "duration": 35,
    "start_time": "2021-10-11T08:12:00.426Z"
   },
   {
    "duration": 25,
    "start_time": "2021-10-11T08:12:00.463Z"
   },
   {
    "duration": 4,
    "start_time": "2021-10-11T08:12:00.490Z"
   },
   {
    "duration": 63,
    "start_time": "2021-10-11T08:12:00.496Z"
   },
   {
    "duration": 27,
    "start_time": "2021-10-11T08:12:00.561Z"
   },
   {
    "duration": 16,
    "start_time": "2021-10-11T08:12:00.590Z"
   },
   {
    "duration": 39,
    "start_time": "2021-10-11T08:14:09.086Z"
   },
   {
    "duration": 19,
    "start_time": "2021-10-11T08:14:32.752Z"
   },
   {
    "duration": 24,
    "start_time": "2021-10-11T08:15:33.142Z"
   },
   {
    "duration": 37,
    "start_time": "2021-10-11T08:15:44.830Z"
   },
   {
    "duration": 26,
    "start_time": "2021-10-11T08:16:02.206Z"
   },
   {
    "duration": 40,
    "start_time": "2021-10-11T08:16:23.993Z"
   },
   {
    "duration": 10093,
    "start_time": "2021-10-11T08:21:00.392Z"
   },
   {
    "duration": -136,
    "start_time": "2021-10-11T08:21:10.625Z"
   },
   {
    "duration": 4,
    "start_time": "2021-10-11T08:21:14.080Z"
   },
   {
    "duration": 8960,
    "start_time": "2021-10-11T08:21:14.934Z"
   },
   {
    "duration": 25,
    "start_time": "2021-10-11T08:21:49.918Z"
   },
   {
    "duration": 26,
    "start_time": "2021-10-11T08:24:03.817Z"
   },
   {
    "duration": 21,
    "start_time": "2021-10-11T08:24:27.067Z"
   },
   {
    "duration": 110,
    "start_time": "2021-10-11T08:31:57.712Z"
   },
   {
    "duration": 24,
    "start_time": "2021-10-11T08:32:03.820Z"
   },
   {
    "duration": 14,
    "start_time": "2021-10-11T08:32:39.197Z"
   },
   {
    "duration": 4,
    "start_time": "2021-10-11T08:35:45.814Z"
   },
   {
    "duration": 26,
    "start_time": "2021-10-11T08:35:46.036Z"
   },
   {
    "duration": 29,
    "start_time": "2021-10-11T08:36:56.797Z"
   },
   {
    "duration": 15,
    "start_time": "2021-10-11T08:37:11.745Z"
   },
   {
    "duration": 23,
    "start_time": "2021-10-11T09:08:02.961Z"
   },
   {
    "duration": 29,
    "start_time": "2021-10-11T09:08:22.741Z"
   },
   {
    "duration": 15,
    "start_time": "2021-10-11T09:08:24.059Z"
   },
   {
    "duration": 22,
    "start_time": "2021-10-11T09:08:25.317Z"
   },
   {
    "duration": 809,
    "start_time": "2021-10-11T09:08:42.422Z"
   },
   {
    "duration": 567,
    "start_time": "2021-10-11T09:08:43.234Z"
   },
   {
    "duration": 30,
    "start_time": "2021-10-11T09:08:43.804Z"
   },
   {
    "duration": 10,
    "start_time": "2021-10-11T09:08:43.837Z"
   },
   {
    "duration": 20,
    "start_time": "2021-10-11T09:08:43.849Z"
   },
   {
    "duration": 15,
    "start_time": "2021-10-11T09:08:43.872Z"
   },
   {
    "duration": 16,
    "start_time": "2021-10-11T09:08:43.890Z"
   },
   {
    "duration": 27,
    "start_time": "2021-10-11T09:08:43.912Z"
   },
   {
    "duration": 34,
    "start_time": "2021-10-11T09:08:43.943Z"
   },
   {
    "duration": 154,
    "start_time": "2021-10-11T09:08:43.981Z"
   },
   {
    "duration": 40,
    "start_time": "2021-10-11T09:08:44.138Z"
   },
   {
    "duration": 50,
    "start_time": "2021-10-11T09:08:44.181Z"
   },
   {
    "duration": 33,
    "start_time": "2021-10-11T09:08:44.233Z"
   },
   {
    "duration": 14,
    "start_time": "2021-10-11T09:08:44.269Z"
   },
   {
    "duration": 34,
    "start_time": "2021-10-11T09:08:44.286Z"
   },
   {
    "duration": 47,
    "start_time": "2021-10-11T09:08:44.323Z"
   },
   {
    "duration": 20,
    "start_time": "2021-10-11T09:08:44.372Z"
   },
   {
    "duration": 29,
    "start_time": "2021-10-11T09:08:44.394Z"
   },
   {
    "duration": 42,
    "start_time": "2021-10-11T09:08:44.425Z"
   },
   {
    "duration": 20,
    "start_time": "2021-10-11T09:08:44.470Z"
   },
   {
    "duration": 31,
    "start_time": "2021-10-11T09:08:44.493Z"
   },
   {
    "duration": 32,
    "start_time": "2021-10-11T09:08:44.527Z"
   },
   {
    "duration": 17,
    "start_time": "2021-10-11T09:08:44.565Z"
   },
   {
    "duration": 75,
    "start_time": "2021-10-11T09:08:44.586Z"
   },
   {
    "duration": 13,
    "start_time": "2021-10-11T09:08:44.664Z"
   },
   {
    "duration": 51,
    "start_time": "2021-10-11T09:08:44.679Z"
   },
   {
    "duration": 28,
    "start_time": "2021-10-11T09:08:44.732Z"
   },
   {
    "duration": 10,
    "start_time": "2021-10-11T09:08:44.762Z"
   },
   {
    "duration": 34,
    "start_time": "2021-10-11T09:08:44.774Z"
   },
   {
    "duration": 15,
    "start_time": "2021-10-11T09:08:44.810Z"
   },
   {
    "duration": 33,
    "start_time": "2021-10-11T09:08:44.859Z"
   },
   {
    "duration": 34,
    "start_time": "2021-10-11T09:08:44.895Z"
   },
   {
    "duration": 41,
    "start_time": "2021-10-11T09:08:44.931Z"
   },
   {
    "duration": 40,
    "start_time": "2021-10-11T09:08:44.975Z"
   },
   {
    "duration": 67,
    "start_time": "2021-10-11T09:08:45.018Z"
   },
   {
    "duration": 24,
    "start_time": "2021-10-11T09:08:45.088Z"
   },
   {
    "duration": 8,
    "start_time": "2021-10-11T09:08:45.115Z"
   },
   {
    "duration": 45,
    "start_time": "2021-10-11T09:08:45.125Z"
   },
   {
    "duration": 28,
    "start_time": "2021-10-11T09:08:45.173Z"
   },
   {
    "duration": 3,
    "start_time": "2021-10-11T09:08:45.204Z"
   },
   {
    "duration": 64,
    "start_time": "2021-10-11T09:08:45.209Z"
   },
   {
    "duration": 43,
    "start_time": "2021-10-11T09:08:45.275Z"
   },
   {
    "duration": 7,
    "start_time": "2021-10-11T09:08:45.321Z"
   },
   {
    "duration": 67,
    "start_time": "2021-10-11T09:08:45.331Z"
   },
   {
    "duration": 5,
    "start_time": "2021-10-11T09:08:45.401Z"
   },
   {
    "duration": 79,
    "start_time": "2021-10-11T09:08:45.409Z"
   },
   {
    "duration": 30,
    "start_time": "2021-10-11T09:08:45.491Z"
   },
   {
    "duration": 14,
    "start_time": "2021-10-11T09:08:45.524Z"
   },
   {
    "duration": 4,
    "start_time": "2021-10-11T09:08:45.558Z"
   },
   {
    "duration": 23,
    "start_time": "2021-10-11T09:08:45.564Z"
   },
   {
    "duration": 23,
    "start_time": "2021-10-11T09:08:45.589Z"
   },
   {
    "duration": 7,
    "start_time": "2021-10-11T09:08:45.614Z"
   },
   {
    "duration": 54,
    "start_time": "2021-10-11T09:08:45.623Z"
   },
   {
    "duration": 18,
    "start_time": "2021-10-11T09:08:45.679Z"
   },
   {
    "duration": 25,
    "start_time": "2021-10-11T09:08:45.699Z"
   },
   {
    "duration": 44,
    "start_time": "2021-10-11T09:08:45.727Z"
   },
   {
    "duration": 4,
    "start_time": "2021-10-11T09:08:45.773Z"
   },
   {
    "duration": 25,
    "start_time": "2021-10-11T09:08:45.779Z"
   },
   {
    "duration": 60,
    "start_time": "2021-10-11T09:08:45.807Z"
   },
   {
    "duration": 4,
    "start_time": "2021-10-11T09:08:45.870Z"
   },
   {
    "duration": 30,
    "start_time": "2021-10-11T09:08:45.876Z"
   },
   {
    "duration": 17,
    "start_time": "2021-10-11T09:08:45.908Z"
   },
   {
    "duration": 52,
    "start_time": "2021-10-11T09:08:45.928Z"
   },
   {
    "duration": 16,
    "start_time": "2021-10-11T09:09:21.335Z"
   },
   {
    "duration": 21,
    "start_time": "2021-10-11T09:09:25.632Z"
   },
   {
    "duration": 28,
    "start_time": "2021-10-11T09:10:06.831Z"
   },
   {
    "duration": 21,
    "start_time": "2021-10-11T09:10:30.176Z"
   },
   {
    "duration": 404,
    "start_time": "2021-10-11T09:11:54.380Z"
   },
   {
    "duration": 23,
    "start_time": "2021-10-11T09:12:03.844Z"
   },
   {
    "duration": 81,
    "start_time": "2021-10-11T09:12:04.891Z"
   },
   {
    "duration": 21,
    "start_time": "2021-10-11T09:13:00.612Z"
   },
   {
    "duration": 44,
    "start_time": "2021-10-11T09:13:21.628Z"
   },
   {
    "duration": 41,
    "start_time": "2021-10-11T09:14:05.124Z"
   },
   {
    "duration": 7,
    "start_time": "2021-10-11T09:14:21.260Z"
   },
   {
    "duration": 28,
    "start_time": "2021-10-11T09:15:11.174Z"
   },
   {
    "duration": 747,
    "start_time": "2021-10-11T09:17:51.166Z"
   },
   {
    "duration": 531,
    "start_time": "2021-10-11T09:17:51.916Z"
   },
   {
    "duration": 29,
    "start_time": "2021-10-11T09:17:52.451Z"
   },
   {
    "duration": 12,
    "start_time": "2021-10-11T09:17:52.483Z"
   },
   {
    "duration": 13,
    "start_time": "2021-10-11T09:17:52.498Z"
   },
   {
    "duration": 47,
    "start_time": "2021-10-11T09:17:52.514Z"
   },
   {
    "duration": 9,
    "start_time": "2021-10-11T09:17:52.564Z"
   },
   {
    "duration": 19,
    "start_time": "2021-10-11T09:17:52.576Z"
   },
   {
    "duration": 30,
    "start_time": "2021-10-11T09:17:52.599Z"
   },
   {
    "duration": 150,
    "start_time": "2021-10-11T09:17:52.632Z"
   },
   {
    "duration": 26,
    "start_time": "2021-10-11T09:17:52.784Z"
   },
   {
    "duration": 63,
    "start_time": "2021-10-11T09:17:52.813Z"
   },
   {
    "duration": 18,
    "start_time": "2021-10-11T09:17:52.879Z"
   },
   {
    "duration": 16,
    "start_time": "2021-10-11T09:17:52.899Z"
   },
   {
    "duration": 41,
    "start_time": "2021-10-11T09:17:52.917Z"
   },
   {
    "duration": 25,
    "start_time": "2021-10-11T09:17:52.960Z"
   },
   {
    "duration": 22,
    "start_time": "2021-10-11T09:17:52.988Z"
   },
   {
    "duration": 28,
    "start_time": "2021-10-11T09:17:53.012Z"
   },
   {
    "duration": 25,
    "start_time": "2021-10-11T09:17:53.043Z"
   },
   {
    "duration": 21,
    "start_time": "2021-10-11T09:17:53.071Z"
   },
   {
    "duration": 32,
    "start_time": "2021-10-11T09:17:53.094Z"
   },
   {
    "duration": 11,
    "start_time": "2021-10-11T09:17:53.159Z"
   },
   {
    "duration": 18,
    "start_time": "2021-10-11T09:17:53.173Z"
   },
   {
    "duration": 69,
    "start_time": "2021-10-11T09:17:53.194Z"
   },
   {
    "duration": 14,
    "start_time": "2021-10-11T09:17:53.265Z"
   },
   {
    "duration": 54,
    "start_time": "2021-10-11T09:17:53.282Z"
   },
   {
    "duration": 12,
    "start_time": "2021-10-11T09:17:53.358Z"
   },
   {
    "duration": 11,
    "start_time": "2021-10-11T09:17:53.375Z"
   },
   {
    "duration": 34,
    "start_time": "2021-10-11T09:17:53.389Z"
   },
   {
    "duration": 37,
    "start_time": "2021-10-11T09:17:53.426Z"
   },
   {
    "duration": 44,
    "start_time": "2021-10-11T09:17:53.466Z"
   },
   {
    "duration": 54,
    "start_time": "2021-10-11T09:17:53.513Z"
   },
   {
    "duration": 15,
    "start_time": "2021-10-11T09:17:53.570Z"
   },
   {
    "duration": 40,
    "start_time": "2021-10-11T09:17:53.587Z"
   },
   {
    "duration": 56,
    "start_time": "2021-10-11T09:17:53.630Z"
   },
   {
    "duration": 22,
    "start_time": "2021-10-11T09:17:53.688Z"
   },
   {
    "duration": 7,
    "start_time": "2021-10-11T09:17:53.712Z"
   },
   {
    "duration": 48,
    "start_time": "2021-10-11T09:17:53.721Z"
   },
   {
    "duration": 38,
    "start_time": "2021-10-11T09:17:53.772Z"
   },
   {
    "duration": 8,
    "start_time": "2021-10-11T09:17:53.813Z"
   },
   {
    "duration": 48,
    "start_time": "2021-10-11T09:17:53.824Z"
   },
   {
    "duration": 31,
    "start_time": "2021-10-11T09:17:53.876Z"
   },
   {
    "duration": 5,
    "start_time": "2021-10-11T09:17:53.910Z"
   },
   {
    "duration": 64,
    "start_time": "2021-10-11T09:17:53.918Z"
   },
   {
    "duration": 5,
    "start_time": "2021-10-11T09:17:53.985Z"
   },
   {
    "duration": 66,
    "start_time": "2021-10-11T09:17:53.993Z"
   },
   {
    "duration": 21,
    "start_time": "2021-10-11T09:17:54.062Z"
   },
   {
    "duration": 16,
    "start_time": "2021-10-11T09:17:54.086Z"
   },
   {
    "duration": 8,
    "start_time": "2021-10-11T09:17:54.105Z"
   },
   {
    "duration": 59,
    "start_time": "2021-10-11T09:17:54.116Z"
   },
   {
    "duration": 21,
    "start_time": "2021-10-11T09:17:54.178Z"
   },
   {
    "duration": 7,
    "start_time": "2021-10-11T09:17:54.201Z"
   },
   {
    "duration": 56,
    "start_time": "2021-10-11T09:17:54.210Z"
   },
   {
    "duration": 17,
    "start_time": "2021-10-11T09:17:54.269Z"
   },
   {
    "duration": 18,
    "start_time": "2021-10-11T09:17:54.289Z"
   },
   {
    "duration": 53,
    "start_time": "2021-10-11T09:17:54.309Z"
   },
   {
    "duration": 4,
    "start_time": "2021-10-11T09:17:54.365Z"
   },
   {
    "duration": 37,
    "start_time": "2021-10-11T09:17:54.372Z"
   },
   {
    "duration": 34,
    "start_time": "2021-10-11T09:17:54.412Z"
   },
   {
    "duration": 5,
    "start_time": "2021-10-11T09:17:54.458Z"
   },
   {
    "duration": 31,
    "start_time": "2021-10-11T09:17:54.466Z"
   },
   {
    "duration": 17,
    "start_time": "2021-10-11T09:17:54.500Z"
   },
   {
    "duration": 59,
    "start_time": "2021-10-11T09:17:54.520Z"
   },
   {
    "duration": 31,
    "start_time": "2021-10-11T09:17:54.582Z"
   },
   {
    "duration": 43,
    "start_time": "2021-10-11T09:17:54.616Z"
   },
   {
    "duration": 34,
    "start_time": "2021-10-11T09:18:12.380Z"
   },
   {
    "duration": 28,
    "start_time": "2021-10-11T09:18:21.719Z"
   },
   {
    "duration": 460,
    "start_time": "2021-10-11T09:21:02.727Z"
   },
   {
    "duration": 20,
    "start_time": "2021-10-11T09:21:22.807Z"
   },
   {
    "duration": 16,
    "start_time": "2021-10-11T09:25:26.598Z"
   },
   {
    "duration": 24,
    "start_time": "2021-10-11T09:27:34.170Z"
   },
   {
    "duration": 4,
    "start_time": "2021-10-11T09:28:40.592Z"
   },
   {
    "duration": 23,
    "start_time": "2021-10-11T09:29:34.714Z"
   },
   {
    "duration": 13675,
    "start_time": "2021-10-11T09:34:43.138Z"
   },
   {
    "duration": 9039,
    "start_time": "2021-10-11T09:35:16.912Z"
   },
   {
    "duration": 33,
    "start_time": "2021-10-11T09:35:45.335Z"
   },
   {
    "duration": 769,
    "start_time": "2021-10-11T09:37:12.716Z"
   },
   {
    "duration": 559,
    "start_time": "2021-10-11T09:37:13.487Z"
   },
   {
    "duration": 28,
    "start_time": "2021-10-11T09:37:14.049Z"
   },
   {
    "duration": 26,
    "start_time": "2021-10-11T09:37:14.080Z"
   },
   {
    "duration": 46,
    "start_time": "2021-10-11T09:37:14.108Z"
   },
   {
    "duration": 32,
    "start_time": "2021-10-11T09:37:14.156Z"
   },
   {
    "duration": 10,
    "start_time": "2021-10-11T09:37:14.190Z"
   },
   {
    "duration": 16,
    "start_time": "2021-10-11T09:37:14.204Z"
   },
   {
    "duration": 25,
    "start_time": "2021-10-11T09:37:14.223Z"
   },
   {
    "duration": 147,
    "start_time": "2021-10-11T09:37:14.251Z"
   },
   {
    "duration": 27,
    "start_time": "2021-10-11T09:37:14.400Z"
   },
   {
    "duration": 60,
    "start_time": "2021-10-11T09:37:14.430Z"
   },
   {
    "duration": 18,
    "start_time": "2021-10-11T09:37:14.492Z"
   },
   {
    "duration": 13,
    "start_time": "2021-10-11T09:37:14.513Z"
   },
   {
    "duration": 43,
    "start_time": "2021-10-11T09:37:14.528Z"
   },
   {
    "duration": 25,
    "start_time": "2021-10-11T09:37:14.573Z"
   },
   {
    "duration": 18,
    "start_time": "2021-10-11T09:37:14.601Z"
   },
   {
    "duration": 55,
    "start_time": "2021-10-11T09:37:14.621Z"
   },
   {
    "duration": 13,
    "start_time": "2021-10-11T09:37:14.678Z"
   },
   {
    "duration": 22,
    "start_time": "2021-10-11T09:37:14.693Z"
   },
   {
    "duration": 56,
    "start_time": "2021-10-11T09:37:14.718Z"
   },
   {
    "duration": 10,
    "start_time": "2021-10-11T09:37:14.777Z"
   },
   {
    "duration": 16,
    "start_time": "2021-10-11T09:37:14.795Z"
   },
   {
    "duration": 82,
    "start_time": "2021-10-11T09:37:14.815Z"
   },
   {
    "duration": 14,
    "start_time": "2021-10-11T09:37:14.899Z"
   },
   {
    "duration": 67,
    "start_time": "2021-10-11T09:37:14.915Z"
   },
   {
    "duration": 11,
    "start_time": "2021-10-11T09:37:14.984Z"
   },
   {
    "duration": 15,
    "start_time": "2021-10-11T09:37:14.997Z"
   },
   {
    "duration": 52,
    "start_time": "2021-10-11T09:37:15.014Z"
   },
   {
    "duration": 14,
    "start_time": "2021-10-11T09:37:15.068Z"
   },
   {
    "duration": 39,
    "start_time": "2021-10-11T09:37:15.084Z"
   },
   {
    "duration": 55,
    "start_time": "2021-10-11T09:37:15.125Z"
   },
   {
    "duration": 17,
    "start_time": "2021-10-11T09:37:15.183Z"
   },
   {
    "duration": 62,
    "start_time": "2021-10-11T09:37:15.202Z"
   },
   {
    "duration": 35,
    "start_time": "2021-10-11T09:37:15.266Z"
   },
   {
    "duration": 24,
    "start_time": "2021-10-11T09:37:15.304Z"
   },
   {
    "duration": 27,
    "start_time": "2021-10-11T09:37:15.331Z"
   },
   {
    "duration": 25,
    "start_time": "2021-10-11T09:37:15.360Z"
   },
   {
    "duration": 29,
    "start_time": "2021-10-11T09:37:15.389Z"
   },
   {
    "duration": 38,
    "start_time": "2021-10-11T09:37:15.421Z"
   },
   {
    "duration": 33,
    "start_time": "2021-10-11T09:37:15.462Z"
   },
   {
    "duration": 33,
    "start_time": "2021-10-11T09:37:15.498Z"
   },
   {
    "duration": 4,
    "start_time": "2021-10-11T09:37:15.557Z"
   },
   {
    "duration": 35,
    "start_time": "2021-10-11T09:37:15.564Z"
   },
   {
    "duration": 3,
    "start_time": "2021-10-11T09:37:15.602Z"
   },
   {
    "duration": 64,
    "start_time": "2021-10-11T09:37:15.607Z"
   },
   {
    "duration": 17,
    "start_time": "2021-10-11T09:37:15.673Z"
   },
   {
    "duration": 30,
    "start_time": "2021-10-11T09:37:15.692Z"
   },
   {
    "duration": 11,
    "start_time": "2021-10-11T09:37:15.724Z"
   },
   {
    "duration": 38,
    "start_time": "2021-10-11T09:37:15.736Z"
   },
   {
    "duration": 25,
    "start_time": "2021-10-11T09:37:15.776Z"
   },
   {
    "duration": 4,
    "start_time": "2021-10-11T09:37:15.804Z"
   },
   {
    "duration": 49,
    "start_time": "2021-10-11T09:37:15.810Z"
   },
   {
    "duration": 17,
    "start_time": "2021-10-11T09:37:15.863Z"
   },
   {
    "duration": 30,
    "start_time": "2021-10-11T09:37:15.883Z"
   },
   {
    "duration": 50,
    "start_time": "2021-10-11T09:37:15.916Z"
   },
   {
    "duration": 8,
    "start_time": "2021-10-11T09:37:15.970Z"
   },
   {
    "duration": 32,
    "start_time": "2021-10-11T09:37:15.980Z"
   },
   {
    "duration": 53,
    "start_time": "2021-10-11T09:37:16.016Z"
   },
   {
    "duration": 4,
    "start_time": "2021-10-11T09:37:16.073Z"
   },
   {
    "duration": 30,
    "start_time": "2021-10-11T09:37:16.081Z"
   },
   {
    "duration": 49,
    "start_time": "2021-10-11T09:37:16.114Z"
   },
   {
    "duration": 24,
    "start_time": "2021-10-11T09:37:16.166Z"
   },
   {
    "duration": 65,
    "start_time": "2021-10-11T09:37:16.193Z"
   },
   {
    "duration": 6,
    "start_time": "2021-10-11T09:37:16.261Z"
   },
   {
    "duration": 21,
    "start_time": "2021-10-11T09:37:16.270Z"
   },
   {
    "duration": 65,
    "start_time": "2021-10-11T09:37:16.294Z"
   },
   {
    "duration": 4,
    "start_time": "2021-10-11T09:37:16.368Z"
   },
   {
    "duration": 26,
    "start_time": "2021-10-11T09:37:16.375Z"
   },
   {
    "duration": 56,
    "start_time": "2021-10-11T09:37:16.403Z"
   },
   {
    "duration": 25,
    "start_time": "2021-10-11T09:51:44.541Z"
   },
   {
    "duration": 28,
    "start_time": "2021-10-11T09:52:52.574Z"
   },
   {
    "duration": 391,
    "start_time": "2021-10-11T09:56:10.013Z"
   },
   {
    "duration": 337,
    "start_time": "2021-10-11T09:56:14.873Z"
   },
   {
    "duration": 307,
    "start_time": "2021-10-11T09:56:42.929Z"
   },
   {
    "duration": 33,
    "start_time": "2021-10-11T10:00:52.356Z"
   },
   {
    "duration": 43,
    "start_time": "2021-10-11T10:01:52.267Z"
   },
   {
    "duration": 341,
    "start_time": "2021-10-11T10:02:26.639Z"
   },
   {
    "duration": 42,
    "start_time": "2021-10-11T10:02:44.701Z"
   },
   {
    "duration": 875,
    "start_time": "2021-10-11T10:03:04.775Z"
   },
   {
    "duration": 563,
    "start_time": "2021-10-11T10:03:05.652Z"
   },
   {
    "duration": 28,
    "start_time": "2021-10-11T10:03:06.217Z"
   },
   {
    "duration": 8,
    "start_time": "2021-10-11T10:03:06.248Z"
   },
   {
    "duration": 22,
    "start_time": "2021-10-11T10:03:06.259Z"
   },
   {
    "duration": 8,
    "start_time": "2021-10-11T10:03:06.283Z"
   },
   {
    "duration": 25,
    "start_time": "2021-10-11T10:03:06.293Z"
   },
   {
    "duration": 24,
    "start_time": "2021-10-11T10:03:06.322Z"
   },
   {
    "duration": 43,
    "start_time": "2021-10-11T10:03:06.349Z"
   },
   {
    "duration": 134,
    "start_time": "2021-10-11T10:03:06.394Z"
   },
   {
    "duration": 36,
    "start_time": "2021-10-11T10:03:06.531Z"
   },
   {
    "duration": 59,
    "start_time": "2021-10-11T10:03:06.570Z"
   },
   {
    "duration": 19,
    "start_time": "2021-10-11T10:03:06.631Z"
   },
   {
    "duration": 14,
    "start_time": "2021-10-11T10:03:06.656Z"
   },
   {
    "duration": 27,
    "start_time": "2021-10-11T10:03:06.673Z"
   },
   {
    "duration": 40,
    "start_time": "2021-10-11T10:03:06.703Z"
   },
   {
    "duration": 20,
    "start_time": "2021-10-11T10:03:06.758Z"
   },
   {
    "duration": 39,
    "start_time": "2021-10-11T10:03:06.781Z"
   },
   {
    "duration": 21,
    "start_time": "2021-10-11T10:03:06.823Z"
   },
   {
    "duration": 31,
    "start_time": "2021-10-11T10:03:06.846Z"
   },
   {
    "duration": 40,
    "start_time": "2021-10-11T10:03:06.879Z"
   },
   {
    "duration": 12,
    "start_time": "2021-10-11T10:03:06.922Z"
   },
   {
    "duration": 32,
    "start_time": "2021-10-11T10:03:06.939Z"
   },
   {
    "duration": 53,
    "start_time": "2021-10-11T10:03:06.975Z"
   },
   {
    "duration": 33,
    "start_time": "2021-10-11T10:03:07.030Z"
   },
   {
    "duration": 67,
    "start_time": "2021-10-11T10:03:07.066Z"
   },
   {
    "duration": 11,
    "start_time": "2021-10-11T10:03:07.136Z"
   },
   {
    "duration": 14,
    "start_time": "2021-10-11T10:03:07.158Z"
   },
   {
    "duration": 42,
    "start_time": "2021-10-11T10:03:07.175Z"
   },
   {
    "duration": 19,
    "start_time": "2021-10-11T10:03:07.220Z"
   },
   {
    "duration": 44,
    "start_time": "2021-10-11T10:03:07.241Z"
   },
   {
    "duration": 29,
    "start_time": "2021-10-11T10:03:07.287Z"
   },
   {
    "duration": 38,
    "start_time": "2021-10-11T10:03:07.319Z"
   },
   {
    "duration": 38,
    "start_time": "2021-10-11T10:03:07.359Z"
   },
   {
    "duration": 63,
    "start_time": "2021-10-11T10:03:07.400Z"
   },
   {
    "duration": 29,
    "start_time": "2021-10-11T10:03:07.466Z"
   },
   {
    "duration": 14,
    "start_time": "2021-10-11T10:03:07.497Z"
   },
   {
    "duration": 37,
    "start_time": "2021-10-11T10:03:07.513Z"
   },
   {
    "duration": 35,
    "start_time": "2021-10-11T10:03:07.553Z"
   },
   {
    "duration": 4,
    "start_time": "2021-10-11T10:03:07.591Z"
   },
   {
    "duration": 41,
    "start_time": "2021-10-11T10:03:07.597Z"
   },
   {
    "duration": 43,
    "start_time": "2021-10-11T10:03:07.641Z"
   },
   {
    "duration": 5,
    "start_time": "2021-10-11T10:03:07.687Z"
   },
   {
    "duration": 51,
    "start_time": "2021-10-11T10:03:07.695Z"
   },
   {
    "duration": 11,
    "start_time": "2021-10-11T10:03:07.748Z"
   },
   {
    "duration": 53,
    "start_time": "2021-10-11T10:03:07.762Z"
   },
   {
    "duration": 17,
    "start_time": "2021-10-11T10:03:07.817Z"
   },
   {
    "duration": 31,
    "start_time": "2021-10-11T10:03:07.836Z"
   },
   {
    "duration": 16,
    "start_time": "2021-10-11T10:03:07.869Z"
   },
   {
    "duration": 41,
    "start_time": "2021-10-11T10:03:07.887Z"
   },
   {
    "duration": 34,
    "start_time": "2021-10-11T10:03:07.931Z"
   },
   {
    "duration": 4,
    "start_time": "2021-10-11T10:03:07.967Z"
   },
   {
    "duration": 49,
    "start_time": "2021-10-11T10:03:07.973Z"
   },
   {
    "duration": 14,
    "start_time": "2021-10-11T10:03:08.025Z"
   },
   {
    "duration": 32,
    "start_time": "2021-10-11T10:03:08.041Z"
   },
   {
    "duration": 22,
    "start_time": "2021-10-11T10:03:08.076Z"
   },
   {
    "duration": 4,
    "start_time": "2021-10-11T10:03:08.100Z"
   },
   {
    "duration": 53,
    "start_time": "2021-10-11T10:03:08.106Z"
   },
   {
    "duration": 28,
    "start_time": "2021-10-11T10:03:08.161Z"
   },
   {
    "duration": 4,
    "start_time": "2021-10-11T10:03:08.191Z"
   },
   {
    "duration": 59,
    "start_time": "2021-10-11T10:03:08.198Z"
   },
   {
    "duration": 14,
    "start_time": "2021-10-11T10:03:08.260Z"
   },
   {
    "duration": 21,
    "start_time": "2021-10-11T10:03:08.276Z"
   },
   {
    "duration": 63,
    "start_time": "2021-10-11T10:03:08.300Z"
   },
   {
    "duration": 7,
    "start_time": "2021-10-11T10:03:08.365Z"
   },
   {
    "duration": 32,
    "start_time": "2021-10-11T10:03:08.374Z"
   },
   {
    "duration": 26,
    "start_time": "2021-10-11T10:03:08.408Z"
   },
   {
    "duration": 4,
    "start_time": "2021-10-11T10:03:08.464Z"
   },
   {
    "duration": 25,
    "start_time": "2021-10-11T10:03:08.471Z"
   },
   {
    "duration": 31,
    "start_time": "2021-10-11T10:03:08.498Z"
   },
   {
    "duration": 47,
    "start_time": "2021-10-11T10:03:08.531Z"
   },
   {
    "duration": 41,
    "start_time": "2021-10-11T10:03:08.580Z"
   },
   {
    "duration": 10538,
    "start_time": "2021-10-11T10:04:08.783Z"
   },
   {
    "duration": 8272,
    "start_time": "2021-10-11T10:04:35.148Z"
   },
   {
    "duration": 9,
    "start_time": "2021-10-11T10:13:41.092Z"
   },
   {
    "duration": 44,
    "start_time": "2021-10-11T10:14:22.523Z"
   },
   {
    "duration": 10941,
    "start_time": "2021-10-11T10:14:42.772Z"
   },
   {
    "duration": 8795,
    "start_time": "2021-10-11T10:15:06.684Z"
   },
   {
    "duration": 6,
    "start_time": "2021-10-11T10:15:49.897Z"
   },
   {
    "duration": 15,
    "start_time": "2021-10-11T10:16:37.610Z"
   },
   {
    "duration": 413,
    "start_time": "2021-10-11T10:17:22.747Z"
   },
   {
    "duration": 326,
    "start_time": "2021-10-11T10:18:38.860Z"
   },
   {
    "duration": 576,
    "start_time": "2021-10-11T10:18:55.149Z"
   },
   {
    "duration": 6,
    "start_time": "2021-10-11T10:19:33.440Z"
   },
   {
    "duration": 563,
    "start_time": "2021-10-11T10:20:11.109Z"
   },
   {
    "duration": 655,
    "start_time": "2021-10-11T10:20:25.245Z"
   },
   {
    "duration": 318,
    "start_time": "2021-10-11T10:20:47.490Z"
   },
   {
    "duration": 29,
    "start_time": "2021-10-11T10:24:48.556Z"
   },
   {
    "duration": 368,
    "start_time": "2021-10-11T10:34:24.917Z"
   },
   {
    "duration": 354,
    "start_time": "2021-10-11T10:34:39.314Z"
   },
   {
    "duration": 28,
    "start_time": "2021-10-11T10:34:48.190Z"
   },
   {
    "duration": 10,
    "start_time": "2021-10-11T10:35:00.265Z"
   },
   {
    "duration": 35,
    "start_time": "2021-10-11T10:35:31.422Z"
   },
   {
    "duration": 383,
    "start_time": "2021-10-11T10:36:34.090Z"
   },
   {
    "duration": 584,
    "start_time": "2021-10-11T10:36:49.441Z"
   },
   {
    "duration": 359,
    "start_time": "2021-10-11T10:36:56.864Z"
   },
   {
    "duration": 585,
    "start_time": "2021-10-11T10:37:05.553Z"
   },
   {
    "duration": 324,
    "start_time": "2021-10-11T10:37:12.688Z"
   },
   {
    "duration": 269,
    "start_time": "2021-10-11T10:37:21.811Z"
   },
   {
    "duration": 288,
    "start_time": "2021-10-11T10:39:21.080Z"
   },
   {
    "duration": 304,
    "start_time": "2021-10-11T10:39:27.744Z"
   },
   {
    "duration": 411,
    "start_time": "2021-10-11T10:39:46.950Z"
   },
   {
    "duration": 336,
    "start_time": "2021-10-11T10:39:54.672Z"
   },
   {
    "duration": 420,
    "start_time": "2021-10-11T10:40:01.276Z"
   },
   {
    "duration": 396,
    "start_time": "2021-10-11T10:40:06.200Z"
   },
   {
    "duration": 403,
    "start_time": "2021-10-11T10:40:14.854Z"
   },
   {
    "duration": 417,
    "start_time": "2021-10-11T10:52:01.048Z"
   },
   {
    "duration": 386,
    "start_time": "2021-10-11T10:52:07.798Z"
   },
   {
    "duration": 460,
    "start_time": "2021-10-11T10:52:14.106Z"
   },
   {
    "duration": 493,
    "start_time": "2021-10-11T10:52:21.571Z"
   },
   {
    "duration": 713,
    "start_time": "2021-10-11T10:52:28.831Z"
   },
   {
    "duration": 446,
    "start_time": "2021-10-11T10:52:42.533Z"
   },
   {
    "duration": 369,
    "start_time": "2021-10-11T10:52:50.839Z"
   },
   {
    "duration": 464,
    "start_time": "2021-10-11T10:52:57.671Z"
   },
   {
    "duration": 476,
    "start_time": "2021-10-11T10:53:10.883Z"
   },
   {
    "duration": 380,
    "start_time": "2021-10-11T10:53:24.048Z"
   },
   {
    "duration": 341,
    "start_time": "2021-10-11T10:53:29.503Z"
   },
   {
    "duration": 385,
    "start_time": "2021-10-11T10:53:35.984Z"
   },
   {
    "duration": 306,
    "start_time": "2021-10-11T10:53:41.239Z"
   },
   {
    "duration": 5,
    "start_time": "2021-10-11T11:19:25.133Z"
   },
   {
    "duration": 15,
    "start_time": "2021-10-11T11:19:57.289Z"
   },
   {
    "duration": 18,
    "start_time": "2021-10-11T11:20:14.798Z"
   },
   {
    "duration": 841,
    "start_time": "2021-10-11T11:20:40.168Z"
   },
   {
    "duration": 608,
    "start_time": "2021-10-11T11:20:41.012Z"
   },
   {
    "duration": 29,
    "start_time": "2021-10-11T11:20:41.623Z"
   },
   {
    "duration": 10,
    "start_time": "2021-10-11T11:20:41.655Z"
   },
   {
    "duration": 15,
    "start_time": "2021-10-11T11:20:41.668Z"
   },
   {
    "duration": 10,
    "start_time": "2021-10-11T11:20:41.686Z"
   },
   {
    "duration": 13,
    "start_time": "2021-10-11T11:20:41.699Z"
   },
   {
    "duration": 52,
    "start_time": "2021-10-11T11:20:41.717Z"
   },
   {
    "duration": 32,
    "start_time": "2021-10-11T11:20:41.774Z"
   },
   {
    "duration": 148,
    "start_time": "2021-10-11T11:20:41.809Z"
   },
   {
    "duration": 31,
    "start_time": "2021-10-11T11:20:41.959Z"
   },
   {
    "duration": 66,
    "start_time": "2021-10-11T11:20:41.993Z"
   },
   {
    "duration": 19,
    "start_time": "2021-10-11T11:20:42.062Z"
   },
   {
    "duration": 13,
    "start_time": "2021-10-11T11:20:42.083Z"
   },
   {
    "duration": 19,
    "start_time": "2021-10-11T11:20:42.098Z"
   },
   {
    "duration": 60,
    "start_time": "2021-10-11T11:20:42.119Z"
   },
   {
    "duration": 23,
    "start_time": "2021-10-11T11:20:42.182Z"
   },
   {
    "duration": 52,
    "start_time": "2021-10-11T11:20:42.208Z"
   },
   {
    "duration": 15,
    "start_time": "2021-10-11T11:20:42.263Z"
   },
   {
    "duration": 22,
    "start_time": "2021-10-11T11:20:42.280Z"
   },
   {
    "duration": 84,
    "start_time": "2021-10-11T11:20:42.305Z"
   },
   {
    "duration": 11,
    "start_time": "2021-10-11T11:20:42.391Z"
   },
   {
    "duration": 31,
    "start_time": "2021-10-11T11:20:42.408Z"
   },
   {
    "duration": 64,
    "start_time": "2021-10-11T11:20:42.443Z"
   },
   {
    "duration": 16,
    "start_time": "2021-10-11T11:20:42.509Z"
   },
   {
    "duration": 88,
    "start_time": "2021-10-11T11:20:42.527Z"
   },
   {
    "duration": 13,
    "start_time": "2021-10-11T11:20:42.618Z"
   },
   {
    "duration": 26,
    "start_time": "2021-10-11T11:20:42.634Z"
   },
   {
    "duration": 48,
    "start_time": "2021-10-11T11:20:42.664Z"
   },
   {
    "duration": 14,
    "start_time": "2021-10-11T11:20:42.714Z"
   },
   {
    "duration": 46,
    "start_time": "2021-10-11T11:20:42.731Z"
   },
   {
    "duration": 33,
    "start_time": "2021-10-11T11:20:42.779Z"
   },
   {
    "duration": 46,
    "start_time": "2021-10-11T11:20:42.814Z"
   },
   {
    "duration": 45,
    "start_time": "2021-10-11T11:20:42.863Z"
   },
   {
    "duration": 48,
    "start_time": "2021-10-11T11:20:42.910Z"
   },
   {
    "duration": 24,
    "start_time": "2021-10-11T11:20:42.961Z"
   },
   {
    "duration": 6,
    "start_time": "2021-10-11T11:20:42.987Z"
   },
   {
    "duration": 21,
    "start_time": "2021-10-11T11:20:42.995Z"
   },
   {
    "duration": 67,
    "start_time": "2021-10-11T11:20:43.018Z"
   },
   {
    "duration": 4,
    "start_time": "2021-10-11T11:20:43.088Z"
   },
   {
    "duration": 32,
    "start_time": "2021-10-11T11:20:43.094Z"
   },
   {
    "duration": 67,
    "start_time": "2021-10-11T11:20:43.128Z"
   },
   {
    "duration": 4,
    "start_time": "2021-10-11T11:20:43.198Z"
   },
   {
    "duration": 34,
    "start_time": "2021-10-11T11:20:43.204Z"
   },
   {
    "duration": 6,
    "start_time": "2021-10-11T11:20:43.258Z"
   },
   {
    "duration": 46,
    "start_time": "2021-10-11T11:20:43.267Z"
   },
   {
    "duration": 48,
    "start_time": "2021-10-11T11:20:43.316Z"
   },
   {
    "duration": 19,
    "start_time": "2021-10-11T11:20:43.367Z"
   },
   {
    "duration": 5,
    "start_time": "2021-10-11T11:20:43.389Z"
   },
   {
    "duration": 63,
    "start_time": "2021-10-11T11:20:43.397Z"
   },
   {
    "duration": 29,
    "start_time": "2021-10-11T11:20:43.463Z"
   },
   {
    "duration": 4,
    "start_time": "2021-10-11T11:20:43.494Z"
   },
   {
    "duration": 26,
    "start_time": "2021-10-11T11:20:43.500Z"
   },
   {
    "duration": 16,
    "start_time": "2021-10-11T11:20:43.557Z"
   },
   {
    "duration": 17,
    "start_time": "2021-10-11T11:20:43.577Z"
   },
   {
    "duration": 67,
    "start_time": "2021-10-11T11:20:43.596Z"
   },
   {
    "duration": 4,
    "start_time": "2021-10-11T11:20:43.666Z"
   },
   {
    "duration": 34,
    "start_time": "2021-10-11T11:20:43.673Z"
   },
   {
    "duration": 67,
    "start_time": "2021-10-11T11:20:43.709Z"
   },
   {
    "duration": 5,
    "start_time": "2021-10-11T11:20:43.780Z"
   },
   {
    "duration": 33,
    "start_time": "2021-10-11T11:20:43.788Z"
   },
   {
    "duration": 48,
    "start_time": "2021-10-11T11:20:43.824Z"
   },
   {
    "duration": 25,
    "start_time": "2021-10-11T11:20:43.876Z"
   },
   {
    "duration": 55,
    "start_time": "2021-10-11T11:20:43.903Z"
   },
   {
    "duration": 9,
    "start_time": "2021-10-11T11:20:43.962Z"
   },
   {
    "duration": 19,
    "start_time": "2021-10-11T11:20:43.974Z"
   },
   {
    "duration": 24,
    "start_time": "2021-10-11T11:20:43.995Z"
   },
   {
    "duration": 5,
    "start_time": "2021-10-11T11:20:44.067Z"
   },
   {
    "duration": 30,
    "start_time": "2021-10-11T11:20:44.076Z"
   },
   {
    "duration": 58,
    "start_time": "2021-10-11T11:20:44.109Z"
   },
   {
    "duration": 25,
    "start_time": "2021-10-11T11:20:44.170Z"
   },
   {
    "duration": 74,
    "start_time": "2021-10-11T11:20:44.197Z"
   },
   {
    "duration": 6,
    "start_time": "2021-10-11T11:20:44.274Z"
   },
   {
    "duration": 9,
    "start_time": "2021-10-11T11:20:44.282Z"
   },
   {
    "duration": 13,
    "start_time": "2021-10-11T11:20:44.293Z"
   },
   {
    "duration": 611,
    "start_time": "2021-10-11T11:20:44.309Z"
   },
   {
    "duration": 13,
    "start_time": "2021-10-11T11:20:44.922Z"
   },
   {
    "duration": 27,
    "start_time": "2021-10-11T11:20:44.937Z"
   },
   {
    "duration": 390,
    "start_time": "2021-10-11T11:20:44.967Z"
   },
   {
    "duration": 14,
    "start_time": "2021-10-11T11:21:25.021Z"
   },
   {
    "duration": 404,
    "start_time": "2021-10-11T11:22:19.433Z"
   },
   {
    "duration": 12,
    "start_time": "2021-10-11T11:22:25.856Z"
   },
   {
    "duration": 5,
    "start_time": "2021-10-11T11:23:15.251Z"
   },
   {
    "duration": 15,
    "start_time": "2021-10-11T11:25:23.346Z"
   },
   {
    "duration": 6,
    "start_time": "2021-10-11T11:25:23.600Z"
   },
   {
    "duration": 13,
    "start_time": "2021-10-11T11:25:26.421Z"
   },
   {
    "duration": 13,
    "start_time": "2021-10-11T11:26:00.890Z"
   },
   {
    "duration": 6,
    "start_time": "2021-10-11T11:26:40.146Z"
   },
   {
    "duration": 13,
    "start_time": "2021-10-11T11:27:11.229Z"
   },
   {
    "duration": 14,
    "start_time": "2021-10-11T11:27:18.708Z"
   },
   {
    "duration": 13,
    "start_time": "2021-10-11T11:27:26.001Z"
   },
   {
    "duration": 795,
    "start_time": "2021-10-11T11:29:46.023Z"
   },
   {
    "duration": 528,
    "start_time": "2021-10-11T11:29:46.821Z"
   },
   {
    "duration": 28,
    "start_time": "2021-10-11T11:29:47.352Z"
   },
   {
    "duration": 9,
    "start_time": "2021-10-11T11:29:47.383Z"
   },
   {
    "duration": 27,
    "start_time": "2021-10-11T11:29:47.395Z"
   },
   {
    "duration": 23,
    "start_time": "2021-10-11T11:29:47.425Z"
   },
   {
    "duration": 16,
    "start_time": "2021-10-11T11:29:47.451Z"
   },
   {
    "duration": 35,
    "start_time": "2021-10-11T11:29:47.470Z"
   },
   {
    "duration": 43,
    "start_time": "2021-10-11T11:29:47.508Z"
   },
   {
    "duration": 148,
    "start_time": "2021-10-11T11:29:47.553Z"
   },
   {
    "duration": 27,
    "start_time": "2021-10-11T11:29:47.703Z"
   },
   {
    "duration": 83,
    "start_time": "2021-10-11T11:29:47.732Z"
   },
   {
    "duration": 22,
    "start_time": "2021-10-11T11:29:47.818Z"
   },
   {
    "duration": 29,
    "start_time": "2021-10-11T11:29:47.843Z"
   },
   {
    "duration": 31,
    "start_time": "2021-10-11T11:29:47.875Z"
   },
   {
    "duration": 59,
    "start_time": "2021-10-11T11:29:47.909Z"
   },
   {
    "duration": 26,
    "start_time": "2021-10-11T11:29:47.971Z"
   },
   {
    "duration": 47,
    "start_time": "2021-10-11T11:29:48.000Z"
   },
   {
    "duration": 19,
    "start_time": "2021-10-11T11:29:48.059Z"
   },
   {
    "duration": 33,
    "start_time": "2021-10-11T11:29:48.081Z"
   },
   {
    "duration": 65,
    "start_time": "2021-10-11T11:29:48.117Z"
   },
   {
    "duration": 11,
    "start_time": "2021-10-11T11:29:48.185Z"
   },
   {
    "duration": 24,
    "start_time": "2021-10-11T11:29:48.202Z"
   },
   {
    "duration": 60,
    "start_time": "2021-10-11T11:29:48.231Z"
   },
   {
    "duration": 14,
    "start_time": "2021-10-11T11:29:48.294Z"
   },
   {
    "duration": 70,
    "start_time": "2021-10-11T11:29:48.310Z"
   },
   {
    "duration": 14,
    "start_time": "2021-10-11T11:29:48.382Z"
   },
   {
    "duration": 21,
    "start_time": "2021-10-11T11:29:48.398Z"
   },
   {
    "duration": 45,
    "start_time": "2021-10-11T11:29:48.421Z"
   },
   {
    "duration": 24,
    "start_time": "2021-10-11T11:29:48.468Z"
   },
   {
    "duration": 43,
    "start_time": "2021-10-11T11:29:48.494Z"
   },
   {
    "duration": 41,
    "start_time": "2021-10-11T11:29:48.539Z"
   },
   {
    "duration": 16,
    "start_time": "2021-10-11T11:29:48.583Z"
   },
   {
    "duration": 66,
    "start_time": "2021-10-11T11:29:48.601Z"
   },
   {
    "duration": 33,
    "start_time": "2021-10-11T11:29:48.670Z"
   },
   {
    "duration": 22,
    "start_time": "2021-10-11T11:29:48.705Z"
   },
   {
    "duration": 15,
    "start_time": "2021-10-11T11:29:48.729Z"
   },
   {
    "duration": 83,
    "start_time": "2021-10-11T11:29:48.758Z"
   },
   {
    "duration": 81,
    "start_time": "2021-10-11T11:29:48.857Z"
   },
   {
    "duration": 24,
    "start_time": "2021-10-11T11:29:48.956Z"
   },
   {
    "duration": 114,
    "start_time": "2021-10-11T11:29:48.998Z"
   },
   {
    "duration": 100,
    "start_time": "2021-10-11T11:29:49.128Z"
   },
   {
    "duration": 13,
    "start_time": "2021-10-11T11:29:49.234Z"
   },
   {
    "duration": 68,
    "start_time": "2021-10-11T11:29:49.250Z"
   },
   {
    "duration": 14,
    "start_time": "2021-10-11T11:29:49.321Z"
   },
   {
    "duration": 50,
    "start_time": "2021-10-11T11:29:49.337Z"
   },
   {
    "duration": 20,
    "start_time": "2021-10-11T11:29:49.390Z"
   },
   {
    "duration": 46,
    "start_time": "2021-10-11T11:29:49.413Z"
   },
   {
    "duration": 11,
    "start_time": "2021-10-11T11:29:49.461Z"
   },
   {
    "duration": 35,
    "start_time": "2021-10-11T11:29:49.474Z"
   },
   {
    "duration": 24,
    "start_time": "2021-10-11T11:29:49.511Z"
   },
   {
    "duration": 18,
    "start_time": "2021-10-11T11:29:49.539Z"
   },
   {
    "duration": 39,
    "start_time": "2021-10-11T11:29:49.560Z"
   },
   {
    "duration": 22,
    "start_time": "2021-10-11T11:29:49.602Z"
   },
   {
    "duration": 38,
    "start_time": "2021-10-11T11:29:49.627Z"
   },
   {
    "duration": 44,
    "start_time": "2021-10-11T11:29:49.668Z"
   },
   {
    "duration": 18,
    "start_time": "2021-10-11T11:29:49.715Z"
   },
   {
    "duration": 52,
    "start_time": "2021-10-11T11:29:49.736Z"
   },
   {
    "duration": 40,
    "start_time": "2021-10-11T11:29:49.791Z"
   },
   {
    "duration": 4,
    "start_time": "2021-10-11T11:29:49.833Z"
   },
   {
    "duration": 30,
    "start_time": "2021-10-11T11:29:49.858Z"
   },
   {
    "duration": 19,
    "start_time": "2021-10-11T11:29:49.890Z"
   },
   {
    "duration": 38,
    "start_time": "2021-10-11T11:29:49.911Z"
   },
   {
    "duration": 39,
    "start_time": "2021-10-11T11:29:49.952Z"
   },
   {
    "duration": 6,
    "start_time": "2021-10-11T11:29:49.993Z"
   },
   {
    "duration": 43,
    "start_time": "2021-10-11T11:29:50.002Z"
   },
   {
    "duration": 37,
    "start_time": "2021-10-11T11:29:50.048Z"
   },
   {
    "duration": 30,
    "start_time": "2021-10-11T11:29:50.092Z"
   },
   {
    "duration": 40,
    "start_time": "2021-10-11T11:29:50.125Z"
   },
   {
    "duration": 30,
    "start_time": "2021-10-11T11:29:50.168Z"
   },
   {
    "duration": 35,
    "start_time": "2021-10-11T11:29:50.200Z"
   },
   {
    "duration": 9690,
    "start_time": "2021-10-11T11:29:50.238Z"
   },
   {
    "duration": -113,
    "start_time": "2021-10-11T11:30:00.043Z"
   },
   {
    "duration": -121,
    "start_time": "2021-10-11T11:30:00.053Z"
   },
   {
    "duration": -129,
    "start_time": "2021-10-11T11:30:00.062Z"
   },
   {
    "duration": -136,
    "start_time": "2021-10-11T11:30:00.071Z"
   },
   {
    "duration": -142,
    "start_time": "2021-10-11T11:30:00.078Z"
   },
   {
    "duration": -148,
    "start_time": "2021-10-11T11:30:00.086Z"
   },
   {
    "duration": -156,
    "start_time": "2021-10-11T11:30:00.095Z"
   },
   {
    "duration": 26,
    "start_time": "2021-10-11T11:31:26.852Z"
   },
   {
    "duration": 6,
    "start_time": "2021-10-11T11:31:27.277Z"
   },
   {
    "duration": 488,
    "start_time": "2021-10-11T11:31:29.597Z"
   },
   {
    "duration": 13,
    "start_time": "2021-10-11T11:31:32.116Z"
   },
   {
    "duration": 7,
    "start_time": "2021-10-11T11:31:32.788Z"
   },
   {
    "duration": 14,
    "start_time": "2021-10-11T11:31:34.032Z"
   },
   {
    "duration": 318,
    "start_time": "2021-10-11T11:31:35.090Z"
   },
   {
    "duration": 14,
    "start_time": "2021-10-11T11:31:38.645Z"
   },
   {
    "duration": 5,
    "start_time": "2021-10-11T11:31:39.489Z"
   },
   {
    "duration": 12,
    "start_time": "2021-10-11T11:31:40.244Z"
   },
   {
    "duration": 762,
    "start_time": "2021-10-11T11:35:23.374Z"
   },
   {
    "duration": 546,
    "start_time": "2021-10-11T11:35:24.139Z"
   },
   {
    "duration": 27,
    "start_time": "2021-10-11T11:35:24.688Z"
   },
   {
    "duration": 11,
    "start_time": "2021-10-11T11:35:24.718Z"
   },
   {
    "duration": 15,
    "start_time": "2021-10-11T11:35:24.731Z"
   },
   {
    "duration": 9,
    "start_time": "2021-10-11T11:35:24.748Z"
   },
   {
    "duration": 8,
    "start_time": "2021-10-11T11:35:24.759Z"
   },
   {
    "duration": 16,
    "start_time": "2021-10-11T11:35:24.771Z"
   },
   {
    "duration": 26,
    "start_time": "2021-10-11T11:35:24.790Z"
   },
   {
    "duration": 180,
    "start_time": "2021-10-11T11:35:24.819Z"
   },
   {
    "duration": 27,
    "start_time": "2021-10-11T11:35:25.001Z"
   },
   {
    "duration": 64,
    "start_time": "2021-10-11T11:35:25.030Z"
   },
   {
    "duration": 19,
    "start_time": "2021-10-11T11:35:25.096Z"
   },
   {
    "duration": 12,
    "start_time": "2021-10-11T11:35:25.117Z"
   },
   {
    "duration": 40,
    "start_time": "2021-10-11T11:35:25.131Z"
   },
   {
    "duration": 26,
    "start_time": "2021-10-11T11:35:25.173Z"
   },
   {
    "duration": 20,
    "start_time": "2021-10-11T11:35:25.201Z"
   },
   {
    "duration": 49,
    "start_time": "2021-10-11T11:35:25.223Z"
   },
   {
    "duration": 13,
    "start_time": "2021-10-11T11:35:25.275Z"
   },
   {
    "duration": 23,
    "start_time": "2021-10-11T11:35:25.290Z"
   },
   {
    "duration": 83,
    "start_time": "2021-10-11T11:35:25.316Z"
   },
   {
    "duration": 16,
    "start_time": "2021-10-11T11:35:25.402Z"
   },
   {
    "duration": 38,
    "start_time": "2021-10-11T11:35:25.425Z"
   },
   {
    "duration": 51,
    "start_time": "2021-10-11T11:35:25.467Z"
   },
   {
    "duration": 12,
    "start_time": "2021-10-11T11:35:25.521Z"
   },
   {
    "duration": 66,
    "start_time": "2021-10-11T11:35:25.536Z"
   },
   {
    "duration": 11,
    "start_time": "2021-10-11T11:35:25.605Z"
   },
   {
    "duration": 5,
    "start_time": "2021-10-11T11:35:25.619Z"
   },
   {
    "duration": 61,
    "start_time": "2021-10-11T11:35:25.626Z"
   },
   {
    "duration": 17,
    "start_time": "2021-10-11T11:35:25.690Z"
   },
   {
    "duration": 62,
    "start_time": "2021-10-11T11:35:25.710Z"
   },
   {
    "duration": 32,
    "start_time": "2021-10-11T11:35:25.775Z"
   },
   {
    "duration": 17,
    "start_time": "2021-10-11T11:35:25.809Z"
   },
   {
    "duration": 38,
    "start_time": "2021-10-11T11:35:25.857Z"
   },
   {
    "duration": 33,
    "start_time": "2021-10-11T11:35:25.897Z"
   },
   {
    "duration": 42,
    "start_time": "2021-10-11T11:35:25.933Z"
   },
   {
    "duration": 4,
    "start_time": "2021-10-11T11:35:25.978Z"
   },
   {
    "duration": 20,
    "start_time": "2021-10-11T11:35:25.985Z"
   },
   {
    "duration": 58,
    "start_time": "2021-10-11T11:35:26.007Z"
   },
   {
    "duration": 3,
    "start_time": "2021-10-11T11:35:26.068Z"
   },
   {
    "duration": 31,
    "start_time": "2021-10-11T11:35:26.073Z"
   },
   {
    "duration": 52,
    "start_time": "2021-10-11T11:35:26.107Z"
   },
   {
    "duration": 3,
    "start_time": "2021-10-11T11:35:26.161Z"
   },
   {
    "duration": 33,
    "start_time": "2021-10-11T11:35:26.167Z"
   },
   {
    "duration": 4,
    "start_time": "2021-10-11T11:35:26.202Z"
   },
   {
    "duration": 66,
    "start_time": "2021-10-11T11:35:26.208Z"
   },
   {
    "duration": 18,
    "start_time": "2021-10-11T11:35:26.277Z"
   },
   {
    "duration": 15,
    "start_time": "2021-10-11T11:35:26.297Z"
   },
   {
    "duration": 5,
    "start_time": "2021-10-11T11:35:26.314Z"
   },
   {
    "duration": 50,
    "start_time": "2021-10-11T11:35:26.321Z"
   },
   {
    "duration": 27,
    "start_time": "2021-10-11T11:35:26.374Z"
   },
   {
    "duration": 5,
    "start_time": "2021-10-11T11:35:26.404Z"
   },
   {
    "duration": 53,
    "start_time": "2021-10-11T11:35:26.411Z"
   },
   {
    "duration": 15,
    "start_time": "2021-10-11T11:35:26.466Z"
   },
   {
    "duration": 18,
    "start_time": "2021-10-11T11:35:26.484Z"
   },
   {
    "duration": 59,
    "start_time": "2021-10-11T11:35:26.505Z"
   },
   {
    "duration": 5,
    "start_time": "2021-10-11T11:35:26.567Z"
   },
   {
    "duration": 29,
    "start_time": "2021-10-11T11:35:26.575Z"
   },
   {
    "duration": 63,
    "start_time": "2021-10-11T11:35:26.606Z"
   },
   {
    "duration": 4,
    "start_time": "2021-10-11T11:35:26.673Z"
   },
   {
    "duration": 31,
    "start_time": "2021-10-11T11:35:26.680Z"
   },
   {
    "duration": 51,
    "start_time": "2021-10-11T11:35:26.713Z"
   },
   {
    "duration": 20,
    "start_time": "2021-10-11T11:35:26.767Z"
   },
   {
    "duration": 31,
    "start_time": "2021-10-11T11:35:26.789Z"
   },
   {
    "duration": 36,
    "start_time": "2021-10-11T11:35:26.822Z"
   },
   {
    "duration": 18,
    "start_time": "2021-10-11T11:35:26.860Z"
   },
   {
    "duration": 24,
    "start_time": "2021-10-11T11:35:26.881Z"
   },
   {
    "duration": 4,
    "start_time": "2021-10-11T11:35:26.912Z"
   },
   {
    "duration": 22,
    "start_time": "2021-10-11T11:35:26.958Z"
   },
   {
    "duration": 23,
    "start_time": "2021-10-11T11:35:26.983Z"
   },
   {
    "duration": 51,
    "start_time": "2021-10-11T11:35:27.008Z"
   },
   {
    "duration": 6,
    "start_time": "2021-10-11T11:35:27.061Z"
   },
   {
    "duration": 547,
    "start_time": "2021-10-11T11:35:27.069Z"
   },
   {
    "duration": 13,
    "start_time": "2021-10-11T11:35:27.618Z"
   },
   {
    "duration": 25,
    "start_time": "2021-10-11T11:35:27.634Z"
   },
   {
    "duration": 15,
    "start_time": "2021-10-11T11:35:27.662Z"
   },
   {
    "duration": 328,
    "start_time": "2021-10-11T11:35:27.680Z"
   },
   {
    "duration": 12,
    "start_time": "2021-10-11T11:35:28.010Z"
   },
   {
    "duration": 7,
    "start_time": "2021-10-11T11:35:28.024Z"
   },
   {
    "duration": 35,
    "start_time": "2021-10-11T11:35:28.033Z"
   },
   {
    "duration": 18,
    "start_time": "2021-10-11T11:42:33.057Z"
   },
   {
    "duration": 17,
    "start_time": "2021-10-11T11:43:13.022Z"
   },
   {
    "duration": 18,
    "start_time": "2021-10-11T11:47:31.952Z"
   },
   {
    "duration": 423,
    "start_time": "2021-10-11T11:49:08.503Z"
   },
   {
    "duration": 384,
    "start_time": "2021-10-11T11:49:21.300Z"
   },
   {
    "duration": 405,
    "start_time": "2021-10-11T11:49:27.380Z"
   },
   {
    "duration": 539,
    "start_time": "2021-10-11T11:49:32.682Z"
   },
   {
    "duration": 336,
    "start_time": "2021-10-11T11:49:39.463Z"
   },
   {
    "duration": 360,
    "start_time": "2021-10-11T11:49:45.267Z"
   },
   {
    "duration": 346,
    "start_time": "2021-10-11T11:49:51.539Z"
   },
   {
    "duration": 11,
    "start_time": "2021-10-11T11:51:30.283Z"
   },
   {
    "duration": 7,
    "start_time": "2021-10-11T11:52:25.524Z"
   },
   {
    "duration": 11,
    "start_time": "2021-10-11T11:52:58.675Z"
   },
   {
    "duration": 9,
    "start_time": "2021-10-11T11:53:04.764Z"
   },
   {
    "duration": 13,
    "start_time": "2021-10-11T11:53:24.701Z"
   },
   {
    "duration": 291,
    "start_time": "2021-10-11T11:54:39.470Z"
   },
   {
    "duration": 337,
    "start_time": "2021-10-11T11:54:49.053Z"
   },
   {
    "duration": 292,
    "start_time": "2021-10-11T11:54:53.752Z"
   },
   {
    "duration": 8,
    "start_time": "2021-10-11T11:55:51.660Z"
   },
   {
    "duration": 8,
    "start_time": "2021-10-11T11:56:29.461Z"
   },
   {
    "duration": 800,
    "start_time": "2021-10-11T11:57:36.572Z"
   },
   {
    "duration": 537,
    "start_time": "2021-10-11T11:57:37.375Z"
   },
   {
    "duration": 28,
    "start_time": "2021-10-11T11:57:37.915Z"
   },
   {
    "duration": 17,
    "start_time": "2021-10-11T11:57:37.945Z"
   },
   {
    "duration": 20,
    "start_time": "2021-10-11T11:57:37.964Z"
   },
   {
    "duration": 12,
    "start_time": "2021-10-11T11:57:37.987Z"
   },
   {
    "duration": 17,
    "start_time": "2021-10-11T11:57:38.001Z"
   },
   {
    "duration": 24,
    "start_time": "2021-10-11T11:57:38.022Z"
   },
   {
    "duration": 29,
    "start_time": "2021-10-11T11:57:38.049Z"
   },
   {
    "duration": 143,
    "start_time": "2021-10-11T11:57:38.081Z"
   },
   {
    "duration": 39,
    "start_time": "2021-10-11T11:57:38.226Z"
   },
   {
    "duration": 46,
    "start_time": "2021-10-11T11:57:38.268Z"
   },
   {
    "duration": 46,
    "start_time": "2021-10-11T11:57:38.316Z"
   },
   {
    "duration": 17,
    "start_time": "2021-10-11T11:57:38.366Z"
   },
   {
    "duration": 24,
    "start_time": "2021-10-11T11:57:38.386Z"
   },
   {
    "duration": 59,
    "start_time": "2021-10-11T11:57:38.413Z"
   },
   {
    "duration": 19,
    "start_time": "2021-10-11T11:57:38.475Z"
   },
   {
    "duration": 25,
    "start_time": "2021-10-11T11:57:38.496Z"
   },
   {
    "duration": 38,
    "start_time": "2021-10-11T11:57:38.523Z"
   },
   {
    "duration": 22,
    "start_time": "2021-10-11T11:57:38.564Z"
   },
   {
    "duration": 33,
    "start_time": "2021-10-11T11:57:38.589Z"
   },
   {
    "duration": 43,
    "start_time": "2021-10-11T11:57:38.625Z"
   },
   {
    "duration": 17,
    "start_time": "2021-10-11T11:57:38.674Z"
   },
   {
    "duration": 68,
    "start_time": "2021-10-11T11:57:38.695Z"
   },
   {
    "duration": 14,
    "start_time": "2021-10-11T11:57:38.765Z"
   },
   {
    "duration": 47,
    "start_time": "2021-10-11T11:57:38.782Z"
   },
   {
    "duration": 36,
    "start_time": "2021-10-11T11:57:38.831Z"
   },
   {
    "duration": 6,
    "start_time": "2021-10-11T11:57:38.869Z"
   },
   {
    "duration": 34,
    "start_time": "2021-10-11T11:57:38.877Z"
   },
   {
    "duration": 66,
    "start_time": "2021-10-11T11:57:38.913Z"
   },
   {
    "duration": 33,
    "start_time": "2021-10-11T11:57:38.982Z"
   },
   {
    "duration": 29,
    "start_time": "2021-10-11T11:57:39.017Z"
   },
   {
    "duration": 28,
    "start_time": "2021-10-11T11:57:39.048Z"
   },
   {
    "duration": 40,
    "start_time": "2021-10-11T11:57:39.079Z"
   },
   {
    "duration": 73,
    "start_time": "2021-10-11T11:57:39.121Z"
   },
   {
    "duration": 23,
    "start_time": "2021-10-11T11:57:39.197Z"
   },
   {
    "duration": 4,
    "start_time": "2021-10-11T11:57:39.223Z"
   },
   {
    "duration": 44,
    "start_time": "2021-10-11T11:57:39.229Z"
   },
   {
    "duration": 28,
    "start_time": "2021-10-11T11:57:39.276Z"
   },
   {
    "duration": 4,
    "start_time": "2021-10-11T11:57:39.306Z"
   },
   {
    "duration": 67,
    "start_time": "2021-10-11T11:57:39.312Z"
   },
   {
    "duration": 30,
    "start_time": "2021-10-11T11:57:39.382Z"
   },
   {
    "duration": 4,
    "start_time": "2021-10-11T11:57:39.415Z"
   },
   {
    "duration": 60,
    "start_time": "2021-10-11T11:57:39.422Z"
   },
   {
    "duration": 4,
    "start_time": "2021-10-11T11:57:39.485Z"
   },
   {
    "duration": 37,
    "start_time": "2021-10-11T11:57:39.492Z"
   },
   {
    "duration": 19,
    "start_time": "2021-10-11T11:57:39.557Z"
   },
   {
    "duration": 14,
    "start_time": "2021-10-11T11:57:39.578Z"
   },
   {
    "duration": 7,
    "start_time": "2021-10-11T11:57:39.595Z"
   },
   {
    "duration": 55,
    "start_time": "2021-10-11T11:57:39.605Z"
   },
   {
    "duration": 25,
    "start_time": "2021-10-11T11:57:39.663Z"
   },
   {
    "duration": 6,
    "start_time": "2021-10-11T11:57:39.690Z"
   },
   {
    "duration": 39,
    "start_time": "2021-10-11T11:57:39.698Z"
   },
   {
    "duration": 15,
    "start_time": "2021-10-11T11:57:39.758Z"
   },
   {
    "duration": 26,
    "start_time": "2021-10-11T11:57:39.776Z"
   },
   {
    "duration": 25,
    "start_time": "2021-10-11T11:57:39.805Z"
   },
   {
    "duration": 5,
    "start_time": "2021-10-11T11:57:39.858Z"
   },
   {
    "duration": 41,
    "start_time": "2021-10-11T11:57:39.866Z"
   },
   {
    "duration": 27,
    "start_time": "2021-10-11T11:57:39.910Z"
   },
   {
    "duration": 21,
    "start_time": "2021-10-11T11:57:39.939Z"
   },
   {
    "duration": 37,
    "start_time": "2021-10-11T11:57:39.963Z"
   },
   {
    "duration": 22,
    "start_time": "2021-10-11T11:57:40.002Z"
   },
   {
    "duration": 44,
    "start_time": "2021-10-11T11:57:40.026Z"
   },
   {
    "duration": 33,
    "start_time": "2021-10-11T11:57:40.073Z"
   },
   {
    "duration": 6,
    "start_time": "2021-10-11T11:57:40.109Z"
   },
   {
    "duration": 54,
    "start_time": "2021-10-11T11:57:40.118Z"
   },
   {
    "duration": 29,
    "start_time": "2021-10-11T11:57:40.175Z"
   },
   {
    "duration": 11,
    "start_time": "2021-10-11T11:57:40.213Z"
   },
   {
    "duration": 59,
    "start_time": "2021-10-11T11:57:40.227Z"
   },
   {
    "duration": 28,
    "start_time": "2021-10-11T11:57:40.290Z"
   },
   {
    "duration": 61,
    "start_time": "2021-10-11T11:57:40.320Z"
   },
   {
    "duration": 6,
    "start_time": "2021-10-11T11:57:40.403Z"
   },
   {
    "duration": 561,
    "start_time": "2021-10-11T11:57:40.411Z"
   },
   {
    "duration": 22,
    "start_time": "2021-10-11T11:57:40.975Z"
   },
   {
    "duration": 12,
    "start_time": "2021-10-11T11:57:40.999Z"
   },
   {
    "duration": 4,
    "start_time": "2021-10-11T11:57:41.014Z"
   },
   {
    "duration": 48,
    "start_time": "2021-10-11T11:57:41.021Z"
   },
   {
    "duration": 338,
    "start_time": "2021-10-11T11:57:41.072Z"
   },
   {
    "duration": 16,
    "start_time": "2021-10-11T11:57:41.412Z"
   },
   {
    "duration": 34,
    "start_time": "2021-10-11T11:57:41.431Z"
   },
   {
    "duration": 9,
    "start_time": "2021-10-11T11:57:41.468Z"
   },
   {
    "duration": 13,
    "start_time": "2021-10-11T11:57:41.480Z"
   },
   {
    "duration": 21,
    "start_time": "2021-10-11T11:57:41.496Z"
   },
   {
    "duration": 410,
    "start_time": "2021-10-11T11:57:41.557Z"
   },
   {
    "duration": 8,
    "start_time": "2021-10-11T11:57:41.970Z"
   },
   {
    "duration": 8,
    "start_time": "2021-10-11T11:57:41.982Z"
   },
   {
    "duration": 8,
    "start_time": "2021-10-11T11:57:41.992Z"
   },
   {
    "duration": 56,
    "start_time": "2021-10-11T11:57:42.003Z"
   },
   {
    "duration": 332,
    "start_time": "2021-10-11T11:57:42.062Z"
   },
   {
    "duration": 8,
    "start_time": "2021-10-11T11:57:42.397Z"
   },
   {
    "duration": 11,
    "start_time": "2021-10-11T11:57:42.407Z"
   },
   {
    "duration": 19,
    "start_time": "2021-10-11T11:57:42.420Z"
   },
   {
    "duration": 13,
    "start_time": "2021-10-11T11:58:30.870Z"
   },
   {
    "duration": 32,
    "start_time": "2021-10-11T12:05:11.796Z"
   },
   {
    "duration": 425,
    "start_time": "2021-10-11T12:07:21.363Z"
   },
   {
    "duration": 430,
    "start_time": "2021-10-11T12:09:01.417Z"
   },
   {
    "duration": 8,
    "start_time": "2021-10-11T12:09:10.118Z"
   },
   {
    "duration": 9,
    "start_time": "2021-10-11T12:09:47.777Z"
   },
   {
    "duration": 8,
    "start_time": "2021-10-11T12:10:23.260Z"
   },
   {
    "duration": 13,
    "start_time": "2021-10-11T12:10:35.882Z"
   },
   {
    "duration": 283,
    "start_time": "2021-10-11T12:12:45.399Z"
   },
   {
    "duration": 311,
    "start_time": "2021-10-11T12:12:52.270Z"
   },
   {
    "duration": 319,
    "start_time": "2021-10-11T12:12:57.538Z"
   },
   {
    "duration": 291,
    "start_time": "2021-10-11T12:13:03.701Z"
   },
   {
    "duration": 10,
    "start_time": "2021-10-11T12:14:45.909Z"
   },
   {
    "duration": 9,
    "start_time": "2021-10-11T12:15:18.370Z"
   },
   {
    "duration": 8,
    "start_time": "2021-10-11T12:15:46.398Z"
   },
   {
    "duration": 13,
    "start_time": "2021-10-11T12:16:24.909Z"
   },
   {
    "duration": 1242,
    "start_time": "2021-10-11T12:43:32.729Z"
   },
   {
    "duration": 592,
    "start_time": "2021-10-11T12:43:33.973Z"
   },
   {
    "duration": 30,
    "start_time": "2021-10-11T12:43:34.569Z"
   },
   {
    "duration": 9,
    "start_time": "2021-10-11T12:43:34.601Z"
   },
   {
    "duration": 26,
    "start_time": "2021-10-11T12:43:34.612Z"
   },
   {
    "duration": 26,
    "start_time": "2021-10-11T12:43:34.640Z"
   },
   {
    "duration": 6,
    "start_time": "2021-10-11T12:43:34.669Z"
   },
   {
    "duration": 19,
    "start_time": "2021-10-11T12:43:34.678Z"
   },
   {
    "duration": 64,
    "start_time": "2021-10-11T12:43:34.702Z"
   },
   {
    "duration": 142,
    "start_time": "2021-10-11T12:43:34.769Z"
   },
   {
    "duration": 26,
    "start_time": "2021-10-11T12:43:34.913Z"
   },
   {
    "duration": 62,
    "start_time": "2021-10-11T12:43:34.942Z"
   },
   {
    "duration": 18,
    "start_time": "2021-10-11T12:43:35.007Z"
   },
   {
    "duration": 33,
    "start_time": "2021-10-11T12:43:35.027Z"
   },
   {
    "duration": 23,
    "start_time": "2021-10-11T12:43:35.066Z"
   },
   {
    "duration": 24,
    "start_time": "2021-10-11T12:43:35.092Z"
   },
   {
    "duration": 57,
    "start_time": "2021-10-11T12:43:35.119Z"
   },
   {
    "duration": 22,
    "start_time": "2021-10-11T12:43:35.178Z"
   },
   {
    "duration": 13,
    "start_time": "2021-10-11T12:43:35.202Z"
   },
   {
    "duration": 40,
    "start_time": "2021-10-11T12:43:35.217Z"
   },
   {
    "duration": 36,
    "start_time": "2021-10-11T12:43:35.260Z"
   },
   {
    "duration": 11,
    "start_time": "2021-10-11T12:43:35.299Z"
   },
   {
    "duration": 51,
    "start_time": "2021-10-11T12:43:35.313Z"
   },
   {
    "duration": 59,
    "start_time": "2021-10-11T12:43:35.366Z"
   },
   {
    "duration": 31,
    "start_time": "2021-10-11T12:43:35.428Z"
   },
   {
    "duration": 50,
    "start_time": "2021-10-11T12:43:35.462Z"
   },
   {
    "duration": 12,
    "start_time": "2021-10-11T12:43:35.519Z"
   },
   {
    "duration": 4,
    "start_time": "2021-10-11T12:43:35.560Z"
   },
   {
    "duration": 41,
    "start_time": "2021-10-11T12:43:35.566Z"
   },
   {
    "duration": 21,
    "start_time": "2021-10-11T12:43:35.609Z"
   },
   {
    "duration": 32,
    "start_time": "2021-10-11T12:43:35.666Z"
   },
   {
    "duration": 29,
    "start_time": "2021-10-11T12:43:35.701Z"
   },
   {
    "duration": 41,
    "start_time": "2021-10-11T12:43:35.733Z"
   },
   {
    "duration": 54,
    "start_time": "2021-10-11T12:43:35.776Z"
   },
   {
    "duration": 44,
    "start_time": "2021-10-11T12:43:35.832Z"
   },
   {
    "duration": 22,
    "start_time": "2021-10-11T12:43:35.878Z"
   },
   {
    "duration": 6,
    "start_time": "2021-10-11T12:43:35.903Z"
   },
   {
    "duration": 21,
    "start_time": "2021-10-11T12:43:35.911Z"
   },
   {
    "duration": 51,
    "start_time": "2021-10-11T12:43:35.934Z"
   },
   {
    "duration": 4,
    "start_time": "2021-10-11T12:43:35.988Z"
   },
   {
    "duration": 30,
    "start_time": "2021-10-11T12:43:35.994Z"
   },
   {
    "duration": 62,
    "start_time": "2021-10-11T12:43:36.026Z"
   },
   {
    "duration": 3,
    "start_time": "2021-10-11T12:43:36.091Z"
   },
   {
    "duration": 33,
    "start_time": "2021-10-11T12:43:36.097Z"
   },
   {
    "duration": 27,
    "start_time": "2021-10-11T12:43:36.132Z"
   },
   {
    "duration": 44,
    "start_time": "2021-10-11T12:43:36.162Z"
   },
   {
    "duration": 18,
    "start_time": "2021-10-11T12:43:36.208Z"
   },
   {
    "duration": 37,
    "start_time": "2021-10-11T12:43:36.228Z"
   },
   {
    "duration": 5,
    "start_time": "2021-10-11T12:43:36.270Z"
   },
   {
    "duration": 25,
    "start_time": "2021-10-11T12:43:36.277Z"
   },
   {
    "duration": 27,
    "start_time": "2021-10-11T12:43:36.305Z"
   },
   {
    "duration": 5,
    "start_time": "2021-10-11T12:43:36.366Z"
   },
   {
    "duration": 27,
    "start_time": "2021-10-11T12:43:36.374Z"
   },
   {
    "duration": 17,
    "start_time": "2021-10-11T12:43:36.404Z"
   },
   {
    "duration": 50,
    "start_time": "2021-10-11T12:43:36.423Z"
   },
   {
    "duration": 26,
    "start_time": "2021-10-11T12:43:36.476Z"
   },
   {
    "duration": 3,
    "start_time": "2021-10-11T12:43:36.505Z"
   },
   {
    "duration": 58,
    "start_time": "2021-10-11T12:43:36.510Z"
   },
   {
    "duration": 27,
    "start_time": "2021-10-11T12:43:36.570Z"
   },
   {
    "duration": 3,
    "start_time": "2021-10-11T12:43:36.599Z"
   },
   {
    "duration": 63,
    "start_time": "2021-10-11T12:43:36.605Z"
   },
   {
    "duration": 17,
    "start_time": "2021-10-11T12:43:36.673Z"
   },
   {
    "duration": 20,
    "start_time": "2021-10-11T12:43:36.692Z"
   },
   {
    "duration": 66,
    "start_time": "2021-10-11T12:43:36.714Z"
   },
   {
    "duration": 6,
    "start_time": "2021-10-11T12:43:36.782Z"
   },
   {
    "duration": 20,
    "start_time": "2021-10-11T12:43:36.790Z"
   },
   {
    "duration": 53,
    "start_time": "2021-10-11T12:43:36.812Z"
   },
   {
    "duration": 5,
    "start_time": "2021-10-11T12:43:36.868Z"
   },
   {
    "duration": 29,
    "start_time": "2021-10-11T12:43:36.876Z"
   },
   {
    "duration": 63,
    "start_time": "2021-10-11T12:43:36.908Z"
   },
   {
    "duration": 25,
    "start_time": "2021-10-11T12:43:36.974Z"
   },
   {
    "duration": 7,
    "start_time": "2021-10-11T12:43:37.002Z"
   },
   {
    "duration": 583,
    "start_time": "2021-10-11T12:43:37.011Z"
   },
   {
    "duration": 17,
    "start_time": "2021-10-11T12:43:37.596Z"
   },
   {
    "duration": 12,
    "start_time": "2021-10-11T12:43:37.616Z"
   },
   {
    "duration": 34,
    "start_time": "2021-10-11T12:43:37.630Z"
   },
   {
    "duration": 15,
    "start_time": "2021-10-11T12:43:37.667Z"
   },
   {
    "duration": 434,
    "start_time": "2021-10-11T12:43:37.685Z"
   },
   {
    "duration": 17,
    "start_time": "2021-10-11T12:43:38.122Z"
   },
   {
    "duration": 28,
    "start_time": "2021-10-11T12:43:38.141Z"
   },
   {
    "duration": 5,
    "start_time": "2021-10-11T12:43:38.178Z"
   },
   {
    "duration": 12,
    "start_time": "2021-10-11T12:43:38.187Z"
   },
   {
    "duration": 19,
    "start_time": "2021-10-11T12:43:38.201Z"
   },
   {
    "duration": 368,
    "start_time": "2021-10-11T12:43:38.266Z"
   },
   {
    "duration": 8,
    "start_time": "2021-10-11T12:43:38.637Z"
   },
   {
    "duration": 9,
    "start_time": "2021-10-11T12:43:38.657Z"
   },
   {
    "duration": 7,
    "start_time": "2021-10-11T12:43:38.674Z"
   },
   {
    "duration": 13,
    "start_time": "2021-10-11T12:43:38.684Z"
   },
   {
    "duration": 345,
    "start_time": "2021-10-11T12:43:38.699Z"
   },
   {
    "duration": 21,
    "start_time": "2021-10-11T12:43:39.046Z"
   },
   {
    "duration": 17,
    "start_time": "2021-10-11T12:43:39.069Z"
   },
   {
    "duration": 19,
    "start_time": "2021-10-11T12:43:39.088Z"
   },
   {
    "duration": 24,
    "start_time": "2021-10-11T12:43:39.110Z"
   },
   {
    "duration": 36,
    "start_time": "2021-10-11T12:43:39.136Z"
   },
   {
    "duration": 323,
    "start_time": "2021-10-11T12:43:39.175Z"
   },
   {
    "duration": 8,
    "start_time": "2021-10-11T12:43:39.500Z"
   },
   {
    "duration": 13,
    "start_time": "2021-10-11T12:43:39.511Z"
   },
   {
    "duration": 39,
    "start_time": "2021-10-11T12:43:39.526Z"
   },
   {
    "duration": 13,
    "start_time": "2021-10-11T12:43:39.567Z"
   },
   {
    "duration": 317,
    "start_time": "2021-10-11T12:43:39.582Z"
   },
   {
    "duration": 7,
    "start_time": "2021-10-11T12:43:39.902Z"
   },
   {
    "duration": 9,
    "start_time": "2021-10-11T12:43:39.911Z"
   },
   {
    "duration": 8,
    "start_time": "2021-10-11T12:43:39.922Z"
   },
   {
    "duration": 13,
    "start_time": "2021-10-11T12:43:39.966Z"
   },
   {
    "duration": 22,
    "start_time": "2021-10-11T13:07:02.368Z"
   },
   {
    "duration": 6,
    "start_time": "2021-10-11T13:09:07.448Z"
   },
   {
    "duration": 11,
    "start_time": "2021-10-11T13:13:53.099Z"
   },
   {
    "duration": 22,
    "start_time": "2021-10-11T13:23:11.432Z"
   },
   {
    "duration": 14,
    "start_time": "2021-10-11T13:24:20.275Z"
   },
   {
    "duration": 40,
    "start_time": "2021-10-11T13:24:55.485Z"
   },
   {
    "duration": 3,
    "start_time": "2021-10-11T13:31:31.844Z"
   },
   {
    "duration": 7,
    "start_time": "2021-10-11T13:31:32.229Z"
   },
   {
    "duration": 37,
    "start_time": "2021-10-11T13:31:36.652Z"
   },
   {
    "duration": 11,
    "start_time": "2021-10-11T13:33:09.861Z"
   },
   {
    "duration": 12,
    "start_time": "2021-10-11T13:39:27.819Z"
   },
   {
    "duration": 12,
    "start_time": "2021-10-11T13:39:42.695Z"
   },
   {
    "duration": 12,
    "start_time": "2021-10-11T13:40:43.739Z"
   },
   {
    "duration": 11,
    "start_time": "2021-10-11T13:41:23.467Z"
   },
   {
    "duration": 14,
    "start_time": "2021-10-11T13:41:30.090Z"
   },
   {
    "duration": 12,
    "start_time": "2021-10-11T13:45:42.179Z"
   },
   {
    "duration": 12,
    "start_time": "2021-10-11T13:45:42.450Z"
   },
   {
    "duration": 555,
    "start_time": "2021-10-11T13:51:50.405Z"
   },
   {
    "duration": 324,
    "start_time": "2021-10-11T13:52:11.135Z"
   },
   {
    "duration": 20,
    "start_time": "2021-10-11T13:52:24.842Z"
   },
   {
    "duration": 7,
    "start_time": "2021-10-11T13:53:09.146Z"
   },
   {
    "duration": 8,
    "start_time": "2021-10-11T13:54:11.633Z"
   },
   {
    "duration": 8,
    "start_time": "2021-10-11T13:54:57.660Z"
   },
   {
    "duration": 8,
    "start_time": "2021-10-11T13:58:41.197Z"
   },
   {
    "duration": 20,
    "start_time": "2021-10-11T14:05:56.170Z"
   },
   {
    "duration": 8,
    "start_time": "2021-10-11T14:06:44.175Z"
   },
   {
    "duration": 8,
    "start_time": "2021-10-11T14:07:48.681Z"
   },
   {
    "duration": 7,
    "start_time": "2021-10-11T14:10:56.514Z"
   },
   {
    "duration": 7,
    "start_time": "2021-10-11T14:10:57.405Z"
   },
   {
    "duration": 1313,
    "start_time": "2021-10-11T14:11:28.362Z"
   },
   {
    "duration": 570,
    "start_time": "2021-10-11T14:11:29.678Z"
   },
   {
    "duration": 33,
    "start_time": "2021-10-11T14:11:30.256Z"
   },
   {
    "duration": 10,
    "start_time": "2021-10-11T14:11:30.292Z"
   },
   {
    "duration": 25,
    "start_time": "2021-10-11T14:11:30.305Z"
   },
   {
    "duration": 31,
    "start_time": "2021-10-11T14:11:30.334Z"
   },
   {
    "duration": 8,
    "start_time": "2021-10-11T14:11:30.371Z"
   },
   {
    "duration": 30,
    "start_time": "2021-10-11T14:11:30.382Z"
   },
   {
    "duration": 44,
    "start_time": "2021-10-11T14:11:30.415Z"
   },
   {
    "duration": 156,
    "start_time": "2021-10-11T14:11:30.462Z"
   },
   {
    "duration": 36,
    "start_time": "2021-10-11T14:11:30.621Z"
   },
   {
    "duration": 54,
    "start_time": "2021-10-11T14:11:30.661Z"
   },
   {
    "duration": 41,
    "start_time": "2021-10-11T14:11:30.718Z"
   },
   {
    "duration": 17,
    "start_time": "2021-10-11T14:11:30.761Z"
   },
   {
    "duration": 35,
    "start_time": "2021-10-11T14:11:30.782Z"
   },
   {
    "duration": 49,
    "start_time": "2021-10-11T14:11:30.820Z"
   },
   {
    "duration": 20,
    "start_time": "2021-10-11T14:11:30.872Z"
   },
   {
    "duration": 37,
    "start_time": "2021-10-11T14:11:30.895Z"
   },
   {
    "duration": 30,
    "start_time": "2021-10-11T14:11:30.934Z"
   },
   {
    "duration": 25,
    "start_time": "2021-10-11T14:11:30.967Z"
   },
   {
    "duration": 47,
    "start_time": "2021-10-11T14:11:30.994Z"
   },
   {
    "duration": 19,
    "start_time": "2021-10-11T14:11:31.047Z"
   },
   {
    "duration": 32,
    "start_time": "2021-10-11T14:11:31.070Z"
   },
   {
    "duration": 61,
    "start_time": "2021-10-11T14:11:31.105Z"
   },
   {
    "duration": 13,
    "start_time": "2021-10-11T14:11:31.169Z"
   },
   {
    "duration": 72,
    "start_time": "2021-10-11T14:11:31.184Z"
   },
   {
    "duration": 11,
    "start_time": "2021-10-11T14:11:31.259Z"
   },
   {
    "duration": 21,
    "start_time": "2021-10-11T14:11:31.272Z"
   },
   {
    "duration": 50,
    "start_time": "2021-10-11T14:11:31.295Z"
   },
   {
    "duration": 35,
    "start_time": "2021-10-11T14:11:31.347Z"
   },
   {
    "duration": 48,
    "start_time": "2021-10-11T14:11:31.384Z"
   },
   {
    "duration": 31,
    "start_time": "2021-10-11T14:11:31.435Z"
   },
   {
    "duration": 19,
    "start_time": "2021-10-11T14:11:31.469Z"
   },
   {
    "duration": 60,
    "start_time": "2021-10-11T14:11:31.491Z"
   },
   {
    "duration": 31,
    "start_time": "2021-10-11T14:11:31.554Z"
   },
   {
    "duration": 66,
    "start_time": "2021-10-11T14:11:31.588Z"
   },
   {
    "duration": 23,
    "start_time": "2021-10-11T14:11:31.656Z"
   },
   {
    "duration": 42,
    "start_time": "2021-10-11T14:11:31.681Z"
   },
   {
    "duration": 53,
    "start_time": "2021-10-11T14:11:31.725Z"
   },
   {
    "duration": 14,
    "start_time": "2021-10-11T14:11:31.781Z"
   },
   {
    "duration": 50,
    "start_time": "2021-10-11T14:11:31.797Z"
   },
   {
    "duration": 32,
    "start_time": "2021-10-11T14:11:31.850Z"
   },
   {
    "duration": 12,
    "start_time": "2021-10-11T14:11:31.885Z"
   },
   {
    "duration": 39,
    "start_time": "2021-10-11T14:11:31.900Z"
   },
   {
    "duration": 19,
    "start_time": "2021-10-11T14:11:31.942Z"
   },
   {
    "duration": 55,
    "start_time": "2021-10-11T14:11:31.963Z"
   },
   {
    "duration": 20,
    "start_time": "2021-10-11T14:11:32.021Z"
   },
   {
    "duration": 25,
    "start_time": "2021-10-11T14:11:32.043Z"
   },
   {
    "duration": 13,
    "start_time": "2021-10-11T14:11:32.072Z"
   },
   {
    "duration": 57,
    "start_time": "2021-10-11T14:11:32.088Z"
   },
   {
    "duration": 28,
    "start_time": "2021-10-11T14:11:32.147Z"
   },
   {
    "duration": 5,
    "start_time": "2021-10-11T14:11:32.178Z"
   },
   {
    "duration": 33,
    "start_time": "2021-10-11T14:11:32.185Z"
   },
   {
    "duration": 40,
    "start_time": "2021-10-11T14:11:32.222Z"
   },
   {
    "duration": 20,
    "start_time": "2021-10-11T14:11:32.265Z"
   },
   {
    "duration": 24,
    "start_time": "2021-10-11T14:11:32.288Z"
   },
   {
    "duration": 4,
    "start_time": "2021-10-11T14:11:32.315Z"
   },
   {
    "duration": 27,
    "start_time": "2021-10-11T14:11:32.358Z"
   },
   {
    "duration": 26,
    "start_time": "2021-10-11T14:11:32.387Z"
   },
   {
    "duration": 5,
    "start_time": "2021-10-11T14:11:32.415Z"
   },
   {
    "duration": 57,
    "start_time": "2021-10-11T14:11:32.423Z"
   },
   {
    "duration": 14,
    "start_time": "2021-10-11T14:11:32.483Z"
   },
   {
    "duration": 20,
    "start_time": "2021-10-11T14:11:32.500Z"
   },
   {
    "duration": 59,
    "start_time": "2021-10-11T14:11:32.523Z"
   },
   {
    "duration": 7,
    "start_time": "2021-10-11T14:11:32.585Z"
   },
   {
    "duration": 17,
    "start_time": "2021-10-11T14:11:32.595Z"
   },
   {
    "duration": 26,
    "start_time": "2021-10-11T14:11:32.658Z"
   },
   {
    "duration": 9,
    "start_time": "2021-10-11T14:11:32.689Z"
   },
   {
    "duration": 59,
    "start_time": "2021-10-11T14:11:32.701Z"
   },
   {
    "duration": 24,
    "start_time": "2021-10-11T14:11:32.762Z"
   },
   {
    "duration": 25,
    "start_time": "2021-10-11T14:11:32.788Z"
   },
   {
    "duration": 11,
    "start_time": "2021-10-11T14:11:32.815Z"
   },
   {
    "duration": 553,
    "start_time": "2021-10-11T14:11:32.857Z"
   },
   {
    "duration": 17,
    "start_time": "2021-10-11T14:11:33.412Z"
   },
   {
    "duration": 32,
    "start_time": "2021-10-11T14:11:33.431Z"
   },
   {
    "duration": 5,
    "start_time": "2021-10-11T14:11:33.465Z"
   },
   {
    "duration": 21,
    "start_time": "2021-10-11T14:11:33.473Z"
   },
   {
    "duration": 332,
    "start_time": "2021-10-11T14:11:33.496Z"
   },
   {
    "duration": 29,
    "start_time": "2021-10-11T14:11:33.831Z"
   },
   {
    "duration": 13,
    "start_time": "2021-10-11T14:11:33.862Z"
   },
   {
    "duration": 7,
    "start_time": "2021-10-11T14:11:33.878Z"
   },
   {
    "duration": 16,
    "start_time": "2021-10-11T14:11:33.887Z"
   },
   {
    "duration": 61,
    "start_time": "2021-10-11T14:11:33.905Z"
   },
   {
    "duration": 344,
    "start_time": "2021-10-11T14:11:33.968Z"
   },
   {
    "duration": 8,
    "start_time": "2021-10-11T14:11:34.315Z"
   },
   {
    "duration": 6,
    "start_time": "2021-10-11T14:11:34.325Z"
   },
   {
    "duration": 29,
    "start_time": "2021-10-11T14:11:34.334Z"
   },
   {
    "duration": 15,
    "start_time": "2021-10-11T14:11:34.366Z"
   },
   {
    "duration": 474,
    "start_time": "2021-10-11T14:11:34.383Z"
   },
   {
    "duration": 10,
    "start_time": "2021-10-11T14:11:34.860Z"
   },
   {
    "duration": 10,
    "start_time": "2021-10-11T14:11:34.873Z"
   },
   {
    "duration": 9,
    "start_time": "2021-10-11T14:11:34.886Z"
   },
   {
    "duration": 15,
    "start_time": "2021-10-11T14:11:34.897Z"
   },
   {
    "duration": 69,
    "start_time": "2021-10-11T14:11:34.915Z"
   },
   {
    "duration": 319,
    "start_time": "2021-10-11T14:11:34.986Z"
   },
   {
    "duration": 11,
    "start_time": "2021-10-11T14:11:35.308Z"
   },
   {
    "duration": 19,
    "start_time": "2021-10-11T14:11:35.322Z"
   },
   {
    "duration": 8,
    "start_time": "2021-10-11T14:11:35.358Z"
   },
   {
    "duration": 28,
    "start_time": "2021-10-11T14:11:35.368Z"
   },
   {
    "duration": 314,
    "start_time": "2021-10-11T14:11:35.398Z"
   },
   {
    "duration": 7,
    "start_time": "2021-10-11T14:11:35.714Z"
   },
   {
    "duration": 14,
    "start_time": "2021-10-11T14:11:35.723Z"
   },
   {
    "duration": 36,
    "start_time": "2021-10-11T14:11:35.739Z"
   },
   {
    "duration": 28,
    "start_time": "2021-10-11T14:11:35.777Z"
   },
   {
    "duration": 31,
    "start_time": "2021-10-11T14:11:35.807Z"
   },
   {
    "duration": 21,
    "start_time": "2021-10-11T14:11:35.840Z"
   },
   {
    "duration": 45,
    "start_time": "2021-10-11T14:11:35.864Z"
   },
   {
    "duration": 34,
    "start_time": "2021-10-11T14:11:35.912Z"
   },
   {
    "duration": 4,
    "start_time": "2021-10-11T14:11:35.948Z"
   },
   {
    "duration": 51,
    "start_time": "2021-10-11T14:11:35.954Z"
   },
   {
    "duration": 15,
    "start_time": "2021-10-11T14:11:36.007Z"
   },
   {
    "duration": 38,
    "start_time": "2021-10-11T14:11:36.024Z"
   },
   {
    "duration": 15,
    "start_time": "2021-10-11T14:11:36.065Z"
   },
   {
    "duration": 11,
    "start_time": "2021-10-11T14:11:36.083Z"
   },
   {
    "duration": 20,
    "start_time": "2021-10-11T14:11:36.096Z"
   },
   {
    "duration": 7,
    "start_time": "2021-10-11T14:23:29.034Z"
   },
   {
    "duration": 1237,
    "start_time": "2021-10-11T14:35:27.135Z"
   },
   {
    "duration": 534,
    "start_time": "2021-10-11T14:35:28.375Z"
   },
   {
    "duration": 28,
    "start_time": "2021-10-11T14:35:28.912Z"
   },
   {
    "duration": 10,
    "start_time": "2021-10-11T14:35:28.943Z"
   },
   {
    "duration": 11,
    "start_time": "2021-10-11T14:35:28.955Z"
   },
   {
    "duration": 8,
    "start_time": "2021-10-11T14:35:28.968Z"
   },
   {
    "duration": 10,
    "start_time": "2021-10-11T14:35:28.979Z"
   },
   {
    "duration": 16,
    "start_time": "2021-10-11T14:35:28.992Z"
   },
   {
    "duration": 58,
    "start_time": "2021-10-11T14:35:29.011Z"
   },
   {
    "duration": 147,
    "start_time": "2021-10-11T14:35:29.072Z"
   },
   {
    "duration": 35,
    "start_time": "2021-10-11T14:35:29.222Z"
   },
   {
    "duration": 45,
    "start_time": "2021-10-11T14:35:29.260Z"
   },
   {
    "duration": 18,
    "start_time": "2021-10-11T14:35:29.308Z"
   },
   {
    "duration": 35,
    "start_time": "2021-10-11T14:35:29.329Z"
   },
   {
    "duration": 24,
    "start_time": "2021-10-11T14:35:29.366Z"
   },
   {
    "duration": 28,
    "start_time": "2021-10-11T14:35:29.393Z"
   },
   {
    "duration": 44,
    "start_time": "2021-10-11T14:35:29.424Z"
   },
   {
    "duration": 25,
    "start_time": "2021-10-11T14:35:29.471Z"
   },
   {
    "duration": 14,
    "start_time": "2021-10-11T14:35:29.499Z"
   },
   {
    "duration": 50,
    "start_time": "2021-10-11T14:35:29.515Z"
   },
   {
    "duration": 30,
    "start_time": "2021-10-11T14:35:29.568Z"
   },
   {
    "duration": 13,
    "start_time": "2021-10-11T14:35:29.600Z"
   },
   {
    "duration": 49,
    "start_time": "2021-10-11T14:35:29.622Z"
   },
   {
    "duration": 45,
    "start_time": "2021-10-11T14:35:29.675Z"
   },
   {
    "duration": 38,
    "start_time": "2021-10-11T14:35:29.722Z"
   },
   {
    "duration": 47,
    "start_time": "2021-10-11T14:35:29.762Z"
   },
   {
    "duration": 10,
    "start_time": "2021-10-11T14:35:29.812Z"
   },
   {
    "duration": 34,
    "start_time": "2021-10-11T14:35:29.825Z"
   },
   {
    "duration": 34,
    "start_time": "2021-10-11T14:35:29.862Z"
   },
   {
    "duration": 15,
    "start_time": "2021-10-11T14:35:29.899Z"
   },
   {
    "duration": 67,
    "start_time": "2021-10-11T14:35:29.918Z"
   },
   {
    "duration": 40,
    "start_time": "2021-10-11T14:35:29.988Z"
   },
   {
    "duration": 17,
    "start_time": "2021-10-11T14:35:30.058Z"
   },
   {
    "duration": 42,
    "start_time": "2021-10-11T14:35:30.078Z"
   },
   {
    "duration": 58,
    "start_time": "2021-10-11T14:35:30.123Z"
   },
   {
    "duration": 24,
    "start_time": "2021-10-11T14:35:30.184Z"
   },
   {
    "duration": 21,
    "start_time": "2021-10-11T14:35:30.211Z"
   },
   {
    "duration": 29,
    "start_time": "2021-10-11T14:35:30.234Z"
   },
   {
    "duration": 31,
    "start_time": "2021-10-11T14:35:30.266Z"
   },
   {
    "duration": 8,
    "start_time": "2021-10-11T14:35:30.299Z"
   },
   {
    "duration": 52,
    "start_time": "2021-10-11T14:35:30.310Z"
   },
   {
    "duration": 31,
    "start_time": "2021-10-11T14:35:30.366Z"
   },
   {
    "duration": 17,
    "start_time": "2021-10-11T14:35:30.400Z"
   },
   {
    "duration": 55,
    "start_time": "2021-10-11T14:35:30.419Z"
   },
   {
    "duration": 4,
    "start_time": "2021-10-11T14:35:30.477Z"
   },
   {
    "duration": 50,
    "start_time": "2021-10-11T14:35:30.484Z"
   },
   {
    "duration": 36,
    "start_time": "2021-10-11T14:35:30.536Z"
   },
   {
    "duration": 14,
    "start_time": "2021-10-11T14:35:30.575Z"
   },
   {
    "duration": 19,
    "start_time": "2021-10-11T14:35:30.591Z"
   },
   {
    "duration": 45,
    "start_time": "2021-10-11T14:35:30.612Z"
   },
   {
    "duration": 33,
    "start_time": "2021-10-11T14:35:30.659Z"
   },
   {
    "duration": 21,
    "start_time": "2021-10-11T14:35:30.694Z"
   },
   {
    "duration": 41,
    "start_time": "2021-10-11T14:35:30.717Z"
   },
   {
    "duration": 37,
    "start_time": "2021-10-11T14:35:30.761Z"
   },
   {
    "duration": 25,
    "start_time": "2021-10-11T14:35:30.800Z"
   },
   {
    "duration": 44,
    "start_time": "2021-10-11T14:35:30.828Z"
   },
   {
    "duration": 6,
    "start_time": "2021-10-11T14:35:30.875Z"
   },
   {
    "duration": 33,
    "start_time": "2021-10-11T14:35:30.884Z"
   },
   {
    "duration": 55,
    "start_time": "2021-10-11T14:35:30.920Z"
   },
   {
    "duration": 5,
    "start_time": "2021-10-11T14:35:30.978Z"
   },
   {
    "duration": 49,
    "start_time": "2021-10-11T14:35:30.986Z"
   },
   {
    "duration": 28,
    "start_time": "2021-10-11T14:35:31.038Z"
   },
   {
    "duration": 20,
    "start_time": "2021-10-11T14:35:31.069Z"
   },
   {
    "duration": 43,
    "start_time": "2021-10-11T14:35:31.091Z"
   },
   {
    "duration": 22,
    "start_time": "2021-10-11T14:35:31.137Z"
   },
   {
    "duration": 46,
    "start_time": "2021-10-11T14:35:31.162Z"
   },
   {
    "duration": 40,
    "start_time": "2021-10-11T14:35:31.211Z"
   },
   {
    "duration": 27,
    "start_time": "2021-10-11T14:35:31.260Z"
   },
   {
    "duration": 44,
    "start_time": "2021-10-11T14:35:31.290Z"
   },
   {
    "duration": 49,
    "start_time": "2021-10-11T14:35:31.337Z"
   },
   {
    "duration": 35,
    "start_time": "2021-10-11T14:35:31.390Z"
   },
   {
    "duration": 11,
    "start_time": "2021-10-11T14:35:31.428Z"
   },
   {
    "duration": 592,
    "start_time": "2021-10-11T14:35:31.442Z"
   },
   {
    "duration": 27,
    "start_time": "2021-10-11T14:35:32.037Z"
   },
   {
    "duration": 36,
    "start_time": "2021-10-11T14:35:32.067Z"
   },
   {
    "duration": 7,
    "start_time": "2021-10-11T14:35:32.106Z"
   },
   {
    "duration": 22,
    "start_time": "2021-10-11T14:35:32.116Z"
   },
   {
    "duration": 319,
    "start_time": "2021-10-11T14:35:32.141Z"
   },
   {
    "duration": 17,
    "start_time": "2021-10-11T14:35:32.462Z"
   },
   {
    "duration": 40,
    "start_time": "2021-10-11T14:35:32.481Z"
   },
   {
    "duration": 31,
    "start_time": "2021-10-11T14:35:32.523Z"
   },
   {
    "duration": 39,
    "start_time": "2021-10-11T14:35:32.556Z"
   },
   {
    "duration": 24,
    "start_time": "2021-10-11T14:35:32.597Z"
   },
   {
    "duration": 330,
    "start_time": "2021-10-11T14:35:32.623Z"
   },
   {
    "duration": 8,
    "start_time": "2021-10-11T14:35:32.956Z"
   },
   {
    "duration": 11,
    "start_time": "2021-10-11T14:35:32.966Z"
   },
   {
    "duration": 15,
    "start_time": "2021-10-11T14:35:32.979Z"
   },
   {
    "duration": 12,
    "start_time": "2021-10-11T14:35:32.996Z"
   },
   {
    "duration": 326,
    "start_time": "2021-10-11T14:35:33.010Z"
   },
   {
    "duration": 7,
    "start_time": "2021-10-11T14:35:33.338Z"
   },
   {
    "duration": 9,
    "start_time": "2021-10-11T14:35:33.358Z"
   },
   {
    "duration": 28,
    "start_time": "2021-10-11T14:35:33.370Z"
   },
   {
    "duration": 26,
    "start_time": "2021-10-11T14:35:33.400Z"
   },
   {
    "duration": 26,
    "start_time": "2021-10-11T14:35:33.428Z"
   },
   {
    "duration": 298,
    "start_time": "2021-10-11T14:35:33.456Z"
   },
   {
    "duration": 9,
    "start_time": "2021-10-11T14:35:33.758Z"
   },
   {
    "duration": 10,
    "start_time": "2021-10-11T14:35:33.769Z"
   },
   {
    "duration": 7,
    "start_time": "2021-10-11T14:35:33.781Z"
   },
   {
    "duration": 14,
    "start_time": "2021-10-11T14:35:33.791Z"
   },
   {
    "duration": 345,
    "start_time": "2021-10-11T14:35:33.807Z"
   },
   {
    "duration": 7,
    "start_time": "2021-10-11T14:35:34.158Z"
   },
   {
    "duration": 8,
    "start_time": "2021-10-11T14:35:34.167Z"
   },
   {
    "duration": 8,
    "start_time": "2021-10-11T14:35:34.178Z"
   },
   {
    "duration": 13,
    "start_time": "2021-10-11T14:35:34.188Z"
   },
   {
    "duration": 57,
    "start_time": "2021-10-11T14:35:34.203Z"
   },
   {
    "duration": 9,
    "start_time": "2021-10-11T14:35:34.262Z"
   },
   {
    "duration": 26,
    "start_time": "2021-10-11T14:35:34.273Z"
   },
   {
    "duration": 32,
    "start_time": "2021-10-11T14:35:34.302Z"
   },
   {
    "duration": 21,
    "start_time": "2021-10-11T14:35:34.337Z"
   },
   {
    "duration": 30,
    "start_time": "2021-10-11T14:35:34.361Z"
   },
   {
    "duration": 18,
    "start_time": "2021-10-11T14:35:34.394Z"
   },
   {
    "duration": 22,
    "start_time": "2021-10-11T14:35:34.414Z"
   },
   {
    "duration": 28,
    "start_time": "2021-10-11T14:35:34.439Z"
   },
   {
    "duration": 15,
    "start_time": "2021-10-11T14:35:34.470Z"
   },
   {
    "duration": 21,
    "start_time": "2021-10-11T14:35:34.487Z"
   },
   {
    "duration": 12,
    "start_time": "2021-10-11T14:35:34.510Z"
   },
   {
    "duration": 948,
    "start_time": "2021-10-12T05:50:57.146Z"
   },
   {
    "duration": 423,
    "start_time": "2021-10-12T05:50:58.097Z"
   },
   {
    "duration": 20,
    "start_time": "2021-10-12T05:50:58.522Z"
   },
   {
    "duration": 6,
    "start_time": "2021-10-12T05:50:58.545Z"
   },
   {
    "duration": 8,
    "start_time": "2021-10-12T05:50:58.553Z"
   },
   {
    "duration": 7,
    "start_time": "2021-10-12T05:50:58.563Z"
   },
   {
    "duration": 5,
    "start_time": "2021-10-12T05:50:58.571Z"
   },
   {
    "duration": 12,
    "start_time": "2021-10-12T05:50:58.579Z"
   },
   {
    "duration": 20,
    "start_time": "2021-10-12T05:50:58.593Z"
   },
   {
    "duration": 142,
    "start_time": "2021-10-12T05:50:58.615Z"
   },
   {
    "duration": 20,
    "start_time": "2021-10-12T05:50:58.759Z"
   },
   {
    "duration": 31,
    "start_time": "2021-10-12T05:50:58.781Z"
   },
   {
    "duration": 14,
    "start_time": "2021-10-12T05:50:58.813Z"
   },
   {
    "duration": 28,
    "start_time": "2021-10-12T05:50:58.829Z"
   },
   {
    "duration": 17,
    "start_time": "2021-10-12T05:50:58.859Z"
   },
   {
    "duration": 18,
    "start_time": "2021-10-12T05:50:58.877Z"
   },
   {
    "duration": 12,
    "start_time": "2021-10-12T05:50:58.897Z"
   },
   {
    "duration": 46,
    "start_time": "2021-10-12T05:50:58.911Z"
   },
   {
    "duration": 10,
    "start_time": "2021-10-12T05:50:58.959Z"
   },
   {
    "duration": 23,
    "start_time": "2021-10-12T05:50:58.970Z"
   },
   {
    "duration": 23,
    "start_time": "2021-10-12T05:50:58.995Z"
   },
   {
    "duration": 8,
    "start_time": "2021-10-12T05:50:59.019Z"
   },
   {
    "duration": 27,
    "start_time": "2021-10-12T05:50:59.031Z"
   },
   {
    "duration": 32,
    "start_time": "2021-10-12T05:50:59.061Z"
   },
   {
    "duration": 9,
    "start_time": "2021-10-12T05:50:59.095Z"
   },
   {
    "duration": 67,
    "start_time": "2021-10-12T05:50:59.106Z"
   },
   {
    "duration": 9,
    "start_time": "2021-10-12T05:50:59.174Z"
   },
   {
    "duration": 5,
    "start_time": "2021-10-12T05:50:59.184Z"
   },
   {
    "duration": 22,
    "start_time": "2021-10-12T05:50:59.191Z"
   },
   {
    "duration": 10,
    "start_time": "2021-10-12T05:50:59.215Z"
   },
   {
    "duration": 41,
    "start_time": "2021-10-12T05:50:59.226Z"
   },
   {
    "duration": 22,
    "start_time": "2021-10-12T05:50:59.268Z"
   },
   {
    "duration": 10,
    "start_time": "2021-10-12T05:50:59.292Z"
   },
   {
    "duration": 53,
    "start_time": "2021-10-12T05:50:59.304Z"
   },
   {
    "duration": 25,
    "start_time": "2021-10-12T05:50:59.358Z"
   },
   {
    "duration": 14,
    "start_time": "2021-10-12T05:50:59.384Z"
   },
   {
    "duration": 7,
    "start_time": "2021-10-12T05:50:59.400Z"
   },
   {
    "duration": 15,
    "start_time": "2021-10-12T05:50:59.408Z"
   },
   {
    "duration": 40,
    "start_time": "2021-10-12T05:50:59.425Z"
   },
   {
    "duration": 3,
    "start_time": "2021-10-12T05:50:59.466Z"
   },
   {
    "duration": 22,
    "start_time": "2021-10-12T05:50:59.471Z"
   },
   {
    "duration": 19,
    "start_time": "2021-10-12T05:50:59.495Z"
   },
   {
    "duration": 33,
    "start_time": "2021-10-12T05:50:59.516Z"
   },
   {
    "duration": 20,
    "start_time": "2021-10-12T05:50:59.552Z"
   },
   {
    "duration": 3,
    "start_time": "2021-10-12T05:50:59.574Z"
   },
   {
    "duration": 25,
    "start_time": "2021-10-12T05:50:59.579Z"
   },
   {
    "duration": 50,
    "start_time": "2021-10-12T05:50:59.606Z"
   },
   {
    "duration": 11,
    "start_time": "2021-10-12T05:50:59.658Z"
   },
   {
    "duration": 5,
    "start_time": "2021-10-12T05:50:59.671Z"
   },
   {
    "duration": 15,
    "start_time": "2021-10-12T05:50:59.678Z"
   },
   {
    "duration": 15,
    "start_time": "2021-10-12T05:50:59.695Z"
   },
   {
    "duration": 4,
    "start_time": "2021-10-12T05:50:59.712Z"
   },
   {
    "duration": 16,
    "start_time": "2021-10-12T05:50:59.749Z"
   },
   {
    "duration": 9,
    "start_time": "2021-10-12T05:50:59.767Z"
   },
   {
    "duration": 13,
    "start_time": "2021-10-12T05:50:59.778Z"
   },
   {
    "duration": 17,
    "start_time": "2021-10-12T05:50:59.793Z"
   },
   {
    "duration": 2,
    "start_time": "2021-10-12T05:50:59.812Z"
   },
   {
    "duration": 44,
    "start_time": "2021-10-12T05:50:59.816Z"
   },
   {
    "duration": 17,
    "start_time": "2021-10-12T05:50:59.861Z"
   },
   {
    "duration": 3,
    "start_time": "2021-10-12T05:50:59.880Z"
   },
   {
    "duration": 23,
    "start_time": "2021-10-12T05:50:59.885Z"
   },
   {
    "duration": 9,
    "start_time": "2021-10-12T05:50:59.910Z"
   },
   {
    "duration": 36,
    "start_time": "2021-10-12T05:50:59.921Z"
   },
   {
    "duration": 37,
    "start_time": "2021-10-12T05:50:59.959Z"
   },
   {
    "duration": 4,
    "start_time": "2021-10-12T05:50:59.998Z"
   },
   {
    "duration": 22,
    "start_time": "2021-10-12T05:51:00.004Z"
   },
   {
    "duration": 26,
    "start_time": "2021-10-12T05:51:00.028Z"
   },
   {
    "duration": 9,
    "start_time": "2021-10-12T05:51:00.060Z"
   },
   {
    "duration": 26,
    "start_time": "2021-10-12T05:51:00.071Z"
   },
   {
    "duration": 16,
    "start_time": "2021-10-12T05:51:00.099Z"
   },
   {
    "duration": 16,
    "start_time": "2021-10-12T05:51:00.117Z"
   },
   {
    "duration": 4,
    "start_time": "2021-10-12T05:51:00.150Z"
   },
   {
    "duration": 362,
    "start_time": "2021-10-12T05:51:00.156Z"
   },
   {
    "duration": 12,
    "start_time": "2021-10-12T05:51:00.520Z"
   },
   {
    "duration": 21,
    "start_time": "2021-10-12T05:51:00.534Z"
   },
   {
    "duration": 11,
    "start_time": "2021-10-12T05:51:00.556Z"
   },
   {
    "duration": 15,
    "start_time": "2021-10-12T05:51:00.569Z"
   },
   {
    "duration": 197,
    "start_time": "2021-10-12T05:51:00.585Z"
   },
   {
    "duration": 13,
    "start_time": "2021-10-12T05:51:00.784Z"
   },
   {
    "duration": 20,
    "start_time": "2021-10-12T05:51:00.799Z"
   },
   {
    "duration": 25,
    "start_time": "2021-10-12T05:51:00.821Z"
   },
   {
    "duration": 23,
    "start_time": "2021-10-12T05:51:00.847Z"
   },
   {
    "duration": 20,
    "start_time": "2021-10-12T05:51:00.873Z"
   },
   {
    "duration": 208,
    "start_time": "2021-10-12T05:51:00.895Z"
   },
   {
    "duration": 6,
    "start_time": "2021-10-12T05:51:01.105Z"
   },
   {
    "duration": 27,
    "start_time": "2021-10-12T05:51:01.113Z"
   },
   {
    "duration": 10,
    "start_time": "2021-10-12T05:51:01.142Z"
   },
   {
    "duration": 14,
    "start_time": "2021-10-12T05:51:01.154Z"
   },
   {
    "duration": 184,
    "start_time": "2021-10-12T05:51:01.170Z"
   },
   {
    "duration": 7,
    "start_time": "2021-10-12T05:51:01.356Z"
   },
   {
    "duration": 9,
    "start_time": "2021-10-12T05:51:01.364Z"
   },
   {
    "duration": 12,
    "start_time": "2021-10-12T05:51:01.375Z"
   },
   {
    "duration": 21,
    "start_time": "2021-10-12T05:51:01.388Z"
   },
   {
    "duration": 14,
    "start_time": "2021-10-12T05:51:01.410Z"
   },
   {
    "duration": 201,
    "start_time": "2021-10-12T05:51:01.426Z"
   },
   {
    "duration": 6,
    "start_time": "2021-10-12T05:51:01.629Z"
   },
   {
    "duration": 22,
    "start_time": "2021-10-12T05:51:01.637Z"
   },
   {
    "duration": 15,
    "start_time": "2021-10-12T05:51:01.661Z"
   },
   {
    "duration": 15,
    "start_time": "2021-10-12T05:51:01.678Z"
   },
   {
    "duration": 186,
    "start_time": "2021-10-12T05:51:01.695Z"
   },
   {
    "duration": 6,
    "start_time": "2021-10-12T05:51:01.883Z"
   },
   {
    "duration": 20,
    "start_time": "2021-10-12T05:51:01.891Z"
   },
   {
    "duration": 23,
    "start_time": "2021-10-12T05:51:01.913Z"
   },
   {
    "duration": 47,
    "start_time": "2021-10-12T05:51:01.939Z"
   },
   {
    "duration": 25,
    "start_time": "2021-10-12T05:51:01.988Z"
   },
   {
    "duration": 13,
    "start_time": "2021-10-12T05:51:02.015Z"
   },
   {
    "duration": 41,
    "start_time": "2021-10-12T05:51:02.029Z"
   },
   {
    "duration": 60,
    "start_time": "2021-10-12T05:51:02.072Z"
   },
   {
    "duration": 2,
    "start_time": "2021-10-12T05:51:02.134Z"
   },
   {
    "duration": 30,
    "start_time": "2021-10-12T05:51:02.138Z"
   },
   {
    "duration": 26,
    "start_time": "2021-10-12T05:51:02.170Z"
   },
   {
    "duration": 12,
    "start_time": "2021-10-12T05:51:02.198Z"
   },
   {
    "duration": 8,
    "start_time": "2021-10-12T05:51:02.212Z"
   },
   {
    "duration": 18,
    "start_time": "2021-10-12T05:51:02.222Z"
   },
   {
    "duration": 30,
    "start_time": "2021-10-12T05:51:02.241Z"
   },
   {
    "duration": 40,
    "start_time": "2021-10-12T05:51:02.273Z"
   },
   {
    "duration": 5,
    "start_time": "2021-10-12T06:05:43.216Z"
   },
   {
    "duration": 9,
    "start_time": "2021-10-12T06:06:59.298Z"
   },
   {
    "duration": 6,
    "start_time": "2021-10-12T06:09:10.429Z"
   },
   {
    "duration": 888,
    "start_time": "2021-10-12T16:45:56.042Z"
   },
   {
    "duration": 400,
    "start_time": "2021-10-12T16:45:56.932Z"
   },
   {
    "duration": 18,
    "start_time": "2021-10-12T16:45:57.334Z"
   },
   {
    "duration": 5,
    "start_time": "2021-10-12T16:45:57.354Z"
   },
   {
    "duration": 9,
    "start_time": "2021-10-12T16:45:57.361Z"
   },
   {
    "duration": 6,
    "start_time": "2021-10-12T16:45:57.372Z"
   },
   {
    "duration": 7,
    "start_time": "2021-10-12T16:45:57.379Z"
   },
   {
    "duration": 11,
    "start_time": "2021-10-12T16:45:57.387Z"
   },
   {
    "duration": 18,
    "start_time": "2021-10-12T16:45:57.400Z"
   },
   {
    "duration": 102,
    "start_time": "2021-10-12T16:45:57.420Z"
   },
   {
    "duration": 19,
    "start_time": "2021-10-12T16:45:57.524Z"
   },
   {
    "duration": 34,
    "start_time": "2021-10-12T16:45:57.544Z"
   },
   {
    "duration": 22,
    "start_time": "2021-10-12T16:45:57.580Z"
   },
   {
    "duration": 8,
    "start_time": "2021-10-12T16:45:57.603Z"
   },
   {
    "duration": 14,
    "start_time": "2021-10-12T16:45:57.613Z"
   },
   {
    "duration": 16,
    "start_time": "2021-10-12T16:45:57.629Z"
   },
   {
    "duration": 12,
    "start_time": "2021-10-12T16:45:57.646Z"
   },
   {
    "duration": 45,
    "start_time": "2021-10-12T16:45:57.659Z"
   },
   {
    "duration": 9,
    "start_time": "2021-10-12T16:45:57.705Z"
   },
   {
    "duration": 15,
    "start_time": "2021-10-12T16:45:57.715Z"
   },
   {
    "duration": 22,
    "start_time": "2021-10-12T16:45:57.732Z"
   },
   {
    "duration": 7,
    "start_time": "2021-10-12T16:45:57.756Z"
   },
   {
    "duration": 36,
    "start_time": "2021-10-12T16:45:57.765Z"
   },
   {
    "duration": 31,
    "start_time": "2021-10-12T16:45:57.802Z"
   },
   {
    "duration": 9,
    "start_time": "2021-10-12T16:45:57.834Z"
   },
   {
    "duration": 31,
    "start_time": "2021-10-12T16:45:57.844Z"
   },
   {
    "duration": 7,
    "start_time": "2021-10-12T16:45:57.900Z"
   },
   {
    "duration": 13,
    "start_time": "2021-10-12T16:45:57.909Z"
   },
   {
    "duration": 23,
    "start_time": "2021-10-12T16:45:57.923Z"
   },
   {
    "duration": 9,
    "start_time": "2021-10-12T16:45:57.948Z"
   },
   {
    "duration": 25,
    "start_time": "2021-10-12T16:45:57.959Z"
   },
   {
    "duration": 31,
    "start_time": "2021-10-12T16:45:57.986Z"
   },
   {
    "duration": 10,
    "start_time": "2021-10-12T16:45:58.018Z"
   },
   {
    "duration": 30,
    "start_time": "2021-10-12T16:45:58.029Z"
   },
   {
    "duration": 22,
    "start_time": "2021-10-12T16:45:58.060Z"
   },
   {
    "duration": 13,
    "start_time": "2021-10-12T16:45:58.099Z"
   },
   {
    "duration": 5,
    "start_time": "2021-10-12T16:45:58.114Z"
   },
   {
    "duration": 14,
    "start_time": "2021-10-12T16:45:58.121Z"
   },
   {
    "duration": 16,
    "start_time": "2021-10-12T16:45:58.137Z"
   },
   {
    "duration": 2,
    "start_time": "2021-10-12T16:45:58.154Z"
   },
   {
    "duration": 42,
    "start_time": "2021-10-12T16:45:58.158Z"
   },
   {
    "duration": 19,
    "start_time": "2021-10-12T16:45:58.201Z"
   },
   {
    "duration": 2,
    "start_time": "2021-10-12T16:45:58.222Z"
   },
   {
    "duration": 21,
    "start_time": "2021-10-12T16:45:58.225Z"
   },
   {
    "duration": 2,
    "start_time": "2021-10-12T16:45:58.248Z"
   },
   {
    "duration": 49,
    "start_time": "2021-10-12T16:45:58.251Z"
   },
   {
    "duration": 12,
    "start_time": "2021-10-12T16:45:58.302Z"
   },
   {
    "duration": 9,
    "start_time": "2021-10-12T16:45:58.315Z"
   },
   {
    "duration": 5,
    "start_time": "2021-10-12T16:45:58.325Z"
   },
   {
    "duration": 15,
    "start_time": "2021-10-12T16:45:58.332Z"
   },
   {
    "duration": 13,
    "start_time": "2021-10-12T16:45:58.348Z"
   },
   {
    "duration": 3,
    "start_time": "2021-10-12T16:45:58.362Z"
   },
   {
    "duration": 42,
    "start_time": "2021-10-12T16:45:58.366Z"
   },
   {
    "duration": 8,
    "start_time": "2021-10-12T16:45:58.409Z"
   },
   {
    "duration": 11,
    "start_time": "2021-10-12T16:45:58.418Z"
   },
   {
    "duration": 15,
    "start_time": "2021-10-12T16:45:58.430Z"
   },
   {
    "duration": 2,
    "start_time": "2021-10-12T16:45:58.446Z"
   },
   {
    "duration": 18,
    "start_time": "2021-10-12T16:45:58.450Z"
   },
   {
    "duration": 43,
    "start_time": "2021-10-12T16:45:58.469Z"
   },
   {
    "duration": 3,
    "start_time": "2021-10-12T16:45:58.513Z"
   },
   {
    "duration": 21,
    "start_time": "2021-10-12T16:45:58.517Z"
   },
   {
    "duration": 8,
    "start_time": "2021-10-12T16:45:58.540Z"
   },
   {
    "duration": 11,
    "start_time": "2021-10-12T16:45:58.550Z"
   },
   {
    "duration": 49,
    "start_time": "2021-10-12T16:45:58.563Z"
   },
   {
    "duration": 3,
    "start_time": "2021-10-12T16:45:58.614Z"
   },
   {
    "duration": 6,
    "start_time": "2021-10-12T16:45:58.618Z"
   },
   {
    "duration": 14,
    "start_time": "2021-10-12T16:45:58.626Z"
   },
   {
    "duration": 16,
    "start_time": "2021-10-12T16:45:58.641Z"
   },
   {
    "duration": 5,
    "start_time": "2021-10-12T16:45:58.659Z"
   },
   {
    "duration": 47,
    "start_time": "2021-10-12T16:45:58.665Z"
   },
   {
    "duration": 18,
    "start_time": "2021-10-12T16:45:58.714Z"
   },
   {
    "duration": 7,
    "start_time": "2021-10-12T16:45:58.734Z"
   },
   {
    "duration": 19,
    "start_time": "2021-10-12T16:45:58.742Z"
   },
   {
    "duration": 5,
    "start_time": "2021-10-12T16:45:58.763Z"
   },
   {
    "duration": 388,
    "start_time": "2021-10-12T16:45:58.769Z"
   },
   {
    "duration": 13,
    "start_time": "2021-10-12T16:45:59.159Z"
   },
   {
    "duration": 8,
    "start_time": "2021-10-12T16:45:59.174Z"
   },
   {
    "duration": 3,
    "start_time": "2021-10-12T16:45:59.200Z"
   },
   {
    "duration": 10,
    "start_time": "2021-10-12T16:45:59.204Z"
   },
   {
    "duration": 205,
    "start_time": "2021-10-12T16:45:59.216Z"
   },
   {
    "duration": 11,
    "start_time": "2021-10-12T16:45:59.426Z"
   },
   {
    "duration": 9,
    "start_time": "2021-10-12T16:45:59.439Z"
   },
   {
    "duration": 5,
    "start_time": "2021-10-12T16:45:59.449Z"
   },
   {
    "duration": 9,
    "start_time": "2021-10-12T16:45:59.456Z"
   },
   {
    "duration": 40,
    "start_time": "2021-10-12T16:45:59.467Z"
   },
   {
    "duration": 217,
    "start_time": "2021-10-12T16:45:59.508Z"
   },
   {
    "duration": 6,
    "start_time": "2021-10-12T16:45:59.727Z"
   },
   {
    "duration": 5,
    "start_time": "2021-10-12T16:45:59.734Z"
   },
   {
    "duration": 7,
    "start_time": "2021-10-12T16:45:59.741Z"
   },
   {
    "duration": 9,
    "start_time": "2021-10-12T16:45:59.750Z"
   },
   {
    "duration": 214,
    "start_time": "2021-10-12T16:45:59.760Z"
   },
   {
    "duration": 7,
    "start_time": "2021-10-12T16:45:59.975Z"
   },
   {
    "duration": 19,
    "start_time": "2021-10-12T16:45:59.984Z"
   },
   {
    "duration": 6,
    "start_time": "2021-10-12T16:46:00.005Z"
   },
   {
    "duration": 11,
    "start_time": "2021-10-12T16:46:00.013Z"
   },
   {
    "duration": 15,
    "start_time": "2021-10-12T16:46:00.026Z"
   },
   {
    "duration": 216,
    "start_time": "2021-10-12T16:46:00.043Z"
   },
   {
    "duration": 7,
    "start_time": "2021-10-12T16:46:00.261Z"
   },
   {
    "duration": 20,
    "start_time": "2021-10-12T16:46:00.269Z"
   },
   {
    "duration": 18,
    "start_time": "2021-10-12T16:46:00.290Z"
   },
   {
    "duration": 10,
    "start_time": "2021-10-12T16:46:00.309Z"
   },
   {
    "duration": 181,
    "start_time": "2021-10-12T16:46:00.320Z"
   },
   {
    "duration": 6,
    "start_time": "2021-10-12T16:46:00.503Z"
   },
   {
    "duration": 14,
    "start_time": "2021-10-12T16:46:00.510Z"
   },
   {
    "duration": 11,
    "start_time": "2021-10-12T16:46:00.526Z"
   },
   {
    "duration": 12,
    "start_time": "2021-10-12T16:46:00.538Z"
   },
   {
    "duration": 22,
    "start_time": "2021-10-12T16:46:00.551Z"
   },
   {
    "duration": 7,
    "start_time": "2021-10-12T16:46:00.575Z"
   },
   {
    "duration": 22,
    "start_time": "2021-10-12T16:46:00.583Z"
   },
   {
    "duration": 26,
    "start_time": "2021-10-12T16:46:00.607Z"
   },
   {
    "duration": 2,
    "start_time": "2021-10-12T16:46:00.635Z"
   },
   {
    "duration": 25,
    "start_time": "2021-10-12T16:46:00.639Z"
   },
   {
    "duration": 6,
    "start_time": "2021-10-12T16:46:00.666Z"
   },
   {
    "duration": 26,
    "start_time": "2021-10-12T16:46:00.674Z"
   },
   {
    "duration": 8,
    "start_time": "2021-10-12T16:46:00.702Z"
   },
   {
    "duration": 7,
    "start_time": "2021-10-12T16:46:00.712Z"
   },
   {
    "duration": 9,
    "start_time": "2021-10-12T16:46:00.721Z"
   },
   {
    "duration": 16,
    "start_time": "2021-10-12T16:46:00.731Z"
   },
   {
    "duration": 3,
    "start_time": "2021-10-12T16:46:55.319Z"
   },
   {
    "duration": 27,
    "start_time": "2021-10-12T16:46:55.955Z"
   },
   {
    "duration": 866,
    "start_time": "2021-10-12T16:47:36.161Z"
   },
   {
    "duration": 406,
    "start_time": "2021-10-12T16:47:37.029Z"
   },
   {
    "duration": 18,
    "start_time": "2021-10-12T16:47:37.437Z"
   },
   {
    "duration": 5,
    "start_time": "2021-10-12T16:47:37.457Z"
   },
   {
    "duration": 7,
    "start_time": "2021-10-12T16:47:37.464Z"
   },
   {
    "duration": 7,
    "start_time": "2021-10-12T16:47:37.472Z"
   },
   {
    "duration": 11,
    "start_time": "2021-10-12T16:47:37.480Z"
   },
   {
    "duration": 12,
    "start_time": "2021-10-12T16:47:37.493Z"
   },
   {
    "duration": 20,
    "start_time": "2021-10-12T16:47:37.507Z"
   },
   {
    "duration": 114,
    "start_time": "2021-10-12T16:47:37.528Z"
   },
   {
    "duration": 19,
    "start_time": "2021-10-12T16:47:37.644Z"
   },
   {
    "duration": 47,
    "start_time": "2021-10-12T16:47:37.665Z"
   },
   {
    "duration": 12,
    "start_time": "2021-10-12T16:47:37.714Z"
   },
   {
    "duration": 8,
    "start_time": "2021-10-12T16:47:37.728Z"
   },
   {
    "duration": 16,
    "start_time": "2021-10-12T16:47:37.738Z"
   },
   {
    "duration": 46,
    "start_time": "2021-10-12T16:47:37.755Z"
   },
   {
    "duration": 15,
    "start_time": "2021-10-12T16:47:37.803Z"
   },
   {
    "duration": 16,
    "start_time": "2021-10-12T16:47:37.820Z"
   },
   {
    "duration": 10,
    "start_time": "2021-10-12T16:47:37.839Z"
   },
   {
    "duration": 49,
    "start_time": "2021-10-12T16:47:37.851Z"
   },
   {
    "duration": 23,
    "start_time": "2021-10-12T16:47:37.903Z"
   },
   {
    "duration": 8,
    "start_time": "2021-10-12T16:47:37.928Z"
   },
   {
    "duration": 10,
    "start_time": "2021-10-12T16:47:37.941Z"
   },
   {
    "duration": 64,
    "start_time": "2021-10-12T16:47:37.954Z"
   },
   {
    "duration": 9,
    "start_time": "2021-10-12T16:47:38.020Z"
   },
   {
    "duration": 34,
    "start_time": "2021-10-12T16:47:38.031Z"
   },
   {
    "duration": 33,
    "start_time": "2021-10-12T16:47:38.067Z"
   },
   {
    "duration": 3,
    "start_time": "2021-10-12T16:47:38.102Z"
   },
   {
    "duration": 20,
    "start_time": "2021-10-12T16:47:38.106Z"
   },
   {
    "duration": 9,
    "start_time": "2021-10-12T16:47:38.128Z"
   },
   {
    "duration": 23,
    "start_time": "2021-10-12T16:47:38.138Z"
   },
   {
    "duration": 49,
    "start_time": "2021-10-12T16:47:38.163Z"
   },
   {
    "duration": 10,
    "start_time": "2021-10-12T16:47:38.214Z"
   },
   {
    "duration": 24,
    "start_time": "2021-10-12T16:47:38.226Z"
   },
   {
    "duration": 21,
    "start_time": "2021-10-12T16:47:38.252Z"
   },
   {
    "duration": 37,
    "start_time": "2021-10-12T16:47:38.274Z"
   },
   {
    "duration": 5,
    "start_time": "2021-10-12T16:47:38.313Z"
   },
   {
    "duration": 14,
    "start_time": "2021-10-12T16:47:38.320Z"
   },
   {
    "duration": 17,
    "start_time": "2021-10-12T16:47:38.336Z"
   },
   {
    "duration": 2,
    "start_time": "2021-10-12T16:47:38.355Z"
   },
   {
    "duration": 46,
    "start_time": "2021-10-12T16:47:38.359Z"
   },
   {
    "duration": 21,
    "start_time": "2021-10-12T16:47:38.407Z"
   },
   {
    "duration": 3,
    "start_time": "2021-10-12T16:47:38.429Z"
   },
   {
    "duration": 24,
    "start_time": "2021-10-12T16:47:38.433Z"
   },
   {
    "duration": 4,
    "start_time": "2021-10-12T16:47:38.459Z"
   },
   {
    "duration": 58,
    "start_time": "2021-10-12T16:47:38.464Z"
   },
   {
    "duration": 14,
    "start_time": "2021-10-12T16:47:38.524Z"
   },
   {
    "duration": 10,
    "start_time": "2021-10-12T16:47:38.540Z"
   },
   {
    "duration": 4,
    "start_time": "2021-10-12T16:47:38.552Z"
   },
   {
    "duration": 21,
    "start_time": "2021-10-12T16:47:38.558Z"
   },
   {
    "duration": 33,
    "start_time": "2021-10-12T16:47:38.580Z"
   },
   {
    "duration": 3,
    "start_time": "2021-10-12T16:47:38.614Z"
   },
   {
    "duration": 27,
    "start_time": "2021-10-12T16:47:38.618Z"
   },
   {
    "duration": 17,
    "start_time": "2021-10-12T16:47:38.646Z"
   },
   {
    "duration": 13,
    "start_time": "2021-10-12T16:47:38.665Z"
   },
   {
    "duration": 33,
    "start_time": "2021-10-12T16:47:38.680Z"
   },
   {
    "duration": 4,
    "start_time": "2021-10-12T16:47:38.715Z"
   },
   {
    "duration": 30,
    "start_time": "2021-10-12T16:47:38.720Z"
   },
   {
    "duration": 23,
    "start_time": "2021-10-12T16:47:38.751Z"
   },
   {
    "duration": 3,
    "start_time": "2021-10-12T16:47:38.775Z"
   },
   {
    "duration": 28,
    "start_time": "2021-10-12T16:47:38.779Z"
   },
   {
    "duration": 9,
    "start_time": "2021-10-12T16:47:38.809Z"
   },
   {
    "duration": 16,
    "start_time": "2021-10-12T16:47:38.820Z"
   },
   {
    "duration": 23,
    "start_time": "2021-10-12T16:47:38.837Z"
   },
   {
    "duration": 4,
    "start_time": "2021-10-12T16:47:38.862Z"
   },
   {
    "duration": 34,
    "start_time": "2021-10-12T16:47:38.868Z"
   },
   {
    "duration": 13,
    "start_time": "2021-10-12T16:47:38.904Z"
   },
   {
    "duration": 16,
    "start_time": "2021-10-12T16:47:38.922Z"
   },
   {
    "duration": 2,
    "start_time": "2021-10-12T16:47:38.941Z"
   },
   {
    "duration": 15,
    "start_time": "2021-10-12T16:47:38.945Z"
   },
   {
    "duration": 49,
    "start_time": "2021-10-12T16:47:38.961Z"
   },
   {
    "duration": 7,
    "start_time": "2021-10-12T16:47:39.012Z"
   },
   {
    "duration": 20,
    "start_time": "2021-10-12T16:47:39.020Z"
   },
   {
    "duration": 4,
    "start_time": "2021-10-12T16:47:39.042Z"
   },
   {
    "duration": 361,
    "start_time": "2021-10-12T16:47:39.047Z"
   },
   {
    "duration": 11,
    "start_time": "2021-10-12T16:47:39.410Z"
   },
   {
    "duration": 7,
    "start_time": "2021-10-12T16:47:39.423Z"
   },
   {
    "duration": 4,
    "start_time": "2021-10-12T16:47:39.432Z"
   },
   {
    "duration": 9,
    "start_time": "2021-10-12T16:47:39.438Z"
   },
   {
    "duration": 209,
    "start_time": "2021-10-12T16:47:39.448Z"
   },
   {
    "duration": 11,
    "start_time": "2021-10-12T16:47:39.659Z"
   },
   {
    "duration": 8,
    "start_time": "2021-10-12T16:47:39.671Z"
   },
   {
    "duration": 21,
    "start_time": "2021-10-12T16:47:39.680Z"
   },
   {
    "duration": 9,
    "start_time": "2021-10-12T16:47:39.702Z"
   },
   {
    "duration": 11,
    "start_time": "2021-10-12T16:47:39.713Z"
   },
   {
    "duration": 234,
    "start_time": "2021-10-12T16:47:39.725Z"
   },
   {
    "duration": 6,
    "start_time": "2021-10-12T16:47:39.960Z"
   },
   {
    "duration": 5,
    "start_time": "2021-10-12T16:47:39.967Z"
   },
   {
    "duration": 26,
    "start_time": "2021-10-12T16:47:39.974Z"
   },
   {
    "duration": 10,
    "start_time": "2021-10-12T16:47:40.002Z"
   },
   {
    "duration": 198,
    "start_time": "2021-10-12T16:47:40.014Z"
   },
   {
    "duration": 6,
    "start_time": "2021-10-12T16:47:40.213Z"
   },
   {
    "duration": 8,
    "start_time": "2021-10-12T16:47:40.220Z"
   },
   {
    "duration": 6,
    "start_time": "2021-10-12T16:47:40.230Z"
   },
   {
    "duration": 8,
    "start_time": "2021-10-12T16:47:40.237Z"
   },
   {
    "duration": 13,
    "start_time": "2021-10-12T16:47:40.247Z"
   },
   {
    "duration": 204,
    "start_time": "2021-10-12T16:47:40.261Z"
   },
   {
    "duration": 5,
    "start_time": "2021-10-12T16:47:40.467Z"
   },
   {
    "duration": 7,
    "start_time": "2021-10-12T16:47:40.473Z"
   },
   {
    "duration": 19,
    "start_time": "2021-10-12T16:47:40.481Z"
   },
   {
    "duration": 8,
    "start_time": "2021-10-12T16:47:40.502Z"
   },
   {
    "duration": 200,
    "start_time": "2021-10-12T16:47:40.511Z"
   },
   {
    "duration": 6,
    "start_time": "2021-10-12T16:47:40.712Z"
   },
   {
    "duration": 8,
    "start_time": "2021-10-12T16:47:40.719Z"
   },
   {
    "duration": 6,
    "start_time": "2021-10-12T16:47:40.728Z"
   },
   {
    "duration": 9,
    "start_time": "2021-10-12T16:47:40.736Z"
   },
   {
    "duration": 16,
    "start_time": "2021-10-12T16:47:40.746Z"
   },
   {
    "duration": 8,
    "start_time": "2021-10-12T16:47:40.799Z"
   },
   {
    "duration": 10,
    "start_time": "2021-10-12T16:47:40.809Z"
   },
   {
    "duration": 20,
    "start_time": "2021-10-12T16:47:40.821Z"
   },
   {
    "duration": 2,
    "start_time": "2021-10-12T16:47:40.842Z"
   },
   {
    "duration": 19,
    "start_time": "2021-10-12T16:47:40.846Z"
   },
   {
    "duration": 36,
    "start_time": "2021-10-12T16:47:40.867Z"
   },
   {
    "duration": 10,
    "start_time": "2021-10-12T16:47:40.904Z"
   },
   {
    "duration": 7,
    "start_time": "2021-10-12T16:47:40.916Z"
   },
   {
    "duration": 5,
    "start_time": "2021-10-12T16:47:40.924Z"
   },
   {
    "duration": 4,
    "start_time": "2021-10-12T16:47:40.931Z"
   },
   {
    "duration": 5,
    "start_time": "2021-10-12T16:47:40.937Z"
   },
   {
    "duration": 24,
    "start_time": "2021-10-12T16:49:59.803Z"
   },
   {
    "duration": 22,
    "start_time": "2021-10-12T16:50:20.928Z"
   },
   {
    "duration": 18,
    "start_time": "2021-10-12T16:51:07.602Z"
   },
   {
    "duration": 11,
    "start_time": "2021-10-12T16:51:16.368Z"
   },
   {
    "duration": 13,
    "start_time": "2021-10-12T16:51:33.261Z"
   },
   {
    "duration": 872,
    "start_time": "2021-10-12T16:51:38.656Z"
   },
   {
    "duration": 401,
    "start_time": "2021-10-12T16:51:39.530Z"
   },
   {
    "duration": 20,
    "start_time": "2021-10-12T16:51:39.932Z"
   },
   {
    "duration": 7,
    "start_time": "2021-10-12T16:51:39.954Z"
   },
   {
    "duration": 8,
    "start_time": "2021-10-12T16:51:39.962Z"
   },
   {
    "duration": 6,
    "start_time": "2021-10-12T16:51:39.971Z"
   },
   {
    "duration": 6,
    "start_time": "2021-10-12T16:51:39.979Z"
   },
   {
    "duration": 12,
    "start_time": "2021-10-12T16:51:39.987Z"
   },
   {
    "duration": 21,
    "start_time": "2021-10-12T16:51:40.001Z"
   },
   {
    "duration": 115,
    "start_time": "2021-10-12T16:51:40.024Z"
   },
   {
    "duration": 19,
    "start_time": "2021-10-12T16:51:40.141Z"
   },
   {
    "duration": 41,
    "start_time": "2021-10-12T16:51:40.162Z"
   },
   {
    "duration": 9,
    "start_time": "2021-10-12T16:51:40.205Z"
   },
   {
    "duration": 7,
    "start_time": "2021-10-12T16:51:40.216Z"
   },
   {
    "duration": 15,
    "start_time": "2021-10-12T16:51:40.225Z"
   },
   {
    "duration": 17,
    "start_time": "2021-10-12T16:51:40.241Z"
   },
   {
    "duration": 12,
    "start_time": "2021-10-12T16:51:40.259Z"
   },
   {
    "duration": 13,
    "start_time": "2021-10-12T16:51:40.300Z"
   },
   {
    "duration": 9,
    "start_time": "2021-10-12T16:51:40.315Z"
   },
   {
    "duration": 15,
    "start_time": "2021-10-12T16:51:40.325Z"
   },
   {
    "duration": 21,
    "start_time": "2021-10-12T16:51:40.342Z"
   },
   {
    "duration": 7,
    "start_time": "2021-10-12T16:51:40.364Z"
   },
   {
    "duration": 11,
    "start_time": "2021-10-12T16:51:40.402Z"
   },
   {
    "duration": 29,
    "start_time": "2021-10-12T16:51:40.415Z"
   },
   {
    "duration": 8,
    "start_time": "2021-10-12T16:51:40.445Z"
   },
   {
    "duration": 57,
    "start_time": "2021-10-12T16:51:40.455Z"
   },
   {
    "duration": 7,
    "start_time": "2021-10-12T16:51:40.513Z"
   },
   {
    "duration": 5,
    "start_time": "2021-10-12T16:51:40.521Z"
   },
   {
    "duration": 23,
    "start_time": "2021-10-12T16:51:40.528Z"
   },
   {
    "duration": 8,
    "start_time": "2021-10-12T16:51:40.553Z"
   },
   {
    "duration": 45,
    "start_time": "2021-10-12T16:51:40.562Z"
   },
   {
    "duration": 21,
    "start_time": "2021-10-12T16:51:40.608Z"
   },
   {
    "duration": 10,
    "start_time": "2021-10-12T16:51:40.631Z"
   },
   {
    "duration": 25,
    "start_time": "2021-10-12T16:51:40.642Z"
   },
   {
    "duration": 48,
    "start_time": "2021-10-12T16:51:40.668Z"
   },
   {
    "duration": 13,
    "start_time": "2021-10-12T16:51:40.717Z"
   },
   {
    "duration": 9,
    "start_time": "2021-10-12T16:51:40.732Z"
   },
   {
    "duration": 18,
    "start_time": "2021-10-12T16:51:40.742Z"
   },
   {
    "duration": 21,
    "start_time": "2021-10-12T16:51:40.761Z"
   },
   {
    "duration": 2,
    "start_time": "2021-10-12T16:51:40.783Z"
   },
   {
    "duration": 18,
    "start_time": "2021-10-12T16:51:40.799Z"
   },
   {
    "duration": 20,
    "start_time": "2021-10-12T16:51:40.818Z"
   },
   {
    "duration": 2,
    "start_time": "2021-10-12T16:51:40.839Z"
   },
   {
    "duration": 36,
    "start_time": "2021-10-12T16:51:40.843Z"
   },
   {
    "duration": 3,
    "start_time": "2021-10-12T16:51:40.880Z"
   },
   {
    "duration": 35,
    "start_time": "2021-10-12T16:51:40.885Z"
   },
   {
    "duration": 14,
    "start_time": "2021-10-12T16:51:40.921Z"
   },
   {
    "duration": 8,
    "start_time": "2021-10-12T16:51:40.936Z"
   },
   {
    "duration": 3,
    "start_time": "2021-10-12T16:51:40.945Z"
   },
   {
    "duration": 14,
    "start_time": "2021-10-12T16:51:40.949Z"
   },
   {
    "duration": 44,
    "start_time": "2021-10-12T16:51:40.965Z"
   },
   {
    "duration": 2,
    "start_time": "2021-10-12T16:51:41.011Z"
   },
   {
    "duration": 17,
    "start_time": "2021-10-12T16:51:41.015Z"
   },
   {
    "duration": 9,
    "start_time": "2021-10-12T16:51:41.034Z"
   },
   {
    "duration": 10,
    "start_time": "2021-10-12T16:51:41.045Z"
   },
   {
    "duration": 47,
    "start_time": "2021-10-12T16:51:41.057Z"
   },
   {
    "duration": 3,
    "start_time": "2021-10-12T16:51:41.106Z"
   },
   {
    "duration": 16,
    "start_time": "2021-10-12T16:51:41.110Z"
   },
   {
    "duration": 15,
    "start_time": "2021-10-12T16:51:41.128Z"
   },
   {
    "duration": 3,
    "start_time": "2021-10-12T16:51:41.145Z"
   },
   {
    "duration": 18,
    "start_time": "2021-10-12T16:51:41.149Z"
   },
   {
    "duration": 39,
    "start_time": "2021-10-12T16:51:41.169Z"
   },
   {
    "duration": 14,
    "start_time": "2021-10-12T16:51:41.209Z"
   },
   {
    "duration": 22,
    "start_time": "2021-10-12T16:51:41.224Z"
   },
   {
    "duration": 4,
    "start_time": "2021-10-12T16:51:41.249Z"
   },
   {
    "duration": 44,
    "start_time": "2021-10-12T16:51:41.255Z"
   },
   {
    "duration": 14,
    "start_time": "2021-10-12T16:51:41.301Z"
   },
   {
    "duration": 16,
    "start_time": "2021-10-12T16:51:41.322Z"
   },
   {
    "duration": 2,
    "start_time": "2021-10-12T16:51:41.341Z"
   },
   {
    "duration": 15,
    "start_time": "2021-10-12T16:51:41.345Z"
   },
   {
    "duration": 46,
    "start_time": "2021-10-12T16:51:41.362Z"
   },
   {
    "duration": 8,
    "start_time": "2021-10-12T16:51:41.409Z"
   },
   {
    "duration": 22,
    "start_time": "2021-10-12T16:51:41.418Z"
   },
   {
    "duration": 4,
    "start_time": "2021-10-12T16:51:41.442Z"
   },
   {
    "duration": 380,
    "start_time": "2021-10-12T16:51:41.447Z"
   },
   {
    "duration": 12,
    "start_time": "2021-10-12T16:51:41.829Z"
   },
   {
    "duration": 8,
    "start_time": "2021-10-12T16:51:41.842Z"
   },
   {
    "duration": 3,
    "start_time": "2021-10-12T16:51:41.852Z"
   },
   {
    "duration": 8,
    "start_time": "2021-10-12T16:51:41.857Z"
   },
   {
    "duration": 221,
    "start_time": "2021-10-12T16:51:41.866Z"
   },
   {
    "duration": 16,
    "start_time": "2021-10-12T16:51:42.088Z"
   },
   {
    "duration": 10,
    "start_time": "2021-10-12T16:51:42.105Z"
   },
   {
    "duration": 4,
    "start_time": "2021-10-12T16:51:42.116Z"
   },
   {
    "duration": 9,
    "start_time": "2021-10-12T16:51:42.121Z"
   },
   {
    "duration": 11,
    "start_time": "2021-10-12T16:51:42.131Z"
   },
   {
    "duration": 235,
    "start_time": "2021-10-12T16:51:42.144Z"
   },
   {
    "duration": 4,
    "start_time": "2021-10-12T16:51:42.381Z"
   },
   {
    "duration": 14,
    "start_time": "2021-10-12T16:51:42.387Z"
   },
   {
    "duration": 7,
    "start_time": "2021-10-12T16:51:42.402Z"
   },
   {
    "duration": 8,
    "start_time": "2021-10-12T16:51:42.410Z"
   },
   {
    "duration": 196,
    "start_time": "2021-10-12T16:51:42.420Z"
   },
   {
    "duration": 5,
    "start_time": "2021-10-12T16:51:42.617Z"
   },
   {
    "duration": 6,
    "start_time": "2021-10-12T16:51:42.624Z"
   },
   {
    "duration": 6,
    "start_time": "2021-10-12T16:51:42.632Z"
   },
   {
    "duration": 8,
    "start_time": "2021-10-12T16:51:42.639Z"
   },
   {
    "duration": 12,
    "start_time": "2021-10-12T16:51:42.649Z"
   },
   {
    "duration": 209,
    "start_time": "2021-10-12T16:51:42.662Z"
   },
   {
    "duration": 6,
    "start_time": "2021-10-12T16:51:42.872Z"
   },
   {
    "duration": 7,
    "start_time": "2021-10-12T16:51:42.879Z"
   },
   {
    "duration": 6,
    "start_time": "2021-10-12T16:51:42.899Z"
   },
   {
    "duration": 11,
    "start_time": "2021-10-12T16:51:42.906Z"
   },
   {
    "duration": 196,
    "start_time": "2021-10-12T16:51:42.919Z"
   },
   {
    "duration": 5,
    "start_time": "2021-10-12T16:51:43.117Z"
   },
   {
    "duration": 7,
    "start_time": "2021-10-12T16:51:43.123Z"
   },
   {
    "duration": 7,
    "start_time": "2021-10-12T16:51:43.131Z"
   },
   {
    "duration": 8,
    "start_time": "2021-10-12T16:51:43.140Z"
   },
   {
    "duration": 14,
    "start_time": "2021-10-12T16:51:43.150Z"
   },
   {
    "duration": 7,
    "start_time": "2021-10-12T16:51:43.165Z"
   },
   {
    "duration": 9,
    "start_time": "2021-10-12T16:51:43.200Z"
   },
   {
    "duration": 22,
    "start_time": "2021-10-12T16:51:43.210Z"
   },
   {
    "duration": 2,
    "start_time": "2021-10-12T16:51:43.233Z"
   },
   {
    "duration": 22,
    "start_time": "2021-10-12T16:51:43.236Z"
   },
   {
    "duration": 6,
    "start_time": "2021-10-12T16:51:43.259Z"
   },
   {
    "duration": 37,
    "start_time": "2021-10-12T16:51:43.267Z"
   },
   {
    "duration": 9,
    "start_time": "2021-10-12T16:51:43.306Z"
   },
   {
    "duration": 5,
    "start_time": "2021-10-12T16:51:43.316Z"
   },
   {
    "duration": 7,
    "start_time": "2021-10-12T16:51:43.322Z"
   },
   {
    "duration": 5,
    "start_time": "2021-10-12T16:51:43.330Z"
   },
   {
    "duration": 17,
    "start_time": "2021-10-12T16:56:10.378Z"
   },
   {
    "duration": 12,
    "start_time": "2021-10-12T16:56:21.334Z"
   },
   {
    "duration": 17,
    "start_time": "2021-10-12T16:57:39.646Z"
   },
   {
    "duration": 10,
    "start_time": "2021-10-12T16:58:02.133Z"
   },
   {
    "duration": 14,
    "start_time": "2021-10-12T17:00:09.559Z"
   },
   {
    "duration": 27,
    "start_time": "2021-10-12T17:00:19.902Z"
   },
   {
    "duration": 18,
    "start_time": "2021-10-12T17:00:28.270Z"
   },
   {
    "duration": 13,
    "start_time": "2021-10-12T17:00:36.909Z"
   },
   {
    "duration": 910,
    "start_time": "2021-10-12T17:02:37.409Z"
   },
   {
    "duration": 402,
    "start_time": "2021-10-12T17:02:38.321Z"
   },
   {
    "duration": 18,
    "start_time": "2021-10-12T17:02:38.725Z"
   },
   {
    "duration": 15,
    "start_time": "2021-10-12T17:02:38.745Z"
   },
   {
    "duration": 20,
    "start_time": "2021-10-12T17:02:38.762Z"
   },
   {
    "duration": 20,
    "start_time": "2021-10-12T17:02:38.784Z"
   },
   {
    "duration": 16,
    "start_time": "2021-10-12T17:02:38.806Z"
   },
   {
    "duration": 22,
    "start_time": "2021-10-12T17:02:38.824Z"
   },
   {
    "duration": 30,
    "start_time": "2021-10-12T17:02:38.848Z"
   },
   {
    "duration": 97,
    "start_time": "2021-10-12T17:02:38.879Z"
   },
   {
    "duration": 23,
    "start_time": "2021-10-12T17:02:38.978Z"
   },
   {
    "duration": 34,
    "start_time": "2021-10-12T17:02:39.002Z"
   },
   {
    "duration": 11,
    "start_time": "2021-10-12T17:02:39.037Z"
   },
   {
    "duration": 8,
    "start_time": "2021-10-12T17:02:39.049Z"
   },
   {
    "duration": 17,
    "start_time": "2021-10-12T17:02:39.058Z"
   },
   {
    "duration": 33,
    "start_time": "2021-10-12T17:02:39.077Z"
   },
   {
    "duration": 12,
    "start_time": "2021-10-12T17:02:39.112Z"
   },
   {
    "duration": 14,
    "start_time": "2021-10-12T17:02:39.125Z"
   },
   {
    "duration": 9,
    "start_time": "2021-10-12T17:02:39.141Z"
   },
   {
    "duration": 15,
    "start_time": "2021-10-12T17:02:39.151Z"
   },
   {
    "duration": 49,
    "start_time": "2021-10-12T17:02:39.167Z"
   },
   {
    "duration": 7,
    "start_time": "2021-10-12T17:02:39.218Z"
   },
   {
    "duration": 10,
    "start_time": "2021-10-12T17:02:39.229Z"
   },
   {
    "duration": 30,
    "start_time": "2021-10-12T17:02:39.242Z"
   },
   {
    "duration": 33,
    "start_time": "2021-10-12T17:02:39.273Z"
   },
   {
    "duration": 31,
    "start_time": "2021-10-12T17:02:39.308Z"
   },
   {
    "duration": 8,
    "start_time": "2021-10-12T17:02:39.340Z"
   },
   {
    "duration": 5,
    "start_time": "2021-10-12T17:02:39.349Z"
   },
   {
    "duration": 20,
    "start_time": "2021-10-12T17:02:39.356Z"
   },
   {
    "duration": 30,
    "start_time": "2021-10-12T17:02:39.377Z"
   },
   {
    "duration": 20,
    "start_time": "2021-10-12T17:02:39.408Z"
   },
   {
    "duration": 21,
    "start_time": "2021-10-12T17:02:39.429Z"
   },
   {
    "duration": 10,
    "start_time": "2021-10-12T17:02:39.451Z"
   },
   {
    "duration": 52,
    "start_time": "2021-10-12T17:02:39.463Z"
   },
   {
    "duration": 22,
    "start_time": "2021-10-12T17:02:39.517Z"
   },
   {
    "duration": 13,
    "start_time": "2021-10-12T17:02:39.541Z"
   },
   {
    "duration": 4,
    "start_time": "2021-10-12T17:02:39.556Z"
   },
   {
    "duration": 13,
    "start_time": "2021-10-12T17:02:39.562Z"
   },
   {
    "duration": 18,
    "start_time": "2021-10-12T17:02:39.599Z"
   },
   {
    "duration": 3,
    "start_time": "2021-10-12T17:02:39.618Z"
   },
   {
    "duration": 22,
    "start_time": "2021-10-12T17:02:39.622Z"
   },
   {
    "duration": 18,
    "start_time": "2021-10-12T17:02:39.646Z"
   },
   {
    "duration": 2,
    "start_time": "2021-10-12T17:02:39.666Z"
   },
   {
    "duration": 47,
    "start_time": "2021-10-12T17:02:39.670Z"
   },
   {
    "duration": 3,
    "start_time": "2021-10-12T17:02:39.718Z"
   },
   {
    "duration": 24,
    "start_time": "2021-10-12T17:02:39.723Z"
   },
   {
    "duration": 12,
    "start_time": "2021-10-12T17:02:39.748Z"
   },
   {
    "duration": 10,
    "start_time": "2021-10-12T17:02:39.762Z"
   },
   {
    "duration": 28,
    "start_time": "2021-10-12T17:02:39.773Z"
   },
   {
    "duration": 14,
    "start_time": "2021-10-12T17:02:39.803Z"
   },
   {
    "duration": 14,
    "start_time": "2021-10-12T17:02:39.819Z"
   },
   {
    "duration": 3,
    "start_time": "2021-10-12T17:02:39.835Z"
   },
   {
    "duration": 15,
    "start_time": "2021-10-12T17:02:39.840Z"
   },
   {
    "duration": 43,
    "start_time": "2021-10-12T17:02:39.857Z"
   },
   {
    "duration": 12,
    "start_time": "2021-10-12T17:02:39.902Z"
   },
   {
    "duration": 17,
    "start_time": "2021-10-12T17:02:39.916Z"
   },
   {
    "duration": 3,
    "start_time": "2021-10-12T17:02:39.935Z"
   },
   {
    "duration": 17,
    "start_time": "2021-10-12T17:02:39.940Z"
   },
   {
    "duration": 49,
    "start_time": "2021-10-12T17:02:39.959Z"
   },
   {
    "duration": 3,
    "start_time": "2021-10-12T17:02:40.010Z"
   },
   {
    "duration": 21,
    "start_time": "2021-10-12T17:02:40.015Z"
   },
   {
    "duration": 11,
    "start_time": "2021-10-12T17:02:40.038Z"
   },
   {
    "duration": 48,
    "start_time": "2021-10-12T17:02:40.051Z"
   },
   {
    "duration": 24,
    "start_time": "2021-10-12T17:02:40.101Z"
   },
   {
    "duration": 5,
    "start_time": "2021-10-12T17:02:40.127Z"
   },
   {
    "duration": 5,
    "start_time": "2021-10-12T17:02:40.134Z"
   },
   {
    "duration": 14,
    "start_time": "2021-10-12T17:02:40.141Z"
   },
   {
    "duration": 55,
    "start_time": "2021-10-12T17:02:40.162Z"
   },
   {
    "duration": 2,
    "start_time": "2021-10-12T17:02:40.220Z"
   },
   {
    "duration": 16,
    "start_time": "2021-10-12T17:02:40.225Z"
   },
   {
    "duration": 18,
    "start_time": "2021-10-12T17:02:40.243Z"
   },
   {
    "duration": 41,
    "start_time": "2021-10-12T17:02:40.262Z"
   },
   {
    "duration": 20,
    "start_time": "2021-10-12T17:02:40.304Z"
   },
   {
    "duration": 5,
    "start_time": "2021-10-12T17:02:40.326Z"
   },
   {
    "duration": 369,
    "start_time": "2021-10-12T17:02:40.332Z"
   },
   {
    "duration": 13,
    "start_time": "2021-10-12T17:02:40.703Z"
   },
   {
    "duration": 9,
    "start_time": "2021-10-12T17:02:40.718Z"
   },
   {
    "duration": 5,
    "start_time": "2021-10-12T17:02:40.729Z"
   },
   {
    "duration": 14,
    "start_time": "2021-10-12T17:02:40.736Z"
   },
   {
    "duration": 215,
    "start_time": "2021-10-12T17:02:40.752Z"
   },
   {
    "duration": 11,
    "start_time": "2021-10-12T17:02:40.969Z"
   },
   {
    "duration": 18,
    "start_time": "2021-10-12T17:02:40.982Z"
   },
   {
    "duration": 5,
    "start_time": "2021-10-12T17:02:41.002Z"
   },
   {
    "duration": 13,
    "start_time": "2021-10-12T17:02:41.008Z"
   },
   {
    "duration": 12,
    "start_time": "2021-10-12T17:02:41.023Z"
   },
   {
    "duration": 234,
    "start_time": "2021-10-12T17:02:41.036Z"
   },
   {
    "duration": 7,
    "start_time": "2021-10-12T17:02:41.272Z"
   },
   {
    "duration": 21,
    "start_time": "2021-10-12T17:02:41.280Z"
   },
   {
    "duration": 5,
    "start_time": "2021-10-12T17:02:41.303Z"
   },
   {
    "duration": 9,
    "start_time": "2021-10-12T17:02:41.310Z"
   },
   {
    "duration": 201,
    "start_time": "2021-10-12T17:02:41.321Z"
   },
   {
    "duration": 6,
    "start_time": "2021-10-12T17:02:41.525Z"
   },
   {
    "duration": 11,
    "start_time": "2021-10-12T17:02:41.533Z"
   },
   {
    "duration": 11,
    "start_time": "2021-10-12T17:02:41.545Z"
   },
   {
    "duration": 9,
    "start_time": "2021-10-12T17:02:41.558Z"
   },
   {
    "duration": 32,
    "start_time": "2021-10-12T17:02:41.568Z"
   },
   {
    "duration": 185,
    "start_time": "2021-10-12T17:02:41.602Z"
   },
   {
    "duration": 13,
    "start_time": "2021-10-12T17:02:41.789Z"
   },
   {
    "duration": 10,
    "start_time": "2021-10-12T17:02:41.803Z"
   },
   {
    "duration": 8,
    "start_time": "2021-10-12T17:02:41.814Z"
   },
   {
    "duration": 15,
    "start_time": "2021-10-12T17:02:41.823Z"
   },
   {
    "duration": 181,
    "start_time": "2021-10-12T17:02:41.840Z"
   },
   {
    "duration": 6,
    "start_time": "2021-10-12T17:02:42.023Z"
   },
   {
    "duration": 13,
    "start_time": "2021-10-12T17:02:42.030Z"
   },
   {
    "duration": 26,
    "start_time": "2021-10-12T17:02:42.045Z"
   },
   {
    "duration": 12,
    "start_time": "2021-10-12T17:02:42.072Z"
   },
   {
    "duration": 18,
    "start_time": "2021-10-12T17:02:42.086Z"
   },
   {
    "duration": 6,
    "start_time": "2021-10-12T17:02:42.106Z"
   },
   {
    "duration": 12,
    "start_time": "2021-10-12T17:02:42.113Z"
   },
   {
    "duration": 26,
    "start_time": "2021-10-12T17:02:42.127Z"
   },
   {
    "duration": 3,
    "start_time": "2021-10-12T17:02:42.155Z"
   },
   {
    "duration": 40,
    "start_time": "2021-10-12T17:02:42.160Z"
   },
   {
    "duration": 9,
    "start_time": "2021-10-12T17:02:42.202Z"
   },
   {
    "duration": 16,
    "start_time": "2021-10-12T17:02:42.213Z"
   },
   {
    "duration": 14,
    "start_time": "2021-10-12T17:02:42.231Z"
   },
   {
    "duration": 8,
    "start_time": "2021-10-12T17:02:42.247Z"
   },
   {
    "duration": 15,
    "start_time": "2021-10-12T17:02:42.257Z"
   },
   {
    "duration": 16,
    "start_time": "2021-10-12T17:02:42.273Z"
   },
   {
    "duration": 2,
    "start_time": "2021-10-12T17:03:57.915Z"
   },
   {
    "duration": 236,
    "start_time": "2021-10-12T17:04:52.438Z"
   },
   {
    "duration": 288,
    "start_time": "2021-10-12T17:05:26.611Z"
   },
   {
    "duration": 212,
    "start_time": "2021-10-12T17:06:09.838Z"
   },
   {
    "duration": 194,
    "start_time": "2021-10-12T17:06:40.897Z"
   },
   {
    "duration": 228,
    "start_time": "2021-10-12T17:06:46.305Z"
   },
   {
    "duration": 192,
    "start_time": "2021-10-12T17:07:15.153Z"
   },
   {
    "duration": 178,
    "start_time": "2021-10-12T17:07:35.317Z"
   },
   {
    "duration": 1023,
    "start_time": "2021-10-12T17:07:43.922Z"
   },
   {
    "duration": 392,
    "start_time": "2021-10-12T17:07:44.947Z"
   },
   {
    "duration": 15,
    "start_time": "2021-10-12T17:07:45.341Z"
   },
   {
    "duration": 7,
    "start_time": "2021-10-12T17:07:45.357Z"
   },
   {
    "duration": 11,
    "start_time": "2021-10-12T17:07:45.365Z"
   },
   {
    "duration": 15,
    "start_time": "2021-10-12T17:07:45.377Z"
   },
   {
    "duration": 25,
    "start_time": "2021-10-12T17:07:45.394Z"
   },
   {
    "duration": 14,
    "start_time": "2021-10-12T17:07:45.421Z"
   },
   {
    "duration": 21,
    "start_time": "2021-10-12T17:07:45.437Z"
   },
   {
    "duration": 99,
    "start_time": "2021-10-12T17:07:45.459Z"
   },
   {
    "duration": 19,
    "start_time": "2021-10-12T17:07:45.560Z"
   },
   {
    "duration": 42,
    "start_time": "2021-10-12T17:07:45.581Z"
   },
   {
    "duration": 10,
    "start_time": "2021-10-12T17:07:45.625Z"
   },
   {
    "duration": 8,
    "start_time": "2021-10-12T17:07:45.637Z"
   },
   {
    "duration": 23,
    "start_time": "2021-10-12T17:07:45.647Z"
   },
   {
    "duration": 35,
    "start_time": "2021-10-12T17:07:45.672Z"
   },
   {
    "duration": 13,
    "start_time": "2021-10-12T17:07:45.708Z"
   },
   {
    "duration": 23,
    "start_time": "2021-10-12T17:07:45.722Z"
   },
   {
    "duration": 13,
    "start_time": "2021-10-12T17:07:45.747Z"
   },
   {
    "duration": 24,
    "start_time": "2021-10-12T17:07:45.761Z"
   },
   {
    "duration": 31,
    "start_time": "2021-10-12T17:07:45.787Z"
   },
   {
    "duration": 7,
    "start_time": "2021-10-12T17:07:45.820Z"
   },
   {
    "duration": 20,
    "start_time": "2021-10-12T17:07:45.831Z"
   },
   {
    "duration": 47,
    "start_time": "2021-10-12T17:07:45.853Z"
   },
   {
    "duration": 8,
    "start_time": "2021-10-12T17:07:45.902Z"
   },
   {
    "duration": 34,
    "start_time": "2021-10-12T17:07:45.912Z"
   },
   {
    "duration": 7,
    "start_time": "2021-10-12T17:07:45.948Z"
   },
   {
    "duration": 6,
    "start_time": "2021-10-12T17:07:45.956Z"
   },
   {
    "duration": 42,
    "start_time": "2021-10-12T17:07:45.964Z"
   },
   {
    "duration": 9,
    "start_time": "2021-10-12T17:07:46.007Z"
   },
   {
    "duration": 22,
    "start_time": "2021-10-12T17:07:46.018Z"
   },
   {
    "duration": 21,
    "start_time": "2021-10-12T17:07:46.042Z"
   },
   {
    "duration": 39,
    "start_time": "2021-10-12T17:07:46.065Z"
   },
   {
    "duration": 25,
    "start_time": "2021-10-12T17:07:46.106Z"
   },
   {
    "duration": 22,
    "start_time": "2021-10-12T17:07:46.133Z"
   },
   {
    "duration": 13,
    "start_time": "2021-10-12T17:07:46.157Z"
   },
   {
    "duration": 3,
    "start_time": "2021-10-12T17:07:46.199Z"
   },
   {
    "duration": 14,
    "start_time": "2021-10-12T17:07:46.205Z"
   },
   {
    "duration": 25,
    "start_time": "2021-10-12T17:07:46.220Z"
   },
   {
    "duration": 2,
    "start_time": "2021-10-12T17:07:46.246Z"
   },
   {
    "duration": 23,
    "start_time": "2021-10-12T17:07:46.250Z"
   },
   {
    "duration": 27,
    "start_time": "2021-10-12T17:07:46.274Z"
   },
   {
    "duration": 3,
    "start_time": "2021-10-12T17:07:46.302Z"
   },
   {
    "duration": 22,
    "start_time": "2021-10-12T17:07:46.306Z"
   },
   {
    "duration": 3,
    "start_time": "2021-10-12T17:07:46.329Z"
   },
   {
    "duration": 25,
    "start_time": "2021-10-12T17:07:46.333Z"
   },
   {
    "duration": 12,
    "start_time": "2021-10-12T17:07:46.360Z"
   },
   {
    "duration": 9,
    "start_time": "2021-10-12T17:07:46.399Z"
   },
   {
    "duration": 9,
    "start_time": "2021-10-12T17:07:46.409Z"
   },
   {
    "duration": 18,
    "start_time": "2021-10-12T17:07:46.419Z"
   },
   {
    "duration": 15,
    "start_time": "2021-10-12T17:07:46.438Z"
   },
   {
    "duration": 3,
    "start_time": "2021-10-12T17:07:46.454Z"
   },
   {
    "duration": 27,
    "start_time": "2021-10-12T17:07:46.459Z"
   },
   {
    "duration": 18,
    "start_time": "2021-10-12T17:07:46.487Z"
   },
   {
    "duration": 12,
    "start_time": "2021-10-12T17:07:46.506Z"
   },
   {
    "duration": 20,
    "start_time": "2021-10-12T17:07:46.519Z"
   },
   {
    "duration": 3,
    "start_time": "2021-10-12T17:07:46.541Z"
   },
   {
    "duration": 18,
    "start_time": "2021-10-12T17:07:46.546Z"
   },
   {
    "duration": 44,
    "start_time": "2021-10-12T17:07:46.566Z"
   },
   {
    "duration": 3,
    "start_time": "2021-10-12T17:07:46.612Z"
   },
   {
    "duration": 32,
    "start_time": "2021-10-12T17:07:46.617Z"
   },
   {
    "duration": 12,
    "start_time": "2021-10-12T17:07:46.651Z"
   },
   {
    "duration": 36,
    "start_time": "2021-10-12T17:07:46.665Z"
   },
   {
    "duration": 25,
    "start_time": "2021-10-12T17:07:46.703Z"
   },
   {
    "duration": 5,
    "start_time": "2021-10-12T17:07:46.730Z"
   },
   {
    "duration": 19,
    "start_time": "2021-10-12T17:07:46.737Z"
   },
   {
    "duration": 34,
    "start_time": "2021-10-12T17:07:46.758Z"
   },
   {
    "duration": 18,
    "start_time": "2021-10-12T17:07:46.798Z"
   },
   {
    "duration": 19,
    "start_time": "2021-10-12T17:07:46.819Z"
   },
   {
    "duration": 38,
    "start_time": "2021-10-12T17:07:46.840Z"
   },
   {
    "duration": 29,
    "start_time": "2021-10-12T17:07:46.880Z"
   },
   {
    "duration": 26,
    "start_time": "2021-10-12T17:07:46.911Z"
   },
   {
    "duration": 38,
    "start_time": "2021-10-12T17:07:46.939Z"
   },
   {
    "duration": 12,
    "start_time": "2021-10-12T17:07:46.979Z"
   },
   {
    "duration": 281,
    "start_time": "2021-10-12T17:07:46.992Z"
   },
   {
    "duration": 12,
    "start_time": "2021-10-12T17:07:47.275Z"
   },
   {
    "duration": 13,
    "start_time": "2021-10-12T17:07:47.300Z"
   },
   {
    "duration": 25,
    "start_time": "2021-10-12T17:07:47.315Z"
   },
   {
    "duration": 24,
    "start_time": "2021-10-12T17:07:47.342Z"
   },
   {
    "duration": 243,
    "start_time": "2021-10-12T17:07:47.368Z"
   },
   {
    "duration": 13,
    "start_time": "2021-10-12T17:07:47.612Z"
   },
   {
    "duration": 11,
    "start_time": "2021-10-12T17:07:47.627Z"
   },
   {
    "duration": 16,
    "start_time": "2021-10-12T17:07:47.640Z"
   },
   {
    "duration": 28,
    "start_time": "2021-10-12T17:07:47.658Z"
   },
   {
    "duration": 16,
    "start_time": "2021-10-12T17:07:47.688Z"
   },
   {
    "duration": 238,
    "start_time": "2021-10-12T17:07:47.706Z"
   },
   {
    "duration": 5,
    "start_time": "2021-10-12T17:07:47.946Z"
   },
   {
    "duration": 31,
    "start_time": "2021-10-12T17:07:47.953Z"
   },
   {
    "duration": 25,
    "start_time": "2021-10-12T17:07:47.986Z"
   },
   {
    "duration": 36,
    "start_time": "2021-10-12T17:07:48.013Z"
   },
   {
    "duration": 210,
    "start_time": "2021-10-12T17:07:48.050Z"
   },
   {
    "duration": 5,
    "start_time": "2021-10-12T17:07:48.262Z"
   },
   {
    "duration": 34,
    "start_time": "2021-10-12T17:07:48.269Z"
   },
   {
    "duration": 31,
    "start_time": "2021-10-12T17:07:48.305Z"
   },
   {
    "duration": 21,
    "start_time": "2021-10-12T17:07:48.337Z"
   },
   {
    "duration": 33,
    "start_time": "2021-10-12T17:07:48.359Z"
   },
   {
    "duration": 210,
    "start_time": "2021-10-12T17:07:48.394Z"
   },
   {
    "duration": 6,
    "start_time": "2021-10-12T17:07:48.606Z"
   },
   {
    "duration": 7,
    "start_time": "2021-10-12T17:07:48.613Z"
   },
   {
    "duration": 5,
    "start_time": "2021-10-12T17:07:48.622Z"
   },
   {
    "duration": 9,
    "start_time": "2021-10-12T17:07:48.629Z"
   },
   {
    "duration": 228,
    "start_time": "2021-10-12T17:07:48.640Z"
   },
   {
    "duration": 6,
    "start_time": "2021-10-12T17:07:48.870Z"
   },
   {
    "duration": 8,
    "start_time": "2021-10-12T17:07:48.877Z"
   },
   {
    "duration": 16,
    "start_time": "2021-10-12T17:07:48.886Z"
   },
   {
    "duration": 9,
    "start_time": "2021-10-12T17:07:48.904Z"
   },
   {
    "duration": 17,
    "start_time": "2021-10-12T17:07:48.914Z"
   },
   {
    "duration": 6,
    "start_time": "2021-10-12T17:07:48.933Z"
   },
   {
    "duration": 13,
    "start_time": "2021-10-12T17:07:48.940Z"
   },
   {
    "duration": 46,
    "start_time": "2021-10-12T17:07:48.954Z"
   },
   {
    "duration": 2,
    "start_time": "2021-10-12T17:07:49.002Z"
   },
   {
    "duration": 21,
    "start_time": "2021-10-12T17:07:49.005Z"
   },
   {
    "duration": 5,
    "start_time": "2021-10-12T17:07:49.028Z"
   },
   {
    "duration": 17,
    "start_time": "2021-10-12T17:07:49.035Z"
   },
   {
    "duration": 8,
    "start_time": "2021-10-12T17:07:49.054Z"
   },
   {
    "duration": 7,
    "start_time": "2021-10-12T17:07:49.063Z"
   },
   {
    "duration": 29,
    "start_time": "2021-10-12T17:07:49.071Z"
   },
   {
    "duration": 9,
    "start_time": "2021-10-12T17:07:49.102Z"
   },
   {
    "duration": 23,
    "start_time": "2021-10-12T17:11:58.570Z"
   },
   {
    "duration": 15,
    "start_time": "2021-10-12T17:12:05.247Z"
   },
   {
    "duration": 23,
    "start_time": "2021-10-12T17:12:17.213Z"
   },
   {
    "duration": 15,
    "start_time": "2021-10-12T17:12:24.898Z"
   },
   {
    "duration": 23,
    "start_time": "2021-10-12T17:12:30.034Z"
   },
   {
    "duration": 997,
    "start_time": "2021-10-12T17:13:51.544Z"
   },
   {
    "duration": 390,
    "start_time": "2021-10-12T17:13:52.543Z"
   },
   {
    "duration": 14,
    "start_time": "2021-10-12T17:13:52.934Z"
   },
   {
    "duration": 5,
    "start_time": "2021-10-12T17:13:52.950Z"
   },
   {
    "duration": 8,
    "start_time": "2021-10-12T17:13:52.956Z"
   },
   {
    "duration": 6,
    "start_time": "2021-10-12T17:13:52.965Z"
   },
   {
    "duration": 5,
    "start_time": "2021-10-12T17:13:52.972Z"
   },
   {
    "duration": 10,
    "start_time": "2021-10-12T17:13:52.979Z"
   },
   {
    "duration": 22,
    "start_time": "2021-10-12T17:13:52.991Z"
   },
   {
    "duration": 102,
    "start_time": "2021-10-12T17:13:53.014Z"
   },
   {
    "duration": 18,
    "start_time": "2021-10-12T17:13:53.118Z"
   },
   {
    "duration": 30,
    "start_time": "2021-10-12T17:13:53.137Z"
   },
   {
    "duration": 10,
    "start_time": "2021-10-12T17:13:53.168Z"
   },
   {
    "duration": 9,
    "start_time": "2021-10-12T17:13:53.199Z"
   },
   {
    "duration": 15,
    "start_time": "2021-10-12T17:13:53.209Z"
   },
   {
    "duration": 18,
    "start_time": "2021-10-12T17:13:53.226Z"
   },
   {
    "duration": 13,
    "start_time": "2021-10-12T17:13:53.246Z"
   },
   {
    "duration": 40,
    "start_time": "2021-10-12T17:13:53.260Z"
   },
   {
    "duration": 9,
    "start_time": "2021-10-12T17:13:53.302Z"
   },
   {
    "duration": 14,
    "start_time": "2021-10-12T17:13:53.313Z"
   },
   {
    "duration": 21,
    "start_time": "2021-10-12T17:13:53.329Z"
   },
   {
    "duration": 11,
    "start_time": "2021-10-12T17:13:53.352Z"
   },
   {
    "duration": 36,
    "start_time": "2021-10-12T17:13:53.367Z"
   },
   {
    "duration": 30,
    "start_time": "2021-10-12T17:13:53.405Z"
   },
   {
    "duration": 9,
    "start_time": "2021-10-12T17:13:53.436Z"
   },
   {
    "duration": 54,
    "start_time": "2021-10-12T17:13:53.446Z"
   },
   {
    "duration": 7,
    "start_time": "2021-10-12T17:13:53.502Z"
   },
   {
    "duration": 4,
    "start_time": "2021-10-12T17:13:53.511Z"
   },
   {
    "duration": 20,
    "start_time": "2021-10-12T17:13:53.516Z"
   },
   {
    "duration": 8,
    "start_time": "2021-10-12T17:13:53.538Z"
   },
   {
    "duration": 23,
    "start_time": "2021-10-12T17:13:53.547Z"
   },
   {
    "duration": 47,
    "start_time": "2021-10-12T17:13:53.572Z"
   },
   {
    "duration": 10,
    "start_time": "2021-10-12T17:13:53.620Z"
   },
   {
    "duration": 24,
    "start_time": "2021-10-12T17:13:53.631Z"
   },
   {
    "duration": 46,
    "start_time": "2021-10-12T17:13:53.656Z"
   },
   {
    "duration": 13,
    "start_time": "2021-10-12T17:13:53.704Z"
   },
   {
    "duration": 4,
    "start_time": "2021-10-12T17:13:53.719Z"
   },
   {
    "duration": 12,
    "start_time": "2021-10-12T17:13:53.725Z"
   },
   {
    "duration": 18,
    "start_time": "2021-10-12T17:13:53.739Z"
   },
   {
    "duration": 2,
    "start_time": "2021-10-12T17:13:53.759Z"
   },
   {
    "duration": 46,
    "start_time": "2021-10-12T17:13:53.763Z"
   },
   {
    "duration": 20,
    "start_time": "2021-10-12T17:13:53.811Z"
   },
   {
    "duration": 3,
    "start_time": "2021-10-12T17:13:53.832Z"
   },
   {
    "duration": 22,
    "start_time": "2021-10-12T17:13:53.836Z"
   },
   {
    "duration": 2,
    "start_time": "2021-10-12T17:13:53.860Z"
   },
   {
    "duration": 50,
    "start_time": "2021-10-12T17:13:53.864Z"
   },
   {
    "duration": 13,
    "start_time": "2021-10-12T17:13:53.915Z"
   },
   {
    "duration": 8,
    "start_time": "2021-10-12T17:13:53.929Z"
   },
   {
    "duration": 3,
    "start_time": "2021-10-12T17:13:53.938Z"
   },
   {
    "duration": 15,
    "start_time": "2021-10-12T17:13:53.942Z"
   },
   {
    "duration": 42,
    "start_time": "2021-10-12T17:13:53.958Z"
   },
   {
    "duration": 3,
    "start_time": "2021-10-12T17:13:54.001Z"
   },
   {
    "duration": 21,
    "start_time": "2021-10-12T17:13:54.005Z"
   },
   {
    "duration": 9,
    "start_time": "2021-10-12T17:13:54.028Z"
   },
   {
    "duration": 13,
    "start_time": "2021-10-12T17:13:54.038Z"
   },
   {
    "duration": 14,
    "start_time": "2021-10-12T17:13:54.053Z"
   },
   {
    "duration": 2,
    "start_time": "2021-10-12T17:13:54.069Z"
   },
   {
    "duration": 15,
    "start_time": "2021-10-12T17:13:54.099Z"
   },
   {
    "duration": 15,
    "start_time": "2021-10-12T17:13:54.115Z"
   },
   {
    "duration": 2,
    "start_time": "2021-10-12T17:13:54.132Z"
   },
   {
    "duration": 18,
    "start_time": "2021-10-12T17:13:54.135Z"
   },
   {
    "duration": 8,
    "start_time": "2021-10-12T17:13:54.155Z"
   },
   {
    "duration": 47,
    "start_time": "2021-10-12T17:13:54.165Z"
   },
   {
    "duration": 23,
    "start_time": "2021-10-12T17:13:54.213Z"
   },
   {
    "duration": 4,
    "start_time": "2021-10-12T17:13:54.238Z"
   },
   {
    "duration": 5,
    "start_time": "2021-10-12T17:13:54.244Z"
   },
   {
    "duration": 14,
    "start_time": "2021-10-12T17:13:54.251Z"
   },
   {
    "duration": 42,
    "start_time": "2021-10-12T17:13:54.270Z"
   },
   {
    "duration": 3,
    "start_time": "2021-10-12T17:13:54.314Z"
   },
   {
    "duration": 28,
    "start_time": "2021-10-12T17:13:54.319Z"
   },
   {
    "duration": 19,
    "start_time": "2021-10-12T17:13:54.349Z"
   },
   {
    "duration": 10,
    "start_time": "2021-10-12T17:13:54.370Z"
   },
   {
    "duration": 29,
    "start_time": "2021-10-12T17:13:54.381Z"
   },
   {
    "duration": 14,
    "start_time": "2021-10-12T17:13:54.412Z"
   },
   {
    "duration": 249,
    "start_time": "2021-10-12T17:13:54.427Z"
   },
   {
    "duration": 22,
    "start_time": "2021-10-12T17:13:54.677Z"
   },
   {
    "duration": 8,
    "start_time": "2021-10-12T17:13:54.701Z"
   },
   {
    "duration": 4,
    "start_time": "2021-10-12T17:13:54.711Z"
   },
   {
    "duration": 8,
    "start_time": "2021-10-12T17:13:54.717Z"
   },
   {
    "duration": 227,
    "start_time": "2021-10-12T17:13:54.727Z"
   },
   {
    "duration": 12,
    "start_time": "2021-10-12T17:13:54.956Z"
   },
   {
    "duration": 14,
    "start_time": "2021-10-12T17:13:54.970Z"
   },
   {
    "duration": 16,
    "start_time": "2021-10-12T17:13:54.986Z"
   },
   {
    "duration": 12,
    "start_time": "2021-10-12T17:13:55.004Z"
   },
   {
    "duration": 13,
    "start_time": "2021-10-12T17:13:55.017Z"
   },
   {
    "duration": 239,
    "start_time": "2021-10-12T17:13:55.032Z"
   },
   {
    "duration": 7,
    "start_time": "2021-10-12T17:13:55.273Z"
   },
   {
    "duration": 18,
    "start_time": "2021-10-12T17:13:55.282Z"
   },
   {
    "duration": 7,
    "start_time": "2021-10-12T17:13:55.302Z"
   },
   {
    "duration": 9,
    "start_time": "2021-10-12T17:13:55.311Z"
   },
   {
    "duration": 214,
    "start_time": "2021-10-12T17:13:55.321Z"
   },
   {
    "duration": 6,
    "start_time": "2021-10-12T17:13:55.537Z"
   },
   {
    "duration": 7,
    "start_time": "2021-10-12T17:13:55.545Z"
   },
   {
    "duration": 7,
    "start_time": "2021-10-12T17:13:55.554Z"
   },
   {
    "duration": 37,
    "start_time": "2021-10-12T17:13:55.562Z"
   },
   {
    "duration": 15,
    "start_time": "2021-10-12T17:13:55.601Z"
   },
   {
    "duration": 205,
    "start_time": "2021-10-12T17:13:55.618Z"
   },
   {
    "duration": 7,
    "start_time": "2021-10-12T17:13:55.825Z"
   },
   {
    "duration": 7,
    "start_time": "2021-10-12T17:13:55.834Z"
   },
   {
    "duration": 5,
    "start_time": "2021-10-12T17:13:55.842Z"
   },
   {
    "duration": 8,
    "start_time": "2021-10-12T17:13:55.849Z"
   },
   {
    "duration": 229,
    "start_time": "2021-10-12T17:13:55.859Z"
   },
   {
    "duration": 10,
    "start_time": "2021-10-12T17:13:56.090Z"
   },
   {
    "duration": 8,
    "start_time": "2021-10-12T17:13:56.101Z"
   },
   {
    "duration": 5,
    "start_time": "2021-10-12T17:13:56.111Z"
   },
   {
    "duration": 14,
    "start_time": "2021-10-12T17:13:56.117Z"
   },
   {
    "duration": 16,
    "start_time": "2021-10-12T17:13:56.132Z"
   },
   {
    "duration": 6,
    "start_time": "2021-10-12T17:13:56.149Z"
   },
   {
    "duration": 10,
    "start_time": "2021-10-12T17:13:56.156Z"
   },
   {
    "duration": 46,
    "start_time": "2021-10-12T17:13:56.168Z"
   },
   {
    "duration": 3,
    "start_time": "2021-10-12T17:13:56.215Z"
   },
   {
    "duration": 22,
    "start_time": "2021-10-12T17:13:56.219Z"
   },
   {
    "duration": 7,
    "start_time": "2021-10-12T17:13:56.242Z"
   },
   {
    "duration": 8,
    "start_time": "2021-10-12T17:13:56.250Z"
   },
   {
    "duration": 8,
    "start_time": "2021-10-12T17:13:56.260Z"
   },
   {
    "duration": 33,
    "start_time": "2021-10-12T17:13:56.270Z"
   },
   {
    "duration": 8,
    "start_time": "2021-10-12T17:13:56.305Z"
   },
   {
    "duration": 6,
    "start_time": "2021-10-12T17:13:56.314Z"
   },
   {
    "duration": 1049,
    "start_time": "2021-10-12T17:15:33.993Z"
   },
   {
    "duration": 417,
    "start_time": "2021-10-12T17:15:35.044Z"
   },
   {
    "duration": 15,
    "start_time": "2021-10-12T17:15:35.462Z"
   },
   {
    "duration": 6,
    "start_time": "2021-10-12T17:15:35.479Z"
   },
   {
    "duration": 9,
    "start_time": "2021-10-12T17:15:35.486Z"
   },
   {
    "duration": 8,
    "start_time": "2021-10-12T17:15:35.497Z"
   },
   {
    "duration": 8,
    "start_time": "2021-10-12T17:15:35.506Z"
   },
   {
    "duration": 11,
    "start_time": "2021-10-12T17:15:35.517Z"
   },
   {
    "duration": 27,
    "start_time": "2021-10-12T17:15:35.530Z"
   },
   {
    "duration": 112,
    "start_time": "2021-10-12T17:15:35.558Z"
   },
   {
    "duration": 33,
    "start_time": "2021-10-12T17:15:35.672Z"
   },
   {
    "duration": 31,
    "start_time": "2021-10-12T17:15:35.708Z"
   },
   {
    "duration": 11,
    "start_time": "2021-10-12T17:15:35.741Z"
   },
   {
    "duration": 10,
    "start_time": "2021-10-12T17:15:35.754Z"
   },
   {
    "duration": 47,
    "start_time": "2021-10-12T17:15:35.765Z"
   },
   {
    "duration": 20,
    "start_time": "2021-10-12T17:15:35.814Z"
   },
   {
    "duration": 13,
    "start_time": "2021-10-12T17:15:35.836Z"
   },
   {
    "duration": 16,
    "start_time": "2021-10-12T17:15:35.851Z"
   },
   {
    "duration": 40,
    "start_time": "2021-10-12T17:15:35.869Z"
   },
   {
    "duration": 19,
    "start_time": "2021-10-12T17:15:35.910Z"
   },
   {
    "duration": 23,
    "start_time": "2021-10-12T17:15:35.931Z"
   },
   {
    "duration": 9,
    "start_time": "2021-10-12T17:15:35.956Z"
   },
   {
    "duration": 46,
    "start_time": "2021-10-12T17:15:35.969Z"
   },
   {
    "duration": 33,
    "start_time": "2021-10-12T17:15:36.018Z"
   },
   {
    "duration": 9,
    "start_time": "2021-10-12T17:15:36.052Z"
   },
   {
    "duration": 54,
    "start_time": "2021-10-12T17:15:36.063Z"
   },
   {
    "duration": 8,
    "start_time": "2021-10-12T17:15:36.118Z"
   },
   {
    "duration": 6,
    "start_time": "2021-10-12T17:15:36.127Z"
   },
   {
    "duration": 21,
    "start_time": "2021-10-12T17:15:36.134Z"
   },
   {
    "duration": 8,
    "start_time": "2021-10-12T17:15:36.157Z"
   },
   {
    "duration": 46,
    "start_time": "2021-10-12T17:15:36.167Z"
   },
   {
    "duration": 22,
    "start_time": "2021-10-12T17:15:36.215Z"
   },
   {
    "duration": 10,
    "start_time": "2021-10-12T17:15:36.238Z"
   },
   {
    "duration": 26,
    "start_time": "2021-10-12T17:15:36.249Z"
   },
   {
    "duration": 42,
    "start_time": "2021-10-12T17:15:36.277Z"
   },
   {
    "duration": 14,
    "start_time": "2021-10-12T17:15:36.321Z"
   },
   {
    "duration": 8,
    "start_time": "2021-10-12T17:15:36.336Z"
   },
   {
    "duration": 17,
    "start_time": "2021-10-12T17:15:36.345Z"
   },
   {
    "duration": 39,
    "start_time": "2021-10-12T17:15:36.363Z"
   },
   {
    "duration": 2,
    "start_time": "2021-10-12T17:15:36.404Z"
   },
   {
    "duration": 20,
    "start_time": "2021-10-12T17:15:36.408Z"
   },
   {
    "duration": 20,
    "start_time": "2021-10-12T17:15:36.430Z"
   },
   {
    "duration": 2,
    "start_time": "2021-10-12T17:15:36.452Z"
   },
   {
    "duration": 45,
    "start_time": "2021-10-12T17:15:36.456Z"
   },
   {
    "duration": 3,
    "start_time": "2021-10-12T17:15:36.502Z"
   },
   {
    "duration": 26,
    "start_time": "2021-10-12T17:15:36.507Z"
   },
   {
    "duration": 13,
    "start_time": "2021-10-12T17:15:36.535Z"
   },
   {
    "duration": 9,
    "start_time": "2021-10-12T17:15:36.549Z"
   },
   {
    "duration": 5,
    "start_time": "2021-10-12T17:15:36.559Z"
   },
   {
    "duration": 41,
    "start_time": "2021-10-12T17:15:36.565Z"
   },
   {
    "duration": 14,
    "start_time": "2021-10-12T17:15:36.608Z"
   },
   {
    "duration": 4,
    "start_time": "2021-10-12T17:15:36.623Z"
   },
   {
    "duration": 20,
    "start_time": "2021-10-12T17:15:36.629Z"
   },
   {
    "duration": 8,
    "start_time": "2021-10-12T17:15:36.651Z"
   },
   {
    "duration": 11,
    "start_time": "2021-10-12T17:15:36.661Z"
   },
   {
    "duration": 15,
    "start_time": "2021-10-12T17:15:36.700Z"
   },
   {
    "duration": 2,
    "start_time": "2021-10-12T17:15:36.717Z"
   },
   {
    "duration": 15,
    "start_time": "2021-10-12T17:15:36.721Z"
   },
   {
    "duration": 23,
    "start_time": "2021-10-12T17:15:36.737Z"
   },
   {
    "duration": 3,
    "start_time": "2021-10-12T17:15:36.761Z"
   },
   {
    "duration": 35,
    "start_time": "2021-10-12T17:15:36.765Z"
   },
   {
    "duration": 8,
    "start_time": "2021-10-12T17:15:36.802Z"
   },
   {
    "duration": 11,
    "start_time": "2021-10-12T17:15:36.812Z"
   },
   {
    "duration": 21,
    "start_time": "2021-10-12T17:15:36.824Z"
   },
   {
    "duration": 3,
    "start_time": "2021-10-12T17:15:36.847Z"
   },
   {
    "duration": 6,
    "start_time": "2021-10-12T17:15:36.852Z"
   },
   {
    "duration": 49,
    "start_time": "2021-10-12T17:15:36.859Z"
   },
   {
    "duration": 16,
    "start_time": "2021-10-12T17:15:36.913Z"
   },
   {
    "duration": 3,
    "start_time": "2021-10-12T17:15:36.931Z"
   },
   {
    "duration": 16,
    "start_time": "2021-10-12T17:15:36.935Z"
   },
   {
    "duration": 46,
    "start_time": "2021-10-12T17:15:36.953Z"
   },
   {
    "duration": 9,
    "start_time": "2021-10-12T17:15:37.001Z"
   },
   {
    "duration": 19,
    "start_time": "2021-10-12T17:15:37.011Z"
   },
   {
    "duration": 5,
    "start_time": "2021-10-12T17:15:37.032Z"
   },
   {
    "duration": 274,
    "start_time": "2021-10-12T17:15:37.039Z"
   },
   {
    "duration": 12,
    "start_time": "2021-10-12T17:15:37.315Z"
   },
   {
    "duration": 9,
    "start_time": "2021-10-12T17:15:37.329Z"
   },
   {
    "duration": 9,
    "start_time": "2021-10-12T17:15:37.339Z"
   },
   {
    "duration": 9,
    "start_time": "2021-10-12T17:15:37.350Z"
   },
   {
    "duration": 220,
    "start_time": "2021-10-12T17:15:37.360Z"
   },
   {
    "duration": 23,
    "start_time": "2021-10-12T17:15:37.583Z"
   },
   {
    "duration": 8,
    "start_time": "2021-10-12T17:15:37.607Z"
   },
   {
    "duration": 4,
    "start_time": "2021-10-12T17:15:37.616Z"
   },
   {
    "duration": 9,
    "start_time": "2021-10-12T17:15:37.621Z"
   },
   {
    "duration": 13,
    "start_time": "2021-10-12T17:15:37.632Z"
   },
   {
    "duration": 239,
    "start_time": "2021-10-12T17:15:37.646Z"
   },
   {
    "duration": 14,
    "start_time": "2021-10-12T17:15:37.886Z"
   },
   {
    "duration": 4,
    "start_time": "2021-10-12T17:15:37.901Z"
   },
   {
    "duration": 7,
    "start_time": "2021-10-12T17:15:37.906Z"
   },
   {
    "duration": 9,
    "start_time": "2021-10-12T17:15:37.914Z"
   },
   {
    "duration": 203,
    "start_time": "2021-10-12T17:15:37.925Z"
   },
   {
    "duration": 5,
    "start_time": "2021-10-12T17:15:38.130Z"
   },
   {
    "duration": 18,
    "start_time": "2021-10-12T17:15:38.136Z"
   },
   {
    "duration": 13,
    "start_time": "2021-10-12T17:15:38.155Z"
   },
   {
    "duration": 20,
    "start_time": "2021-10-12T17:15:38.169Z"
   },
   {
    "duration": 23,
    "start_time": "2021-10-12T17:15:38.191Z"
   },
   {
    "duration": 204,
    "start_time": "2021-10-12T17:15:38.215Z"
   },
   {
    "duration": 5,
    "start_time": "2021-10-12T17:15:38.421Z"
   },
   {
    "duration": 9,
    "start_time": "2021-10-12T17:15:38.428Z"
   },
   {
    "duration": 4,
    "start_time": "2021-10-12T17:15:38.439Z"
   },
   {
    "duration": 9,
    "start_time": "2021-10-12T17:15:38.445Z"
   },
   {
    "duration": 214,
    "start_time": "2021-10-12T17:15:38.455Z"
   },
   {
    "duration": 6,
    "start_time": "2021-10-12T17:15:38.671Z"
   },
   {
    "duration": 8,
    "start_time": "2021-10-12T17:15:38.678Z"
   },
   {
    "duration": 5,
    "start_time": "2021-10-12T17:15:38.699Z"
   },
   {
    "duration": 12,
    "start_time": "2021-10-12T17:15:38.706Z"
   },
   {
    "duration": 14,
    "start_time": "2021-10-12T17:15:38.720Z"
   },
   {
    "duration": 6,
    "start_time": "2021-10-12T17:15:38.735Z"
   },
   {
    "duration": 9,
    "start_time": "2021-10-12T17:15:38.743Z"
   },
   {
    "duration": 47,
    "start_time": "2021-10-12T17:15:38.754Z"
   },
   {
    "duration": 3,
    "start_time": "2021-10-12T17:15:38.802Z"
   },
   {
    "duration": 23,
    "start_time": "2021-10-12T17:15:38.806Z"
   },
   {
    "duration": 6,
    "start_time": "2021-10-12T17:15:38.830Z"
   },
   {
    "duration": 8,
    "start_time": "2021-10-12T17:15:38.838Z"
   },
   {
    "duration": 7,
    "start_time": "2021-10-12T17:15:38.848Z"
   },
   {
    "duration": 5,
    "start_time": "2021-10-12T17:15:38.857Z"
   },
   {
    "duration": 39,
    "start_time": "2021-10-12T17:15:38.863Z"
   },
   {
    "duration": 6,
    "start_time": "2021-10-12T17:15:38.903Z"
   },
   {
    "duration": 12,
    "start_time": "2021-10-12T17:17:15.405Z"
   },
   {
    "duration": 21,
    "start_time": "2021-10-12T17:17:20.506Z"
   },
   {
    "duration": 17,
    "start_time": "2021-10-12T17:23:09.029Z"
   },
   {
    "duration": 24,
    "start_time": "2021-10-12T17:23:10.573Z"
   },
   {
    "duration": 5,
    "start_time": "2021-10-12T17:23:14.036Z"
   },
   {
    "duration": 9,
    "start_time": "2021-10-12T17:24:54.486Z"
   },
   {
    "duration": 25,
    "start_time": "2021-10-12T17:24:55.022Z"
   },
   {
    "duration": 16,
    "start_time": "2021-10-12T17:25:07.112Z"
   },
   {
    "duration": 11,
    "start_time": "2021-10-12T17:25:18.870Z"
   },
   {
    "duration": 32,
    "start_time": "2021-10-12T17:25:28.929Z"
   },
   {
    "duration": 1040,
    "start_time": "2021-10-12T17:25:49.705Z"
   },
   {
    "duration": 386,
    "start_time": "2021-10-12T17:25:50.747Z"
   },
   {
    "duration": 14,
    "start_time": "2021-10-12T17:25:51.135Z"
   },
   {
    "duration": 6,
    "start_time": "2021-10-12T17:25:51.151Z"
   },
   {
    "duration": 8,
    "start_time": "2021-10-12T17:25:51.159Z"
   },
   {
    "duration": 7,
    "start_time": "2021-10-12T17:25:51.169Z"
   },
   {
    "duration": 7,
    "start_time": "2021-10-12T17:25:51.177Z"
   },
   {
    "duration": 11,
    "start_time": "2021-10-12T17:25:51.186Z"
   },
   {
    "duration": 18,
    "start_time": "2021-10-12T17:25:51.200Z"
   },
   {
    "duration": 111,
    "start_time": "2021-10-12T17:25:51.220Z"
   },
   {
    "duration": 19,
    "start_time": "2021-10-12T17:25:51.333Z"
   },
   {
    "duration": 46,
    "start_time": "2021-10-12T17:25:51.354Z"
   },
   {
    "duration": 11,
    "start_time": "2021-10-12T17:25:51.401Z"
   },
   {
    "duration": 15,
    "start_time": "2021-10-12T17:25:51.414Z"
   },
   {
    "duration": 24,
    "start_time": "2021-10-12T17:25:51.431Z"
   },
   {
    "duration": 21,
    "start_time": "2021-10-12T17:25:51.456Z"
   },
   {
    "duration": 21,
    "start_time": "2021-10-12T17:25:51.478Z"
   },
   {
    "duration": 19,
    "start_time": "2021-10-12T17:25:51.501Z"
   },
   {
    "duration": 10,
    "start_time": "2021-10-12T17:25:51.521Z"
   },
   {
    "duration": 32,
    "start_time": "2021-10-12T17:25:51.532Z"
   },
   {
    "duration": 35,
    "start_time": "2021-10-12T17:25:51.565Z"
   },
   {
    "duration": 8,
    "start_time": "2021-10-12T17:25:51.602Z"
   },
   {
    "duration": 23,
    "start_time": "2021-10-12T17:25:51.612Z"
   },
   {
    "duration": 35,
    "start_time": "2021-10-12T17:25:51.636Z"
   },
   {
    "duration": 9,
    "start_time": "2021-10-12T17:25:51.673Z"
   },
   {
    "duration": 46,
    "start_time": "2021-10-12T17:25:51.684Z"
   },
   {
    "duration": 7,
    "start_time": "2021-10-12T17:25:51.734Z"
   },
   {
    "duration": 15,
    "start_time": "2021-10-12T17:25:51.744Z"
   },
   {
    "duration": 33,
    "start_time": "2021-10-12T17:25:51.761Z"
   },
   {
    "duration": 10,
    "start_time": "2021-10-12T17:25:51.796Z"
   },
   {
    "duration": 33,
    "start_time": "2021-10-12T17:25:51.808Z"
   },
   {
    "duration": 21,
    "start_time": "2021-10-12T17:25:51.843Z"
   },
   {
    "duration": 10,
    "start_time": "2021-10-12T17:25:51.866Z"
   },
   {
    "duration": 43,
    "start_time": "2021-10-12T17:25:51.877Z"
   },
   {
    "duration": 22,
    "start_time": "2021-10-12T17:25:51.922Z"
   },
   {
    "duration": 13,
    "start_time": "2021-10-12T17:25:51.945Z"
   },
   {
    "duration": 7,
    "start_time": "2021-10-12T17:25:51.959Z"
   },
   {
    "duration": 35,
    "start_time": "2021-10-12T17:25:51.967Z"
   },
   {
    "duration": 23,
    "start_time": "2021-10-12T17:25:52.004Z"
   },
   {
    "duration": 9,
    "start_time": "2021-10-12T17:25:52.028Z"
   },
   {
    "duration": 31,
    "start_time": "2021-10-12T17:25:52.038Z"
   },
   {
    "duration": 22,
    "start_time": "2021-10-12T17:25:52.070Z"
   },
   {
    "duration": 6,
    "start_time": "2021-10-12T17:25:52.094Z"
   },
   {
    "duration": 30,
    "start_time": "2021-10-12T17:25:52.102Z"
   },
   {
    "duration": 3,
    "start_time": "2021-10-12T17:25:52.133Z"
   },
   {
    "duration": 38,
    "start_time": "2021-10-12T17:25:52.137Z"
   },
   {
    "duration": 19,
    "start_time": "2021-10-12T17:25:52.177Z"
   },
   {
    "duration": 10,
    "start_time": "2021-10-12T17:25:52.198Z"
   },
   {
    "duration": 11,
    "start_time": "2021-10-12T17:25:52.210Z"
   },
   {
    "duration": 22,
    "start_time": "2021-10-12T17:25:52.223Z"
   },
   {
    "duration": 14,
    "start_time": "2021-10-12T17:25:52.246Z"
   },
   {
    "duration": 5,
    "start_time": "2021-10-12T17:25:52.262Z"
   },
   {
    "duration": 21,
    "start_time": "2021-10-12T17:25:52.268Z"
   },
   {
    "duration": 14,
    "start_time": "2021-10-12T17:25:52.291Z"
   },
   {
    "duration": 11,
    "start_time": "2021-10-12T17:25:52.306Z"
   },
   {
    "duration": 20,
    "start_time": "2021-10-12T17:25:52.318Z"
   },
   {
    "duration": 9,
    "start_time": "2021-10-12T17:25:52.340Z"
   },
   {
    "duration": 28,
    "start_time": "2021-10-12T17:25:52.350Z"
   },
   {
    "duration": 24,
    "start_time": "2021-10-12T17:25:52.380Z"
   },
   {
    "duration": 2,
    "start_time": "2021-10-12T17:25:52.406Z"
   },
   {
    "duration": 21,
    "start_time": "2021-10-12T17:25:52.410Z"
   },
   {
    "duration": 9,
    "start_time": "2021-10-12T17:25:52.432Z"
   },
   {
    "duration": 23,
    "start_time": "2021-10-12T17:25:52.442Z"
   },
   {
    "duration": 44,
    "start_time": "2021-10-12T17:25:52.466Z"
   },
   {
    "duration": 5,
    "start_time": "2021-10-12T17:25:52.511Z"
   },
   {
    "duration": 9,
    "start_time": "2021-10-12T17:25:52.518Z"
   },
   {
    "duration": 15,
    "start_time": "2021-10-12T17:25:52.529Z"
   },
   {
    "duration": 22,
    "start_time": "2021-10-12T17:25:52.546Z"
   },
   {
    "duration": 5,
    "start_time": "2021-10-12T17:25:52.570Z"
   },
   {
    "duration": 38,
    "start_time": "2021-10-12T17:25:52.576Z"
   },
   {
    "duration": 17,
    "start_time": "2021-10-12T17:25:52.616Z"
   },
   {
    "duration": 9,
    "start_time": "2021-10-12T17:25:52.635Z"
   },
   {
    "duration": 18,
    "start_time": "2021-10-12T17:25:52.646Z"
   },
   {
    "duration": 37,
    "start_time": "2021-10-12T17:25:52.666Z"
   },
   {
    "duration": 252,
    "start_time": "2021-10-12T17:25:52.705Z"
   },
   {
    "duration": 12,
    "start_time": "2021-10-12T17:25:52.960Z"
   },
   {
    "duration": 15,
    "start_time": "2021-10-12T17:25:52.973Z"
   },
   {
    "duration": 4,
    "start_time": "2021-10-12T17:25:53.000Z"
   },
   {
    "duration": 22,
    "start_time": "2021-10-12T17:25:53.006Z"
   },
   {
    "duration": 201,
    "start_time": "2021-10-12T17:25:53.030Z"
   },
   {
    "duration": 12,
    "start_time": "2021-10-12T17:25:53.237Z"
   },
   {
    "duration": 9,
    "start_time": "2021-10-12T17:25:53.252Z"
   },
   {
    "duration": 14,
    "start_time": "2021-10-12T17:25:53.262Z"
   },
   {
    "duration": 25,
    "start_time": "2021-10-12T17:25:53.278Z"
   },
   {
    "duration": 11,
    "start_time": "2021-10-12T17:25:53.305Z"
   },
   {
    "duration": 233,
    "start_time": "2021-10-12T17:25:53.317Z"
   },
   {
    "duration": 7,
    "start_time": "2021-10-12T17:25:53.552Z"
   },
   {
    "duration": 18,
    "start_time": "2021-10-12T17:25:53.560Z"
   },
   {
    "duration": 20,
    "start_time": "2021-10-12T17:25:53.579Z"
   },
   {
    "duration": 23,
    "start_time": "2021-10-12T17:25:53.601Z"
   },
   {
    "duration": 195,
    "start_time": "2021-10-12T17:25:53.625Z"
   },
   {
    "duration": 6,
    "start_time": "2021-10-12T17:25:53.822Z"
   },
   {
    "duration": 6,
    "start_time": "2021-10-12T17:25:53.829Z"
   },
   {
    "duration": 7,
    "start_time": "2021-10-12T17:25:53.837Z"
   },
   {
    "duration": 10,
    "start_time": "2021-10-12T17:25:53.845Z"
   },
   {
    "duration": 14,
    "start_time": "2021-10-12T17:25:53.856Z"
   },
   {
    "duration": 220,
    "start_time": "2021-10-12T17:25:53.872Z"
   },
   {
    "duration": 10,
    "start_time": "2021-10-12T17:25:54.094Z"
   },
   {
    "duration": 10,
    "start_time": "2021-10-12T17:25:54.106Z"
   },
   {
    "duration": 7,
    "start_time": "2021-10-12T17:25:54.117Z"
   },
   {
    "duration": 10,
    "start_time": "2021-10-12T17:25:54.125Z"
   },
   {
    "duration": 212,
    "start_time": "2021-10-12T17:25:54.136Z"
   },
   {
    "duration": 6,
    "start_time": "2021-10-12T17:25:54.349Z"
   },
   {
    "duration": 9,
    "start_time": "2021-10-12T17:25:54.356Z"
   },
   {
    "duration": 8,
    "start_time": "2021-10-12T17:25:54.367Z"
   },
   {
    "duration": 27,
    "start_time": "2021-10-12T17:25:54.376Z"
   },
   {
    "duration": 15,
    "start_time": "2021-10-12T17:25:54.404Z"
   },
   {
    "duration": 6,
    "start_time": "2021-10-12T17:25:54.420Z"
   },
   {
    "duration": 9,
    "start_time": "2021-10-12T17:25:54.428Z"
   },
   {
    "duration": 22,
    "start_time": "2021-10-12T17:25:54.438Z"
   },
   {
    "duration": 3,
    "start_time": "2021-10-12T17:25:54.500Z"
   },
   {
    "duration": 22,
    "start_time": "2021-10-12T17:25:54.504Z"
   },
   {
    "duration": 6,
    "start_time": "2021-10-12T17:25:54.528Z"
   },
   {
    "duration": 9,
    "start_time": "2021-10-12T17:25:54.536Z"
   },
   {
    "duration": 7,
    "start_time": "2021-10-12T17:25:54.547Z"
   },
   {
    "duration": 47,
    "start_time": "2021-10-12T17:25:54.555Z"
   },
   {
    "duration": 7,
    "start_time": "2021-10-12T17:25:54.603Z"
   },
   {
    "duration": 5,
    "start_time": "2021-10-12T17:25:54.611Z"
   },
   {
    "duration": 1018,
    "start_time": "2021-10-12T18:51:58.222Z"
   },
   {
    "duration": 388,
    "start_time": "2021-10-12T18:51:59.242Z"
   },
   {
    "duration": 18,
    "start_time": "2021-10-12T18:51:59.632Z"
   },
   {
    "duration": 5,
    "start_time": "2021-10-12T18:51:59.651Z"
   },
   {
    "duration": 8,
    "start_time": "2021-10-12T18:51:59.657Z"
   },
   {
    "duration": 8,
    "start_time": "2021-10-12T18:51:59.666Z"
   },
   {
    "duration": 8,
    "start_time": "2021-10-12T18:51:59.676Z"
   },
   {
    "duration": 11,
    "start_time": "2021-10-12T18:51:59.687Z"
   },
   {
    "duration": 19,
    "start_time": "2021-10-12T18:51:59.700Z"
   },
   {
    "duration": 116,
    "start_time": "2021-10-12T18:51:59.721Z"
   },
   {
    "duration": 23,
    "start_time": "2021-10-12T18:51:59.839Z"
   },
   {
    "duration": 52,
    "start_time": "2021-10-12T18:51:59.864Z"
   },
   {
    "duration": 12,
    "start_time": "2021-10-12T18:51:59.917Z"
   },
   {
    "duration": 10,
    "start_time": "2021-10-12T18:51:59.931Z"
   },
   {
    "duration": 15,
    "start_time": "2021-10-12T18:51:59.942Z"
   },
   {
    "duration": 42,
    "start_time": "2021-10-12T18:51:59.958Z"
   },
   {
    "duration": 13,
    "start_time": "2021-10-12T18:52:00.001Z"
   },
   {
    "duration": 20,
    "start_time": "2021-10-12T18:52:00.016Z"
   },
   {
    "duration": 9,
    "start_time": "2021-10-12T18:52:00.038Z"
   },
   {
    "duration": 17,
    "start_time": "2021-10-12T18:52:00.049Z"
   },
   {
    "duration": 56,
    "start_time": "2021-10-12T18:52:00.067Z"
   },
   {
    "duration": 7,
    "start_time": "2021-10-12T18:52:00.125Z"
   },
   {
    "duration": 11,
    "start_time": "2021-10-12T18:52:00.136Z"
   },
   {
    "duration": 34,
    "start_time": "2021-10-12T18:52:00.149Z"
   },
   {
    "duration": 10,
    "start_time": "2021-10-12T18:52:00.200Z"
   },
   {
    "duration": 41,
    "start_time": "2021-10-12T18:52:00.211Z"
   },
   {
    "duration": 9,
    "start_time": "2021-10-12T18:52:00.254Z"
   },
   {
    "duration": 13,
    "start_time": "2021-10-12T18:52:00.265Z"
   },
   {
    "duration": 35,
    "start_time": "2021-10-12T18:52:00.280Z"
   },
   {
    "duration": 10,
    "start_time": "2021-10-12T18:52:00.317Z"
   },
   {
    "duration": 30,
    "start_time": "2021-10-12T18:52:00.329Z"
   },
   {
    "duration": 44,
    "start_time": "2021-10-12T18:52:00.361Z"
   },
   {
    "duration": 12,
    "start_time": "2021-10-12T18:52:00.408Z"
   },
   {
    "duration": 33,
    "start_time": "2021-10-12T18:52:00.422Z"
   },
   {
    "duration": 54,
    "start_time": "2021-10-12T18:52:00.457Z"
   },
   {
    "duration": 16,
    "start_time": "2021-10-12T18:52:00.513Z"
   },
   {
    "duration": 11,
    "start_time": "2021-10-12T18:52:00.530Z"
   },
   {
    "duration": 33,
    "start_time": "2021-10-12T18:52:00.543Z"
   },
   {
    "duration": 32,
    "start_time": "2021-10-12T18:52:00.577Z"
   },
   {
    "duration": 5,
    "start_time": "2021-10-12T18:52:00.611Z"
   },
   {
    "duration": 36,
    "start_time": "2021-10-12T18:52:00.617Z"
   },
   {
    "duration": 22,
    "start_time": "2021-10-12T18:52:00.654Z"
   },
   {
    "duration": 3,
    "start_time": "2021-10-12T18:52:00.677Z"
   },
   {
    "duration": 35,
    "start_time": "2021-10-12T18:52:00.682Z"
   },
   {
    "duration": 3,
    "start_time": "2021-10-12T18:52:00.719Z"
   },
   {
    "duration": 29,
    "start_time": "2021-10-12T18:52:00.723Z"
   },
   {
    "duration": 14,
    "start_time": "2021-10-12T18:52:00.754Z"
   },
   {
    "duration": 32,
    "start_time": "2021-10-12T18:52:00.769Z"
   },
   {
    "duration": 2,
    "start_time": "2021-10-12T18:52:00.803Z"
   },
   {
    "duration": 16,
    "start_time": "2021-10-12T18:52:00.807Z"
   },
   {
    "duration": 13,
    "start_time": "2021-10-12T18:52:00.825Z"
   },
   {
    "duration": 2,
    "start_time": "2021-10-12T18:52:00.840Z"
   },
   {
    "duration": 18,
    "start_time": "2021-10-12T18:52:00.844Z"
   },
   {
    "duration": 41,
    "start_time": "2021-10-12T18:52:00.864Z"
   },
   {
    "duration": 11,
    "start_time": "2021-10-12T18:52:00.907Z"
   },
   {
    "duration": 14,
    "start_time": "2021-10-12T18:52:00.919Z"
   },
   {
    "duration": 2,
    "start_time": "2021-10-12T18:52:00.935Z"
   },
   {
    "duration": 19,
    "start_time": "2021-10-12T18:52:00.939Z"
   },
   {
    "duration": 45,
    "start_time": "2021-10-12T18:52:00.959Z"
   },
   {
    "duration": 3,
    "start_time": "2021-10-12T18:52:01.006Z"
   },
   {
    "duration": 38,
    "start_time": "2021-10-12T18:52:01.010Z"
   },
   {
    "duration": 14,
    "start_time": "2021-10-12T18:52:01.050Z"
   },
   {
    "duration": 20,
    "start_time": "2021-10-12T18:52:01.065Z"
   },
   {
    "duration": 53,
    "start_time": "2021-10-12T18:52:01.087Z"
   },
   {
    "duration": 4,
    "start_time": "2021-10-12T18:52:01.141Z"
   },
   {
    "duration": 11,
    "start_time": "2021-10-12T18:52:01.147Z"
   },
   {
    "duration": 18,
    "start_time": "2021-10-12T18:52:01.160Z"
   },
   {
    "duration": 17,
    "start_time": "2021-10-12T18:52:01.184Z"
   },
   {
    "duration": 90,
    "start_time": "2021-10-12T18:52:01.204Z"
   },
   {
    "duration": 58,
    "start_time": "2021-10-12T18:52:01.296Z"
   },
   {
    "duration": 17,
    "start_time": "2021-10-12T18:52:01.356Z"
   },
   {
    "duration": 8,
    "start_time": "2021-10-12T18:52:01.374Z"
   },
   {
    "duration": 32,
    "start_time": "2021-10-12T18:52:01.383Z"
   },
   {
    "duration": 23,
    "start_time": "2021-10-12T18:52:01.416Z"
   },
   {
    "duration": 255,
    "start_time": "2021-10-12T18:52:01.441Z"
   },
   {
    "duration": 12,
    "start_time": "2021-10-12T18:52:01.700Z"
   },
   {
    "duration": 19,
    "start_time": "2021-10-12T18:52:01.713Z"
   },
   {
    "duration": 17,
    "start_time": "2021-10-12T18:52:01.733Z"
   },
   {
    "duration": 52,
    "start_time": "2021-10-12T18:52:01.752Z"
   },
   {
    "duration": 222,
    "start_time": "2021-10-12T18:52:01.806Z"
   },
   {
    "duration": 11,
    "start_time": "2021-10-12T18:52:02.030Z"
   },
   {
    "duration": 42,
    "start_time": "2021-10-12T18:52:02.042Z"
   },
   {
    "duration": 19,
    "start_time": "2021-10-12T18:52:02.086Z"
   },
   {
    "duration": 20,
    "start_time": "2021-10-12T18:52:02.106Z"
   },
   {
    "duration": 28,
    "start_time": "2021-10-12T18:52:02.128Z"
   },
   {
    "duration": 231,
    "start_time": "2021-10-12T18:52:02.158Z"
   },
   {
    "duration": 10,
    "start_time": "2021-10-12T18:52:02.391Z"
   },
   {
    "duration": 11,
    "start_time": "2021-10-12T18:52:02.402Z"
   },
   {
    "duration": 8,
    "start_time": "2021-10-12T18:52:02.414Z"
   },
   {
    "duration": 10,
    "start_time": "2021-10-12T18:52:02.423Z"
   },
   {
    "duration": 205,
    "start_time": "2021-10-12T18:52:02.435Z"
   },
   {
    "duration": 5,
    "start_time": "2021-10-12T18:52:02.641Z"
   },
   {
    "duration": 21,
    "start_time": "2021-10-12T18:52:02.648Z"
   },
   {
    "duration": 13,
    "start_time": "2021-10-12T18:52:02.670Z"
   },
   {
    "duration": 18,
    "start_time": "2021-10-12T18:52:02.684Z"
   },
   {
    "duration": 31,
    "start_time": "2021-10-12T18:52:02.704Z"
   },
   {
    "duration": 189,
    "start_time": "2021-10-12T18:52:02.737Z"
   },
   {
    "duration": 6,
    "start_time": "2021-10-12T18:52:02.927Z"
   },
   {
    "duration": 23,
    "start_time": "2021-10-12T18:52:02.934Z"
   },
   {
    "duration": 21,
    "start_time": "2021-10-12T18:52:02.958Z"
   },
   {
    "duration": 17,
    "start_time": "2021-10-12T18:52:02.980Z"
   },
   {
    "duration": 186,
    "start_time": "2021-10-12T18:52:02.999Z"
   },
   {
    "duration": 6,
    "start_time": "2021-10-12T18:52:03.186Z"
   },
   {
    "duration": 5,
    "start_time": "2021-10-12T18:52:03.199Z"
   },
   {
    "duration": 6,
    "start_time": "2021-10-12T18:52:03.206Z"
   },
   {
    "duration": 9,
    "start_time": "2021-10-12T18:52:03.214Z"
   },
   {
    "duration": 15,
    "start_time": "2021-10-12T18:52:03.225Z"
   },
   {
    "duration": 7,
    "start_time": "2021-10-12T18:52:03.242Z"
   },
   {
    "duration": 17,
    "start_time": "2021-10-12T18:52:03.250Z"
   },
   {
    "duration": 19,
    "start_time": "2021-10-12T18:52:03.300Z"
   },
   {
    "duration": 2,
    "start_time": "2021-10-12T18:52:03.321Z"
   },
   {
    "duration": 25,
    "start_time": "2021-10-12T18:52:03.324Z"
   },
   {
    "duration": 7,
    "start_time": "2021-10-12T18:52:03.350Z"
   },
   {
    "duration": 19,
    "start_time": "2021-10-12T18:52:03.358Z"
   },
   {
    "duration": 22,
    "start_time": "2021-10-12T18:52:03.378Z"
   },
   {
    "duration": 8,
    "start_time": "2021-10-12T18:52:03.401Z"
   },
   {
    "duration": 13,
    "start_time": "2021-10-12T18:52:03.410Z"
   },
   {
    "duration": 11,
    "start_time": "2021-10-12T18:52:03.425Z"
   },
   {
    "duration": 1347,
    "start_time": "2021-10-13T09:44:22.690Z"
   },
   {
    "duration": 536,
    "start_time": "2021-10-13T09:44:24.775Z"
   },
   {
    "duration": 24,
    "start_time": "2021-10-13T09:44:25.313Z"
   },
   {
    "duration": 8,
    "start_time": "2021-10-13T09:44:25.436Z"
   },
   {
    "duration": 11,
    "start_time": "2021-10-13T09:44:25.689Z"
   },
   {
    "duration": 10,
    "start_time": "2021-10-13T09:44:25.970Z"
   },
   {
    "duration": 6,
    "start_time": "2021-10-13T09:44:26.263Z"
   },
   {
    "duration": 16,
    "start_time": "2021-10-13T09:44:26.556Z"
   },
   {
    "duration": 26,
    "start_time": "2021-10-13T09:44:26.985Z"
   },
   {
    "duration": 142,
    "start_time": "2021-10-13T09:44:27.128Z"
   },
   {
    "duration": 27,
    "start_time": "2021-10-13T09:44:27.273Z"
   },
   {
    "duration": 46,
    "start_time": "2021-10-13T09:44:27.743Z"
   },
   {
    "duration": 18,
    "start_time": "2021-10-13T09:44:28.056Z"
   },
   {
    "duration": 15,
    "start_time": "2021-10-13T09:44:28.370Z"
   },
   {
    "duration": 19,
    "start_time": "2021-10-13T09:44:28.536Z"
   },
   {
    "duration": 27,
    "start_time": "2021-10-13T09:44:28.836Z"
   },
   {
    "duration": 19,
    "start_time": "2021-10-13T09:44:29.165Z"
   },
   {
    "duration": 22,
    "start_time": "2021-10-13T09:44:29.499Z"
   },
   {
    "duration": 13,
    "start_time": "2021-10-13T09:44:30.045Z"
   },
   {
    "duration": 22,
    "start_time": "2021-10-13T09:44:30.250Z"
   },
   {
    "duration": 32,
    "start_time": "2021-10-13T09:44:32.016Z"
   },
   {
    "duration": 12,
    "start_time": "2021-10-13T09:44:32.447Z"
   },
   {
    "duration": 18,
    "start_time": "2021-10-13T09:44:32.815Z"
   },
   {
    "duration": 46,
    "start_time": "2021-10-13T09:44:33.049Z"
   },
   {
    "duration": 14,
    "start_time": "2021-10-13T09:44:35.459Z"
   },
   {
    "duration": 50,
    "start_time": "2021-10-13T09:44:35.476Z"
   },
   {
    "duration": 12,
    "start_time": "2021-10-13T09:44:35.651Z"
   },
   {
    "duration": 4,
    "start_time": "2021-10-13T09:44:36.213Z"
   },
   {
    "duration": 33,
    "start_time": "2021-10-13T09:44:36.597Z"
   },
   {
    "duration": 16,
    "start_time": "2021-10-13T09:44:38.090Z"
   },
   {
    "duration": 35,
    "start_time": "2021-10-13T09:44:38.718Z"
   },
   {
    "duration": 32,
    "start_time": "2021-10-13T09:44:39.516Z"
   },
   {
    "duration": 18,
    "start_time": "2021-10-13T09:44:47.363Z"
   },
   {
    "duration": 37,
    "start_time": "2021-10-13T09:44:47.706Z"
   },
   {
    "duration": 34,
    "start_time": "2021-10-13T09:44:48.147Z"
   },
   {
    "duration": 23,
    "start_time": "2021-10-13T09:44:49.790Z"
   },
   {
    "duration": 4,
    "start_time": "2021-10-13T09:44:50.375Z"
   },
   {
    "duration": 20,
    "start_time": "2021-10-13T09:44:50.696Z"
   },
   {
    "duration": 30,
    "start_time": "2021-10-13T09:44:51.301Z"
   },
   {
    "duration": 3,
    "start_time": "2021-10-13T09:44:54.238Z"
   },
   {
    "duration": 17,
    "start_time": "2021-10-13T09:45:31.985Z"
   },
   {
    "duration": 22,
    "start_time": "2021-10-13T09:45:38.630Z"
   },
   {
    "duration": 1772,
    "start_time": "2021-10-13T09:45:59.020Z"
   },
   {
    "duration": 1715,
    "start_time": "2021-10-13T09:46:14.838Z"
   },
   {
    "duration": 11,
    "start_time": "2021-10-13T09:46:38.465Z"
   },
   {
    "duration": 22,
    "start_time": "2021-10-13T09:46:45.358Z"
   },
   {
    "duration": 6,
    "start_time": "2021-10-13T09:47:06.787Z"
   },
   {
    "duration": 5,
    "start_time": "2021-10-13T09:47:32.842Z"
   }
  ],
  "kernelspec": {
   "display_name": "Python 3 (ipykernel)",
   "language": "python",
   "name": "python3"
  },
  "language_info": {
   "codemirror_mode": {
    "name": "ipython",
    "version": 3
   },
   "file_extension": ".py",
   "mimetype": "text/x-python",
   "name": "python",
   "nbconvert_exporter": "python",
   "pygments_lexer": "ipython3",
   "version": "3.9.5"
  },
  "toc": {
   "base_numbering": 1,
   "nav_menu": {},
   "number_sections": true,
   "sideBar": true,
   "skip_h1_title": true,
   "title_cell": "Table of Contents",
   "title_sidebar": "Contents",
   "toc_cell": false,
   "toc_position": {},
   "toc_section_display": true,
   "toc_window_display": false
  }
 },
 "nbformat": 4,
 "nbformat_minor": 2
}
